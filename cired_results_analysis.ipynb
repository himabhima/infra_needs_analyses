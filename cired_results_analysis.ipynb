{
 "cells": [
  {
   "cell_type": "markdown",
   "metadata": {},
   "source": [
    "I haven't done anything useful with the cired data yet"
   ]
  },
  {
   "cell_type": "code",
   "execution_count": 8,
   "metadata": {
    "collapsed": true
   },
   "outputs": [],
   "source": [
    "import pandas as pd\n",
    "import numpy as np\n",
    "import matplotlib.pyplot as plt\n",
    "import prim\n",
    "import seaborn as sns\n",
    "from sklearn import mixture\n",
    "import os\n",
    "from clustering_and_prim_tools import *"
   ]
  },
  {
   "cell_type": "code",
   "execution_count": 3,
   "metadata": {
    "collapsed": true
   },
   "outputs": [],
   "source": [
    "%matplotlib inline"
   ]
  },
  {
   "cell_type": "code",
   "execution_count": 4,
   "metadata": {
    "collapsed": true
   },
   "outputs": [],
   "source": [
    "sns.set_context(\"poster\",rc={\"font.size\": 28})\n",
    "sns.set_style(\"whitegrid\")"
   ]
  },
  {
   "cell_type": "code",
   "execution_count": 7,
   "metadata": {
    "collapsed": true
   },
   "outputs": [],
   "source": [
    "myfolder = \"transport_cired_output_data/outputs_investments_module_billionusd/\""
   ]
  },
  {
   "cell_type": "code",
   "execution_count": 9,
   "metadata": {
    "collapsed": false
   },
   "outputs": [
    {
     "data": {
      "text/plain": [
       "['ASIA', 'CIS', 'LAM', 'MAF', 'OECD90']"
      ]
     },
     "execution_count": 9,
     "metadata": {},
     "output_type": "execute_result"
    }
   ],
   "source": [
    "os.listdir(myfolder)"
   ]
  },
  {
   "cell_type": "markdown",
   "metadata": {},
   "source": [
    "remember to discount later"
   ]
  },
  {
   "cell_type": "code",
   "execution_count": 63,
   "metadata": {
    "collapsed": true
   },
   "outputs": [],
   "source": [
    "indexes = ['combi', 'ind_climat', 'ind_growth', 'ind_mitig', 'ind_trans_A',\n",
    "       'ind_trans_S', 'ind_trans_I', 'ind_trans_F', 'modal_scenario',\n",
    "       'costs_evolution_road', 'costs_evolution_rail', 'ur_ideal', 'urt_ideal',\n",
    "       'delay']"
   ]
  },
  {
   "cell_type": "code",
   "execution_count": 35,
   "metadata": {
    "collapsed": false
   },
   "outputs": [],
   "source": [
    "all_data = pd.DataFrame()\n",
    "for reg in os.listdir(myfolder):\n",
    "    for myfilename in os.listdir(myfolder+reg):\n",
    "        myfile = pd.read_csv(myfolder+reg+\"\\\\\"+myfilename,sep=\";\")\n",
    "        myfile = myfile.set_index(indexes).sum(axis=1).reset_index().rename(columns={0:\"total_cost\"})\n",
    "        myinfo = myfilename.replace(\".csv\",'').split(\"_\")\n",
    "        myfile[\"costtype\"] = myinfo[1]\n",
    "        myfile[\"transpmode\"] = myinfo[2]\n",
    "        myfile[\"region\"] = myinfo[3]\n",
    "        all_data = all_data.append(myfile)"
   ]
  },
  {
   "cell_type": "code",
   "execution_count": 37,
   "metadata": {
    "collapsed": false
   },
   "outputs": [],
   "source": [
    "indexes2 = [\"costtype\",\"transpmode\",\"region\"]"
   ]
  },
  {
   "cell_type": "code",
   "execution_count": 39,
   "metadata": {
    "collapsed": false
   },
   "outputs": [],
   "source": [
    "all_data = all_data.set_index(indexes+indexes2)"
   ]
  },
  {
   "cell_type": "code",
   "execution_count": 48,
   "metadata": {
    "collapsed": true
   },
   "outputs": [],
   "source": [
    "try1 = all_data.sum(level=indexes+[\"costtype\"]).unstack(\"costtype\")[\"total_cost\"].reset_index()"
   ]
  },
  {
   "cell_type": "code",
   "execution_count": 77,
   "metadata": {
    "collapsed": false
   },
   "outputs": [
    {
     "data": {
      "text/html": [
       "<div>\n",
       "<table border=\"1\" class=\"dataframe\">\n",
       "  <thead>\n",
       "    <tr style=\"text-align: right;\">\n",
       "      <th>costtype</th>\n",
       "      <th>combi</th>\n",
       "      <th>ind_climat</th>\n",
       "      <th>ind_growth</th>\n",
       "      <th>ind_mitig</th>\n",
       "      <th>ind_trans_A</th>\n",
       "      <th>ind_trans_S</th>\n",
       "      <th>ind_trans_I</th>\n",
       "      <th>ind_trans_F</th>\n",
       "      <th>modal_scenario</th>\n",
       "      <th>costs_evolution_road</th>\n",
       "      <th>costs_evolution_rail</th>\n",
       "      <th>ur_ideal</th>\n",
       "      <th>urt_ideal</th>\n",
       "      <th>delay</th>\n",
       "      <th>maint</th>\n",
       "      <th>new</th>\n",
       "    </tr>\n",
       "  </thead>\n",
       "  <tbody>\n",
       "    <tr>\n",
       "      <th>count</th>\n",
       "      <td>62208.000000</td>\n",
       "      <td>62208.000000</td>\n",
       "      <td>62208.000000</td>\n",
       "      <td>62208.000000</td>\n",
       "      <td>62208.000000</td>\n",
       "      <td>62208.000000</td>\n",
       "      <td>62208.000000</td>\n",
       "      <td>62208.000000</td>\n",
       "      <td>62208.000000</td>\n",
       "      <td>62208.000000</td>\n",
       "      <td>62208.000000</td>\n",
       "      <td>62208.000000</td>\n",
       "      <td>62208.000000</td>\n",
       "      <td>62208.000000</td>\n",
       "      <td>62208.000000</td>\n",
       "      <td>62208.000000</td>\n",
       "    </tr>\n",
       "    <tr>\n",
       "      <th>mean</th>\n",
       "      <td>176.500000</td>\n",
       "      <td>2.000000</td>\n",
       "      <td>2.000000</td>\n",
       "      <td>1.500000</td>\n",
       "      <td>1.500000</td>\n",
       "      <td>1.500000</td>\n",
       "      <td>1.500000</td>\n",
       "      <td>1.500000</td>\n",
       "      <td>0.500000</td>\n",
       "      <td>1.000000</td>\n",
       "      <td>1.000000</td>\n",
       "      <td>600.000000</td>\n",
       "      <td>17500.000000</td>\n",
       "      <td>50.000000</td>\n",
       "      <td>92169.881534</td>\n",
       "      <td>58554.999784</td>\n",
       "    </tr>\n",
       "    <tr>\n",
       "      <th>std</th>\n",
       "      <td>122.898981</td>\n",
       "      <td>1.633006</td>\n",
       "      <td>0.816503</td>\n",
       "      <td>0.500004</td>\n",
       "      <td>0.500004</td>\n",
       "      <td>0.500004</td>\n",
       "      <td>0.500004</td>\n",
       "      <td>0.500004</td>\n",
       "      <td>0.500004</td>\n",
       "      <td>0.816503</td>\n",
       "      <td>0.816503</td>\n",
       "      <td>244.950943</td>\n",
       "      <td>12500.100471</td>\n",
       "      <td>15.000121</td>\n",
       "      <td>29250.315617</td>\n",
       "      <td>42162.016915</td>\n",
       "    </tr>\n",
       "    <tr>\n",
       "      <th>min</th>\n",
       "      <td>1.000000</td>\n",
       "      <td>0.000000</td>\n",
       "      <td>1.000000</td>\n",
       "      <td>1.000000</td>\n",
       "      <td>1.000000</td>\n",
       "      <td>1.000000</td>\n",
       "      <td>1.000000</td>\n",
       "      <td>1.000000</td>\n",
       "      <td>0.000000</td>\n",
       "      <td>0.000000</td>\n",
       "      <td>0.000000</td>\n",
       "      <td>300.000000</td>\n",
       "      <td>5000.000000</td>\n",
       "      <td>35.000000</td>\n",
       "      <td>50123.080770</td>\n",
       "      <td>6307.147997</td>\n",
       "    </tr>\n",
       "    <tr>\n",
       "      <th>25%</th>\n",
       "      <td>72.750000</td>\n",
       "      <td>0.000000</td>\n",
       "      <td>1.000000</td>\n",
       "      <td>1.000000</td>\n",
       "      <td>1.000000</td>\n",
       "      <td>1.000000</td>\n",
       "      <td>1.000000</td>\n",
       "      <td>1.000000</td>\n",
       "      <td>0.000000</td>\n",
       "      <td>0.000000</td>\n",
       "      <td>0.000000</td>\n",
       "      <td>300.000000</td>\n",
       "      <td>5000.000000</td>\n",
       "      <td>35.000000</td>\n",
       "      <td>71614.850097</td>\n",
       "      <td>27061.475699</td>\n",
       "    </tr>\n",
       "    <tr>\n",
       "      <th>50%</th>\n",
       "      <td>144.500000</td>\n",
       "      <td>2.000000</td>\n",
       "      <td>2.000000</td>\n",
       "      <td>1.500000</td>\n",
       "      <td>1.500000</td>\n",
       "      <td>1.500000</td>\n",
       "      <td>1.500000</td>\n",
       "      <td>1.500000</td>\n",
       "      <td>0.500000</td>\n",
       "      <td>1.000000</td>\n",
       "      <td>1.000000</td>\n",
       "      <td>600.000000</td>\n",
       "      <td>17500.000000</td>\n",
       "      <td>50.000000</td>\n",
       "      <td>87198.779651</td>\n",
       "      <td>44616.002838</td>\n",
       "    </tr>\n",
       "    <tr>\n",
       "      <th>75%</th>\n",
       "      <td>312.250000</td>\n",
       "      <td>4.000000</td>\n",
       "      <td>3.000000</td>\n",
       "      <td>2.000000</td>\n",
       "      <td>2.000000</td>\n",
       "      <td>2.000000</td>\n",
       "      <td>2.000000</td>\n",
       "      <td>2.000000</td>\n",
       "      <td>1.000000</td>\n",
       "      <td>2.000000</td>\n",
       "      <td>2.000000</td>\n",
       "      <td>900.000000</td>\n",
       "      <td>30000.000000</td>\n",
       "      <td>65.000000</td>\n",
       "      <td>104106.630671</td>\n",
       "      <td>79530.010817</td>\n",
       "    </tr>\n",
       "    <tr>\n",
       "      <th>max</th>\n",
       "      <td>384.000000</td>\n",
       "      <td>4.000000</td>\n",
       "      <td>3.000000</td>\n",
       "      <td>2.000000</td>\n",
       "      <td>2.000000</td>\n",
       "      <td>2.000000</td>\n",
       "      <td>2.000000</td>\n",
       "      <td>2.000000</td>\n",
       "      <td>1.000000</td>\n",
       "      <td>2.000000</td>\n",
       "      <td>2.000000</td>\n",
       "      <td>900.000000</td>\n",
       "      <td>30000.000000</td>\n",
       "      <td>65.000000</td>\n",
       "      <td>228156.429701</td>\n",
       "      <td>237140.349021</td>\n",
       "    </tr>\n",
       "  </tbody>\n",
       "</table>\n",
       "</div>"
      ],
      "text/plain": [
       "costtype         combi    ind_climat    ind_growth     ind_mitig  \\\n",
       "count     62208.000000  62208.000000  62208.000000  62208.000000   \n",
       "mean        176.500000      2.000000      2.000000      1.500000   \n",
       "std         122.898981      1.633006      0.816503      0.500004   \n",
       "min           1.000000      0.000000      1.000000      1.000000   \n",
       "25%          72.750000      0.000000      1.000000      1.000000   \n",
       "50%         144.500000      2.000000      2.000000      1.500000   \n",
       "75%         312.250000      4.000000      3.000000      2.000000   \n",
       "max         384.000000      4.000000      3.000000      2.000000   \n",
       "\n",
       "costtype   ind_trans_A   ind_trans_S   ind_trans_I   ind_trans_F  \\\n",
       "count     62208.000000  62208.000000  62208.000000  62208.000000   \n",
       "mean          1.500000      1.500000      1.500000      1.500000   \n",
       "std           0.500004      0.500004      0.500004      0.500004   \n",
       "min           1.000000      1.000000      1.000000      1.000000   \n",
       "25%           1.000000      1.000000      1.000000      1.000000   \n",
       "50%           1.500000      1.500000      1.500000      1.500000   \n",
       "75%           2.000000      2.000000      2.000000      2.000000   \n",
       "max           2.000000      2.000000      2.000000      2.000000   \n",
       "\n",
       "costtype  modal_scenario  costs_evolution_road  costs_evolution_rail  \\\n",
       "count       62208.000000          62208.000000          62208.000000   \n",
       "mean            0.500000              1.000000              1.000000   \n",
       "std             0.500004              0.816503              0.816503   \n",
       "min             0.000000              0.000000              0.000000   \n",
       "25%             0.000000              0.000000              0.000000   \n",
       "50%             0.500000              1.000000              1.000000   \n",
       "75%             1.000000              2.000000              2.000000   \n",
       "max             1.000000              2.000000              2.000000   \n",
       "\n",
       "costtype      ur_ideal     urt_ideal         delay          maint  \\\n",
       "count     62208.000000  62208.000000  62208.000000   62208.000000   \n",
       "mean        600.000000  17500.000000     50.000000   92169.881534   \n",
       "std         244.950943  12500.100471     15.000121   29250.315617   \n",
       "min         300.000000   5000.000000     35.000000   50123.080770   \n",
       "25%         300.000000   5000.000000     35.000000   71614.850097   \n",
       "50%         600.000000  17500.000000     50.000000   87198.779651   \n",
       "75%         900.000000  30000.000000     65.000000  104106.630671   \n",
       "max         900.000000  30000.000000     65.000000  228156.429701   \n",
       "\n",
       "costtype            new  \n",
       "count      62208.000000  \n",
       "mean       58554.999784  \n",
       "std        42162.016915  \n",
       "min         6307.147997  \n",
       "25%        27061.475699  \n",
       "50%        44616.002838  \n",
       "75%        79530.010817  \n",
       "max       237140.349021  "
      ]
     },
     "execution_count": 77,
     "metadata": {},
     "output_type": "execute_result"
    }
   ],
   "source": [
    "try1.describe()"
   ]
  },
  {
   "cell_type": "code",
   "execution_count": 50,
   "metadata": {
    "collapsed": true
   },
   "outputs": [],
   "source": [
    "oois = ['maint','new']\n",
    "\n",
    "data = np.array([[try1[oois[0]][0],try1[oois[1]][0]]])\n",
    "for i in range(1,len(try1.index)):\n",
    "    data = np.concatenate((data,np.array([[try1[oois[0]][i],try1[oois[1]][i]]])))\n",
    "\n",
    "data_norm = normalize(data)"
   ]
  },
  {
   "cell_type": "code",
   "execution_count": 66,
   "metadata": {
    "collapsed": false
   },
   "outputs": [],
   "source": [
    "inputs = try1[indexes[1:]]"
   ]
  },
  {
   "cell_type": "code",
   "execution_count": 74,
   "metadata": {
    "collapsed": true
   },
   "outputs": [],
   "source": [
    "n_clusters = 6\n",
    "f_value = 0.5\n",
    "seuil = 1.2"
   ]
  },
  {
   "cell_type": "code",
   "execution_count": 75,
   "metadata": {
    "collapsed": false
   },
   "outputs": [],
   "source": [
    "while n_clusters>2:\n",
    "\n",
    "    condition = True\n",
    "\n",
    "    for i in get_prim(n_clusters, f_value, data,oois[0],oois[1],inputs)[0]:\n",
    "        if i.coverage+i.density < seuil:\n",
    "            condition = False\n",
    "        else:\n",
    "            condition = condition&True\n",
    "    if condition == True:\n",
    "        break\n",
    "    else:\n",
    "        n_clusters = n_clusters - 1\n",
    "        continue\n",
    "\n",
    "\n",
    "#Plot of clusters\n",
    "\n",
    "\n",
    "dummy = get_prim(n_clusters, f_value, data,oois[0],oois[1],inputs)\n",
    "boxes = dummy[0]\n",
    "df = dummy[1]"
   ]
  },
  {
   "cell_type": "code",
   "execution_count": 76,
   "metadata": {
    "collapsed": false
   },
   "outputs": [
    {
     "data": {
      "text/plain": [
       "<matplotlib.text.Text at 0x21524cd0908>"
      ]
     },
     "execution_count": 76,
     "metadata": {},
     "output_type": "execute_result"
    },
    {
     "data": {
      "image/png": "[encoded data removed]",
      "text/plain": [
       "<matplotlib.figure.Figure at 0x214feacfb38>"
      ]
     },
     "metadata": {},
     "output_type": "display_data"
    }
   ],
   "source": [
    "mycolors = [\"grey\",\"red\",\"green\",\"blue\"]\n",
    "for (i,subdf) in df.groupby(\"class\"):\n",
    "\n",
    "    plt.scatter(subdf.maint,subdf.new,label=\"Cluster {}\".format(i),c=mycolors[i-1])\n",
    "plt.legend()\n",
    "plt.xlabel(\"Maintenance cost, Billion USD\")\n",
    "plt.ylabel(\"New capital investment, Billion USD\")"
   ]
  },
  {
   "cell_type": "code",
   "execution_count": 72,
   "metadata": {
    "collapsed": false
   },
   "outputs": [
    {
     "data": {
      "text/html": [
       "<div>\n",
       "<table border=\"1\" class=\"dataframe\">\n",
       "  <thead>\n",
       "    <tr style=\"text-align: right;\">\n",
       "      <th></th>\n",
       "      <th>min</th>\n",
       "      <th>max</th>\n",
       "      <th>qp values</th>\n",
       "    </tr>\n",
       "  </thead>\n",
       "  <tbody>\n",
       "    <tr>\n",
       "      <th>ur_ideal</th>\n",
       "      <td>600.0</td>\n",
       "      <td>900.0</td>\n",
       "      <td>0.0</td>\n",
       "    </tr>\n",
       "  </tbody>\n",
       "</table>\n",
       "</div>"
      ],
      "text/plain": [
       "            min    max  qp values\n",
       "ur_ideal  600.0  900.0        0.0"
      ]
     },
     "execution_count": 72,
     "metadata": {},
     "output_type": "execute_result"
    }
   ],
   "source": [
    "boxes[0].limits"
   ]
  },
  {
   "cell_type": "code",
   "execution_count": 73,
   "metadata": {
    "collapsed": false
   },
   "outputs": [
    {
     "data": {
      "text/html": [
       "<div>\n",
       "<table border=\"1\" class=\"dataframe\">\n",
       "  <thead>\n",
       "    <tr style=\"text-align: right;\">\n",
       "      <th></th>\n",
       "      <th>min</th>\n",
       "      <th>max</th>\n",
       "      <th>qp values</th>\n",
       "    </tr>\n",
       "  </thead>\n",
       "  <tbody>\n",
       "    <tr>\n",
       "      <th>ur_ideal</th>\n",
       "      <td>300.0</td>\n",
       "      <td>300.0</td>\n",
       "      <td>0.0</td>\n",
       "    </tr>\n",
       "  </tbody>\n",
       "</table>\n",
       "</div>"
      ],
      "text/plain": [
       "            min    max  qp values\n",
       "ur_ideal  300.0  300.0        0.0"
      ]
     },
     "execution_count": 73,
     "metadata": {},
     "output_type": "execute_result"
    }
   ],
   "source": [
    "boxes[1].limits"
   ]
  },
  {
   "cell_type": "code",
   "execution_count": null,
   "metadata": {
    "collapsed": true
   },
   "outputs": [],
   "source": []
  }
 ],
 "metadata": {
  "kernelspec": {
   "display_name": "Python [conda root]",
   "language": "python",
   "name": "conda-root-py"
  },
  "language_info": {
   "codemirror_mode": {
    "name": "ipython",
    "version": 3
   },
   "file_extension": ".py",
   "mimetype": "text/x-python",
   "name": "python",
   "nbconvert_exporter": "python",
   "pygments_lexer": "ipython3",
   "version": "3.5.2"
  },
  "toc": {
   "colors": {
    "hover_highlight": "#DAA520",
    "navigate_num": "#000000",
    "navigate_text": "#333333",
    "running_highlight": "#FF0000",
    "selected_highlight": "#FFD700",
    "sidebar_border": "#EEEEEE",
    "wrapper_background": "#FFFFFF"
   },
   "moveMenuLeft": true,
   "nav_menu": {
    "height": "12px",
    "width": "252px"
   },
   "navigate_menu": true,
   "number_sections": true,
   "sideBar": true,
   "threshold": 4,
   "toc_cell": false,
   "toc_section_display": "block",
   "toc_window_display": false,
   "widenNotebook": false
  }
 },
 "nbformat": 4,
 "nbformat_minor": 2
}
