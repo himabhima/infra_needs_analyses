{
 "cells": [
  {
   "cell_type": "code",
   "execution_count": 66,
   "metadata": {
    "collapsed": true
   },
   "outputs": [],
   "source": [
    "import pandas as pd\n",
    "import numpy as np\n",
    "import matplotlib.pyplot as plt\n",
    "from pandas_helper import get_list_of_index_names, broadcast_simple, concat_categories\n",
    "\n",
    "%matplotlib inline"
   ]
  },
  {
   "cell_type": "markdown",
   "metadata": {},
   "source": [
    "This is just for SIDS at the moment. Can be updated for all countries when we have the data"
   ]
  },
  {
   "cell_type": "code",
   "execution_count": 67,
   "metadata": {
    "collapsed": true
   },
   "outputs": [],
   "source": [
    "#Names to WB names\n",
    "any_to_wb = pd.read_csv(\"inputs/any_name_to_wb_name.csv\",index_col=\"any\",squeeze=True)\n",
    "\n",
    "#GAR names with SIDS spec\n",
    "gar_name_sids = pd.read_csv(\"inputs/gar_name_sids.csv\")\n",
    "\n",
    "#iso3 to wb country name table\n",
    "iso3_to_wb=pd.read_csv(\"inputs/iso3_to_wb_name.csv\").set_index(\"iso3\").squeeze()\n",
    "\n",
    "#iso2 to iso3 table\n",
    "iso2_iso3 = pd.read_csv(\"inputs/names_to_iso.csv\", usecols=[\"iso2\",\"iso3\"]).drop_duplicates().set_index(\"iso2\").squeeze() #the tables has more lines than countries to account for several ways of writing country names"
   ]
  },
  {
   "cell_type": "code",
   "execution_count": 68,
   "metadata": {
    "collapsed": true
   },
   "outputs": [],
   "source": [
    "path = \"sids data\\\\\""
   ]
  },
  {
   "cell_type": "markdown",
   "metadata": {},
   "source": [
    "## Roads -- km from OSM and hard coding road costs"
   ]
  },
  {
   "cell_type": "code",
   "execution_count": 69,
   "metadata": {
    "collapsed": true
   },
   "outputs": [],
   "source": [
    "roads = pd.read_csv(path+\"km_roads_sids.csv\")"
   ]
  },
  {
   "cell_type": "code",
   "execution_count": 70,
   "metadata": {
    "collapsed": false
   },
   "outputs": [],
   "source": [
    "roads[['Total Length (km)', 'Total Primary',\\\n",
    "       'Total Secondary', 'Total Tertiary', 'Residential', 'Track / service',\\\n",
    "       'Total Other']] = roads[['Total Length (km)', 'Total Primary',\\\n",
    "       'Total Secondary', 'Total Tertiary', 'Residential', 'Track / service',\\\n",
    "       'Total Other']].astype(float)"
   ]
  },
  {
   "cell_type": "code",
   "execution_count": 71,
   "metadata": {
    "collapsed": true
   },
   "outputs": [],
   "source": [
    "roads[\"country\"] = roads.country.replace(any_to_wb)"
   ]
  },
  {
   "cell_type": "code",
   "execution_count": 72,
   "metadata": {
    "collapsed": true
   },
   "outputs": [],
   "source": [
    "#cost per km of road based on st Lucia data. \n",
    "primary_road_cost = 1200000\n",
    "secondary_road_cost = 700000\n",
    "tertiary_road_cost = 600000"
   ]
  },
  {
   "cell_type": "code",
   "execution_count": 73,
   "metadata": {
    "collapsed": true
   },
   "outputs": [],
   "source": [
    "#reduced road values because of depreciation.\n",
    "lifetime_primary = 20\n",
    "lifetime_secondary = 15\n",
    "lifetime_tertiary = 10"
   ]
  },
  {
   "cell_type": "code",
   "execution_count": 74,
   "metadata": {
    "collapsed": false
   },
   "outputs": [],
   "source": [
    "roads = roads.fillna(0)\n",
    "roads = roads.set_index(\"country\")"
   ]
  },
  {
   "cell_type": "code",
   "execution_count": 75,
   "metadata": {
    "collapsed": true
   },
   "outputs": [],
   "source": [
    "roads[\"average_age_primary\"] = 8\n",
    "roads[\"average_age_secondary\"] = 5\n",
    "roads[\"average_age_tertiary\"] = 5"
   ]
  },
  {
   "cell_type": "code",
   "execution_count": 76,
   "metadata": {
    "collapsed": true
   },
   "outputs": [],
   "source": [
    "roads.loc[\"Kiribati\",\"average_age_primary\"]=12"
   ]
  },
  {
   "cell_type": "code",
   "execution_count": 77,
   "metadata": {
    "collapsed": false
   },
   "outputs": [],
   "source": [
    "roads[\"transport\"] = roads[\"Total Primary\"]*primary_road_cost*(1-1/lifetime_primary*roads.average_age_primary)+\\\n",
    "                             roads[\"Total Secondary\"]*secondary_road_cost*(1-1/lifetime_secondary*roads.average_age_secondary)+\\\n",
    "                             roads[\"Total Tertiary\"]*tertiary_road_cost*(1-1/lifetime_tertiary*roads.average_age_tertiary)+\\\n",
    "                             roads[\"Residential\"]*tertiary_road_cost*(1-1/lifetime_tertiary*roads.average_age_tertiary)+\\\n",
    "                             roads[\"Track / service\"]*tertiary_road_cost*(1-1/lifetime_tertiary*roads.average_age_tertiary)+\\\n",
    "                             roads[\"Total Other\"]*tertiary_road_cost*(1-1/lifetime_tertiary*roads.average_age_tertiary)"
   ]
  },
  {
   "cell_type": "markdown",
   "metadata": {},
   "source": [
    "## Power (from Platts)"
   ]
  },
  {
   "cell_type": "code",
   "execution_count": 78,
   "metadata": {
    "collapsed": true
   },
   "outputs": [],
   "source": [
    "power = pd.read_csv(path+\"power_plants_sids.csv\")\n",
    "power[\"country\"] = power.COUNTRY.apply(lambda x:x.title()).replace(any_to_wb)"
   ]
  },
  {
   "cell_type": "code",
   "execution_count": 79,
   "metadata": {
    "collapsed": true
   },
   "outputs": [],
   "source": [
    "power[\"power\"] = power.CAPEX"
   ]
  },
  {
   "cell_type": "code",
   "execution_count": 80,
   "metadata": {
    "collapsed": false
   },
   "outputs": [
    {
     "data": {
      "text/plain": [
       "country\n",
       "American Samoa                    3.269578e+07\n",
       "Anguilla                          1.252212e+07\n",
       "Antigua and Barbuda               4.313640e+07\n",
       "Aruba                             9.078911e+07\n",
       "Bahamas, The                      3.677894e+08\n",
       "Bahrain                           1.121848e+10\n",
       "Barbados                          1.298503e+08\n",
       "Belize                            2.467837e+08\n",
       "Bermuda                           7.038958e+07\n",
       "Virgin Islands, British           2.624483e+07\n",
       "Cape Verde                        1.129964e+08\n",
       "Comoros                           4.821260e+06\n",
       "Cook Islands                      8.042685e+06\n",
       "Dominica                          2.400291e+07\n",
       "Dominican Republic                3.796155e+09\n",
       "Fiji                              4.830101e+08\n",
       "Guam                              2.402088e+08\n",
       "Guinea-Bissau                     1.467094e+07\n",
       "Guyana                            1.555213e+08\n",
       "Haiti                             2.236963e+08\n",
       "Jamaica                           7.874247e+08\n",
       "Kiribati                          4.982963e+06\n",
       "Maldives                          4.126592e+07\n",
       "Marshall Islands                  1.528525e+07\n",
       "Mauritius                         7.371128e+08\n",
       "Micronesia, Fed. Sts.             2.035243e+07\n",
       "NaN                               2.870919e+06\n",
       "Nauru                             3.820062e+06\n",
       "New Caledonia                     8.887735e+08\n",
       "Niue                              8.847630e+05\n",
       "Northern Marianas                 3.658471e+07\n",
       "Palau                             2.245359e+07\n",
       "Papua New Guinea                  8.891911e+08\n",
       "Samoa                             4.766486e+07\n",
       "Sao Tome and Principe             2.659636e+07\n",
       "Seychelles                        5.748405e+07\n",
       "Singapore                                  NaN\n",
       "Solomon Islands                   2.755012e+07\n",
       "St. Kitts and Nevis               3.219731e+07\n",
       "St. Lucia                         3.140222e+07\n",
       "St. Vincent and the Grenadines    3.212042e+07\n",
       "Suriname                          3.033997e+08\n",
       "Timor Leste                       1.362663e+08\n",
       "Tonga                             1.562273e+07\n",
       "Trinidad and Tobago               2.448718e+09\n",
       "Tuvalu                            4.723945e+06\n",
       "Name: power, dtype: float64"
      ]
     },
     "execution_count": 80,
     "metadata": {},
     "output_type": "execute_result"
    }
   ],
   "source": [
    "power.set_index(\"country\").power"
   ]
  },
  {
   "cell_type": "markdown",
   "metadata": {},
   "source": [
    "## Buildings data from Rashmin and PCRAFI "
   ]
  },
  {
   "cell_type": "code",
   "execution_count": 81,
   "metadata": {
    "collapsed": false
   },
   "outputs": [],
   "source": [
    "buildings_pcrafi = pd.read_csv(path+\"PCRAFI_stocks.csv\")\n",
    "#values in million USD"
   ]
  },
  {
   "cell_type": "code",
   "execution_count": 82,
   "metadata": {
    "collapsed": false
   },
   "outputs": [],
   "source": [
    "#we divide by 3 because for Fiji PCRAFI is 3 times higher than Rashmin's assessment, which is consistent with GAR\n",
    "buildings_pcrafi[\"country\"] = buildings_pcrafi.country.replace(any_to_wb)\n",
    "buildings_pcrafi = 1/3*10**6*buildings_pcrafi.set_index(\"country\")"
   ]
  },
  {
   "cell_type": "code",
   "execution_count": 83,
   "metadata": {
    "collapsed": false
   },
   "outputs": [],
   "source": [
    "#buildings_pcrafi.rename(columns={\"building\":\"total_building_value\"},inplace=True)"
   ]
  },
  {
   "cell_type": "code",
   "execution_count": 84,
   "metadata": {
    "collapsed": false
   },
   "outputs": [
    {
     "data": {
      "text/html": [
       "<div>\n",
       "<table border=\"1\" class=\"dataframe\">\n",
       "  <thead>\n",
       "    <tr style=\"text-align: right;\">\n",
       "      <th></th>\n",
       "      <th>building</th>\n",
       "      <th>infrastructure</th>\n",
       "    </tr>\n",
       "    <tr>\n",
       "      <th>country</th>\n",
       "      <th></th>\n",
       "      <th></th>\n",
       "    </tr>\n",
       "  </thead>\n",
       "  <tbody>\n",
       "    <tr>\n",
       "      <th>Cook Islands</th>\n",
       "      <td>4.322667e+08</td>\n",
       "      <td>3.920000e+07</td>\n",
       "    </tr>\n",
       "    <tr>\n",
       "      <th>Fiji</th>\n",
       "      <td>6.288400e+09</td>\n",
       "      <td>1.031300e+09</td>\n",
       "    </tr>\n",
       "    <tr>\n",
       "      <th>Micronesia, Fed. Sts.</th>\n",
       "      <td>5.763333e+08</td>\n",
       "      <td>1.042667e+08</td>\n",
       "    </tr>\n",
       "    <tr>\n",
       "      <th>Kiribati</th>\n",
       "      <td>3.353667e+08</td>\n",
       "      <td>5.473333e+07</td>\n",
       "    </tr>\n",
       "    <tr>\n",
       "      <th>Marshall Islands</th>\n",
       "      <td>4.680333e+08</td>\n",
       "      <td>9.530000e+07</td>\n",
       "    </tr>\n",
       "    <tr>\n",
       "      <th>Nauru</th>\n",
       "      <td>5.793333e+07</td>\n",
       "      <td>2.466667e+07</td>\n",
       "    </tr>\n",
       "    <tr>\n",
       "      <th>Niue</th>\n",
       "      <td>1.368667e+08</td>\n",
       "      <td>1.400000e+07</td>\n",
       "    </tr>\n",
       "    <tr>\n",
       "      <th>Papua New Guinea</th>\n",
       "      <td>1.316967e+10</td>\n",
       "      <td>2.213033e+09</td>\n",
       "    </tr>\n",
       "    <tr>\n",
       "      <th>Palau</th>\n",
       "      <td>4.461667e+08</td>\n",
       "      <td>5.330000e+07</td>\n",
       "    </tr>\n",
       "    <tr>\n",
       "      <th>Solomon Islands</th>\n",
       "      <td>1.019567e+09</td>\n",
       "      <td>1.401000e+08</td>\n",
       "    </tr>\n",
       "    <tr>\n",
       "      <th>Timor-Leste</th>\n",
       "      <td>5.960433e+09</td>\n",
       "      <td>7.202000e+08</td>\n",
       "    </tr>\n",
       "    <tr>\n",
       "      <th>Tonga</th>\n",
       "      <td>8.417333e+08</td>\n",
       "      <td>8.646667e+07</td>\n",
       "    </tr>\n",
       "    <tr>\n",
       "      <th>Tuvalu</th>\n",
       "      <td>7.643333e+07</td>\n",
       "      <td>1.323333e+07</td>\n",
       "    </tr>\n",
       "    <tr>\n",
       "      <th>Vanuatu</th>\n",
       "      <td>9.528000e+08</td>\n",
       "      <td>1.400000e+08</td>\n",
       "    </tr>\n",
       "    <tr>\n",
       "      <th>Samoa</th>\n",
       "      <td>7.159667e+08</td>\n",
       "      <td>1.558000e+08</td>\n",
       "    </tr>\n",
       "  </tbody>\n",
       "</table>\n",
       "</div>"
      ],
      "text/plain": [
       "                           building  infrastructure\n",
       "country                                            \n",
       "Cook Islands           4.322667e+08    3.920000e+07\n",
       "Fiji                   6.288400e+09    1.031300e+09\n",
       "Micronesia, Fed. Sts.  5.763333e+08    1.042667e+08\n",
       "Kiribati               3.353667e+08    5.473333e+07\n",
       "Marshall Islands       4.680333e+08    9.530000e+07\n",
       "Nauru                  5.793333e+07    2.466667e+07\n",
       "Niue                   1.368667e+08    1.400000e+07\n",
       "Papua New Guinea       1.316967e+10    2.213033e+09\n",
       "Palau                  4.461667e+08    5.330000e+07\n",
       "Solomon Islands        1.019567e+09    1.401000e+08\n",
       "Timor-Leste            5.960433e+09    7.202000e+08\n",
       "Tonga                  8.417333e+08    8.646667e+07\n",
       "Tuvalu                 7.643333e+07    1.323333e+07\n",
       "Vanuatu                9.528000e+08    1.400000e+08\n",
       "Samoa                  7.159667e+08    1.558000e+08"
      ]
     },
     "execution_count": 84,
     "metadata": {},
     "output_type": "execute_result"
    }
   ],
   "source": [
    "buildings_pcrafi"
   ]
  },
  {
   "cell_type": "code",
   "execution_count": 85,
   "metadata": {
    "collapsed": true
   },
   "outputs": [],
   "source": [
    "buildings_rashmin = pd.read_csv(path+\"Gross_Capital_Summary.csv\")\n",
    "buildings_rashmin[\"country\"] = buildings_rashmin.country.replace(iso3_to_wb).replace(any_to_wb)"
   ]
  },
  {
   "cell_type": "code",
   "execution_count": 86,
   "metadata": {
    "collapsed": false
   },
   "outputs": [
    {
     "data": {
      "text/html": [
       "<div>\n",
       "<table border=\"1\" class=\"dataframe\">\n",
       "  <thead>\n",
       "    <tr style=\"text-align: right;\">\n",
       "      <th></th>\n",
       "      <th>country</th>\n",
       "      <th>Private K</th>\n",
       "      <th>Public K</th>\n",
       "      <th>Buildings (Residential + Non-Res)</th>\n",
       "      <th>Infrastructure</th>\n",
       "    </tr>\n",
       "  </thead>\n",
       "  <tbody>\n",
       "    <tr>\n",
       "      <th>0</th>\n",
       "      <td>Belize</td>\n",
       "      <td>0.686881</td>\n",
       "      <td>0.313119</td>\n",
       "      <td>4.620789e+09</td>\n",
       "      <td>NaN</td>\n",
       "    </tr>\n",
       "    <tr>\n",
       "      <th>1</th>\n",
       "      <td>St. Lucia</td>\n",
       "      <td>0.785803</td>\n",
       "      <td>0.214197</td>\n",
       "      <td>3.197446e+09</td>\n",
       "      <td>1.169627e+09</td>\n",
       "    </tr>\n",
       "    <tr>\n",
       "      <th>2</th>\n",
       "      <td>Jamaica</td>\n",
       "      <td>0.788723</td>\n",
       "      <td>0.211277</td>\n",
       "      <td>3.822092e+10</td>\n",
       "      <td>1.151195e+10</td>\n",
       "    </tr>\n",
       "    <tr>\n",
       "      <th>3</th>\n",
       "      <td>Haiti</td>\n",
       "      <td>0.733435</td>\n",
       "      <td>0.266565</td>\n",
       "      <td>2.656431e+10</td>\n",
       "      <td>8.862872e+09</td>\n",
       "    </tr>\n",
       "    <tr>\n",
       "      <th>4</th>\n",
       "      <td>Grenada</td>\n",
       "      <td>0.794724</td>\n",
       "      <td>0.205276</td>\n",
       "      <td>2.131954e+09</td>\n",
       "      <td>NaN</td>\n",
       "    </tr>\n",
       "    <tr>\n",
       "      <th>5</th>\n",
       "      <td>Dominican Republic</td>\n",
       "      <td>0.759619</td>\n",
       "      <td>0.240381</td>\n",
       "      <td>1.530000e+11</td>\n",
       "      <td>NaN</td>\n",
       "    </tr>\n",
       "    <tr>\n",
       "      <th>6</th>\n",
       "      <td>Fiji</td>\n",
       "      <td>0.504894</td>\n",
       "      <td>0.495106</td>\n",
       "      <td>6.504790e+09</td>\n",
       "      <td>NaN</td>\n",
       "    </tr>\n",
       "    <tr>\n",
       "      <th>7</th>\n",
       "      <td>FJI est 2</td>\n",
       "      <td>0.593038</td>\n",
       "      <td>0.406962</td>\n",
       "      <td>NaN</td>\n",
       "      <td>NaN</td>\n",
       "    </tr>\n",
       "  </tbody>\n",
       "</table>\n",
       "</div>"
      ],
      "text/plain": [
       "              country  Private K  Public K  Buildings (Residential + Non-Res)  \\\n",
       "0              Belize   0.686881  0.313119                       4.620789e+09   \n",
       "1           St. Lucia   0.785803  0.214197                       3.197446e+09   \n",
       "2             Jamaica   0.788723  0.211277                       3.822092e+10   \n",
       "3               Haiti   0.733435  0.266565                       2.656431e+10   \n",
       "4             Grenada   0.794724  0.205276                       2.131954e+09   \n",
       "5  Dominican Republic   0.759619  0.240381                       1.530000e+11   \n",
       "6                Fiji   0.504894  0.495106                       6.504790e+09   \n",
       "7           FJI est 2   0.593038  0.406962                                NaN   \n",
       "\n",
       "   Infrastructure  \n",
       "0             NaN  \n",
       "1    1.169627e+09  \n",
       "2    1.151195e+10  \n",
       "3    8.862872e+09  \n",
       "4             NaN  \n",
       "5             NaN  \n",
       "6             NaN  \n",
       "7             NaN  "
      ]
     },
     "execution_count": 86,
     "metadata": {},
     "output_type": "execute_result"
    }
   ],
   "source": [
    "buildings_rashmin"
   ]
  },
  {
   "cell_type": "code",
   "execution_count": 87,
   "metadata": {
    "collapsed": false
   },
   "outputs": [],
   "source": [
    "buildings_rashmin[\"building\"] = buildings_rashmin[\"Buildings (Residential + Non-Res)\"]"
   ]
  },
  {
   "cell_type": "code",
   "execution_count": 88,
   "metadata": {
    "collapsed": false
   },
   "outputs": [
    {
     "data": {
      "text/plain": [
       "country\n",
       "Belize                4.620789e+09\n",
       "St. Lucia             3.197446e+09\n",
       "Jamaica               3.822092e+10\n",
       "Haiti                 2.656431e+10\n",
       "Grenada               2.131954e+09\n",
       "Dominican Republic    1.530000e+11\n",
       "Fiji                  6.504790e+09\n",
       "FJI est 2                      NaN\n",
       "Name: building, dtype: float64"
      ]
     },
     "execution_count": 88,
     "metadata": {},
     "output_type": "execute_result"
    }
   ],
   "source": [
    "buildings_rashmin.set_index(\"country\").building"
   ]
  },
  {
   "cell_type": "code",
   "execution_count": 89,
   "metadata": {
    "collapsed": false
   },
   "outputs": [],
   "source": [
    "#Fiji has 2 estimates. first one is rashmin, last one is PCRAFI\n",
    "buildings = pd.concat([buildings_rashmin.set_index(\"country\"),buildings_pcrafi]).reset_index().drop_duplicates(\"country\",keep=\"first\")"
   ]
  },
  {
   "cell_type": "markdown",
   "metadata": {},
   "source": [
    "### Residential vs non residential buildings"
   ]
  },
  {
   "cell_type": "code",
   "execution_count": 90,
   "metadata": {
    "collapsed": false
   },
   "outputs": [],
   "source": [
    "buildings = buildings.set_index(\"country\")\n",
    "## hard coding Fiji data from Rashmin's file Fiji_2015_exposure_estimation_110517.xlsx\n",
    "fiji_total = 4093521135+2411268610\n",
    "fiji_residential = 4093521135/fiji_total\n",
    "\n",
    "# for the US, according to the BEA, residential is 19,199.1 billion and non residential 21,879.4 billion. so by default we put 50/50.\n",
    "buildings[\"building_residential\"] = buildings.building*0.5\n",
    "buildings[\"building_non_residential\"] = buildings.building*0.5\n",
    "buildings.loc[\"Fiji\",\"building_residential\"] = buildings.loc[\"Fiji\",\"building\"]*fiji_residential\n",
    "buildings.loc[\"Fiji\",\"building_non_residential\"] = buildings.loc[\"Fiji\",\"building\"]*(1-fiji_residential)"
   ]
  },
  {
   "cell_type": "markdown",
   "metadata": {},
   "source": [
    "## Water from WASH infrastructure needs"
   ]
  },
  {
   "cell_type": "code",
   "execution_count": 91,
   "metadata": {
    "collapsed": true
   },
   "outputs": [],
   "source": [
    "water = pd.read_csv(path+\"water_infra_value_sids.csv\")"
   ]
  },
  {
   "cell_type": "code",
   "execution_count": 92,
   "metadata": {
    "collapsed": false
   },
   "outputs": [
    {
     "data": {
      "text/html": [
       "<div>\n",
       "<table border=\"1\" class=\"dataframe\">\n",
       "  <thead>\n",
       "    <tr style=\"text-align: right;\">\n",
       "      <th></th>\n",
       "      <th>water</th>\n",
       "    </tr>\n",
       "    <tr>\n",
       "      <th>country</th>\n",
       "      <th></th>\n",
       "    </tr>\n",
       "  </thead>\n",
       "  <tbody>\n",
       "    <tr>\n",
       "      <th>St. Vincent and the Grenadines</th>\n",
       "      <td>101050957.6</td>\n",
       "    </tr>\n",
       "  </tbody>\n",
       "</table>\n",
       "</div>"
      ],
      "text/plain": [
       "                                      water\n",
       "country                                    \n",
       "St. Vincent and the Grenadines  101050957.6"
      ]
     },
     "execution_count": 92,
     "metadata": {},
     "output_type": "execute_result"
    }
   ],
   "source": [
    "water[\"country\"] = water[\"country\"].replace(any_to_wb)\n",
    "water.set_index(\"country\").sample()"
   ]
  },
  {
   "cell_type": "markdown",
   "metadata": {},
   "source": [
    "## Merge all available infra "
   ]
  },
  {
   "cell_type": "code",
   "execution_count": 93,
   "metadata": {
    "collapsed": true
   },
   "outputs": [],
   "source": [
    "all_infra = pd.concat([roads.transport,power.set_index(\"country\").power,\\\n",
    "                       buildings[[\"building_residential\",\"building_non_residential\"]],water.set_index(\"country\")],axis=1)"
   ]
  },
  {
   "cell_type": "code",
   "execution_count": 94,
   "metadata": {
    "collapsed": false
   },
   "outputs": [
    {
     "data": {
      "text/html": [
       "<div>\n",
       "<table border=\"1\" class=\"dataframe\">\n",
       "  <thead>\n",
       "    <tr style=\"text-align: right;\">\n",
       "      <th></th>\n",
       "      <th>transport</th>\n",
       "      <th>power</th>\n",
       "      <th>building_residential</th>\n",
       "      <th>building_non_residential</th>\n",
       "      <th>water</th>\n",
       "    </tr>\n",
       "  </thead>\n",
       "  <tbody>\n",
       "    <tr>\n",
       "      <th>Comoros</th>\n",
       "      <td>NaN</td>\n",
       "      <td>4821260.0</td>\n",
       "      <td>NaN</td>\n",
       "      <td>NaN</td>\n",
       "      <td>2.001271e+08</td>\n",
       "    </tr>\n",
       "    <tr>\n",
       "      <th>Marshall Islands</th>\n",
       "      <td>3.323244e+07</td>\n",
       "      <td>15285248.0</td>\n",
       "      <td>2.340167e+08</td>\n",
       "      <td>2.340167e+08</td>\n",
       "      <td>7.076137e+06</td>\n",
       "    </tr>\n",
       "    <tr>\n",
       "      <th>Singapore</th>\n",
       "      <td>NaN</td>\n",
       "      <td>NaN</td>\n",
       "      <td>NaN</td>\n",
       "      <td>NaN</td>\n",
       "      <td>NaN</td>\n",
       "    </tr>\n",
       "  </tbody>\n",
       "</table>\n",
       "</div>"
      ],
      "text/plain": [
       "                     transport       power  building_residential  \\\n",
       "Comoros                    NaN   4821260.0                   NaN   \n",
       "Marshall Islands  3.323244e+07  15285248.0          2.340167e+08   \n",
       "Singapore                  NaN         NaN                   NaN   \n",
       "\n",
       "                  building_non_residential         water  \n",
       "Comoros                                NaN  2.001271e+08  \n",
       "Marshall Islands              2.340167e+08  7.076137e+06  \n",
       "Singapore                              NaN           NaN  "
      ]
     },
     "execution_count": 94,
     "metadata": {},
     "output_type": "execute_result"
    }
   ],
   "source": [
    "all_infra.sample(3)"
   ]
  },
  {
   "cell_type": "code",
   "execution_count": 95,
   "metadata": {
    "collapsed": true
   },
   "outputs": [],
   "source": [
    "all_infra[\"infra\"] = all_infra.power+all_infra.water+all_infra.transport\n",
    "all_infra[\"infra_and_buildings\"] = all_infra.power+all_infra.water+all_infra.transport+all_infra.building_non_residential+all_infra.building_residential\n",
    "all_infra['buildings'] = all_infra.building_non_residential+all_infra.building_residential"
   ]
  },
  {
   "cell_type": "code",
   "execution_count": 96,
   "metadata": {
    "collapsed": false
   },
   "outputs": [
    {
     "data": {
      "text/html": [
       "<div>\n",
       "<table border=\"1\" class=\"dataframe\">\n",
       "  <thead>\n",
       "    <tr style=\"text-align: right;\">\n",
       "      <th></th>\n",
       "      <th>transport</th>\n",
       "      <th>power</th>\n",
       "      <th>building_residential</th>\n",
       "      <th>building_non_residential</th>\n",
       "      <th>water</th>\n",
       "      <th>infra</th>\n",
       "      <th>infra_and_buildings</th>\n",
       "      <th>buildings</th>\n",
       "    </tr>\n",
       "  </thead>\n",
       "  <tbody>\n",
       "    <tr>\n",
       "      <th>Belize</th>\n",
       "      <td>2.513105e+09</td>\n",
       "      <td>246783703.0</td>\n",
       "      <td>2.310395e+09</td>\n",
       "      <td>2.310395e+09</td>\n",
       "      <td>4.352581e+08</td>\n",
       "      <td>3.195147e+09</td>\n",
       "      <td>7.815936e+09</td>\n",
       "      <td>4.620789e+09</td>\n",
       "    </tr>\n",
       "    <tr>\n",
       "      <th>Fiji</th>\n",
       "      <td>2.981647e+09</td>\n",
       "      <td>483010130.0</td>\n",
       "      <td>4.093521e+09</td>\n",
       "      <td>2.411269e+09</td>\n",
       "      <td>4.135154e+08</td>\n",
       "      <td>3.878172e+09</td>\n",
       "      <td>1.038296e+10</td>\n",
       "      <td>6.504790e+09</td>\n",
       "    </tr>\n",
       "    <tr>\n",
       "      <th>Haiti</th>\n",
       "      <td>9.742686e+09</td>\n",
       "      <td>223696330.0</td>\n",
       "      <td>1.328215e+10</td>\n",
       "      <td>1.328215e+10</td>\n",
       "      <td>1.271568e+09</td>\n",
       "      <td>1.123795e+10</td>\n",
       "      <td>3.780226e+10</td>\n",
       "      <td>2.656431e+10</td>\n",
       "    </tr>\n",
       "    <tr>\n",
       "      <th>Jamaica</th>\n",
       "      <td>5.119131e+09</td>\n",
       "      <td>787424726.0</td>\n",
       "      <td>1.911046e+10</td>\n",
       "      <td>1.911046e+10</td>\n",
       "      <td>4.261407e+09</td>\n",
       "      <td>1.016796e+10</td>\n",
       "      <td>4.838888e+10</td>\n",
       "      <td>3.822092e+10</td>\n",
       "    </tr>\n",
       "    <tr>\n",
       "      <th>Kiribati</th>\n",
       "      <td>3.843400e+08</td>\n",
       "      <td>4982963.0</td>\n",
       "      <td>1.676833e+08</td>\n",
       "      <td>1.676833e+08</td>\n",
       "      <td>1.082715e+07</td>\n",
       "      <td>4.001501e+08</td>\n",
       "      <td>7.355168e+08</td>\n",
       "      <td>3.353667e+08</td>\n",
       "    </tr>\n",
       "    <tr>\n",
       "      <th>Marshall Islands</th>\n",
       "      <td>3.323244e+07</td>\n",
       "      <td>15285248.0</td>\n",
       "      <td>2.340167e+08</td>\n",
       "      <td>2.340167e+08</td>\n",
       "      <td>7.076137e+06</td>\n",
       "      <td>5.559382e+07</td>\n",
       "      <td>5.236272e+08</td>\n",
       "      <td>4.680333e+08</td>\n",
       "    </tr>\n",
       "    <tr>\n",
       "      <th>Micronesia, Fed. Sts.</th>\n",
       "      <td>1.575350e+08</td>\n",
       "      <td>20352430.0</td>\n",
       "      <td>2.881667e+08</td>\n",
       "      <td>2.881667e+08</td>\n",
       "      <td>1.600597e+07</td>\n",
       "      <td>1.938934e+08</td>\n",
       "      <td>7.702267e+08</td>\n",
       "      <td>5.763333e+08</td>\n",
       "    </tr>\n",
       "    <tr>\n",
       "      <th>Papua New Guinea</th>\n",
       "      <td>6.976123e+09</td>\n",
       "      <td>889191070.0</td>\n",
       "      <td>6.584833e+09</td>\n",
       "      <td>6.584833e+09</td>\n",
       "      <td>8.536102e+08</td>\n",
       "      <td>8.718925e+09</td>\n",
       "      <td>2.188859e+10</td>\n",
       "      <td>1.316967e+10</td>\n",
       "    </tr>\n",
       "    <tr>\n",
       "      <th>Samoa</th>\n",
       "      <td>9.025303e+08</td>\n",
       "      <td>47664858.0</td>\n",
       "      <td>3.579833e+08</td>\n",
       "      <td>3.579833e+08</td>\n",
       "      <td>7.177621e+07</td>\n",
       "      <td>1.021971e+09</td>\n",
       "      <td>1.737938e+09</td>\n",
       "      <td>7.159667e+08</td>\n",
       "    </tr>\n",
       "    <tr>\n",
       "      <th>Solomon Islands</th>\n",
       "      <td>5.905869e+08</td>\n",
       "      <td>27550125.0</td>\n",
       "      <td>5.097833e+08</td>\n",
       "      <td>5.097833e+08</td>\n",
       "      <td>5.018003e+07</td>\n",
       "      <td>6.683170e+08</td>\n",
       "      <td>1.687884e+09</td>\n",
       "      <td>1.019567e+09</td>\n",
       "    </tr>\n",
       "    <tr>\n",
       "      <th>St. Lucia</th>\n",
       "      <td>6.512612e+08</td>\n",
       "      <td>31402222.0</td>\n",
       "      <td>1.598723e+09</td>\n",
       "      <td>1.598723e+09</td>\n",
       "      <td>1.170611e+08</td>\n",
       "      <td>7.997245e+08</td>\n",
       "      <td>3.997170e+09</td>\n",
       "      <td>3.197446e+09</td>\n",
       "    </tr>\n",
       "    <tr>\n",
       "      <th>Tonga</th>\n",
       "      <td>5.739481e+08</td>\n",
       "      <td>15622726.0</td>\n",
       "      <td>4.208667e+08</td>\n",
       "      <td>4.208667e+08</td>\n",
       "      <td>3.286655e+07</td>\n",
       "      <td>6.224374e+08</td>\n",
       "      <td>1.464171e+09</td>\n",
       "      <td>8.417333e+08</td>\n",
       "    </tr>\n",
       "  </tbody>\n",
       "</table>\n",
       "</div>"
      ],
      "text/plain": [
       "                          transport        power  building_residential  \\\n",
       "Belize                 2.513105e+09  246783703.0          2.310395e+09   \n",
       "Fiji                   2.981647e+09  483010130.0          4.093521e+09   \n",
       "Haiti                  9.742686e+09  223696330.0          1.328215e+10   \n",
       "Jamaica                5.119131e+09  787424726.0          1.911046e+10   \n",
       "Kiribati               3.843400e+08    4982963.0          1.676833e+08   \n",
       "Marshall Islands       3.323244e+07   15285248.0          2.340167e+08   \n",
       "Micronesia, Fed. Sts.  1.575350e+08   20352430.0          2.881667e+08   \n",
       "Papua New Guinea       6.976123e+09  889191070.0          6.584833e+09   \n",
       "Samoa                  9.025303e+08   47664858.0          3.579833e+08   \n",
       "Solomon Islands        5.905869e+08   27550125.0          5.097833e+08   \n",
       "St. Lucia              6.512612e+08   31402222.0          1.598723e+09   \n",
       "Tonga                  5.739481e+08   15622726.0          4.208667e+08   \n",
       "\n",
       "                       building_non_residential         water         infra  \\\n",
       "Belize                             2.310395e+09  4.352581e+08  3.195147e+09   \n",
       "Fiji                               2.411269e+09  4.135154e+08  3.878172e+09   \n",
       "Haiti                              1.328215e+10  1.271568e+09  1.123795e+10   \n",
       "Jamaica                            1.911046e+10  4.261407e+09  1.016796e+10   \n",
       "Kiribati                           1.676833e+08  1.082715e+07  4.001501e+08   \n",
       "Marshall Islands                   2.340167e+08  7.076137e+06  5.559382e+07   \n",
       "Micronesia, Fed. Sts.              2.881667e+08  1.600597e+07  1.938934e+08   \n",
       "Papua New Guinea                   6.584833e+09  8.536102e+08  8.718925e+09   \n",
       "Samoa                              3.579833e+08  7.177621e+07  1.021971e+09   \n",
       "Solomon Islands                    5.097833e+08  5.018003e+07  6.683170e+08   \n",
       "St. Lucia                          1.598723e+09  1.170611e+08  7.997245e+08   \n",
       "Tonga                              4.208667e+08  3.286655e+07  6.224374e+08   \n",
       "\n",
       "                       infra_and_buildings     buildings  \n",
       "Belize                        7.815936e+09  4.620789e+09  \n",
       "Fiji                          1.038296e+10  6.504790e+09  \n",
       "Haiti                         3.780226e+10  2.656431e+10  \n",
       "Jamaica                       4.838888e+10  3.822092e+10  \n",
       "Kiribati                      7.355168e+08  3.353667e+08  \n",
       "Marshall Islands              5.236272e+08  4.680333e+08  \n",
       "Micronesia, Fed. Sts.         7.702267e+08  5.763333e+08  \n",
       "Papua New Guinea              2.188859e+10  1.316967e+10  \n",
       "Samoa                         1.737938e+09  7.159667e+08  \n",
       "Solomon Islands               1.687884e+09  1.019567e+09  \n",
       "St. Lucia                     3.997170e+09  3.197446e+09  \n",
       "Tonga                         1.464171e+09  8.417333e+08  "
      ]
     },
     "execution_count": 96,
     "metadata": {},
     "output_type": "execute_result"
    }
   ],
   "source": [
    "all_infra.dropna()"
   ]
  },
  {
   "cell_type": "markdown",
   "metadata": {},
   "source": [
    "## Read total capital data gathered in \"gather_capital_data\" and wb data gathered in \"download_wb_data\""
   ]
  },
  {
   "cell_type": "code",
   "execution_count": 97,
   "metadata": {
    "collapsed": false
   },
   "outputs": [],
   "source": [
    "K = pd.read_csv(\"intermediate/avg_prod_k_with_gar_for_sids.csv\",index_col=\"Unnamed: 0\")\n",
    "wb = pd.read_csv(\"inputs/wb_data.csv\",index_col=\"country\")"
   ]
  },
  {
   "cell_type": "code",
   "execution_count": 98,
   "metadata": {
    "collapsed": false
   },
   "outputs": [],
   "source": [
    "names_to_iso2 = pd.read_csv(\"inputs/names_to_iso.csv\", usecols=[\"iso2\",\"country\"]).drop_duplicates().set_index(\"country\").squeeze()\n",
    "wb[\"Ktot\"] = wb.gdp_pc_cd*wb['pop']/K.avg_prod_k\n",
    "wb[\"GDP\"] = wb.gdp_pc_cd*wb['pop']\n",
    "wb[\"avg_prod_k\"] = K.avg_prod_k\n",
    "wb['iso2'] = names_to_iso2\n"
   ]
  },
  {
   "cell_type": "markdown",
   "metadata": {},
   "source": [
    "## recomputes Ktot from WB GDP and average capital productivity"
   ]
  },
  {
   "cell_type": "code",
   "execution_count": 99,
   "metadata": {
    "collapsed": false
   },
   "outputs": [],
   "source": [
    "wb[\"Ktot\"] = wb.gdp_pc_cd*wb['pop']/K.avg_prod_k\n",
    "wb[\"GDP\"] = wb.gdp_pc_cd*wb['pop']"
   ]
  },
  {
   "cell_type": "code",
   "execution_count": 100,
   "metadata": {
    "collapsed": false
   },
   "outputs": [],
   "source": [
    "all_infra[['Ktot','GDP']] = wb[['Ktot','GDP']]\n",
    "aa = all_infra.dropna()"
   ]
  },
  {
   "cell_type": "code",
   "execution_count": 101,
   "metadata": {
    "collapsed": false
   },
   "outputs": [
    {
     "data": {
      "text/plain": [
       "Belize              1.185212\n",
       "Fiji                0.780363\n",
       "Haiti               0.628418\n",
       "Jamaica             0.700667\n",
       "Kiribati            1.259914\n",
       "Papua New Guinea    0.403335\n",
       "Solomon Islands     0.416853\n",
       "St. Lucia           1.148905\n",
       "Tonga               1.325876\n",
       "dtype: float64"
      ]
     },
     "execution_count": 101,
     "metadata": {},
     "output_type": "execute_result"
    }
   ],
   "source": [
    "aa.infra_and_buildings/aa.Ktot"
   ]
  },
  {
   "cell_type": "code",
   "execution_count": 102,
   "metadata": {
    "collapsed": false
   },
   "outputs": [],
   "source": [
    "shares_K = all_infra.multiply(1/all_infra.Ktot,axis=\"index\")\n",
    "shares_GDP = all_infra.multiply(1/all_infra.GDP,axis=\"index\")"
   ]
  },
  {
   "cell_type": "code",
   "execution_count": 104,
   "metadata": {
    "collapsed": false
   },
   "outputs": [],
   "source": [
    "shares_GDP[[\"transport\",\"power\",\"water\",\"buildings\"]].to_csv(\"infra_share_GDP_MER.csv\")"
   ]
  },
  {
   "cell_type": "code",
   "execution_count": 105,
   "metadata": {
    "collapsed": false
   },
   "outputs": [],
   "source": [
    "pp = all_infra[['transport','Ktot','GDP']].dropna()"
   ]
  },
  {
   "cell_type": "code",
   "execution_count": 106,
   "metadata": {
    "collapsed": true
   },
   "outputs": [],
   "source": [
    "pp['transport_pc_K'] = pp.transport/pp.Ktot\n",
    "pp['transport_pc_gdp'] = pp.transport/pp.GDP"
   ]
  },
  {
   "cell_type": "code",
   "execution_count": 107,
   "metadata": {
    "collapsed": false
   },
   "outputs": [
    {
     "data": {
      "text/html": [
       "<div>\n",
       "<table border=\"1\" class=\"dataframe\">\n",
       "  <thead>\n",
       "    <tr style=\"text-align: right;\">\n",
       "      <th></th>\n",
       "      <th>transport</th>\n",
       "      <th>Ktot</th>\n",
       "      <th>GDP</th>\n",
       "      <th>transport_pc_K</th>\n",
       "      <th>transport_pc_gdp</th>\n",
       "    </tr>\n",
       "  </thead>\n",
       "  <tbody>\n",
       "    <tr>\n",
       "      <th>Antigua and Barbuda</th>\n",
       "      <td>4.662181e+08</td>\n",
       "      <td>7.371866e+09</td>\n",
       "      <td>1.449160e+09</td>\n",
       "      <td>0.063243</td>\n",
       "      <td>0.321716</td>\n",
       "    </tr>\n",
       "    <tr>\n",
       "      <th>Bahamas, The</th>\n",
       "      <td>2.480946e+09</td>\n",
       "      <td>5.078488e+10</td>\n",
       "      <td>9.047000e+09</td>\n",
       "      <td>0.048852</td>\n",
       "      <td>0.274229</td>\n",
       "    </tr>\n",
       "    <tr>\n",
       "      <th>Barbados</th>\n",
       "      <td>9.070417e+08</td>\n",
       "      <td>1.524207e+10</td>\n",
       "      <td>4.587550e+09</td>\n",
       "      <td>0.059509</td>\n",
       "      <td>0.197718</td>\n",
       "    </tr>\n",
       "    <tr>\n",
       "      <th>Belize</th>\n",
       "      <td>2.513105e+09</td>\n",
       "      <td>6.594545e+09</td>\n",
       "      <td>1.765256e+09</td>\n",
       "      <td>0.381088</td>\n",
       "      <td>1.423649</td>\n",
       "    </tr>\n",
       "    <tr>\n",
       "      <th>Bermuda</th>\n",
       "      <td>2.367476e+08</td>\n",
       "      <td>3.009187e+10</td>\n",
       "      <td>5.602007e+09</td>\n",
       "      <td>0.007867</td>\n",
       "      <td>0.042261</td>\n",
       "    </tr>\n",
       "    <tr>\n",
       "      <th>Cuba</th>\n",
       "      <td>2.442253e+10</td>\n",
       "      <td>2.236503e+11</td>\n",
       "      <td>8.724341e+10</td>\n",
       "      <td>0.109200</td>\n",
       "      <td>0.279935</td>\n",
       "    </tr>\n",
       "    <tr>\n",
       "      <th>Dominica</th>\n",
       "      <td>4.304822e+08</td>\n",
       "      <td>2.110774e+09</td>\n",
       "      <td>5.254246e+08</td>\n",
       "      <td>0.203945</td>\n",
       "      <td>0.819304</td>\n",
       "    </tr>\n",
       "    <tr>\n",
       "      <th>Dominican Republic</th>\n",
       "      <td>1.065118e+10</td>\n",
       "      <td>2.387625e+11</td>\n",
       "      <td>7.158355e+10</td>\n",
       "      <td>0.044610</td>\n",
       "      <td>0.148794</td>\n",
       "    </tr>\n",
       "    <tr>\n",
       "      <th>Fiji</th>\n",
       "      <td>2.981647e+09</td>\n",
       "      <td>1.330530e+10</td>\n",
       "      <td>4.631626e+09</td>\n",
       "      <td>0.224095</td>\n",
       "      <td>0.643758</td>\n",
       "    </tr>\n",
       "    <tr>\n",
       "      <th>Haiti</th>\n",
       "      <td>9.742686e+09</td>\n",
       "      <td>6.015462e+10</td>\n",
       "      <td>8.022639e+09</td>\n",
       "      <td>0.161961</td>\n",
       "      <td>1.214399</td>\n",
       "    </tr>\n",
       "    <tr>\n",
       "      <th>Jamaica</th>\n",
       "      <td>5.119131e+09</td>\n",
       "      <td>6.906113e+10</td>\n",
       "      <td>1.402715e+10</td>\n",
       "      <td>0.074125</td>\n",
       "      <td>0.364944</td>\n",
       "    </tr>\n",
       "    <tr>\n",
       "      <th>Kiribati</th>\n",
       "      <td>3.843400e+08</td>\n",
       "      <td>5.837833e+08</td>\n",
       "      <td>1.657650e+08</td>\n",
       "      <td>0.658361</td>\n",
       "      <td>2.318583</td>\n",
       "    </tr>\n",
       "    <tr>\n",
       "      <th>Maldives</th>\n",
       "      <td>3.532521e+08</td>\n",
       "      <td>1.162196e+10</td>\n",
       "      <td>3.591113e+09</td>\n",
       "      <td>0.030395</td>\n",
       "      <td>0.098368</td>\n",
       "    </tr>\n",
       "    <tr>\n",
       "      <th>Mauritius</th>\n",
       "      <td>1.900132e+09</td>\n",
       "      <td>4.505436e+10</td>\n",
       "      <td>1.216421e+10</td>\n",
       "      <td>0.042174</td>\n",
       "      <td>0.156207</td>\n",
       "    </tr>\n",
       "    <tr>\n",
       "      <th>Papua New Guinea</th>\n",
       "      <td>6.976123e+09</td>\n",
       "      <td>5.426895e+10</td>\n",
       "      <td>1.764724e+10</td>\n",
       "      <td>0.128547</td>\n",
       "      <td>0.395310</td>\n",
       "    </tr>\n",
       "    <tr>\n",
       "      <th>Sao Tome and Principe</th>\n",
       "      <td>3.252415e+08</td>\n",
       "      <td>2.398816e+09</td>\n",
       "      <td>3.510542e+08</td>\n",
       "      <td>0.135584</td>\n",
       "      <td>0.926471</td>\n",
       "    </tr>\n",
       "    <tr>\n",
       "      <th>Seychelles</th>\n",
       "      <td>1.680563e+08</td>\n",
       "      <td>6.530949e+09</td>\n",
       "      <td>1.427324e+09</td>\n",
       "      <td>0.025732</td>\n",
       "      <td>0.117742</td>\n",
       "    </tr>\n",
       "    <tr>\n",
       "      <th>Solomon Islands</th>\n",
       "      <td>5.905869e+08</td>\n",
       "      <td>4.049113e+09</td>\n",
       "      <td>1.202125e+09</td>\n",
       "      <td>0.145856</td>\n",
       "      <td>0.491286</td>\n",
       "    </tr>\n",
       "    <tr>\n",
       "      <th>St. Lucia</th>\n",
       "      <td>6.512612e+08</td>\n",
       "      <td>3.479114e+09</td>\n",
       "      <td>1.378627e+09</td>\n",
       "      <td>0.187192</td>\n",
       "      <td>0.472398</td>\n",
       "    </tr>\n",
       "    <tr>\n",
       "      <th>St. Vincent and the Grenadines</th>\n",
       "      <td>2.745274e+08</td>\n",
       "      <td>5.782733e+09</td>\n",
       "      <td>7.707966e+08</td>\n",
       "      <td>0.047474</td>\n",
       "      <td>0.356161</td>\n",
       "    </tr>\n",
       "    <tr>\n",
       "      <th>Timor-Leste</th>\n",
       "      <td>1.857728e+09</td>\n",
       "      <td>1.142974e+10</td>\n",
       "      <td>1.473892e+09</td>\n",
       "      <td>0.162535</td>\n",
       "      <td>1.260423</td>\n",
       "    </tr>\n",
       "    <tr>\n",
       "      <th>Tonga</th>\n",
       "      <td>5.739481e+08</td>\n",
       "      <td>1.104304e+09</td>\n",
       "      <td>3.951596e+08</td>\n",
       "      <td>0.519737</td>\n",
       "      <td>1.452446</td>\n",
       "    </tr>\n",
       "    <tr>\n",
       "      <th>Trinidad and Tobago</th>\n",
       "      <td>3.843765e+09</td>\n",
       "      <td>5.850528e+10</td>\n",
       "      <td>2.098916e+10</td>\n",
       "      <td>0.065699</td>\n",
       "      <td>0.183131</td>\n",
       "    </tr>\n",
       "  </tbody>\n",
       "</table>\n",
       "</div>"
      ],
      "text/plain": [
       "                                   transport          Ktot           GDP  \\\n",
       "Antigua and Barbuda             4.662181e+08  7.371866e+09  1.449160e+09   \n",
       "Bahamas, The                    2.480946e+09  5.078488e+10  9.047000e+09   \n",
       "Barbados                        9.070417e+08  1.524207e+10  4.587550e+09   \n",
       "Belize                          2.513105e+09  6.594545e+09  1.765256e+09   \n",
       "Bermuda                         2.367476e+08  3.009187e+10  5.602007e+09   \n",
       "Cuba                            2.442253e+10  2.236503e+11  8.724341e+10   \n",
       "Dominica                        4.304822e+08  2.110774e+09  5.254246e+08   \n",
       "Dominican Republic              1.065118e+10  2.387625e+11  7.158355e+10   \n",
       "Fiji                            2.981647e+09  1.330530e+10  4.631626e+09   \n",
       "Haiti                           9.742686e+09  6.015462e+10  8.022639e+09   \n",
       "Jamaica                         5.119131e+09  6.906113e+10  1.402715e+10   \n",
       "Kiribati                        3.843400e+08  5.837833e+08  1.657650e+08   \n",
       "Maldives                        3.532521e+08  1.162196e+10  3.591113e+09   \n",
       "Mauritius                       1.900132e+09  4.505436e+10  1.216421e+10   \n",
       "Papua New Guinea                6.976123e+09  5.426895e+10  1.764724e+10   \n",
       "Sao Tome and Principe           3.252415e+08  2.398816e+09  3.510542e+08   \n",
       "Seychelles                      1.680563e+08  6.530949e+09  1.427324e+09   \n",
       "Solomon Islands                 5.905869e+08  4.049113e+09  1.202125e+09   \n",
       "St. Lucia                       6.512612e+08  3.479114e+09  1.378627e+09   \n",
       "St. Vincent and the Grenadines  2.745274e+08  5.782733e+09  7.707966e+08   \n",
       "Timor-Leste                     1.857728e+09  1.142974e+10  1.473892e+09   \n",
       "Tonga                           5.739481e+08  1.104304e+09  3.951596e+08   \n",
       "Trinidad and Tobago             3.843765e+09  5.850528e+10  2.098916e+10   \n",
       "\n",
       "                                transport_pc_K  transport_pc_gdp  \n",
       "Antigua and Barbuda                   0.063243          0.321716  \n",
       "Bahamas, The                          0.048852          0.274229  \n",
       "Barbados                              0.059509          0.197718  \n",
       "Belize                                0.381088          1.423649  \n",
       "Bermuda                               0.007867          0.042261  \n",
       "Cuba                                  0.109200          0.279935  \n",
       "Dominica                              0.203945          0.819304  \n",
       "Dominican Republic                    0.044610          0.148794  \n",
       "Fiji                                  0.224095          0.643758  \n",
       "Haiti                                 0.161961          1.214399  \n",
       "Jamaica                               0.074125          0.364944  \n",
       "Kiribati                              0.658361          2.318583  \n",
       "Maldives                              0.030395          0.098368  \n",
       "Mauritius                             0.042174          0.156207  \n",
       "Papua New Guinea                      0.128547          0.395310  \n",
       "Sao Tome and Principe                 0.135584          0.926471  \n",
       "Seychelles                            0.025732          0.117742  \n",
       "Solomon Islands                       0.145856          0.491286  \n",
       "St. Lucia                             0.187192          0.472398  \n",
       "St. Vincent and the Grenadines        0.047474          0.356161  \n",
       "Timor-Leste                           0.162535          1.260423  \n",
       "Tonga                                 0.519737          1.452446  \n",
       "Trinidad and Tobago                   0.065699          0.183131  "
      ]
     },
     "execution_count": 107,
     "metadata": {},
     "output_type": "execute_result"
    }
   ],
   "source": [
    "pp"
   ]
  },
  {
   "cell_type": "code",
   "execution_count": null,
   "metadata": {
    "collapsed": true
   },
   "outputs": [],
   "source": []
  }
 ],
 "metadata": {
  "kernelspec": {
   "display_name": "Python [conda root]",
   "language": "python",
   "name": "conda-root-py"
  },
  "language_info": {
   "codemirror_mode": {
    "name": "ipython",
    "version": 3
   },
   "file_extension": ".py",
   "mimetype": "text/x-python",
   "name": "python",
   "nbconvert_exporter": "python",
   "pygments_lexer": "ipython3",
   "version": "3.5.2"
  },
  "toc": {
   "colors": {
    "hover_highlight": "#DAA520",
    "navigate_num": "#000000",
    "navigate_text": "#333333",
    "running_highlight": "#FF0000",
    "selected_highlight": "#FFD700",
    "sidebar_border": "#EEEEEE",
    "wrapper_background": "#FFFFFF"
   },
   "moveMenuLeft": true,
   "nav_menu": {
    "height": "30px",
    "width": "252px"
   },
   "navigate_menu": true,
   "number_sections": true,
   "sideBar": true,
   "threshold": 4,
   "toc_cell": false,
   "toc_section_display": "block",
   "toc_window_display": false,
   "widenNotebook": false
  }
 },
 "nbformat": 4,
 "nbformat_minor": 2
}
