{
 "cells": [
  {
   "cell_type": "code",
   "execution_count": 1,
   "metadata": {
    "collapsed": true
   },
   "outputs": [],
   "source": [
    "import pandas as pd\n",
    "import numpy as np\n",
    "import matplotlib.pyplot as plt\n",
    "import prim\n",
    "import seaborn as sns\n",
    "from sklearn import mixture"
   ]
  },
  {
   "cell_type": "code",
   "execution_count": 2,
   "metadata": {
    "collapsed": true
   },
   "outputs": [],
   "source": [
    "%matplotlib inline"
   ]
  },
  {
   "cell_type": "code",
   "execution_count": 3,
   "metadata": {
    "collapsed": true
   },
   "outputs": [],
   "source": [
    "sns.set_context(\"poster\",rc={\"font.size\": 28})\n",
    "sns.set_style(\"whitegrid\")"
   ]
  },
  {
   "cell_type": "markdown",
   "metadata": {},
   "source": [
    "## Prepare data"
   ]
  },
  {
   "cell_type": "code",
   "execution_count": 89,
   "metadata": {
    "collapsed": true
   },
   "outputs": [],
   "source": [
    "data = pd.read_excel(\"C:\\\\Users\\\\WB451855\\\\OneDrive - WBG\\\\!infra_needs_data\\\\energy_kth_output_data\\\\SAMBA scenario results all runs_revised CO2 limit.xlsx\",\"Capital inv variable and fixed\")"
   ]
  },
  {
   "cell_type": "code",
   "execution_count": 90,
   "metadata": {},
   "outputs": [],
   "source": [
    "gdp = pd.read_excel(\"C:\\\\Users\\\\WB451855\\\\OneDrive - WBG\\\\!infra_needs_data\\\\energy_kth_output_data\\\\GDPs.xlsx\")"
   ]
  },
  {
   "cell_type": "markdown",
   "metadata": {},
   "source": [
    "### Sets up the GDP data (sums for the region and puts years in columns)"
   ]
  },
  {
   "cell_type": "code",
   "execution_count": 91,
   "metadata": {},
   "outputs": [],
   "source": [
    "gdp1 = gdp.loc[gdp.Parameter==\"GDP billion USD\",:].set_index([\"Scenario\",\"Country\"]).drop(\"Parameter\",axis=1)"
   ]
  },
  {
   "cell_type": "code",
   "execution_count": 92,
   "metadata": {},
   "outputs": [],
   "source": [
    "gdp1.columns.name='year'"
   ]
  },
  {
   "cell_type": "code",
   "execution_count": 93,
   "metadata": {
    "collapsed": true
   },
   "outputs": [],
   "source": [
    "gdp2 = gdp1.stack()"
   ]
  },
  {
   "cell_type": "code",
   "execution_count": 94,
   "metadata": {},
   "outputs": [],
   "source": [
    "reg_gdp = gdp2.sum(level=[\"Scenario\",\"year\"])"
   ]
  },
  {
   "cell_type": "code",
   "execution_count": 95,
   "metadata": {},
   "outputs": [],
   "source": [
    "reg_gdp.name=\"gdp\""
   ]
  },
  {
   "cell_type": "code",
   "execution_count": 96,
   "metadata": {},
   "outputs": [],
   "source": [
    "reg_gdp = reg_gdp.reset_index()"
   ]
  },
  {
   "cell_type": "markdown",
   "metadata": {},
   "source": [
    "SSP3 is the lowest demand, SSP2 the medium demand and SSP1 the highest demand"
   ]
  },
  {
   "cell_type": "code",
   "execution_count": 97,
   "metadata": {},
   "outputs": [],
   "source": [
    "reg_gdp[\"DMD\"] = reg_gdp.Scenario.replace({\"SSP3\":1,\"SSP2\":2,\"SSP1\":3})"
   ]
  },
  {
   "cell_type": "markdown",
   "metadata": {},
   "source": [
    "### sets up the investment data"
   ]
  },
  {
   "cell_type": "code",
   "execution_count": 98,
   "metadata": {
    "collapsed": true
   },
   "outputs": [],
   "source": [
    "data = data.set_index(['DMD', 'FUEL', 'CC RE', 'DR', 'CO2', 'CC', 'Parameter (million USD)'])\n",
    "data.columns.name = 'year'"
   ]
  },
  {
   "cell_type": "code",
   "execution_count": 99,
   "metadata": {
    "collapsed": true
   },
   "outputs": [],
   "source": [
    "data = data.stack('year')\n",
    "data.name = 'value'"
   ]
  },
  {
   "cell_type": "code",
   "execution_count": 100,
   "metadata": {},
   "outputs": [],
   "source": [
    "data = data.reset_index()\n",
    "data['year'] = data.year.astype(\"int64\")"
   ]
  },
  {
   "cell_type": "markdown",
   "metadata": {},
   "source": [
    "### Merge GDP and investment data and divide investment value by GDP"
   ]
  },
  {
   "cell_type": "code",
   "execution_count": 101,
   "metadata": {},
   "outputs": [],
   "source": [
    "bigger_data = reg_gdp.merge(data,on=['DMD','year'],how='outer')"
   ]
  },
  {
   "cell_type": "code",
   "execution_count": 102,
   "metadata": {
    "collapsed": true
   },
   "outputs": [],
   "source": [
    "bigger_data[\"divided_by_gdp\"] = 10**(-3)*bigger_data.value/bigger_data.gdp"
   ]
  },
  {
   "cell_type": "code",
   "execution_count": 103,
   "metadata": {},
   "outputs": [
    {
     "data": {
      "text/plain": [
       "count    36936.000000\n",
       "mean         0.032642\n",
       "std          0.023767\n",
       "min          0.000047\n",
       "25%          0.012503\n",
       "50%          0.025905\n",
       "75%          0.047214\n",
       "max          0.207127\n",
       "Name: divided_by_gdp, dtype: float64"
      ]
     },
     "execution_count": 103,
     "metadata": {},
     "output_type": "execute_result"
    }
   ],
   "source": [
    "bigger_data.divided_by_gdp.describe()"
   ]
  },
  {
   "cell_type": "markdown",
   "metadata": {},
   "source": [
    "after 2025 capital investments are more than 10% of GDP in all scenarios!!"
   ]
  },
  {
   "cell_type": "code",
   "execution_count": 104,
   "metadata": {},
   "outputs": [
    {
     "data": {
      "text/html": [
       "<div>\n",
       "<style>\n",
       "    .dataframe thead tr:only-child th {\n",
       "        text-align: right;\n",
       "    }\n",
       "\n",
       "    .dataframe thead th {\n",
       "        text-align: left;\n",
       "    }\n",
       "\n",
       "    .dataframe tbody tr th {\n",
       "        vertical-align: top;\n",
       "    }\n",
       "</style>\n",
       "<table border=\"1\" class=\"dataframe\">\n",
       "  <thead>\n",
       "    <tr style=\"text-align: right;\">\n",
       "      <th></th>\n",
       "      <th>Scenario</th>\n",
       "      <th>year</th>\n",
       "      <th>gdp</th>\n",
       "      <th>DMD</th>\n",
       "      <th>FUEL</th>\n",
       "      <th>CC RE</th>\n",
       "      <th>DR</th>\n",
       "      <th>CO2</th>\n",
       "      <th>CC</th>\n",
       "      <th>Parameter (million USD)</th>\n",
       "      <th>value</th>\n",
       "      <th>divided_by_gdp</th>\n",
       "    </tr>\n",
       "  </thead>\n",
       "  <tbody>\n",
       "    <tr>\n",
       "      <th>4034</th>\n",
       "      <td>SSP1</td>\n",
       "      <td>2025</td>\n",
       "      <td>753.094740</td>\n",
       "      <td>3</td>\n",
       "      <td>1</td>\n",
       "      <td>3</td>\n",
       "      <td>3</td>\n",
       "      <td>1</td>\n",
       "      <td>1</td>\n",
       "      <td>CapitalInvestment</td>\n",
       "      <td>75482.422119</td>\n",
       "      <td>0.100230</td>\n",
       "    </tr>\n",
       "    <tr>\n",
       "      <th>4037</th>\n",
       "      <td>SSP1</td>\n",
       "      <td>2025</td>\n",
       "      <td>753.094740</td>\n",
       "      <td>3</td>\n",
       "      <td>1</td>\n",
       "      <td>3</td>\n",
       "      <td>3</td>\n",
       "      <td>1</td>\n",
       "      <td>2</td>\n",
       "      <td>CapitalInvestment</td>\n",
       "      <td>75482.422119</td>\n",
       "      <td>0.100230</td>\n",
       "    </tr>\n",
       "    <tr>\n",
       "      <th>4682</th>\n",
       "      <td>SSP1</td>\n",
       "      <td>2027</td>\n",
       "      <td>808.304244</td>\n",
       "      <td>3</td>\n",
       "      <td>1</td>\n",
       "      <td>3</td>\n",
       "      <td>3</td>\n",
       "      <td>1</td>\n",
       "      <td>1</td>\n",
       "      <td>CapitalInvestment</td>\n",
       "      <td>81537.630242</td>\n",
       "      <td>0.100875</td>\n",
       "    </tr>\n",
       "    <tr>\n",
       "      <th>4685</th>\n",
       "      <td>SSP1</td>\n",
       "      <td>2027</td>\n",
       "      <td>808.304244</td>\n",
       "      <td>3</td>\n",
       "      <td>1</td>\n",
       "      <td>3</td>\n",
       "      <td>3</td>\n",
       "      <td>1</td>\n",
       "      <td>2</td>\n",
       "      <td>CapitalInvestment</td>\n",
       "      <td>81537.630242</td>\n",
       "      <td>0.100875</td>\n",
       "    </tr>\n",
       "    <tr>\n",
       "      <th>4844</th>\n",
       "      <td>SSP1</td>\n",
       "      <td>2027</td>\n",
       "      <td>808.304244</td>\n",
       "      <td>3</td>\n",
       "      <td>3</td>\n",
       "      <td>3</td>\n",
       "      <td>3</td>\n",
       "      <td>1</td>\n",
       "      <td>1</td>\n",
       "      <td>CapitalInvestment</td>\n",
       "      <td>82030.008028</td>\n",
       "      <td>0.101484</td>\n",
       "    </tr>\n",
       "    <tr>\n",
       "      <th>4847</th>\n",
       "      <td>SSP1</td>\n",
       "      <td>2027</td>\n",
       "      <td>808.304244</td>\n",
       "      <td>3</td>\n",
       "      <td>3</td>\n",
       "      <td>3</td>\n",
       "      <td>3</td>\n",
       "      <td>1</td>\n",
       "      <td>2</td>\n",
       "      <td>CapitalInvestment</td>\n",
       "      <td>82030.008028</td>\n",
       "      <td>0.101484</td>\n",
       "    </tr>\n",
       "    <tr>\n",
       "      <th>5006</th>\n",
       "      <td>SSP1</td>\n",
       "      <td>2028</td>\n",
       "      <td>837.408724</td>\n",
       "      <td>3</td>\n",
       "      <td>1</td>\n",
       "      <td>3</td>\n",
       "      <td>3</td>\n",
       "      <td>1</td>\n",
       "      <td>1</td>\n",
       "      <td>CapitalInvestment</td>\n",
       "      <td>90904.082910</td>\n",
       "      <td>0.108554</td>\n",
       "    </tr>\n",
       "    <tr>\n",
       "      <th>5009</th>\n",
       "      <td>SSP1</td>\n",
       "      <td>2028</td>\n",
       "      <td>837.408724</td>\n",
       "      <td>3</td>\n",
       "      <td>1</td>\n",
       "      <td>3</td>\n",
       "      <td>3</td>\n",
       "      <td>1</td>\n",
       "      <td>2</td>\n",
       "      <td>CapitalInvestment</td>\n",
       "      <td>90904.082910</td>\n",
       "      <td>0.108554</td>\n",
       "    </tr>\n",
       "    <tr>\n",
       "      <th>5168</th>\n",
       "      <td>SSP1</td>\n",
       "      <td>2028</td>\n",
       "      <td>837.408724</td>\n",
       "      <td>3</td>\n",
       "      <td>3</td>\n",
       "      <td>3</td>\n",
       "      <td>3</td>\n",
       "      <td>1</td>\n",
       "      <td>1</td>\n",
       "      <td>CapitalInvestment</td>\n",
       "      <td>90596.895548</td>\n",
       "      <td>0.108187</td>\n",
       "    </tr>\n",
       "    <tr>\n",
       "      <th>5171</th>\n",
       "      <td>SSP1</td>\n",
       "      <td>2028</td>\n",
       "      <td>837.408724</td>\n",
       "      <td>3</td>\n",
       "      <td>3</td>\n",
       "      <td>3</td>\n",
       "      <td>3</td>\n",
       "      <td>1</td>\n",
       "      <td>2</td>\n",
       "      <td>CapitalInvestment</td>\n",
       "      <td>90596.895548</td>\n",
       "      <td>0.108187</td>\n",
       "    </tr>\n",
       "    <tr>\n",
       "      <th>5276</th>\n",
       "      <td>SSP1</td>\n",
       "      <td>2029</td>\n",
       "      <td>867.561165</td>\n",
       "      <td>3</td>\n",
       "      <td>1</td>\n",
       "      <td>2</td>\n",
       "      <td>3</td>\n",
       "      <td>1</td>\n",
       "      <td>1</td>\n",
       "      <td>CapitalInvestment</td>\n",
       "      <td>87409.034270</td>\n",
       "      <td>0.100753</td>\n",
       "    </tr>\n",
       "    <tr>\n",
       "      <th>5279</th>\n",
       "      <td>SSP1</td>\n",
       "      <td>2029</td>\n",
       "      <td>867.561165</td>\n",
       "      <td>3</td>\n",
       "      <td>1</td>\n",
       "      <td>2</td>\n",
       "      <td>3</td>\n",
       "      <td>1</td>\n",
       "      <td>2</td>\n",
       "      <td>CapitalInvestment</td>\n",
       "      <td>87409.034270</td>\n",
       "      <td>0.100753</td>\n",
       "    </tr>\n",
       "    <tr>\n",
       "      <th>5330</th>\n",
       "      <td>SSP1</td>\n",
       "      <td>2029</td>\n",
       "      <td>867.561165</td>\n",
       "      <td>3</td>\n",
       "      <td>1</td>\n",
       "      <td>3</td>\n",
       "      <td>3</td>\n",
       "      <td>1</td>\n",
       "      <td>1</td>\n",
       "      <td>CapitalInvestment</td>\n",
       "      <td>97912.703477</td>\n",
       "      <td>0.112860</td>\n",
       "    </tr>\n",
       "    <tr>\n",
       "      <th>5333</th>\n",
       "      <td>SSP1</td>\n",
       "      <td>2029</td>\n",
       "      <td>867.561165</td>\n",
       "      <td>3</td>\n",
       "      <td>1</td>\n",
       "      <td>3</td>\n",
       "      <td>3</td>\n",
       "      <td>1</td>\n",
       "      <td>2</td>\n",
       "      <td>CapitalInvestment</td>\n",
       "      <td>97912.703477</td>\n",
       "      <td>0.112860</td>\n",
       "    </tr>\n",
       "    <tr>\n",
       "      <th>5438</th>\n",
       "      <td>SSP1</td>\n",
       "      <td>2029</td>\n",
       "      <td>867.561165</td>\n",
       "      <td>3</td>\n",
       "      <td>3</td>\n",
       "      <td>2</td>\n",
       "      <td>3</td>\n",
       "      <td>1</td>\n",
       "      <td>1</td>\n",
       "      <td>CapitalInvestment</td>\n",
       "      <td>88325.497374</td>\n",
       "      <td>0.101809</td>\n",
       "    </tr>\n",
       "    <tr>\n",
       "      <th>5441</th>\n",
       "      <td>SSP1</td>\n",
       "      <td>2029</td>\n",
       "      <td>867.561165</td>\n",
       "      <td>3</td>\n",
       "      <td>3</td>\n",
       "      <td>2</td>\n",
       "      <td>3</td>\n",
       "      <td>1</td>\n",
       "      <td>2</td>\n",
       "      <td>CapitalInvestment</td>\n",
       "      <td>88325.497374</td>\n",
       "      <td>0.101809</td>\n",
       "    </tr>\n",
       "    <tr>\n",
       "      <th>5492</th>\n",
       "      <td>SSP1</td>\n",
       "      <td>2029</td>\n",
       "      <td>867.561165</td>\n",
       "      <td>3</td>\n",
       "      <td>3</td>\n",
       "      <td>3</td>\n",
       "      <td>3</td>\n",
       "      <td>1</td>\n",
       "      <td>1</td>\n",
       "      <td>CapitalInvestment</td>\n",
       "      <td>98535.260827</td>\n",
       "      <td>0.113577</td>\n",
       "    </tr>\n",
       "    <tr>\n",
       "      <th>5495</th>\n",
       "      <td>SSP1</td>\n",
       "      <td>2029</td>\n",
       "      <td>867.561165</td>\n",
       "      <td>3</td>\n",
       "      <td>3</td>\n",
       "      <td>3</td>\n",
       "      <td>3</td>\n",
       "      <td>1</td>\n",
       "      <td>2</td>\n",
       "      <td>CapitalInvestment</td>\n",
       "      <td>98535.260827</td>\n",
       "      <td>0.113577</td>\n",
       "    </tr>\n",
       "    <tr>\n",
       "      <th>5978</th>\n",
       "      <td>SSP1</td>\n",
       "      <td>2031</td>\n",
       "      <td>929.420316</td>\n",
       "      <td>3</td>\n",
       "      <td>1</td>\n",
       "      <td>3</td>\n",
       "      <td>3</td>\n",
       "      <td>1</td>\n",
       "      <td>1</td>\n",
       "      <td>CapitalInvestment</td>\n",
       "      <td>104219.042445</td>\n",
       "      <td>0.112133</td>\n",
       "    </tr>\n",
       "    <tr>\n",
       "      <th>5981</th>\n",
       "      <td>SSP1</td>\n",
       "      <td>2031</td>\n",
       "      <td>929.420316</td>\n",
       "      <td>3</td>\n",
       "      <td>1</td>\n",
       "      <td>3</td>\n",
       "      <td>3</td>\n",
       "      <td>1</td>\n",
       "      <td>2</td>\n",
       "      <td>CapitalInvestment</td>\n",
       "      <td>104219.042445</td>\n",
       "      <td>0.112133</td>\n",
       "    </tr>\n",
       "    <tr>\n",
       "      <th>6140</th>\n",
       "      <td>SSP1</td>\n",
       "      <td>2031</td>\n",
       "      <td>929.420316</td>\n",
       "      <td>3</td>\n",
       "      <td>3</td>\n",
       "      <td>3</td>\n",
       "      <td>3</td>\n",
       "      <td>1</td>\n",
       "      <td>1</td>\n",
       "      <td>CapitalInvestment</td>\n",
       "      <td>104028.610450</td>\n",
       "      <td>0.111928</td>\n",
       "    </tr>\n",
       "    <tr>\n",
       "      <th>6143</th>\n",
       "      <td>SSP1</td>\n",
       "      <td>2031</td>\n",
       "      <td>929.420316</td>\n",
       "      <td>3</td>\n",
       "      <td>3</td>\n",
       "      <td>3</td>\n",
       "      <td>3</td>\n",
       "      <td>1</td>\n",
       "      <td>2</td>\n",
       "      <td>CapitalInvestment</td>\n",
       "      <td>104028.610450</td>\n",
       "      <td>0.111928</td>\n",
       "    </tr>\n",
       "    <tr>\n",
       "      <th>6248</th>\n",
       "      <td>SSP1</td>\n",
       "      <td>2032</td>\n",
       "      <td>961.084553</td>\n",
       "      <td>3</td>\n",
       "      <td>1</td>\n",
       "      <td>2</td>\n",
       "      <td>3</td>\n",
       "      <td>1</td>\n",
       "      <td>1</td>\n",
       "      <td>CapitalInvestment</td>\n",
       "      <td>97731.848430</td>\n",
       "      <td>0.101689</td>\n",
       "    </tr>\n",
       "    <tr>\n",
       "      <th>6251</th>\n",
       "      <td>SSP1</td>\n",
       "      <td>2032</td>\n",
       "      <td>961.084553</td>\n",
       "      <td>3</td>\n",
       "      <td>1</td>\n",
       "      <td>2</td>\n",
       "      <td>3</td>\n",
       "      <td>1</td>\n",
       "      <td>2</td>\n",
       "      <td>CapitalInvestment</td>\n",
       "      <td>97731.848430</td>\n",
       "      <td>0.101689</td>\n",
       "    </tr>\n",
       "    <tr>\n",
       "      <th>6302</th>\n",
       "      <td>SSP1</td>\n",
       "      <td>2032</td>\n",
       "      <td>961.084553</td>\n",
       "      <td>3</td>\n",
       "      <td>1</td>\n",
       "      <td>3</td>\n",
       "      <td>3</td>\n",
       "      <td>1</td>\n",
       "      <td>1</td>\n",
       "      <td>CapitalInvestment</td>\n",
       "      <td>115604.947442</td>\n",
       "      <td>0.120286</td>\n",
       "    </tr>\n",
       "    <tr>\n",
       "      <th>6305</th>\n",
       "      <td>SSP1</td>\n",
       "      <td>2032</td>\n",
       "      <td>961.084553</td>\n",
       "      <td>3</td>\n",
       "      <td>1</td>\n",
       "      <td>3</td>\n",
       "      <td>3</td>\n",
       "      <td>1</td>\n",
       "      <td>2</td>\n",
       "      <td>CapitalInvestment</td>\n",
       "      <td>115604.947442</td>\n",
       "      <td>0.120286</td>\n",
       "    </tr>\n",
       "    <tr>\n",
       "      <th>6410</th>\n",
       "      <td>SSP1</td>\n",
       "      <td>2032</td>\n",
       "      <td>961.084553</td>\n",
       "      <td>3</td>\n",
       "      <td>3</td>\n",
       "      <td>2</td>\n",
       "      <td>3</td>\n",
       "      <td>1</td>\n",
       "      <td>1</td>\n",
       "      <td>CapitalInvestment</td>\n",
       "      <td>97293.035289</td>\n",
       "      <td>0.101233</td>\n",
       "    </tr>\n",
       "    <tr>\n",
       "      <th>6413</th>\n",
       "      <td>SSP1</td>\n",
       "      <td>2032</td>\n",
       "      <td>961.084553</td>\n",
       "      <td>3</td>\n",
       "      <td>3</td>\n",
       "      <td>2</td>\n",
       "      <td>3</td>\n",
       "      <td>1</td>\n",
       "      <td>2</td>\n",
       "      <td>CapitalInvestment</td>\n",
       "      <td>97293.035289</td>\n",
       "      <td>0.101233</td>\n",
       "    </tr>\n",
       "    <tr>\n",
       "      <th>6464</th>\n",
       "      <td>SSP1</td>\n",
       "      <td>2032</td>\n",
       "      <td>961.084553</td>\n",
       "      <td>3</td>\n",
       "      <td>3</td>\n",
       "      <td>3</td>\n",
       "      <td>3</td>\n",
       "      <td>1</td>\n",
       "      <td>1</td>\n",
       "      <td>CapitalInvestment</td>\n",
       "      <td>115802.500111</td>\n",
       "      <td>0.120491</td>\n",
       "    </tr>\n",
       "    <tr>\n",
       "      <th>6467</th>\n",
       "      <td>SSP1</td>\n",
       "      <td>2032</td>\n",
       "      <td>961.084553</td>\n",
       "      <td>3</td>\n",
       "      <td>3</td>\n",
       "      <td>3</td>\n",
       "      <td>3</td>\n",
       "      <td>1</td>\n",
       "      <td>2</td>\n",
       "      <td>CapitalInvestment</td>\n",
       "      <td>115802.500111</td>\n",
       "      <td>0.120491</td>\n",
       "    </tr>\n",
       "    <tr>\n",
       "      <th>...</th>\n",
       "      <td>...</td>\n",
       "      <td>...</td>\n",
       "      <td>...</td>\n",
       "      <td>...</td>\n",
       "      <td>...</td>\n",
       "      <td>...</td>\n",
       "      <td>...</td>\n",
       "      <td>...</td>\n",
       "      <td>...</td>\n",
       "      <td>...</td>\n",
       "      <td>...</td>\n",
       "      <td>...</td>\n",
       "    </tr>\n",
       "    <tr>\n",
       "      <th>36668</th>\n",
       "      <td>SSP3</td>\n",
       "      <td>2050</td>\n",
       "      <td>1125.859928</td>\n",
       "      <td>1</td>\n",
       "      <td>1</td>\n",
       "      <td>2</td>\n",
       "      <td>1</td>\n",
       "      <td>1</td>\n",
       "      <td>1</td>\n",
       "      <td>CapitalInvestment</td>\n",
       "      <td>112913.219099</td>\n",
       "      <td>0.100291</td>\n",
       "    </tr>\n",
       "    <tr>\n",
       "      <th>36671</th>\n",
       "      <td>SSP3</td>\n",
       "      <td>2050</td>\n",
       "      <td>1125.859928</td>\n",
       "      <td>1</td>\n",
       "      <td>1</td>\n",
       "      <td>2</td>\n",
       "      <td>1</td>\n",
       "      <td>1</td>\n",
       "      <td>2</td>\n",
       "      <td>CapitalInvestment</td>\n",
       "      <td>112913.219099</td>\n",
       "      <td>0.100291</td>\n",
       "    </tr>\n",
       "    <tr>\n",
       "      <th>36686</th>\n",
       "      <td>SSP3</td>\n",
       "      <td>2050</td>\n",
       "      <td>1125.859928</td>\n",
       "      <td>1</td>\n",
       "      <td>1</td>\n",
       "      <td>2</td>\n",
       "      <td>2</td>\n",
       "      <td>1</td>\n",
       "      <td>1</td>\n",
       "      <td>CapitalInvestment</td>\n",
       "      <td>130256.035365</td>\n",
       "      <td>0.115695</td>\n",
       "    </tr>\n",
       "    <tr>\n",
       "      <th>36689</th>\n",
       "      <td>SSP3</td>\n",
       "      <td>2050</td>\n",
       "      <td>1125.859928</td>\n",
       "      <td>1</td>\n",
       "      <td>1</td>\n",
       "      <td>2</td>\n",
       "      <td>2</td>\n",
       "      <td>1</td>\n",
       "      <td>2</td>\n",
       "      <td>CapitalInvestment</td>\n",
       "      <td>130256.035365</td>\n",
       "      <td>0.115695</td>\n",
       "    </tr>\n",
       "    <tr>\n",
       "      <th>36704</th>\n",
       "      <td>SSP3</td>\n",
       "      <td>2050</td>\n",
       "      <td>1125.859928</td>\n",
       "      <td>1</td>\n",
       "      <td>1</td>\n",
       "      <td>2</td>\n",
       "      <td>3</td>\n",
       "      <td>1</td>\n",
       "      <td>1</td>\n",
       "      <td>CapitalInvestment</td>\n",
       "      <td>182944.911032</td>\n",
       "      <td>0.162493</td>\n",
       "    </tr>\n",
       "    <tr>\n",
       "      <th>36707</th>\n",
       "      <td>SSP3</td>\n",
       "      <td>2050</td>\n",
       "      <td>1125.859928</td>\n",
       "      <td>1</td>\n",
       "      <td>1</td>\n",
       "      <td>2</td>\n",
       "      <td>3</td>\n",
       "      <td>1</td>\n",
       "      <td>2</td>\n",
       "      <td>CapitalInvestment</td>\n",
       "      <td>182944.911032</td>\n",
       "      <td>0.162493</td>\n",
       "    </tr>\n",
       "    <tr>\n",
       "      <th>36722</th>\n",
       "      <td>SSP3</td>\n",
       "      <td>2050</td>\n",
       "      <td>1125.859928</td>\n",
       "      <td>1</td>\n",
       "      <td>1</td>\n",
       "      <td>3</td>\n",
       "      <td>1</td>\n",
       "      <td>1</td>\n",
       "      <td>1</td>\n",
       "      <td>CapitalInvestment</td>\n",
       "      <td>122680.577641</td>\n",
       "      <td>0.108966</td>\n",
       "    </tr>\n",
       "    <tr>\n",
       "      <th>36725</th>\n",
       "      <td>SSP3</td>\n",
       "      <td>2050</td>\n",
       "      <td>1125.859928</td>\n",
       "      <td>1</td>\n",
       "      <td>1</td>\n",
       "      <td>3</td>\n",
       "      <td>1</td>\n",
       "      <td>1</td>\n",
       "      <td>2</td>\n",
       "      <td>CapitalInvestment</td>\n",
       "      <td>122680.577641</td>\n",
       "      <td>0.108966</td>\n",
       "    </tr>\n",
       "    <tr>\n",
       "      <th>36740</th>\n",
       "      <td>SSP3</td>\n",
       "      <td>2050</td>\n",
       "      <td>1125.859928</td>\n",
       "      <td>1</td>\n",
       "      <td>1</td>\n",
       "      <td>3</td>\n",
       "      <td>2</td>\n",
       "      <td>1</td>\n",
       "      <td>1</td>\n",
       "      <td>CapitalInvestment</td>\n",
       "      <td>130927.958699</td>\n",
       "      <td>0.116292</td>\n",
       "    </tr>\n",
       "    <tr>\n",
       "      <th>36743</th>\n",
       "      <td>SSP3</td>\n",
       "      <td>2050</td>\n",
       "      <td>1125.859928</td>\n",
       "      <td>1</td>\n",
       "      <td>1</td>\n",
       "      <td>3</td>\n",
       "      <td>2</td>\n",
       "      <td>1</td>\n",
       "      <td>2</td>\n",
       "      <td>CapitalInvestment</td>\n",
       "      <td>130927.958699</td>\n",
       "      <td>0.116292</td>\n",
       "    </tr>\n",
       "    <tr>\n",
       "      <th>36758</th>\n",
       "      <td>SSP3</td>\n",
       "      <td>2050</td>\n",
       "      <td>1125.859928</td>\n",
       "      <td>1</td>\n",
       "      <td>1</td>\n",
       "      <td>3</td>\n",
       "      <td>3</td>\n",
       "      <td>1</td>\n",
       "      <td>1</td>\n",
       "      <td>CapitalInvestment</td>\n",
       "      <td>195346.914053</td>\n",
       "      <td>0.173509</td>\n",
       "    </tr>\n",
       "    <tr>\n",
       "      <th>36761</th>\n",
       "      <td>SSP3</td>\n",
       "      <td>2050</td>\n",
       "      <td>1125.859928</td>\n",
       "      <td>1</td>\n",
       "      <td>1</td>\n",
       "      <td>3</td>\n",
       "      <td>3</td>\n",
       "      <td>1</td>\n",
       "      <td>2</td>\n",
       "      <td>CapitalInvestment</td>\n",
       "      <td>195346.914053</td>\n",
       "      <td>0.173509</td>\n",
       "    </tr>\n",
       "    <tr>\n",
       "      <th>36776</th>\n",
       "      <td>SSP3</td>\n",
       "      <td>2050</td>\n",
       "      <td>1125.859928</td>\n",
       "      <td>1</td>\n",
       "      <td>3</td>\n",
       "      <td>1</td>\n",
       "      <td>1</td>\n",
       "      <td>1</td>\n",
       "      <td>1</td>\n",
       "      <td>CapitalInvestment</td>\n",
       "      <td>124260.654994</td>\n",
       "      <td>0.110370</td>\n",
       "    </tr>\n",
       "    <tr>\n",
       "      <th>36779</th>\n",
       "      <td>SSP3</td>\n",
       "      <td>2050</td>\n",
       "      <td>1125.859928</td>\n",
       "      <td>1</td>\n",
       "      <td>3</td>\n",
       "      <td>1</td>\n",
       "      <td>1</td>\n",
       "      <td>1</td>\n",
       "      <td>2</td>\n",
       "      <td>CapitalInvestment</td>\n",
       "      <td>124260.654994</td>\n",
       "      <td>0.110370</td>\n",
       "    </tr>\n",
       "    <tr>\n",
       "      <th>36794</th>\n",
       "      <td>SSP3</td>\n",
       "      <td>2050</td>\n",
       "      <td>1125.859928</td>\n",
       "      <td>1</td>\n",
       "      <td>3</td>\n",
       "      <td>1</td>\n",
       "      <td>2</td>\n",
       "      <td>1</td>\n",
       "      <td>1</td>\n",
       "      <td>CapitalInvestment</td>\n",
       "      <td>138791.090231</td>\n",
       "      <td>0.123276</td>\n",
       "    </tr>\n",
       "    <tr>\n",
       "      <th>36797</th>\n",
       "      <td>SSP3</td>\n",
       "      <td>2050</td>\n",
       "      <td>1125.859928</td>\n",
       "      <td>1</td>\n",
       "      <td>3</td>\n",
       "      <td>1</td>\n",
       "      <td>2</td>\n",
       "      <td>1</td>\n",
       "      <td>2</td>\n",
       "      <td>CapitalInvestment</td>\n",
       "      <td>138791.090231</td>\n",
       "      <td>0.123276</td>\n",
       "    </tr>\n",
       "    <tr>\n",
       "      <th>36812</th>\n",
       "      <td>SSP3</td>\n",
       "      <td>2050</td>\n",
       "      <td>1125.859928</td>\n",
       "      <td>1</td>\n",
       "      <td>3</td>\n",
       "      <td>1</td>\n",
       "      <td>3</td>\n",
       "      <td>1</td>\n",
       "      <td>1</td>\n",
       "      <td>CapitalInvestment</td>\n",
       "      <td>196015.306464</td>\n",
       "      <td>0.174103</td>\n",
       "    </tr>\n",
       "    <tr>\n",
       "      <th>36815</th>\n",
       "      <td>SSP3</td>\n",
       "      <td>2050</td>\n",
       "      <td>1125.859928</td>\n",
       "      <td>1</td>\n",
       "      <td>3</td>\n",
       "      <td>1</td>\n",
       "      <td>3</td>\n",
       "      <td>1</td>\n",
       "      <td>2</td>\n",
       "      <td>CapitalInvestment</td>\n",
       "      <td>196015.306464</td>\n",
       "      <td>0.174103</td>\n",
       "    </tr>\n",
       "    <tr>\n",
       "      <th>36830</th>\n",
       "      <td>SSP3</td>\n",
       "      <td>2050</td>\n",
       "      <td>1125.859928</td>\n",
       "      <td>1</td>\n",
       "      <td>3</td>\n",
       "      <td>2</td>\n",
       "      <td>1</td>\n",
       "      <td>1</td>\n",
       "      <td>1</td>\n",
       "      <td>CapitalInvestment</td>\n",
       "      <td>112659.305677</td>\n",
       "      <td>0.100065</td>\n",
       "    </tr>\n",
       "    <tr>\n",
       "      <th>36833</th>\n",
       "      <td>SSP3</td>\n",
       "      <td>2050</td>\n",
       "      <td>1125.859928</td>\n",
       "      <td>1</td>\n",
       "      <td>3</td>\n",
       "      <td>2</td>\n",
       "      <td>1</td>\n",
       "      <td>1</td>\n",
       "      <td>2</td>\n",
       "      <td>CapitalInvestment</td>\n",
       "      <td>112659.305677</td>\n",
       "      <td>0.100065</td>\n",
       "    </tr>\n",
       "    <tr>\n",
       "      <th>36848</th>\n",
       "      <td>SSP3</td>\n",
       "      <td>2050</td>\n",
       "      <td>1125.859928</td>\n",
       "      <td>1</td>\n",
       "      <td>3</td>\n",
       "      <td>2</td>\n",
       "      <td>2</td>\n",
       "      <td>1</td>\n",
       "      <td>1</td>\n",
       "      <td>CapitalInvestment</td>\n",
       "      <td>130204.057262</td>\n",
       "      <td>0.115649</td>\n",
       "    </tr>\n",
       "    <tr>\n",
       "      <th>36851</th>\n",
       "      <td>SSP3</td>\n",
       "      <td>2050</td>\n",
       "      <td>1125.859928</td>\n",
       "      <td>1</td>\n",
       "      <td>3</td>\n",
       "      <td>2</td>\n",
       "      <td>2</td>\n",
       "      <td>1</td>\n",
       "      <td>2</td>\n",
       "      <td>CapitalInvestment</td>\n",
       "      <td>130204.057262</td>\n",
       "      <td>0.115649</td>\n",
       "    </tr>\n",
       "    <tr>\n",
       "      <th>36866</th>\n",
       "      <td>SSP3</td>\n",
       "      <td>2050</td>\n",
       "      <td>1125.859928</td>\n",
       "      <td>1</td>\n",
       "      <td>3</td>\n",
       "      <td>2</td>\n",
       "      <td>3</td>\n",
       "      <td>1</td>\n",
       "      <td>1</td>\n",
       "      <td>CapitalInvestment</td>\n",
       "      <td>182001.221943</td>\n",
       "      <td>0.161655</td>\n",
       "    </tr>\n",
       "    <tr>\n",
       "      <th>36869</th>\n",
       "      <td>SSP3</td>\n",
       "      <td>2050</td>\n",
       "      <td>1125.859928</td>\n",
       "      <td>1</td>\n",
       "      <td>3</td>\n",
       "      <td>2</td>\n",
       "      <td>3</td>\n",
       "      <td>1</td>\n",
       "      <td>2</td>\n",
       "      <td>CapitalInvestment</td>\n",
       "      <td>182001.221943</td>\n",
       "      <td>0.161655</td>\n",
       "    </tr>\n",
       "    <tr>\n",
       "      <th>36884</th>\n",
       "      <td>SSP3</td>\n",
       "      <td>2050</td>\n",
       "      <td>1125.859928</td>\n",
       "      <td>1</td>\n",
       "      <td>3</td>\n",
       "      <td>3</td>\n",
       "      <td>1</td>\n",
       "      <td>1</td>\n",
       "      <td>1</td>\n",
       "      <td>CapitalInvestment</td>\n",
       "      <td>122580.303564</td>\n",
       "      <td>0.108877</td>\n",
       "    </tr>\n",
       "    <tr>\n",
       "      <th>36887</th>\n",
       "      <td>SSP3</td>\n",
       "      <td>2050</td>\n",
       "      <td>1125.859928</td>\n",
       "      <td>1</td>\n",
       "      <td>3</td>\n",
       "      <td>3</td>\n",
       "      <td>1</td>\n",
       "      <td>1</td>\n",
       "      <td>2</td>\n",
       "      <td>CapitalInvestment</td>\n",
       "      <td>122580.303564</td>\n",
       "      <td>0.108877</td>\n",
       "    </tr>\n",
       "    <tr>\n",
       "      <th>36902</th>\n",
       "      <td>SSP3</td>\n",
       "      <td>2050</td>\n",
       "      <td>1125.859928</td>\n",
       "      <td>1</td>\n",
       "      <td>3</td>\n",
       "      <td>3</td>\n",
       "      <td>2</td>\n",
       "      <td>1</td>\n",
       "      <td>1</td>\n",
       "      <td>CapitalInvestment</td>\n",
       "      <td>131137.142096</td>\n",
       "      <td>0.116477</td>\n",
       "    </tr>\n",
       "    <tr>\n",
       "      <th>36905</th>\n",
       "      <td>SSP3</td>\n",
       "      <td>2050</td>\n",
       "      <td>1125.859928</td>\n",
       "      <td>1</td>\n",
       "      <td>3</td>\n",
       "      <td>3</td>\n",
       "      <td>2</td>\n",
       "      <td>1</td>\n",
       "      <td>2</td>\n",
       "      <td>CapitalInvestment</td>\n",
       "      <td>131137.142096</td>\n",
       "      <td>0.116477</td>\n",
       "    </tr>\n",
       "    <tr>\n",
       "      <th>36920</th>\n",
       "      <td>SSP3</td>\n",
       "      <td>2050</td>\n",
       "      <td>1125.859928</td>\n",
       "      <td>1</td>\n",
       "      <td>3</td>\n",
       "      <td>3</td>\n",
       "      <td>3</td>\n",
       "      <td>1</td>\n",
       "      <td>1</td>\n",
       "      <td>CapitalInvestment</td>\n",
       "      <td>195079.324610</td>\n",
       "      <td>0.173271</td>\n",
       "    </tr>\n",
       "    <tr>\n",
       "      <th>36923</th>\n",
       "      <td>SSP3</td>\n",
       "      <td>2050</td>\n",
       "      <td>1125.859928</td>\n",
       "      <td>1</td>\n",
       "      <td>3</td>\n",
       "      <td>3</td>\n",
       "      <td>3</td>\n",
       "      <td>1</td>\n",
       "      <td>2</td>\n",
       "      <td>CapitalInvestment</td>\n",
       "      <td>195079.324610</td>\n",
       "      <td>0.173271</td>\n",
       "    </tr>\n",
       "  </tbody>\n",
       "</table>\n",
       "<p>633 rows × 12 columns</p>\n",
       "</div>"
      ],
      "text/plain": [
       "      Scenario  year          gdp  DMD  FUEL  CC RE  DR  CO2  CC  \\\n",
       "4034      SSP1  2025   753.094740    3     1      3   3    1   1   \n",
       "4037      SSP1  2025   753.094740    3     1      3   3    1   2   \n",
       "4682      SSP1  2027   808.304244    3     1      3   3    1   1   \n",
       "4685      SSP1  2027   808.304244    3     1      3   3    1   2   \n",
       "4844      SSP1  2027   808.304244    3     3      3   3    1   1   \n",
       "4847      SSP1  2027   808.304244    3     3      3   3    1   2   \n",
       "5006      SSP1  2028   837.408724    3     1      3   3    1   1   \n",
       "5009      SSP1  2028   837.408724    3     1      3   3    1   2   \n",
       "5168      SSP1  2028   837.408724    3     3      3   3    1   1   \n",
       "5171      SSP1  2028   837.408724    3     3      3   3    1   2   \n",
       "5276      SSP1  2029   867.561165    3     1      2   3    1   1   \n",
       "5279      SSP1  2029   867.561165    3     1      2   3    1   2   \n",
       "5330      SSP1  2029   867.561165    3     1      3   3    1   1   \n",
       "5333      SSP1  2029   867.561165    3     1      3   3    1   2   \n",
       "5438      SSP1  2029   867.561165    3     3      2   3    1   1   \n",
       "5441      SSP1  2029   867.561165    3     3      2   3    1   2   \n",
       "5492      SSP1  2029   867.561165    3     3      3   3    1   1   \n",
       "5495      SSP1  2029   867.561165    3     3      3   3    1   2   \n",
       "5978      SSP1  2031   929.420316    3     1      3   3    1   1   \n",
       "5981      SSP1  2031   929.420316    3     1      3   3    1   2   \n",
       "6140      SSP1  2031   929.420316    3     3      3   3    1   1   \n",
       "6143      SSP1  2031   929.420316    3     3      3   3    1   2   \n",
       "6248      SSP1  2032   961.084553    3     1      2   3    1   1   \n",
       "6251      SSP1  2032   961.084553    3     1      2   3    1   2   \n",
       "6302      SSP1  2032   961.084553    3     1      3   3    1   1   \n",
       "6305      SSP1  2032   961.084553    3     1      3   3    1   2   \n",
       "6410      SSP1  2032   961.084553    3     3      2   3    1   1   \n",
       "6413      SSP1  2032   961.084553    3     3      2   3    1   2   \n",
       "6464      SSP1  2032   961.084553    3     3      3   3    1   1   \n",
       "6467      SSP1  2032   961.084553    3     3      3   3    1   2   \n",
       "...        ...   ...          ...  ...   ...    ...  ..  ...  ..   \n",
       "36668     SSP3  2050  1125.859928    1     1      2   1    1   1   \n",
       "36671     SSP3  2050  1125.859928    1     1      2   1    1   2   \n",
       "36686     SSP3  2050  1125.859928    1     1      2   2    1   1   \n",
       "36689     SSP3  2050  1125.859928    1     1      2   2    1   2   \n",
       "36704     SSP3  2050  1125.859928    1     1      2   3    1   1   \n",
       "36707     SSP3  2050  1125.859928    1     1      2   3    1   2   \n",
       "36722     SSP3  2050  1125.859928    1     1      3   1    1   1   \n",
       "36725     SSP3  2050  1125.859928    1     1      3   1    1   2   \n",
       "36740     SSP3  2050  1125.859928    1     1      3   2    1   1   \n",
       "36743     SSP3  2050  1125.859928    1     1      3   2    1   2   \n",
       "36758     SSP3  2050  1125.859928    1     1      3   3    1   1   \n",
       "36761     SSP3  2050  1125.859928    1     1      3   3    1   2   \n",
       "36776     SSP3  2050  1125.859928    1     3      1   1    1   1   \n",
       "36779     SSP3  2050  1125.859928    1     3      1   1    1   2   \n",
       "36794     SSP3  2050  1125.859928    1     3      1   2    1   1   \n",
       "36797     SSP3  2050  1125.859928    1     3      1   2    1   2   \n",
       "36812     SSP3  2050  1125.859928    1     3      1   3    1   1   \n",
       "36815     SSP3  2050  1125.859928    1     3      1   3    1   2   \n",
       "36830     SSP3  2050  1125.859928    1     3      2   1    1   1   \n",
       "36833     SSP3  2050  1125.859928    1     3      2   1    1   2   \n",
       "36848     SSP3  2050  1125.859928    1     3      2   2    1   1   \n",
       "36851     SSP3  2050  1125.859928    1     3      2   2    1   2   \n",
       "36866     SSP3  2050  1125.859928    1     3      2   3    1   1   \n",
       "36869     SSP3  2050  1125.859928    1     3      2   3    1   2   \n",
       "36884     SSP3  2050  1125.859928    1     3      3   1    1   1   \n",
       "36887     SSP3  2050  1125.859928    1     3      3   1    1   2   \n",
       "36902     SSP3  2050  1125.859928    1     3      3   2    1   1   \n",
       "36905     SSP3  2050  1125.859928    1     3      3   2    1   2   \n",
       "36920     SSP3  2050  1125.859928    1     3      3   3    1   1   \n",
       "36923     SSP3  2050  1125.859928    1     3      3   3    1   2   \n",
       "\n",
       "      Parameter (million USD)          value  divided_by_gdp  \n",
       "4034        CapitalInvestment   75482.422119        0.100230  \n",
       "4037        CapitalInvestment   75482.422119        0.100230  \n",
       "4682        CapitalInvestment   81537.630242        0.100875  \n",
       "4685        CapitalInvestment   81537.630242        0.100875  \n",
       "4844        CapitalInvestment   82030.008028        0.101484  \n",
       "4847        CapitalInvestment   82030.008028        0.101484  \n",
       "5006        CapitalInvestment   90904.082910        0.108554  \n",
       "5009        CapitalInvestment   90904.082910        0.108554  \n",
       "5168        CapitalInvestment   90596.895548        0.108187  \n",
       "5171        CapitalInvestment   90596.895548        0.108187  \n",
       "5276        CapitalInvestment   87409.034270        0.100753  \n",
       "5279        CapitalInvestment   87409.034270        0.100753  \n",
       "5330        CapitalInvestment   97912.703477        0.112860  \n",
       "5333        CapitalInvestment   97912.703477        0.112860  \n",
       "5438        CapitalInvestment   88325.497374        0.101809  \n",
       "5441        CapitalInvestment   88325.497374        0.101809  \n",
       "5492        CapitalInvestment   98535.260827        0.113577  \n",
       "5495        CapitalInvestment   98535.260827        0.113577  \n",
       "5978        CapitalInvestment  104219.042445        0.112133  \n",
       "5981        CapitalInvestment  104219.042445        0.112133  \n",
       "6140        CapitalInvestment  104028.610450        0.111928  \n",
       "6143        CapitalInvestment  104028.610450        0.111928  \n",
       "6248        CapitalInvestment   97731.848430        0.101689  \n",
       "6251        CapitalInvestment   97731.848430        0.101689  \n",
       "6302        CapitalInvestment  115604.947442        0.120286  \n",
       "6305        CapitalInvestment  115604.947442        0.120286  \n",
       "6410        CapitalInvestment   97293.035289        0.101233  \n",
       "6413        CapitalInvestment   97293.035289        0.101233  \n",
       "6464        CapitalInvestment  115802.500111        0.120491  \n",
       "6467        CapitalInvestment  115802.500111        0.120491  \n",
       "...                       ...            ...             ...  \n",
       "36668       CapitalInvestment  112913.219099        0.100291  \n",
       "36671       CapitalInvestment  112913.219099        0.100291  \n",
       "36686       CapitalInvestment  130256.035365        0.115695  \n",
       "36689       CapitalInvestment  130256.035365        0.115695  \n",
       "36704       CapitalInvestment  182944.911032        0.162493  \n",
       "36707       CapitalInvestment  182944.911032        0.162493  \n",
       "36722       CapitalInvestment  122680.577641        0.108966  \n",
       "36725       CapitalInvestment  122680.577641        0.108966  \n",
       "36740       CapitalInvestment  130927.958699        0.116292  \n",
       "36743       CapitalInvestment  130927.958699        0.116292  \n",
       "36758       CapitalInvestment  195346.914053        0.173509  \n",
       "36761       CapitalInvestment  195346.914053        0.173509  \n",
       "36776       CapitalInvestment  124260.654994        0.110370  \n",
       "36779       CapitalInvestment  124260.654994        0.110370  \n",
       "36794       CapitalInvestment  138791.090231        0.123276  \n",
       "36797       CapitalInvestment  138791.090231        0.123276  \n",
       "36812       CapitalInvestment  196015.306464        0.174103  \n",
       "36815       CapitalInvestment  196015.306464        0.174103  \n",
       "36830       CapitalInvestment  112659.305677        0.100065  \n",
       "36833       CapitalInvestment  112659.305677        0.100065  \n",
       "36848       CapitalInvestment  130204.057262        0.115649  \n",
       "36851       CapitalInvestment  130204.057262        0.115649  \n",
       "36866       CapitalInvestment  182001.221943        0.161655  \n",
       "36869       CapitalInvestment  182001.221943        0.161655  \n",
       "36884       CapitalInvestment  122580.303564        0.108877  \n",
       "36887       CapitalInvestment  122580.303564        0.108877  \n",
       "36902       CapitalInvestment  131137.142096        0.116477  \n",
       "36905       CapitalInvestment  131137.142096        0.116477  \n",
       "36920       CapitalInvestment  195079.324610        0.173271  \n",
       "36923       CapitalInvestment  195079.324610        0.173271  \n",
       "\n",
       "[633 rows x 12 columns]"
      ]
     },
     "execution_count": 104,
     "metadata": {},
     "output_type": "execute_result"
    }
   ],
   "source": [
    "bigger_data.loc[bigger_data.divided_by_gdp>0.10,:]"
   ]
  },
  {
   "cell_type": "markdown",
   "metadata": {},
   "source": [
    "### discounts"
   ]
  },
  {
   "cell_type": "code",
   "execution_count": 105,
   "metadata": {
    "collapsed": true
   },
   "outputs": [],
   "source": [
    "d = 0.06\n",
    "bigger_data[\"discount_factor\"] = (1+d)**(1-(bigger_data.year-2012))"
   ]
  },
  {
   "cell_type": "code",
   "execution_count": 106,
   "metadata": {
    "collapsed": true
   },
   "outputs": [],
   "source": [
    "bigger_data[\"discounted_value\"] = bigger_data.value*bigger_data.discount_factor"
   ]
  },
  {
   "cell_type": "code",
   "execution_count": 107,
   "metadata": {},
   "outputs": [
    {
     "data": {
      "text/plain": [
       "array([2013, 2014, 2015, 2016, 2017, 2018, 2019, 2020, 2021, 2022, 2023,\n",
       "       2024, 2025, 2026, 2027, 2028, 2029, 2030, 2031, 2032, 2033, 2034,\n",
       "       2035, 2036, 2037, 2038, 2039, 2040, 2041, 2042, 2043, 2044, 2045,\n",
       "       2046, 2047, 2048, 2049, 2050], dtype=int64)"
      ]
     },
     "execution_count": 107,
     "metadata": {},
     "output_type": "execute_result"
    }
   ],
   "source": [
    "data.year.unique()"
   ]
  },
  {
   "cell_type": "markdown",
   "metadata": {},
   "source": [
    "### Takes the discounted sum"
   ]
  },
  {
   "cell_type": "code",
   "execution_count": 108,
   "metadata": {
    "collapsed": true
   },
   "outputs": [],
   "source": [
    "new_data2030 = bigger_data.loc[bigger_data.year.astype(float)<2031,:].set_index(['DMD', 'FUEL', 'CC RE', 'DR', 'CO2', 'CC', 'Parameter (million USD)']).discounted_value.sum(level=['DMD', 'FUEL', 'CC RE', 'DR', 'CO2', 'CC', 'Parameter (million USD)']).unstack(\"Parameter (million USD)\").reset_index()"
   ]
  },
  {
   "cell_type": "code",
   "execution_count": 109,
   "metadata": {
    "collapsed": true
   },
   "outputs": [],
   "source": [
    "new_data = bigger_data.set_index(['DMD', 'FUEL', 'CC RE', 'DR', 'CO2', 'CC', 'Parameter (million USD)']).discounted_value.sum(level=['DMD', 'FUEL', 'CC RE', 'DR', 'CO2', 'CC', 'Parameter (million USD)']).unstack(\"Parameter (million USD)\").reset_index()"
   ]
  },
  {
   "cell_type": "markdown",
   "metadata": {},
   "source": [
    "### Takes the average of GDP shares"
   ]
  },
  {
   "cell_type": "code",
   "execution_count": 110,
   "metadata": {
    "collapsed": true
   },
   "outputs": [],
   "source": [
    "new_data2030_gdp = bigger_data.loc[bigger_data.year.astype(float)<2031,:].set_index(['DMD', 'FUEL', 'CC RE', 'DR', 'CO2', 'CC', 'Parameter (million USD)']).divided_by_gdp.mean(level=['DMD', 'FUEL', 'CC RE', 'DR', 'CO2', 'CC', 'Parameter (million USD)']).unstack(\"Parameter (million USD)\").reset_index()"
   ]
  },
  {
   "cell_type": "code",
   "execution_count": 111,
   "metadata": {
    "collapsed": true
   },
   "outputs": [],
   "source": [
    "inputs = new_data[['DMD', 'FUEL', 'CC RE', 'DR', 'CO2', 'CC']]"
   ]
  },
  {
   "cell_type": "markdown",
   "metadata": {},
   "source": [
    "## results (costs)"
   ]
  },
  {
   "cell_type": "code",
   "execution_count": 112,
   "metadata": {},
   "outputs": [
    {
     "data": {
      "text/html": [
       "<div>\n",
       "<style>\n",
       "    .dataframe thead tr:only-child th {\n",
       "        text-align: right;\n",
       "    }\n",
       "\n",
       "    .dataframe thead th {\n",
       "        text-align: left;\n",
       "    }\n",
       "\n",
       "    .dataframe tbody tr th {\n",
       "        vertical-align: top;\n",
       "    }\n",
       "</style>\n",
       "<table border=\"1\" class=\"dataframe\">\n",
       "  <thead>\n",
       "    <tr style=\"text-align: right;\">\n",
       "      <th>Parameter (million USD)</th>\n",
       "      <th>CapitalInvestment</th>\n",
       "      <th>AnnualFixedOperatingCost</th>\n",
       "      <th>AnnualVariableOperatingCost</th>\n",
       "    </tr>\n",
       "  </thead>\n",
       "  <tbody>\n",
       "    <tr>\n",
       "      <th>count</th>\n",
       "      <td>3.240000e+02</td>\n",
       "      <td>324.000000</td>\n",
       "      <td>324.000000</td>\n",
       "    </tr>\n",
       "    <tr>\n",
       "      <th>mean</th>\n",
       "      <td>6.540085e+05</td>\n",
       "      <td>140250.300676</td>\n",
       "      <td>343650.695148</td>\n",
       "    </tr>\n",
       "    <tr>\n",
       "      <th>std</th>\n",
       "      <td>1.463792e+05</td>\n",
       "      <td>8435.880516</td>\n",
       "      <td>61490.805437</td>\n",
       "    </tr>\n",
       "    <tr>\n",
       "      <th>min</th>\n",
       "      <td>4.593265e+05</td>\n",
       "      <td>123993.336826</td>\n",
       "      <td>265573.679013</td>\n",
       "    </tr>\n",
       "    <tr>\n",
       "      <th>25%</th>\n",
       "      <td>5.456507e+05</td>\n",
       "      <td>133773.394219</td>\n",
       "      <td>299689.070437</td>\n",
       "    </tr>\n",
       "    <tr>\n",
       "      <th>50%</th>\n",
       "      <td>6.153911e+05</td>\n",
       "      <td>139659.728606</td>\n",
       "      <td>324868.136535</td>\n",
       "    </tr>\n",
       "    <tr>\n",
       "      <th>75%</th>\n",
       "      <td>7.233889e+05</td>\n",
       "      <td>144708.575480</td>\n",
       "      <td>371229.781523</td>\n",
       "    </tr>\n",
       "    <tr>\n",
       "      <th>max</th>\n",
       "      <td>1.184594e+06</td>\n",
       "      <td>162493.071318</td>\n",
       "      <td>534280.521865</td>\n",
       "    </tr>\n",
       "  </tbody>\n",
       "</table>\n",
       "</div>"
      ],
      "text/plain": [
       "Parameter (million USD)  CapitalInvestment  AnnualFixedOperatingCost  \\\n",
       "count                         3.240000e+02                324.000000   \n",
       "mean                          6.540085e+05             140250.300676   \n",
       "std                           1.463792e+05               8435.880516   \n",
       "min                           4.593265e+05             123993.336826   \n",
       "25%                           5.456507e+05             133773.394219   \n",
       "50%                           6.153911e+05             139659.728606   \n",
       "75%                           7.233889e+05             144708.575480   \n",
       "max                           1.184594e+06             162493.071318   \n",
       "\n",
       "Parameter (million USD)  AnnualVariableOperatingCost  \n",
       "count                                     324.000000  \n",
       "mean                                   343650.695148  \n",
       "std                                     61490.805437  \n",
       "min                                    265573.679013  \n",
       "25%                                    299689.070437  \n",
       "50%                                    324868.136535  \n",
       "75%                                    371229.781523  \n",
       "max                                    534280.521865  "
      ]
     },
     "execution_count": 112,
     "metadata": {},
     "output_type": "execute_result"
    }
   ],
   "source": [
    "new_data[['CapitalInvestment','AnnualFixedOperatingCost','AnnualVariableOperatingCost']].describe()"
   ]
  },
  {
   "cell_type": "code",
   "execution_count": 113,
   "metadata": {
    "collapsed": true
   },
   "outputs": [],
   "source": [
    "new_data['tot_cost'] = new_data[['CapitalInvestment','AnnualFixedOperatingCost','AnnualVariableOperatingCost']].sum(axis=1)"
   ]
  },
  {
   "cell_type": "code",
   "execution_count": 114,
   "metadata": {
    "collapsed": true
   },
   "outputs": [],
   "source": [
    "new_data2030['tot_cost'] = new_data2030[['CapitalInvestment','AnnualFixedOperatingCost','AnnualVariableOperatingCost']].sum(axis=1)\n",
    "new_data2030['annual_cost'] = new_data2030[['AnnualFixedOperatingCost','AnnualVariableOperatingCost']].sum(axis=1)"
   ]
  },
  {
   "cell_type": "code",
   "execution_count": 115,
   "metadata": {
    "collapsed": true
   },
   "outputs": [],
   "source": [
    "new_data2030_gdp['tot_cost'] = new_data2030_gdp[['CapitalInvestment','AnnualFixedOperatingCost','AnnualVariableOperatingCost']].sum(axis=1)\n",
    "new_data2030_gdp['annual_cost'] = new_data2030_gdp[['AnnualFixedOperatingCost','AnnualVariableOperatingCost']].sum(axis=1)"
   ]
  },
  {
   "cell_type": "code",
   "execution_count": 116,
   "metadata": {},
   "outputs": [
    {
     "data": {
      "text/plain": [
       "count       18.000000\n",
       "mean     36763.621957\n",
       "std       2670.615554\n",
       "min      33031.320149\n",
       "25%      34864.191286\n",
       "50%      36545.369214\n",
       "75%      38105.493190\n",
       "max      46987.461873\n",
       "Name: tot_cost, dtype: float64"
      ]
     },
     "execution_count": 116,
     "metadata": {},
     "output_type": "execute_result"
    }
   ],
   "source": [
    "1/(2030-2012)*new_data2030.tot_cost.describe()"
   ]
  },
  {
   "cell_type": "code",
   "execution_count": 117,
   "metadata": {},
   "outputs": [
    {
     "data": {
      "text/plain": [
       "count    3.240000e+02\n",
       "mean     1.137909e+06\n",
       "std      1.631190e+05\n",
       "min      9.115597e+05\n",
       "25%      1.012962e+06\n",
       "50%      1.117834e+06\n",
       "75%      1.234070e+06\n",
       "max      1.702259e+06\n",
       "Name: tot_cost, dtype: float64"
      ]
     },
     "execution_count": 117,
     "metadata": {},
     "output_type": "execute_result"
    }
   ],
   "source": [
    "new_data['tot_cost'].describe()"
   ]
  },
  {
   "cell_type": "code",
   "execution_count": 118,
   "metadata": {
    "collapsed": true
   },
   "outputs": [],
   "source": [
    "new_data['annual_cost'] = new_data[['AnnualFixedOperatingCost','AnnualVariableOperatingCost']].sum(axis=1)"
   ]
  },
  {
   "cell_type": "code",
   "execution_count": 119,
   "metadata": {},
   "outputs": [
    {
     "data": {
      "image/png": "[encoded data removed]",
      "text/plain": [
       "<matplotlib.figure.Figure at 0x23dd342c198>"
      ]
     },
     "metadata": {},
     "output_type": "display_data"
    }
   ],
   "source": [
    "toplot = 10**(-3)*new_data2030[['CapitalInvestment','annual_cost']]*1/(2030-2012)\n",
    "\n",
    "plt.figure(figsize=(7,7))\n",
    "plt.scatter(toplot.CapitalInvestment,toplot.annual_cost,marker=\"o\",facecolors='none',edgecolor=\"b\")\n",
    "plt.axis('equal')\n",
    "plt.xlabel(\"Capital costs (average annual)\")\n",
    "plt.ylabel(\"Variable costs (average annual)\")\n",
    "\n",
    "plt.savefig(\"KTH_capital_vs_variable2030.png\",ddpi=300,bbox_inches=\"tight\")\n",
    "plt.savefig(\"KTH_capital_vs_variable2030.pdf\")"
   ]
  },
  {
   "cell_type": "code",
   "execution_count": 120,
   "metadata": {},
   "outputs": [
    {
     "data": {
      "text/html": [
       "<div>\n",
       "<style>\n",
       "    .dataframe thead tr:only-child th {\n",
       "        text-align: right;\n",
       "    }\n",
       "\n",
       "    .dataframe thead th {\n",
       "        text-align: left;\n",
       "    }\n",
       "\n",
       "    .dataframe tbody tr th {\n",
       "        vertical-align: top;\n",
       "    }\n",
       "</style>\n",
       "<table border=\"1\" class=\"dataframe\">\n",
       "  <thead>\n",
       "    <tr style=\"text-align: right;\">\n",
       "      <th>Parameter (million USD)</th>\n",
       "      <th>DMD</th>\n",
       "      <th>FUEL</th>\n",
       "      <th>CC RE</th>\n",
       "      <th>DR</th>\n",
       "      <th>CO2</th>\n",
       "      <th>CC</th>\n",
       "      <th>AnnualFixedOperatingCost</th>\n",
       "      <th>AnnualVariableOperatingCost</th>\n",
       "      <th>CapitalInvestment</th>\n",
       "      <th>tot_cost</th>\n",
       "      <th>annual_cost</th>\n",
       "    </tr>\n",
       "  </thead>\n",
       "  <tbody>\n",
       "    <tr>\n",
       "      <th>210</th>\n",
       "      <td>2</td>\n",
       "      <td>3</td>\n",
       "      <td>3</td>\n",
       "      <td>3</td>\n",
       "      <td>1</td>\n",
       "      <td>1</td>\n",
       "      <td>144459.237334</td>\n",
       "      <td>341215.130913</td>\n",
       "      <td>861412.075277</td>\n",
       "      <td>1.347086e+06</td>\n",
       "      <td>485674.368247</td>\n",
       "    </tr>\n",
       "    <tr>\n",
       "      <th>34</th>\n",
       "      <td>1</td>\n",
       "      <td>1</td>\n",
       "      <td>2</td>\n",
       "      <td>3</td>\n",
       "      <td>3</td>\n",
       "      <td>1</td>\n",
       "      <td>128118.013248</td>\n",
       "      <td>441618.662841</td>\n",
       "      <td>467062.348785</td>\n",
       "      <td>1.036799e+06</td>\n",
       "      <td>569736.676089</td>\n",
       "    </tr>\n",
       "    <tr>\n",
       "      <th>163</th>\n",
       "      <td>2</td>\n",
       "      <td>3</td>\n",
       "      <td>1</td>\n",
       "      <td>1</td>\n",
       "      <td>1</td>\n",
       "      <td>2</td>\n",
       "      <td>145152.900836</td>\n",
       "      <td>282940.745801</td>\n",
       "      <td>619160.305029</td>\n",
       "      <td>1.047254e+06</td>\n",
       "      <td>428093.646638</td>\n",
       "    </tr>\n",
       "  </tbody>\n",
       "</table>\n",
       "</div>"
      ],
      "text/plain": [
       "Parameter (million USD)  DMD  FUEL  CC RE  DR  CO2  CC  \\\n",
       "210                        2     3      3   3    1   1   \n",
       "34                         1     1      2   3    3   1   \n",
       "163                        2     3      1   1    1   2   \n",
       "\n",
       "Parameter (million USD)  AnnualFixedOperatingCost  \\\n",
       "210                                 144459.237334   \n",
       "34                                  128118.013248   \n",
       "163                                 145152.900836   \n",
       "\n",
       "Parameter (million USD)  AnnualVariableOperatingCost  CapitalInvestment  \\\n",
       "210                                    341215.130913      861412.075277   \n",
       "34                                     441618.662841      467062.348785   \n",
       "163                                    282940.745801      619160.305029   \n",
       "\n",
       "Parameter (million USD)      tot_cost    annual_cost  \n",
       "210                      1.347086e+06  485674.368247  \n",
       "34                       1.036799e+06  569736.676089  \n",
       "163                      1.047254e+06  428093.646638  "
      ]
     },
     "execution_count": 120,
     "metadata": {},
     "output_type": "execute_result"
    }
   ],
   "source": [
    "new_data.sample(3)"
   ]
  },
  {
   "cell_type": "code",
   "execution_count": 121,
   "metadata": {},
   "outputs": [
    {
     "data": {
      "text/html": [
       "<div>\n",
       "<style>\n",
       "    .dataframe thead tr:only-child th {\n",
       "        text-align: right;\n",
       "    }\n",
       "\n",
       "    .dataframe thead th {\n",
       "        text-align: left;\n",
       "    }\n",
       "\n",
       "    .dataframe tbody tr th {\n",
       "        vertical-align: top;\n",
       "    }\n",
       "</style>\n",
       "<table border=\"1\" class=\"dataframe\">\n",
       "  <thead>\n",
       "    <tr style=\"text-align: right;\">\n",
       "      <th>Parameter (million USD)</th>\n",
       "      <th>DMD</th>\n",
       "      <th>FUEL</th>\n",
       "      <th>CC RE</th>\n",
       "      <th>DR</th>\n",
       "      <th>CO2</th>\n",
       "      <th>CC</th>\n",
       "      <th>AnnualFixedOperatingCost</th>\n",
       "      <th>AnnualVariableOperatingCost</th>\n",
       "      <th>CapitalInvestment</th>\n",
       "      <th>tot_cost</th>\n",
       "      <th>annual_cost</th>\n",
       "    </tr>\n",
       "  </thead>\n",
       "  <tbody>\n",
       "    <tr>\n",
       "      <th>count</th>\n",
       "      <td>324.00000</td>\n",
       "      <td>324.000000</td>\n",
       "      <td>324.00000</td>\n",
       "      <td>324.00000</td>\n",
       "      <td>324.00000</td>\n",
       "      <td>324.000000</td>\n",
       "      <td>324.000000</td>\n",
       "      <td>324.000000</td>\n",
       "      <td>324.000000</td>\n",
       "      <td>324.000000</td>\n",
       "      <td>324.000000</td>\n",
       "    </tr>\n",
       "    <tr>\n",
       "      <th>mean</th>\n",
       "      <td>2.00000</td>\n",
       "      <td>2.000000</td>\n",
       "      <td>2.00000</td>\n",
       "      <td>2.00000</td>\n",
       "      <td>2.00000</td>\n",
       "      <td>1.500000</td>\n",
       "      <td>0.012054</td>\n",
       "      <td>0.029144</td>\n",
       "      <td>0.049607</td>\n",
       "      <td>0.090805</td>\n",
       "      <td>0.041198</td>\n",
       "    </tr>\n",
       "    <tr>\n",
       "      <th>std</th>\n",
       "      <td>0.81776</td>\n",
       "      <td>1.001547</td>\n",
       "      <td>0.81776</td>\n",
       "      <td>0.81776</td>\n",
       "      <td>0.81776</td>\n",
       "      <td>0.500773</td>\n",
       "      <td>0.000333</td>\n",
       "      <td>0.002684</td>\n",
       "      <td>0.006613</td>\n",
       "      <td>0.006696</td>\n",
       "      <td>0.002407</td>\n",
       "    </tr>\n",
       "    <tr>\n",
       "      <th>min</th>\n",
       "      <td>1.00000</td>\n",
       "      <td>1.000000</td>\n",
       "      <td>1.00000</td>\n",
       "      <td>1.00000</td>\n",
       "      <td>1.00000</td>\n",
       "      <td>1.000000</td>\n",
       "      <td>0.011519</td>\n",
       "      <td>0.025456</td>\n",
       "      <td>0.040524</td>\n",
       "      <td>0.081634</td>\n",
       "      <td>0.037779</td>\n",
       "    </tr>\n",
       "    <tr>\n",
       "      <th>25%</th>\n",
       "      <td>1.00000</td>\n",
       "      <td>1.000000</td>\n",
       "      <td>1.00000</td>\n",
       "      <td>1.00000</td>\n",
       "      <td>1.00000</td>\n",
       "      <td>1.000000</td>\n",
       "      <td>0.011768</td>\n",
       "      <td>0.026828</td>\n",
       "      <td>0.045702</td>\n",
       "      <td>0.086136</td>\n",
       "      <td>0.039272</td>\n",
       "    </tr>\n",
       "    <tr>\n",
       "      <th>50%</th>\n",
       "      <td>2.00000</td>\n",
       "      <td>2.000000</td>\n",
       "      <td>2.00000</td>\n",
       "      <td>2.00000</td>\n",
       "      <td>2.00000</td>\n",
       "      <td>1.500000</td>\n",
       "      <td>0.012019</td>\n",
       "      <td>0.028852</td>\n",
       "      <td>0.048407</td>\n",
       "      <td>0.089761</td>\n",
       "      <td>0.040756</td>\n",
       "    </tr>\n",
       "    <tr>\n",
       "      <th>75%</th>\n",
       "      <td>3.00000</td>\n",
       "      <td>3.000000</td>\n",
       "      <td>3.00000</td>\n",
       "      <td>3.00000</td>\n",
       "      <td>3.00000</td>\n",
       "      <td>2.000000</td>\n",
       "      <td>0.012326</td>\n",
       "      <td>0.029991</td>\n",
       "      <td>0.051952</td>\n",
       "      <td>0.094059</td>\n",
       "      <td>0.041957</td>\n",
       "    </tr>\n",
       "    <tr>\n",
       "      <th>max</th>\n",
       "      <td>3.00000</td>\n",
       "      <td>3.000000</td>\n",
       "      <td>3.00000</td>\n",
       "      <td>3.00000</td>\n",
       "      <td>3.00000</td>\n",
       "      <td>2.000000</td>\n",
       "      <td>0.012718</td>\n",
       "      <td>0.034520</td>\n",
       "      <td>0.075124</td>\n",
       "      <td>0.117261</td>\n",
       "      <td>0.046195</td>\n",
       "    </tr>\n",
       "  </tbody>\n",
       "</table>\n",
       "</div>"
      ],
      "text/plain": [
       "Parameter (million USD)        DMD        FUEL      CC RE         DR  \\\n",
       "count                    324.00000  324.000000  324.00000  324.00000   \n",
       "mean                       2.00000    2.000000    2.00000    2.00000   \n",
       "std                        0.81776    1.001547    0.81776    0.81776   \n",
       "min                        1.00000    1.000000    1.00000    1.00000   \n",
       "25%                        1.00000    1.000000    1.00000    1.00000   \n",
       "50%                        2.00000    2.000000    2.00000    2.00000   \n",
       "75%                        3.00000    3.000000    3.00000    3.00000   \n",
       "max                        3.00000    3.000000    3.00000    3.00000   \n",
       "\n",
       "Parameter (million USD)        CO2          CC  AnnualFixedOperatingCost  \\\n",
       "count                    324.00000  324.000000                324.000000   \n",
       "mean                       2.00000    1.500000                  0.012054   \n",
       "std                        0.81776    0.500773                  0.000333   \n",
       "min                        1.00000    1.000000                  0.011519   \n",
       "25%                        1.00000    1.000000                  0.011768   \n",
       "50%                        2.00000    1.500000                  0.012019   \n",
       "75%                        3.00000    2.000000                  0.012326   \n",
       "max                        3.00000    2.000000                  0.012718   \n",
       "\n",
       "Parameter (million USD)  AnnualVariableOperatingCost  CapitalInvestment  \\\n",
       "count                                     324.000000         324.000000   \n",
       "mean                                        0.029144           0.049607   \n",
       "std                                         0.002684           0.006613   \n",
       "min                                         0.025456           0.040524   \n",
       "25%                                         0.026828           0.045702   \n",
       "50%                                         0.028852           0.048407   \n",
       "75%                                         0.029991           0.051952   \n",
       "max                                         0.034520           0.075124   \n",
       "\n",
       "Parameter (million USD)    tot_cost  annual_cost  \n",
       "count                    324.000000   324.000000  \n",
       "mean                       0.090805     0.041198  \n",
       "std                        0.006696     0.002407  \n",
       "min                        0.081634     0.037779  \n",
       "25%                        0.086136     0.039272  \n",
       "50%                        0.089761     0.040756  \n",
       "75%                        0.094059     0.041957  \n",
       "max                        0.117261     0.046195  "
      ]
     },
     "execution_count": 121,
     "metadata": {},
     "output_type": "execute_result"
    }
   ],
   "source": [
    "new_data2030_gdp.describe()"
   ]
  },
  {
   "cell_type": "code",
   "execution_count": 122,
   "metadata": {},
   "outputs": [
    {
     "data": {
      "text/plain": [
       "<seaborn.axisgrid.FacetGrid at 0x23dd39ef4a8>"
      ]
     },
     "execution_count": 122,
     "metadata": {},
     "output_type": "execute_result"
    },
    {
     "data": {
      "image/png": "[encoded data removed]",
      "text/plain": [
       "<matplotlib.figure.Figure at 0x23dd2d5f198>"
      ]
     },
     "metadata": {},
     "output_type": "display_data"
    }
   ],
   "source": [
    "to_plot = new_data2030_gdp.loc[new_data2030.CO2!=2,:].copy()\n",
    "#to_plot[\"tot_cost\"] = 1/(2030-2012)*10**(-3)*to_plot.tot_cost\n",
    "to_plot[\"tot_cost\"] = 100*to_plot.tot_cost\n",
    "\n",
    "to_plot[\"DR\"] = to_plot[\"DR\"].replace({1:3,2:6,3:12})\n",
    "\n",
    "to_plot[\"DMD\"] = to_plot[\"DMD\"].replace({1:\"Low\",2:\"Medium\",3:\"High\"})\n",
    "\n",
    "to_plot[\"CO2\"] = to_plot[\"CO2\"].replace({1:\"Zero carbon by 2050\",3:\"No constraint\"})\n",
    "\n",
    "g = sns.factorplot(x='DR',y='tot_cost', hue= 'DMD', col=\"Climate\", data=to_plot.rename(columns={\"CO2\":\"Climate\"}), kind=\"swarm\",dodge=False, size=6, aspect=1.1,\\\n",
    "                  legend=False)\n",
    "\n",
    "g.set_axis_labels(\"Cost of capital (%)\", \"Average annual cost (%GDP)\")\n",
    "g.add_legend(title=\"Demand\",bbox_to_anchor=(0.6, 0.65), borderaxespad=0.)\n",
    "\n",
    "#plt.savefig(\"KTH_costs2030.png\",ddpi=300,bbox_inches=\"tight\")\n",
    "#plt.savefig(\"KTH_costs2030.pdf\")"
   ]
  },
  {
   "cell_type": "code",
   "execution_count": 21,
   "metadata": {},
   "outputs": [
    {
     "data": {
      "image/png": "[encoded data removed]",
      "text/plain": [
       "<matplotlib.figure.Figure at 0x23dd3104eb8>"
      ]
     },
     "metadata": {},
     "output_type": "display_data"
    }
   ],
   "source": [
    "to_plot = new_data.loc[new_data.CO2!=2,:].copy()\n",
    "to_plot[\"tot_cost\"] = 1/(2050-2012)*10**(-3)*to_plot.tot_cost\n",
    "\n",
    "to_plot[\"DR\"] = to_plot[\"DR\"].replace({1:3,2:6,3:12})\n",
    "\n",
    "to_plot[\"DMD\"] = to_plot[\"DMD\"].replace({1:\"Low\",2:\"Medium\",3:\"High\"})\n",
    "\n",
    "to_plot[\"CO2\"] = to_plot[\"CO2\"].replace({1:\"Zero carbon by 2050\",3:\"No constraint\"})\n",
    "\n",
    "g = sns.factorplot(x='DR',y='tot_cost', hue= 'DMD', col=\"Climate\", data=to_plot.rename(columns={\"CO2\":\"Climate\"}), kind=\"swarm\",dodge=False, size=6, aspect=1.7,\\\n",
    "                  legend=False)\n",
    "\n",
    "g.set_axis_labels(\"Cost of capital (%)\", \"Average annual cost\")\n",
    "g.add_legend(title=\"Demand\",bbox_to_anchor=(0.9, 0.65), borderaxespad=0.)\n",
    "\n",
    "plt.savefig(\"KTH_costs.png\",ddpi=300,bbox_inches=\"tight\")\n",
    "plt.savefig(\"KTH_costs.pdf\")"
   ]
  },
  {
   "cell_type": "code",
   "execution_count": 129,
   "metadata": {},
   "outputs": [
    {
     "data": {
      "text/plain": [
       "<seaborn.axisgrid.FacetGrid at 0x2072f8a0898>"
      ]
     },
     "execution_count": 129,
     "metadata": {},
     "output_type": "execute_result"
    },
    {
     "data": {
      "image/png": "[encoded data removed]",
      "text/plain": [
       "<matplotlib.figure.Figure at 0x2072c470358>"
      ]
     },
     "metadata": {},
     "output_type": "display_data"
    }
   ],
   "source": [
    "to_plot = new_data.loc[new_data.CO2==3,:].copy()\n",
    "to_plot[\"tot_cost\"] = 1/(2050-2012)*10**(-3)*to_plot.tot_cost\n",
    "\n",
    "to_plot[\"DR\"] = to_plot[\"DR\"].replace({1:3,2:6,3:12})\n",
    "\n",
    "to_plot[\"DMD\"] = to_plot[\"DMD\"].replace({1:\"Low\",2:\"Medium\",3:\"High\"})\n",
    "\n",
    "g = sns.factorplot(x='DR',y='tot_cost', hue= 'DMD', data=to_plot, kind=\"swarm\",dodge=False, size=6, aspect=1.7,\\\n",
    "                  legend=False)\n",
    "\n",
    "g.set_axis_labels(\"Cost of capital (%)\", \"Average annual cost\")\n",
    "g.add_legend(title=\"\",bbox_to_anchor=(0.9, 0.65), borderaxespad=0.)"
   ]
  },
  {
   "cell_type": "markdown",
   "metadata": {},
   "source": [
    "### clustering and scenario discovery functions "
   ]
  },
  {
   "cell_type": "code",
   "execution_count": 78,
   "metadata": {
    "collapsed": true
   },
   "outputs": [],
   "source": [
    "def normalize(data):\n",
    "    minima = np.min(data, axis=0)\n",
    "    maxima = np.max(data, axis=0)\n",
    "    a = 1/(maxima-minima)\n",
    "    b = minima/(minima-maxima)\n",
    "    data = a * data + b                    \n",
    "    return data\n",
    "\n",
    "def clustering(n_clusters,data,xstring,ystring):\n",
    "    data_norm = normalize(data)\n",
    "    g = mixture.GaussianMixture(n_components=n_clusters)\n",
    "    #g = mixture.GaussianMixture(n_components=n_clusters,random_state = 0)\n",
    "    g.fit(data_norm)\n",
    "    pred = g.predict(data_norm)+1\n",
    "                    \n",
    "    x=[]\n",
    "    y=[]\n",
    "    for i in range(0,len(data)):\n",
    "        x.append(data[i][0])\n",
    "        y.append(data[i][1])\n",
    "\n",
    "    df = pd.DataFrame()\n",
    "    df[xstring] = x\n",
    "    df[ystring] = y\n",
    "    df['class'] = pred\n",
    "    \n",
    "    return df"
   ]
  },
  {
   "cell_type": "code",
   "execution_count": 40,
   "metadata": {
    "collapsed": true
   },
   "outputs": [],
   "source": [
    "def get_prim(n_clusters, f_value,data,xstring,ystring,inputs):\n",
    "    \n",
    "    df = clustering(n_clusters,data,xstring,ystring)\n",
    "    list_prim =[]\n",
    "        \n",
    "    for i in range(1,df['class'].max()+1):\n",
    "        list_prim.append(prim.Prim(inputs, (df['class']==i),threshold=0.5,threshold_type=\">\"))\n",
    "\n",
    "    boxes = []\n",
    "\n",
    "    for i in range(0,len(list_prim)):\n",
    "        boxes.append(list_prim[i].find_box())\n",
    "        obj = (f_value*boxes[i].peeling_trajectory['coverage']-(1-f_value)*boxes[i].peeling_trajectory['density'])**2\n",
    "        if 1 in boxes[i].peeling_trajectory['coverage']:\n",
    "            coverage1 = np.where(boxes[i].peeling_trajectory['coverage']==1)[0][0]\n",
    "            obj = obj.drop(obj.index[[coverage1]])\n",
    "        k = obj.argmin()\n",
    "        boxes[i].select(k)\n",
    "    \n",
    "    return [boxes,df]"
   ]
  },
  {
   "cell_type": "markdown",
   "metadata": {},
   "source": [
    "### looking for the clusters that gives the best PRIM results (we run the clustering several times until we get the best prim results) "
   ]
  },
  {
   "cell_type": "code",
   "execution_count": 18,
   "metadata": {
    "collapsed": true
   },
   "outputs": [],
   "source": [
    "oois = ['annual_cost','CapitalInvestment']\n",
    "\n",
    "data = np.array([[new_data[oois[0]][0],new_data[oois[1]][0]]])\n",
    "for i in range(1,len(new_data.index)):\n",
    "    data = np.concatenate((data,np.array([[new_data[oois[0]][i],new_data[oois[1]][i]]])))"
   ]
  },
  {
   "cell_type": "code",
   "execution_count": 67,
   "metadata": {
    "collapsed": true
   },
   "outputs": [],
   "source": [
    "n_clusters = 4\n",
    "f_value = 0.5\n",
    "seuil = 1.2"
   ]
  },
  {
   "cell_type": "code",
   "execution_count": 79,
   "metadata": {
    "collapsed": true
   },
   "outputs": [],
   "source": [
    "boxes_out,df_out = get_prim(n_clusters, f_value, data,oois[0],oois[1],inputs)"
   ]
  },
  {
   "cell_type": "code",
   "execution_count": 94,
   "metadata": {},
   "outputs": [
    {
     "data": {
      "image/png": "[encoded data removed]",
      "text/plain": [
       "<matplotlib.figure.Figure at 0x21ef006c2b0>"
      ]
     },
     "metadata": {},
     "output_type": "display_data"
    }
   ],
   "source": [
    "f = plt.figure(figsize=(9,9))\n",
    "mycolors = [\"#66c2a5\",\"#fc8d62\",\"#8da0cb\",\"#e78ac3\"]\n",
    "mymarks = [\"o\",\"x\",\"^\",\"s\"]\n",
    "for (i,subdf) in df_out.groupby(\"class\"):\n",
    "    plt.scatter(1e-6*subdf.annual_cost,1e-6*subdf.CapitalInvestment,label=\"Cluster {}\".format(i),c=mycolors[i-1],marker=mymarks[i-1])\n",
    "    \n",
    "plt.legend()\n",
    "plt.xlabel(\"Total variable and fixed annual cost, discounted at 6% (Trillion USD)\")\n",
    "plt.ylabel(\"Capital investment cost, discounted at 6% (Trillion USD)\")\n",
    "plt.savefig(\"clusters_discounted_6.png\")"
   ]
  },
  {
   "cell_type": "markdown",
   "metadata": {},
   "source": [
    "### below are PRIM results for each cluster"
   ]
  },
  {
   "cell_type": "markdown",
   "metadata": {},
   "source": [
    "#### cluster 1  "
   ]
  },
  {
   "cell_type": "code",
   "execution_count": 81,
   "metadata": {},
   "outputs": [
    {
     "data": {
      "text/html": [
       "<div>\n",
       "<table border=\"1\" class=\"dataframe\">\n",
       "  <thead>\n",
       "    <tr style=\"text-align: right;\">\n",
       "      <th></th>\n",
       "      <th>min</th>\n",
       "      <th>max</th>\n",
       "      <th>qp values</th>\n",
       "    </tr>\n",
       "  </thead>\n",
       "  <tbody>\n",
       "    <tr>\n",
       "      <th>DR</th>\n",
       "      <td>3.0</td>\n",
       "      <td>3.0</td>\n",
       "      <td>5.231633e-13</td>\n",
       "    </tr>\n",
       "    <tr>\n",
       "      <th>CO2</th>\n",
       "      <td>1.0</td>\n",
       "      <td>2.0</td>\n",
       "      <td>3.586348e-04</td>\n",
       "    </tr>\n",
       "    <tr>\n",
       "      <th>DMD</th>\n",
       "      <td>2.0</td>\n",
       "      <td>3.0</td>\n",
       "      <td>3.586348e-04</td>\n",
       "    </tr>\n",
       "  </tbody>\n",
       "</table>\n",
       "</div>"
      ],
      "text/plain": [
       "     min  max     qp values\n",
       "DR   3.0  3.0  5.231633e-13\n",
       "CO2  1.0  2.0  3.586348e-04\n",
       "DMD  2.0  3.0  3.586348e-04"
      ]
     },
     "execution_count": 81,
     "metadata": {},
     "output_type": "execute_result"
    }
   ],
   "source": [
    "boxes_out[0].limits"
   ]
  },
  {
   "cell_type": "code",
   "execution_count": 82,
   "metadata": {},
   "outputs": [
    {
     "data": {
      "text/plain": [
       "(1.0, 0.75)"
      ]
     },
     "execution_count": 82,
     "metadata": {},
     "output_type": "execute_result"
    }
   ],
   "source": [
    "boxes_out[0].coverage,boxes_out[0].density"
   ]
  },
  {
   "cell_type": "markdown",
   "metadata": {},
   "source": [
    "#### cluster 2 "
   ]
  },
  {
   "cell_type": "code",
   "execution_count": 83,
   "metadata": {},
   "outputs": [
    {
     "data": {
      "text/html": [
       "<div>\n",
       "<table border=\"1\" class=\"dataframe\">\n",
       "  <thead>\n",
       "    <tr style=\"text-align: right;\">\n",
       "      <th></th>\n",
       "      <th>min</th>\n",
       "      <th>max</th>\n",
       "      <th>qp values</th>\n",
       "    </tr>\n",
       "  </thead>\n",
       "  <tbody>\n",
       "    <tr>\n",
       "      <th>DMD</th>\n",
       "      <td>1.0</td>\n",
       "      <td>2.0</td>\n",
       "      <td>1.731957e-09</td>\n",
       "    </tr>\n",
       "    <tr>\n",
       "      <th>DR</th>\n",
       "      <td>1.0</td>\n",
       "      <td>2.0</td>\n",
       "      <td>1.731957e-09</td>\n",
       "    </tr>\n",
       "  </tbody>\n",
       "</table>\n",
       "</div>"
      ],
      "text/plain": [
       "     min  max     qp values\n",
       "DMD  1.0  2.0  1.731957e-09\n",
       "DR   1.0  2.0  1.731957e-09"
      ]
     },
     "execution_count": 83,
     "metadata": {},
     "output_type": "execute_result"
    }
   ],
   "source": [
    "boxes_out[1].limits"
   ]
  },
  {
   "cell_type": "code",
   "execution_count": 84,
   "metadata": {},
   "outputs": [
    {
     "data": {
      "text/plain": [
       "(1.0, 0.73611111111111116)"
      ]
     },
     "execution_count": 84,
     "metadata": {},
     "output_type": "execute_result"
    }
   ],
   "source": [
    "boxes_out[1].coverage,boxes_out[1].density"
   ]
  },
  {
   "cell_type": "markdown",
   "metadata": {},
   "source": [
    "#### cluster 3 "
   ]
  },
  {
   "cell_type": "code",
   "execution_count": 85,
   "metadata": {},
   "outputs": [
    {
     "data": {
      "text/html": [
       "<div>\n",
       "<table border=\"1\" class=\"dataframe\">\n",
       "  <thead>\n",
       "    <tr style=\"text-align: right;\">\n",
       "      <th></th>\n",
       "      <th>min</th>\n",
       "      <th>max</th>\n",
       "      <th>qp values</th>\n",
       "    </tr>\n",
       "  </thead>\n",
       "  <tbody>\n",
       "    <tr>\n",
       "      <th>DMD</th>\n",
       "      <td>2.0</td>\n",
       "      <td>3.0</td>\n",
       "      <td>0.000002</td>\n",
       "    </tr>\n",
       "    <tr>\n",
       "      <th>DR</th>\n",
       "      <td>1.0</td>\n",
       "      <td>2.0</td>\n",
       "      <td>0.000002</td>\n",
       "    </tr>\n",
       "    <tr>\n",
       "      <th>CO2</th>\n",
       "      <td>1.0</td>\n",
       "      <td>2.0</td>\n",
       "      <td>0.000235</td>\n",
       "    </tr>\n",
       "  </tbody>\n",
       "</table>\n",
       "</div>"
      ],
      "text/plain": [
       "     min  max  qp values\n",
       "DMD  2.0  3.0   0.000002\n",
       "DR   1.0  2.0   0.000002\n",
       "CO2  1.0  2.0   0.000235"
      ]
     },
     "execution_count": 85,
     "metadata": {},
     "output_type": "execute_result"
    }
   ],
   "source": [
    "boxes_out[2].limits"
   ]
  },
  {
   "cell_type": "code",
   "execution_count": 86,
   "metadata": {},
   "outputs": [
    {
     "data": {
      "text/plain": [
       "(0.89473684210526316, 0.70833333333333337)"
      ]
     },
     "execution_count": 86,
     "metadata": {},
     "output_type": "execute_result"
    }
   ],
   "source": [
    "boxes_out[2].coverage,boxes_out[2].density"
   ]
  },
  {
   "cell_type": "code",
   "execution_count": 87,
   "metadata": {},
   "outputs": [
    {
     "data": {
      "text/html": [
       "<div>\n",
       "<table border=\"1\" class=\"dataframe\">\n",
       "  <thead>\n",
       "    <tr style=\"text-align: right;\">\n",
       "      <th></th>\n",
       "      <th>min</th>\n",
       "      <th>max</th>\n",
       "      <th>qp values</th>\n",
       "    </tr>\n",
       "  </thead>\n",
       "  <tbody>\n",
       "    <tr>\n",
       "      <th>DR</th>\n",
       "      <td>2.0</td>\n",
       "      <td>3.0</td>\n",
       "      <td>0.000004</td>\n",
       "    </tr>\n",
       "    <tr>\n",
       "      <th>CO2</th>\n",
       "      <td>2.0</td>\n",
       "      <td>3.0</td>\n",
       "      <td>0.000162</td>\n",
       "    </tr>\n",
       "  </tbody>\n",
       "</table>\n",
       "</div>"
      ],
      "text/plain": [
       "     min  max  qp values\n",
       "DR   2.0  3.0   0.000004\n",
       "CO2  2.0  3.0   0.000162"
      ]
     },
     "execution_count": 87,
     "metadata": {},
     "output_type": "execute_result"
    }
   ],
   "source": [
    "boxes_out[3].limits"
   ]
  },
  {
   "cell_type": "code",
   "execution_count": 88,
   "metadata": {},
   "outputs": [
    {
     "data": {
      "text/plain": [
       "(0.84905660377358494, 0.625)"
      ]
     },
     "execution_count": 88,
     "metadata": {},
     "output_type": "execute_result"
    }
   ],
   "source": [
    "boxes_out[3].coverage,boxes_out[3].density"
   ]
  },
  {
   "cell_type": "code",
   "execution_count": 90,
   "metadata": {
    "collapsed": true
   },
   "outputs": [],
   "source": [
    "table_out = pd.DataFrame()"
   ]
  },
  {
   "cell_type": "code",
   "execution_count": 93,
   "metadata": {},
   "outputs": [
    {
     "ename": "PandasError",
     "evalue": "DataFrame constructor not properly called!",
     "output_type": "error",
     "traceback": [
      "\u001b[0;31m---------------------------------------------------------------------------\u001b[0m",
      "\u001b[0;31mPandasError\u001b[0m                               Traceback (most recent call last)",
      "\u001b[0;32m<ipython-input-93-2a4c95467139>\u001b[0m in \u001b[0;36m<module>\u001b[0;34m()\u001b[0m\n\u001b[0;32m----> 1\u001b[0;31m \u001b[0mtable_out\u001b[0m\u001b[1;33m.\u001b[0m\u001b[0mappend\u001b[0m\u001b[1;33m(\u001b[0m\u001b[0mpd\u001b[0m\u001b[1;33m.\u001b[0m\u001b[0mDataFrame\u001b[0m\u001b[1;33m(\u001b[0m\u001b[0mboxes_out\u001b[0m\u001b[1;33m[\u001b[0m\u001b[1;36m0\u001b[0m\u001b[1;33m]\u001b[0m\u001b[1;33m)\u001b[0m\u001b[1;33m)\u001b[0m\u001b[1;33m\u001b[0m\u001b[0m\n\u001b[0m",
      "\u001b[0;32mC:\\Anaconda3\\lib\\site-packages\\pandas\\core\\frame.py\u001b[0m in \u001b[0;36m__init__\u001b[0;34m(self, data, index, columns, dtype, copy)\u001b[0m\n\u001b[1;32m    343\u001b[0m                                          copy=False)\n\u001b[1;32m    344\u001b[0m             \u001b[1;32melse\u001b[0m\u001b[1;33m:\u001b[0m\u001b[1;33m\u001b[0m\u001b[0m\n\u001b[0;32m--> 345\u001b[0;31m                 \u001b[1;32mraise\u001b[0m \u001b[0mPandasError\u001b[0m\u001b[1;33m(\u001b[0m\u001b[1;34m'DataFrame constructor not properly called!'\u001b[0m\u001b[1;33m)\u001b[0m\u001b[1;33m\u001b[0m\u001b[0m\n\u001b[0m\u001b[1;32m    346\u001b[0m \u001b[1;33m\u001b[0m\u001b[0m\n\u001b[1;32m    347\u001b[0m         \u001b[0mNDFrame\u001b[0m\u001b[1;33m.\u001b[0m\u001b[0m__init__\u001b[0m\u001b[1;33m(\u001b[0m\u001b[0mself\u001b[0m\u001b[1;33m,\u001b[0m \u001b[0mmgr\u001b[0m\u001b[1;33m,\u001b[0m \u001b[0mfastpath\u001b[0m\u001b[1;33m=\u001b[0m\u001b[1;32mTrue\u001b[0m\u001b[1;33m)\u001b[0m\u001b[1;33m\u001b[0m\u001b[0m\n",
      "\u001b[0;31mPandasError\u001b[0m: DataFrame constructor not properly called!"
     ]
    }
   ],
   "source": [
    "table_out.append(pd.DataFrame(boxes_out[0]))"
   ]
  },
  {
   "cell_type": "code",
   "execution_count": null,
   "metadata": {
    "collapsed": true
   },
   "outputs": [],
   "source": []
  }
 ],
 "metadata": {
  "kernelspec": {
   "display_name": "Python [default]",
   "language": "python",
   "name": "python3"
  },
  "language_info": {
   "codemirror_mode": {
    "name": "ipython",
    "version": 3
   },
   "file_extension": ".py",
   "mimetype": "text/x-python",
   "name": "python",
   "nbconvert_exporter": "python",
   "pygments_lexer": "ipython3",
   "version": "3.5.4"
  },
  "toc": {
   "colors": {
    "hover_highlight": "#DAA520",
    "navigate_num": "#000000",
    "navigate_text": "#333333",
    "running_highlight": "#FF0000",
    "selected_highlight": "#FFD700",
    "sidebar_border": "#EEEEEE",
    "wrapper_background": "#FFFFFF"
   },
   "moveMenuLeft": true,
   "nav_menu": {
    "height": "236px",
    "width": "252px"
   },
   "navigate_menu": true,
   "number_sections": true,
   "sideBar": true,
   "threshold": 4,
   "toc_cell": false,
   "toc_section_display": "block",
   "toc_window_display": false,
   "widenNotebook": false
  }
 },
 "nbformat": 4,
 "nbformat_minor": 1
}
