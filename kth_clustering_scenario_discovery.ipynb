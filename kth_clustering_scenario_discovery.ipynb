{
 "cells": [
  {
   "cell_type": "code",
   "execution_count": 1,
   "metadata": {},
   "outputs": [],
   "source": [
    "import pandas as pd\n",
    "import numpy as np\n",
    "import matplotlib.pyplot as plt\n",
    "import prim\n",
    "import seaborn as sns\n",
    "from sklearn import mixture\n",
    "from clustering_and_prim_tools import *"
   ]
  },
  {
   "cell_type": "code",
   "execution_count": 2,
   "metadata": {
    "collapsed": true
   },
   "outputs": [],
   "source": [
    "%matplotlib inline"
   ]
  },
  {
   "cell_type": "code",
   "execution_count": 3,
   "metadata": {
    "collapsed": true
   },
   "outputs": [],
   "source": [
    "sns.set_context(\"poster\",rc={\"font.size\": 28})\n",
    "sns.set_style(\"whitegrid\")"
   ]
  },
  {
   "cell_type": "code",
   "execution_count": 6,
   "metadata": {},
   "outputs": [],
   "source": [
    "data = pd.read_excel(\"C:\\\\Users\\\\WB451855\\\\OneDrive - WBG\\\\!infra_needs_data\\\\energy_kth_output_data\\\\SAMBA scenario results all runs_revised CO2 limit.xlsx\",\"Capital inv variable and fixed\")"
   ]
  },
  {
   "cell_type": "code",
   "execution_count": 7,
   "metadata": {},
   "outputs": [
    {
     "data": {
      "text/html": [
       "<div>\n",
       "<style>\n",
       "    .dataframe thead tr:only-child th {\n",
       "        text-align: right;\n",
       "    }\n",
       "\n",
       "    .dataframe thead th {\n",
       "        text-align: left;\n",
       "    }\n",
       "\n",
       "    .dataframe tbody tr th {\n",
       "        vertical-align: top;\n",
       "    }\n",
       "</style>\n",
       "<table border=\"1\" class=\"dataframe\">\n",
       "  <thead>\n",
       "    <tr style=\"text-align: right;\">\n",
       "      <th></th>\n",
       "      <th>DMD</th>\n",
       "      <th>FUEL</th>\n",
       "      <th>CC RE</th>\n",
       "      <th>DR</th>\n",
       "      <th>CO2</th>\n",
       "      <th>CC</th>\n",
       "      <th>Parameter (million USD)</th>\n",
       "      <th>2013</th>\n",
       "      <th>2014</th>\n",
       "      <th>2015</th>\n",
       "      <th>...</th>\n",
       "      <th>2041</th>\n",
       "      <th>2042</th>\n",
       "      <th>2043</th>\n",
       "      <th>2044</th>\n",
       "      <th>2045</th>\n",
       "      <th>2046</th>\n",
       "      <th>2047</th>\n",
       "      <th>2048</th>\n",
       "      <th>2049</th>\n",
       "      <th>2050</th>\n",
       "    </tr>\n",
       "  </thead>\n",
       "  <tbody>\n",
       "    <tr>\n",
       "      <th>665</th>\n",
       "      <td>3</td>\n",
       "      <td>1</td>\n",
       "      <td>1</td>\n",
       "      <td>1</td>\n",
       "      <td>3</td>\n",
       "      <td>2</td>\n",
       "      <td>CapitalInvestment</td>\n",
       "      <td>133.712600</td>\n",
       "      <td>21097.136732</td>\n",
       "      <td>30081.302202</td>\n",
       "      <td>...</td>\n",
       "      <td>73309.546263</td>\n",
       "      <td>71889.838001</td>\n",
       "      <td>76935.990846</td>\n",
       "      <td>72546.253599</td>\n",
       "      <td>84693.454404</td>\n",
       "      <td>80806.120894</td>\n",
       "      <td>78167.333646</td>\n",
       "      <td>79887.721700</td>\n",
       "      <td>86967.698160</td>\n",
       "      <td>83853.345277</td>\n",
       "    </tr>\n",
       "    <tr>\n",
       "      <th>220</th>\n",
       "      <td>1</td>\n",
       "      <td>3</td>\n",
       "      <td>2</td>\n",
       "      <td>1</td>\n",
       "      <td>1</td>\n",
       "      <td>2</td>\n",
       "      <td>AnnualVariableOperatingCost</td>\n",
       "      <td>23736.982014</td>\n",
       "      <td>25166.563181</td>\n",
       "      <td>14690.847642</td>\n",
       "      <td>...</td>\n",
       "      <td>18859.983038</td>\n",
       "      <td>18929.160824</td>\n",
       "      <td>19152.025369</td>\n",
       "      <td>19353.997397</td>\n",
       "      <td>19811.974155</td>\n",
       "      <td>20132.246606</td>\n",
       "      <td>20328.606082</td>\n",
       "      <td>20416.887226</td>\n",
       "      <td>20621.992764</td>\n",
       "      <td>20710.511762</td>\n",
       "    </tr>\n",
       "    <tr>\n",
       "      <th>658</th>\n",
       "      <td>3</td>\n",
       "      <td>1</td>\n",
       "      <td>1</td>\n",
       "      <td>1</td>\n",
       "      <td>2</td>\n",
       "      <td>2</td>\n",
       "      <td>AnnualVariableOperatingCost</td>\n",
       "      <td>23736.982014</td>\n",
       "      <td>24679.344251</td>\n",
       "      <td>14648.484490</td>\n",
       "      <td>...</td>\n",
       "      <td>24750.123698</td>\n",
       "      <td>25260.208760</td>\n",
       "      <td>26356.919249</td>\n",
       "      <td>26749.500050</td>\n",
       "      <td>27585.450331</td>\n",
       "      <td>27957.557829</td>\n",
       "      <td>28095.413310</td>\n",
       "      <td>28281.117792</td>\n",
       "      <td>28936.350563</td>\n",
       "      <td>29591.545402</td>\n",
       "    </tr>\n",
       "    <tr>\n",
       "      <th>473</th>\n",
       "      <td>2</td>\n",
       "      <td>1</td>\n",
       "      <td>3</td>\n",
       "      <td>3</td>\n",
       "      <td>1</td>\n",
       "      <td>2</td>\n",
       "      <td>CapitalInvestment</td>\n",
       "      <td>24.570676</td>\n",
       "      <td>29531.643049</td>\n",
       "      <td>44201.333342</td>\n",
       "      <td>...</td>\n",
       "      <td>105869.733394</td>\n",
       "      <td>119659.923679</td>\n",
       "      <td>130680.844116</td>\n",
       "      <td>126571.897198</td>\n",
       "      <td>143248.008905</td>\n",
       "      <td>136845.243096</td>\n",
       "      <td>144891.143275</td>\n",
       "      <td>156263.695239</td>\n",
       "      <td>167756.895645</td>\n",
       "      <td>219614.826594</td>\n",
       "    </tr>\n",
       "    <tr>\n",
       "      <th>952</th>\n",
       "      <td>3</td>\n",
       "      <td>3</td>\n",
       "      <td>3</td>\n",
       "      <td>2</td>\n",
       "      <td>3</td>\n",
       "      <td>2</td>\n",
       "      <td>AnnualVariableOperatingCost</td>\n",
       "      <td>23737.879160</td>\n",
       "      <td>24681.102106</td>\n",
       "      <td>14650.085755</td>\n",
       "      <td>...</td>\n",
       "      <td>47332.652216</td>\n",
       "      <td>49660.095141</td>\n",
       "      <td>52637.150572</td>\n",
       "      <td>54739.425203</td>\n",
       "      <td>57185.160360</td>\n",
       "      <td>59638.684984</td>\n",
       "      <td>62013.306125</td>\n",
       "      <td>64370.544321</td>\n",
       "      <td>66938.703708</td>\n",
       "      <td>65924.303899</td>\n",
       "    </tr>\n",
       "  </tbody>\n",
       "</table>\n",
       "<p>5 rows × 45 columns</p>\n",
       "</div>"
      ],
      "text/plain": [
       "     DMD  FUEL  CC RE  DR  CO2  CC      Parameter (million USD)          2013  \\\n",
       "665    3     1      1   1    3   2            CapitalInvestment    133.712600   \n",
       "220    1     3      2   1    1   2  AnnualVariableOperatingCost  23736.982014   \n",
       "658    3     1      1   1    2   2  AnnualVariableOperatingCost  23736.982014   \n",
       "473    2     1      3   3    1   2            CapitalInvestment     24.570676   \n",
       "952    3     3      3   2    3   2  AnnualVariableOperatingCost  23737.879160   \n",
       "\n",
       "             2014          2015      ...                 2041           2042  \\\n",
       "665  21097.136732  30081.302202      ...         73309.546263   71889.838001   \n",
       "220  25166.563181  14690.847642      ...         18859.983038   18929.160824   \n",
       "658  24679.344251  14648.484490      ...         24750.123698   25260.208760   \n",
       "473  29531.643049  44201.333342      ...        105869.733394  119659.923679   \n",
       "952  24681.102106  14650.085755      ...         47332.652216   49660.095141   \n",
       "\n",
       "              2043           2044           2045           2046  \\\n",
       "665   76935.990846   72546.253599   84693.454404   80806.120894   \n",
       "220   19152.025369   19353.997397   19811.974155   20132.246606   \n",
       "658   26356.919249   26749.500050   27585.450331   27957.557829   \n",
       "473  130680.844116  126571.897198  143248.008905  136845.243096   \n",
       "952   52637.150572   54739.425203   57185.160360   59638.684984   \n",
       "\n",
       "              2047           2048           2049           2050  \n",
       "665   78167.333646   79887.721700   86967.698160   83853.345277  \n",
       "220   20328.606082   20416.887226   20621.992764   20710.511762  \n",
       "658   28095.413310   28281.117792   28936.350563   29591.545402  \n",
       "473  144891.143275  156263.695239  167756.895645  219614.826594  \n",
       "952   62013.306125   64370.544321   66938.703708   65924.303899  \n",
       "\n",
       "[5 rows x 45 columns]"
      ]
     },
     "execution_count": 7,
     "metadata": {},
     "output_type": "execute_result"
    }
   ],
   "source": [
    "data.sample(5)"
   ]
  },
  {
   "cell_type": "code",
   "execution_count": 8,
   "metadata": {},
   "outputs": [],
   "source": [
    "new_data = data.set_index(['DMD', 'FUEL', 'CC RE', 'DR', 'CO2', 'CC', 'Parameter (million USD)']).sum(axis=1).unstack(\"Parameter (million USD)\").reset_index()"
   ]
  },
  {
   "cell_type": "markdown",
   "metadata": {},
   "source": [
    "### separate uncertain factors from results"
   ]
  },
  {
   "cell_type": "code",
   "execution_count": 9,
   "metadata": {
    "collapsed": true
   },
   "outputs": [],
   "source": [
    "inputs = new_data[['DMD', 'FUEL', 'CC RE', 'DR', 'CO2', 'CC']]"
   ]
  },
  {
   "cell_type": "markdown",
   "metadata": {},
   "source": [
    "### results (costs)"
   ]
  },
  {
   "cell_type": "code",
   "execution_count": 10,
   "metadata": {},
   "outputs": [
    {
     "data": {
      "text/html": [
       "<div>\n",
       "<style>\n",
       "    .dataframe thead tr:only-child th {\n",
       "        text-align: right;\n",
       "    }\n",
       "\n",
       "    .dataframe thead th {\n",
       "        text-align: left;\n",
       "    }\n",
       "\n",
       "    .dataframe tbody tr th {\n",
       "        vertical-align: top;\n",
       "    }\n",
       "</style>\n",
       "<table border=\"1\" class=\"dataframe\">\n",
       "  <thead>\n",
       "    <tr style=\"text-align: right;\">\n",
       "      <th>Parameter (million USD)</th>\n",
       "      <th>CapitalInvestment</th>\n",
       "      <th>AnnualFixedOperatingCost</th>\n",
       "      <th>AnnualVariableOperatingCost</th>\n",
       "    </tr>\n",
       "  </thead>\n",
       "  <tbody>\n",
       "    <tr>\n",
       "      <th>count</th>\n",
       "      <td>3.240000e+02</td>\n",
       "      <td>324.000000</td>\n",
       "      <td>3.240000e+02</td>\n",
       "    </tr>\n",
       "    <tr>\n",
       "      <th>mean</th>\n",
       "      <td>2.109196e+06</td>\n",
       "      <td>401662.812550</td>\n",
       "      <td>9.663333e+05</td>\n",
       "    </tr>\n",
       "    <tr>\n",
       "      <th>std</th>\n",
       "      <td>6.446533e+05</td>\n",
       "      <td>40104.127269</td>\n",
       "      <td>2.676347e+05</td>\n",
       "    </tr>\n",
       "    <tr>\n",
       "      <th>min</th>\n",
       "      <td>1.234056e+06</td>\n",
       "      <td>325863.115023</td>\n",
       "      <td>6.441355e+05</td>\n",
       "    </tr>\n",
       "    <tr>\n",
       "      <th>25%</th>\n",
       "      <td>1.600893e+06</td>\n",
       "      <td>376618.897218</td>\n",
       "      <td>7.758696e+05</td>\n",
       "    </tr>\n",
       "    <tr>\n",
       "      <th>50%</th>\n",
       "      <td>1.960887e+06</td>\n",
       "      <td>397458.345427</td>\n",
       "      <td>8.782428e+05</td>\n",
       "    </tr>\n",
       "    <tr>\n",
       "      <th>75%</th>\n",
       "      <td>2.402974e+06</td>\n",
       "      <td>422699.560905</td>\n",
       "      <td>1.071958e+06</td>\n",
       "    </tr>\n",
       "    <tr>\n",
       "      <th>max</th>\n",
       "      <td>4.321485e+06</td>\n",
       "      <td>506822.532554</td>\n",
       "      <td>1.881458e+06</td>\n",
       "    </tr>\n",
       "  </tbody>\n",
       "</table>\n",
       "</div>"
      ],
      "text/plain": [
       "Parameter (million USD)  CapitalInvestment  AnnualFixedOperatingCost  \\\n",
       "count                         3.240000e+02                324.000000   \n",
       "mean                          2.109196e+06             401662.812550   \n",
       "std                           6.446533e+05              40104.127269   \n",
       "min                           1.234056e+06             325863.115023   \n",
       "25%                           1.600893e+06             376618.897218   \n",
       "50%                           1.960887e+06             397458.345427   \n",
       "75%                           2.402974e+06             422699.560905   \n",
       "max                           4.321485e+06             506822.532554   \n",
       "\n",
       "Parameter (million USD)  AnnualVariableOperatingCost  \n",
       "count                                   3.240000e+02  \n",
       "mean                                    9.663333e+05  \n",
       "std                                     2.676347e+05  \n",
       "min                                     6.441355e+05  \n",
       "25%                                     7.758696e+05  \n",
       "50%                                     8.782428e+05  \n",
       "75%                                     1.071958e+06  \n",
       "max                                     1.881458e+06  "
      ]
     },
     "execution_count": 10,
     "metadata": {},
     "output_type": "execute_result"
    }
   ],
   "source": [
    "new_data[['CapitalInvestment','AnnualFixedOperatingCost','AnnualVariableOperatingCost']].describe()"
   ]
  },
  {
   "cell_type": "code",
   "execution_count": 11,
   "metadata": {
    "collapsed": true
   },
   "outputs": [],
   "source": [
    "new_data['tot_cost'] = new_data[['CapitalInvestment','AnnualFixedOperatingCost','AnnualVariableOperatingCost']].sum(axis=1)"
   ]
  },
  {
   "cell_type": "code",
   "execution_count": 12,
   "metadata": {},
   "outputs": [
    {
     "data": {
      "text/plain": [
       "count    3.240000e+02\n",
       "mean     3.477192e+06\n",
       "std      7.180726e+05\n",
       "min      2.450426e+06\n",
       "25%      2.922814e+06\n",
       "50%      3.353408e+06\n",
       "75%      3.896563e+06\n",
       "max      5.858908e+06\n",
       "Name: tot_cost, dtype: float64"
      ]
     },
     "execution_count": 12,
     "metadata": {},
     "output_type": "execute_result"
    }
   ],
   "source": [
    "new_data['tot_cost'].describe()"
   ]
  },
  {
   "cell_type": "code",
   "execution_count": 13,
   "metadata": {
    "collapsed": true
   },
   "outputs": [],
   "source": [
    "new_data['annual_cost'] = new_data[['AnnualFixedOperatingCost','AnnualVariableOperatingCost']].sum(axis=1)"
   ]
  },
  {
   "cell_type": "markdown",
   "metadata": {},
   "source": [
    "### clustering and scenario discovery functions "
   ]
  },
  {
   "cell_type": "code",
   "execution_count": 14,
   "metadata": {
    "collapsed": true
   },
   "outputs": [],
   "source": [
    "oois = ['annual_cost','CapitalInvestment']\n",
    "\n",
    "data = np.array([[new_data[oois[0]][0],new_data[oois[1]][0]]])\n",
    "for i in range(1,len(new_data.index)):\n",
    "    data = np.concatenate((data,np.array([[new_data[oois[0]][i],new_data[oois[1]][i]]])))\n",
    "\n",
    "data_norm = normalize(data)"
   ]
  },
  {
   "cell_type": "code",
   "execution_count": 15,
   "metadata": {
    "collapsed": true
   },
   "outputs": [],
   "source": [
    "n_clusters = 4\n",
    "f_value = 0.5\n",
    "seuil = 1.2"
   ]
  },
  {
   "cell_type": "markdown",
   "metadata": {},
   "source": [
    "### looking for the clusters that gives the best PRIM results (the number of clusters is chosen by the algorithm) "
   ]
  },
  {
   "cell_type": "code",
   "execution_count": 16,
   "metadata": {},
   "outputs": [],
   "source": [
    "while n_clusters>2:\n",
    "\n",
    "    condition = True\n",
    "\n",
    "    for i in get_prim(n_clusters, f_value, data,oois[0],oois[1],inputs)[0]:\n",
    "        if i.coverage+i.density < seuil:\n",
    "            condition = False\n",
    "        else:\n",
    "            condition = condition&True\n",
    "    if condition == True:\n",
    "        break\n",
    "    else:\n",
    "        n_clusters = n_clusters - 1\n",
    "        continue\n",
    "\n",
    "\n",
    "#Plot of clusters\n",
    "\n",
    "\n",
    "dummy = get_prim(n_clusters, f_value, data,oois[0],oois[1],inputs)\n",
    "boxes = dummy[0]\n",
    "df = dummy[1]"
   ]
  },
  {
   "cell_type": "markdown",
   "metadata": {},
   "source": [
    "### the algorithm has found 3 clusters "
   ]
  },
  {
   "cell_type": "code",
   "execution_count": 27,
   "metadata": {},
   "outputs": [
    {
     "data": {
      "image/png": "[encoded data removed]",
      "text/plain": [
       "<matplotlib.figure.Figure at 0x29dbd727550>"
      ]
     },
     "metadata": {},
     "output_type": "display_data"
    }
   ],
   "source": [
    "mycolors = [\"grey\",\"red\",\"green\",\"blue\"]\n",
    "for (i,subdf) in df.groupby(\"class\"):\n",
    "\n",
    "    plt.scatter(1e-6*subdf.annual_cost,1e-6*subdf.CapitalInvestment,label=\"Cluster {}\".format(i),c=mycolors[i-1])\n",
    "plt.legend()\n",
    "plt.xlabel(\"Variable and fixed annual cost, Trillion USD\")\n",
    "plt.ylabel(\"Capital investment cost, Billion USD\")\n",
    "plt.savefig(\"clusters.png\")"
   ]
  },
  {
   "cell_type": "markdown",
   "metadata": {},
   "source": [
    "### below are PRIM results for each cluster"
   ]
  },
  {
   "cell_type": "markdown",
   "metadata": {},
   "source": [
    "#### cluster 1  "
   ]
  },
  {
   "cell_type": "code",
   "execution_count": 24,
   "metadata": {},
   "outputs": [
    {
     "data": {
      "text/html": [
       "<div>\n",
       "<table border=\"1\" class=\"dataframe\">\n",
       "  <thead>\n",
       "    <tr style=\"text-align: right;\">\n",
       "      <th></th>\n",
       "      <th>min</th>\n",
       "      <th>max</th>\n",
       "      <th>qp values</th>\n",
       "    </tr>\n",
       "  </thead>\n",
       "  <tbody>\n",
       "    <tr>\n",
       "      <th>CO2</th>\n",
       "      <td>1.0</td>\n",
       "      <td>2.0</td>\n",
       "      <td>5.475635e-07</td>\n",
       "    </tr>\n",
       "    <tr>\n",
       "      <th>DMD</th>\n",
       "      <td>2.0</td>\n",
       "      <td>3.0</td>\n",
       "      <td>2.269133e-05</td>\n",
       "    </tr>\n",
       "    <tr>\n",
       "      <th>DR</th>\n",
       "      <td>2.0</td>\n",
       "      <td>3.0</td>\n",
       "      <td>2.024737e-04</td>\n",
       "    </tr>\n",
       "  </tbody>\n",
       "</table>\n",
       "</div>"
      ],
      "text/plain": [
       "     min  max     qp values\n",
       "CO2  1.0  2.0  5.475635e-07\n",
       "DMD  2.0  3.0  2.269133e-05\n",
       "DR   2.0  3.0  2.024737e-04"
      ]
     },
     "execution_count": 24,
     "metadata": {},
     "output_type": "execute_result"
    }
   ],
   "source": [
    "boxes[0].limits"
   ]
  },
  {
   "cell_type": "markdown",
   "metadata": {},
   "source": [
    "#### cluster 2 "
   ]
  },
  {
   "cell_type": "code",
   "execution_count": 25,
   "metadata": {},
   "outputs": [
    {
     "data": {
      "text/html": [
       "<div>\n",
       "<table border=\"1\" class=\"dataframe\">\n",
       "  <thead>\n",
       "    <tr style=\"text-align: right;\">\n",
       "      <th></th>\n",
       "      <th>min</th>\n",
       "      <th>max</th>\n",
       "      <th>qp values</th>\n",
       "    </tr>\n",
       "  </thead>\n",
       "  <tbody>\n",
       "    <tr>\n",
       "      <th>CO2</th>\n",
       "      <td>3.0</td>\n",
       "      <td>3.0</td>\n",
       "      <td>6.286701e-15</td>\n",
       "    </tr>\n",
       "    <tr>\n",
       "      <th>DR</th>\n",
       "      <td>2.0</td>\n",
       "      <td>3.0</td>\n",
       "      <td>1.106845e-04</td>\n",
       "    </tr>\n",
       "  </tbody>\n",
       "</table>\n",
       "</div>"
      ],
      "text/plain": [
       "     min  max     qp values\n",
       "CO2  3.0  3.0  6.286701e-15\n",
       "DR   2.0  3.0  1.106845e-04"
      ]
     },
     "execution_count": 25,
     "metadata": {},
     "output_type": "execute_result"
    }
   ],
   "source": [
    "boxes[1].limits"
   ]
  },
  {
   "cell_type": "markdown",
   "metadata": {},
   "source": [
    "#### cluster 3 (red: high capital costs) is explained by a strong CO2 constraint, high demand and high discount rate "
   ]
  },
  {
   "cell_type": "code",
   "execution_count": 26,
   "metadata": {},
   "outputs": [
    {
     "data": {
      "text/html": [
       "<div>\n",
       "<table border=\"1\" class=\"dataframe\">\n",
       "  <thead>\n",
       "    <tr style=\"text-align: right;\">\n",
       "      <th></th>\n",
       "      <th>min</th>\n",
       "      <th>max</th>\n",
       "      <th>qp values</th>\n",
       "    </tr>\n",
       "  </thead>\n",
       "  <tbody>\n",
       "    <tr>\n",
       "      <th>DR</th>\n",
       "      <td>1.0</td>\n",
       "      <td>2.0</td>\n",
       "      <td>1.454294e-12</td>\n",
       "    </tr>\n",
       "    <tr>\n",
       "      <th>DMD</th>\n",
       "      <td>1.0</td>\n",
       "      <td>2.0</td>\n",
       "      <td>6.873636e-08</td>\n",
       "    </tr>\n",
       "  </tbody>\n",
       "</table>\n",
       "</div>"
      ],
      "text/plain": [
       "     min  max     qp values\n",
       "DR   1.0  2.0  1.454294e-12\n",
       "DMD  1.0  2.0  6.873636e-08"
      ]
     },
     "execution_count": 26,
     "metadata": {},
     "output_type": "execute_result"
    }
   ],
   "source": [
    "boxes[2].limits"
   ]
  },
  {
   "cell_type": "code",
   "execution_count": 30,
   "metadata": {},
   "outputs": [
    {
     "data": {
      "text/html": [
       "<div>\n",
       "<table border=\"1\" class=\"dataframe\">\n",
       "  <thead>\n",
       "    <tr style=\"text-align: right;\">\n",
       "      <th>Parameter (million USD)</th>\n",
       "      <th>DMD</th>\n",
       "      <th>FUEL</th>\n",
       "      <th>CC RE</th>\n",
       "      <th>DR</th>\n",
       "      <th>CO2</th>\n",
       "      <th>CC</th>\n",
       "    </tr>\n",
       "  </thead>\n",
       "  <tbody>\n",
       "    <tr>\n",
       "      <th>count</th>\n",
       "      <td>324.00000</td>\n",
       "      <td>324.000000</td>\n",
       "      <td>324.00000</td>\n",
       "      <td>324.00000</td>\n",
       "      <td>324.00000</td>\n",
       "      <td>324.000000</td>\n",
       "    </tr>\n",
       "    <tr>\n",
       "      <th>mean</th>\n",
       "      <td>2.00000</td>\n",
       "      <td>2.000000</td>\n",
       "      <td>2.00000</td>\n",
       "      <td>2.00000</td>\n",
       "      <td>2.00000</td>\n",
       "      <td>1.500000</td>\n",
       "    </tr>\n",
       "    <tr>\n",
       "      <th>std</th>\n",
       "      <td>0.81776</td>\n",
       "      <td>1.001547</td>\n",
       "      <td>0.81776</td>\n",
       "      <td>0.81776</td>\n",
       "      <td>0.81776</td>\n",
       "      <td>0.500773</td>\n",
       "    </tr>\n",
       "    <tr>\n",
       "      <th>min</th>\n",
       "      <td>1.00000</td>\n",
       "      <td>1.000000</td>\n",
       "      <td>1.00000</td>\n",
       "      <td>1.00000</td>\n",
       "      <td>1.00000</td>\n",
       "      <td>1.000000</td>\n",
       "    </tr>\n",
       "    <tr>\n",
       "      <th>25%</th>\n",
       "      <td>1.00000</td>\n",
       "      <td>1.000000</td>\n",
       "      <td>1.00000</td>\n",
       "      <td>1.00000</td>\n",
       "      <td>1.00000</td>\n",
       "      <td>1.000000</td>\n",
       "    </tr>\n",
       "    <tr>\n",
       "      <th>50%</th>\n",
       "      <td>2.00000</td>\n",
       "      <td>2.000000</td>\n",
       "      <td>2.00000</td>\n",
       "      <td>2.00000</td>\n",
       "      <td>2.00000</td>\n",
       "      <td>1.500000</td>\n",
       "    </tr>\n",
       "    <tr>\n",
       "      <th>75%</th>\n",
       "      <td>3.00000</td>\n",
       "      <td>3.000000</td>\n",
       "      <td>3.00000</td>\n",
       "      <td>3.00000</td>\n",
       "      <td>3.00000</td>\n",
       "      <td>2.000000</td>\n",
       "    </tr>\n",
       "    <tr>\n",
       "      <th>max</th>\n",
       "      <td>3.00000</td>\n",
       "      <td>3.000000</td>\n",
       "      <td>3.00000</td>\n",
       "      <td>3.00000</td>\n",
       "      <td>3.00000</td>\n",
       "      <td>2.000000</td>\n",
       "    </tr>\n",
       "  </tbody>\n",
       "</table>\n",
       "</div>"
      ],
      "text/plain": [
       "Parameter (million USD)        DMD        FUEL      CC RE         DR  \\\n",
       "count                    324.00000  324.000000  324.00000  324.00000   \n",
       "mean                       2.00000    2.000000    2.00000    2.00000   \n",
       "std                        0.81776    1.001547    0.81776    0.81776   \n",
       "min                        1.00000    1.000000    1.00000    1.00000   \n",
       "25%                        1.00000    1.000000    1.00000    1.00000   \n",
       "50%                        2.00000    2.000000    2.00000    2.00000   \n",
       "75%                        3.00000    3.000000    3.00000    3.00000   \n",
       "max                        3.00000    3.000000    3.00000    3.00000   \n",
       "\n",
       "Parameter (million USD)        CO2          CC  \n",
       "count                    324.00000  324.000000  \n",
       "mean                       2.00000    1.500000  \n",
       "std                        0.81776    0.500773  \n",
       "min                        1.00000    1.000000  \n",
       "25%                        1.00000    1.000000  \n",
       "50%                        2.00000    1.500000  \n",
       "75%                        3.00000    2.000000  \n",
       "max                        3.00000    2.000000  "
      ]
     },
     "execution_count": 30,
     "metadata": {},
     "output_type": "execute_result"
    }
   ],
   "source": [
    "inputs.describe()"
   ]
  }
 ],
 "metadata": {
  "kernelspec": {
   "display_name": "Python [default]",
   "language": "python",
   "name": "python3"
  },
  "language_info": {
   "codemirror_mode": {
    "name": "ipython",
    "version": 3
   },
   "file_extension": ".py",
   "mimetype": "text/x-python",
   "name": "python",
   "nbconvert_exporter": "python",
   "pygments_lexer": "ipython3",
   "version": "3.5.4"
  },
  "toc": {
   "colors": {
    "hover_highlight": "#DAA520",
    "navigate_num": "#000000",
    "navigate_text": "#333333",
    "running_highlight": "#FF0000",
    "selected_highlight": "#FFD700",
    "sidebar_border": "#EEEEEE",
    "wrapper_background": "#FFFFFF"
   },
   "moveMenuLeft": true,
   "nav_menu": {
    "height": "236px",
    "width": "252px"
   },
   "navigate_menu": true,
   "number_sections": true,
   "sideBar": true,
   "threshold": 4,
   "toc_cell": false,
   "toc_section_display": "block",
   "toc_window_display": false,
   "widenNotebook": false
  }
 },
 "nbformat": 4,
 "nbformat_minor": 1
}
