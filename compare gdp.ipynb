{
 "cells": [
  {
   "cell_type": "code",
   "execution_count": 1,
   "metadata": {
    "collapsed": true
   },
   "outputs": [],
   "source": [
    "import pandas as pd\n",
    "import numpy as np\n",
    "import matplotlib.pyplot as plt\n",
    "import seaborn as sns\n",
    "import os\n",
    "%matplotlib inline\n",
    "sns.set_context(\"poster\",rc={\"font.size\": 28})\n",
    "sns.set_style(\"whitegrid\")"
   ]
  },
  {
   "cell_type": "code",
   "execution_count": 13,
   "metadata": {
    "collapsed": true
   },
   "outputs": [],
   "source": [
    "imaclimfolder = \"C:/Users/WB451855/OneDrive - WBG/!infra_needs_data/transport_cired_output_data/outputs_Imaclim/\"\n",
    "itfdatafolder = \"C:\\\\Users\\\\WB451855\\\\OneDrive - WBG\\\\!infra_needs_data\\\\transport_itf_output_data\\\\\"\n",
    "coastalprotection = \"C:/Users/WB451855/OneDrive - WBG/!infra_needs_data/coastal_protection_output_data/\"\n",
    "irrigationfolder = \"C:\\\\Users\\\\WB451855\\OneDrive - WBG\\\\!infra_needs_data\\\\water_iiasa_output_data\\\\\"\n",
    "energy_iiasa = \"C:\\\\Users\\\\WB451855\\OneDrive - WBG\\\\!infra_needs_data\\\\\\energy_iiasa_output_data\\\\\"\n",
    "riverfloodprotection = \"C:/Users/WB451855/OneDrive - WBG/!infra_needs_data/river_floods/\""
   ]
  },
  {
   "cell_type": "code",
   "execution_count": 3,
   "metadata": {
    "collapsed": true
   },
   "outputs": [],
   "source": [
    "all_ima_data = pd.DataFrame()\n",
    "for myfilename in os.listdir(imaclimfolder):\n",
    "    if \"WORLD\" in myfilename:\n",
    "        continue\n",
    "    myfile = pd.read_csv(imaclimfolder+\"\\\\\"+myfilename,sep=\";\")\n",
    "    myinfo = myfilename.replace(\".csv\",'').split(\"_\")\n",
    "    myfile[\"region\"] = myinfo[3]\n",
    "    all_ima_data = all_ima_data.append(myfile)"
   ]
  },
  {
   "cell_type": "code",
   "execution_count": 4,
   "metadata": {
    "collapsed": true
   },
   "outputs": [],
   "source": [
    "indexes_ima = ['//combi', 'ind_climat', 'ind_growth', 'ind_mitig', 'ind_trans_A',\n",
    "       'ind_trans_S', 'ind_trans_I', 'ind_trans_F', 'ind_taxexo', 'ind_recycl',\n",
    "       'ind_taxmax', 'Variable', 'Unit','region']\n",
    "\n",
    "all_ima_data = all_ima_data.set_index(indexes_ima)\n",
    "all_ima_data.columns.name='year'\n",
    "all_ima_data = all_ima_data.drop(['2001', '2002', '2003', '2004',\n",
    "       '2005', '2006', '2007', '2008', '2009', '2010', '2011', '2012', '2013',\n",
    "       '2014','2050', '2051', '2052', '2053', '2054', '2055', '2056', '2057', '2058',\n",
    "       '2059', '2060', '2061', '2062', '2063', '2064', '2065', '2066', '2067',\n",
    "       '2068', '2069', '2070', '2071', '2072', '2073', '2074', '2075', '2076',\n",
    "       '2077', '2078', '2079', '2080', '2081', '2082', '2083', '2084', '2085',\n",
    "       '2086', '2087', '2088', '2089', '2090', '2091', '2092', '2093', '2094',\n",
    "       '2095', '2096', '2097', '2098', '2099'],axis=1)\n",
    "all_ima_data = all_ima_data.stack('year')\n",
    "all_ima_data.name = 'value'"
   ]
  },
  {
   "cell_type": "code",
   "execution_count": 5,
   "metadata": {
    "collapsed": true
   },
   "outputs": [],
   "source": [
    "indexes_ima2 = ['ind_climat', 'ind_growth', 'ind_mitig', 'ind_trans_A',\n",
    "       'ind_trans_S', 'ind_trans_I', 'ind_trans_F', 'ind_taxexo', 'ind_recycl',\n",
    "       'ind_taxmax', 'Variable','region','year']"
   ]
  },
  {
   "cell_type": "code",
   "execution_count": 6,
   "metadata": {
    "collapsed": true
   },
   "outputs": [],
   "source": [
    "imaclim = all_ima_data.reset_index().drop(['Unit','//combi'],axis=1).set_index(indexes_ima2).unstack('Variable').value"
   ]
  },
  {
   "cell_type": "code",
   "execution_count": 7,
   "metadata": {
    "collapsed": true
   },
   "outputs": [],
   "source": [
    "itf = pd.read_csv(itfdatafolder+\"country_data.csv\",encoding='latin-1')"
   ]
  },
  {
   "cell_type": "code",
   "execution_count": 14,
   "metadata": {},
   "outputs": [],
   "source": [
    "energy = pd.read_excel(energy_iiasa+\"analysis IIASA august.xlsx\",\"discounted\",usecols=range(0,9))"
   ]
  },
  {
   "cell_type": "code",
   "execution_count": 15,
   "metadata": {
    "collapsed": true
   },
   "outputs": [],
   "source": [
    "energy_gdp = energy.loc[energy.Variable==\"GDP|MER\",:].set_index([\"Model\",\"Region\",\"Scenario\",\"Unit\"]).drop(\"Variable\",axis=1)\n",
    "energy_gdp.columns.name=\"Year\""
   ]
  },
  {
   "cell_type": "code",
   "execution_count": 16,
   "metadata": {},
   "outputs": [],
   "source": [
    "energy_gdp = energy_gdp.stack().reset_index().rename(columns={0:\"GDP\"})"
   ]
  },
  {
   "cell_type": "code",
   "execution_count": 17,
   "metadata": {
    "collapsed": true
   },
   "outputs": [],
   "source": [
    "energy_gdp[\"discount_factor\"] = (1+0.06)**(1-(energy_gdp.Year.astype(int)-2015))\n",
    "energy_gdp['disc_PIB'] =  energy_gdp['GDP']*energy_gdp[\"discount_factor\"]"
   ]
  },
  {
   "cell_type": "code",
   "execution_count": 18,
   "metadata": {},
   "outputs": [
    {
     "data": {
      "text/plain": [
       "array(['R5ASIA', 'R5LAM', 'R5MAF', 'R5REF', 'World', 'Developing'], dtype=object)"
      ]
     },
     "execution_count": 18,
     "metadata": {},
     "output_type": "execute_result"
    }
   ],
   "source": [
    "energy_gdp.reset_index().Region.unique()"
   ]
  },
  {
   "cell_type": "code",
   "execution_count": 19,
   "metadata": {},
   "outputs": [
    {
     "data": {
      "text/plain": [
       "Model\n",
       "AIM/CGE              169676.176066\n",
       "IMAGE                221709.147612\n",
       "MESSAGEix-GLOBIOM    253913.595388\n",
       "POLES                176924.945476\n",
       "REMIND-MAgPIE        191825.354127\n",
       "WITCH-GLOBIOM        179395.735872\n",
       "Name: disc_PIB, dtype: float64"
      ]
     },
     "execution_count": 19,
     "metadata": {},
     "output_type": "execute_result"
    }
   ],
   "source": [
    "energy_gdp.loc[(energy_gdp.Year<2031)&(energy_gdp.Scenario==\"2C\"),:].set_index([\"Model\",\"Region\",\"Year\"]).disc_PIB.sum(level=[\"Model\",\"Region\"])\\\n",
    ".drop([\"CHN\",\"IND\",\"R5OECD90+EU\",\"USA\",\"World\",\"EU\"],level=\"Region\").sum(level=\"Model\")"
   ]
  },
  {
   "cell_type": "code",
   "execution_count": 20,
   "metadata": {
    "collapsed": true
   },
   "outputs": [],
   "source": [
    "pib_itf = itf.loc[itf.GDP_USD2010!=\"null\",[\"ISO3\",\"Year\",\"GDP_USD2010\"]].set_index([\"ISO3\",\"Year\"])"
   ]
  },
  {
   "cell_type": "code",
   "execution_count": 21,
   "metadata": {
    "collapsed": true
   },
   "outputs": [],
   "source": [
    "pib_cired = imaclim.PIB"
   ]
  },
  {
   "cell_type": "code",
   "execution_count": 22,
   "metadata": {},
   "outputs": [
    {
     "data": {
      "text/plain": [
       "region\n",
       "ASIA    11920.004097\n",
       "CIS      2266.556875\n",
       "LAM      5671.211181\n",
       "MAF      4353.340521\n",
       "OCDE    51278.094236\n",
       "Name: 2015, dtype: float64"
      ]
     },
     "execution_count": 22,
     "metadata": {},
     "output_type": "execute_result"
    }
   ],
   "source": [
    "#USD2005. USD2015 = 1.21*USD2005\n",
    "1.21*pib_cired.unstack(\"year\")[\"2015\"].mean(level=\"region\")"
   ]
  },
  {
   "cell_type": "code",
   "execution_count": 31,
   "metadata": {},
   "outputs": [
    {
     "data": {
      "text/plain": [
       "Model              Region  Year\n",
       "AIM/CGE            R5ASIA  2015    12405.650744\n",
       "                   R5LAM   2015     3929.737618\n",
       "                   R5MAF   2015     3543.862890\n",
       "                   R5REF   2015     1486.310836\n",
       "IMAGE              R5ASIA  2015    15449.843880\n",
       "                   R5LAM   2015     4787.256179\n",
       "                   R5MAF   2015     3717.199168\n",
       "                   R5REF   2015     1747.893993\n",
       "MESSAGEix-GLOBIOM  R5ASIA  2015    16863.249603\n",
       "                   R5LAM   2015     4717.022169\n",
       "                   R5MAF   2015     4369.313765\n",
       "                   R5REF   2015     2614.204282\n",
       "POLES              R5ASIA  2015    13083.301844\n",
       "                   R5LAM   2015     4656.388481\n",
       "                   R5MAF   2015     3948.574472\n",
       "                   R5REF   2015     1265.545986\n",
       "REMIND-MAgPIE      R5ASIA  2015    14411.760686\n",
       "                   R5LAM   2015     4960.937125\n",
       "                   R5MAF   2015     4083.313543\n",
       "                   R5REF   2015     1354.913434\n",
       "WITCH-GLOBIOM      R5ASIA  2015    12116.402642\n",
       "                   R5LAM   2015     4518.562515\n",
       "                   R5MAF   2015     3725.681136\n",
       "                   R5REF   2015     2595.836028\n",
       "Name: GDP, dtype: float64"
      ]
     },
     "execution_count": 31,
     "metadata": {},
     "output_type": "execute_result"
    }
   ],
   "source": [
    "energy_gdp.loc[(energy_gdp.Year==2015)&(energy_gdp.Scenario==\"2C\"),:].set_index([\"Model\",\"Region\",\"Year\"]).drop([\"CHN\",\"IND\",\"R5OECD90+EU\",\"USA\",\"World\",\"EU\",\"Developing\"],level=\"Region\").GDP"
   ]
  },
  {
   "cell_type": "code",
   "execution_count": 15,
   "metadata": {},
   "outputs": [
    {
     "data": {
      "text/plain": [
       "ISO3\n",
       "ABW        0.206229\n",
       "AFG       45.210103\n",
       "AGO      130.758335\n",
       "ALB       27.122767\n",
       "ARE      374.757131\n",
       "ARG      689.640513\n",
       "ARM       19.666361\n",
       "ATG        1.662126\n",
       "AUS      925.570630\n",
       "AUT      320.978166\n",
       "AZE       97.505469\n",
       "BDI        5.453943\n",
       "BEL      375.573032\n",
       "BEN       15.752583\n",
       "BFA       25.951852\n",
       "BGD      299.777766\n",
       "BGR       93.107176\n",
       "BHR       31.729086\n",
       "BHS       10.802656\n",
       "BIH       29.923194\n",
       "BLR      137.290051\n",
       "BLZ        2.382074\n",
       "BOL       55.466481\n",
       "BRA     2259.830996\n",
       "BRB        6.431774\n",
       "BRN       21.936224\n",
       "BTN        5.315485\n",
       "BWA       31.839910\n",
       "CAF        3.013426\n",
       "CAN     1367.786972\n",
       "           ...     \n",
       "SWZ        5.600613\n",
       "SYC        2.276468\n",
       "SYR      118.584213\n",
       "TCD       20.081514\n",
       "TGO        7.134902\n",
       "THA      644.101283\n",
       "TJK       18.526595\n",
       "TKM       63.723338\n",
       "TLS        2.241386\n",
       "TON        0.474890\n",
       "TTO       32.689404\n",
       "TUN      101.840349\n",
       "TUR     1166.872849\n",
       "TUV        0.035000\n",
       "TWN      863.475549\n",
       "TZA       78.572991\n",
       "UGA       50.965754\n",
       "UKR      301.604087\n",
       "URY       51.737920\n",
       "USA    14657.218161\n",
       "UZB      111.345950\n",
       "VCT        1.101811\n",
       "VEN      365.480204\n",
       "VNM      325.365545\n",
       "VUT        1.106616\n",
       "WSM        0.765520\n",
       "YEM       58.246059\n",
       "ZAF      574.531216\n",
       "ZMB       24.872130\n",
       "ZWE        6.988084\n",
       "Name: 2015, Length: 192, dtype: float64"
      ]
     },
     "execution_count": 15,
     "metadata": {},
     "output_type": "execute_result"
    }
   ],
   "source": [
    "pib_itf.unstack(\"Year\")[\"GDP_USD2010\"][2015].astype(float)/1000000000"
   ]
  },
  {
   "cell_type": "code",
   "execution_count": 16,
   "metadata": {},
   "outputs": [
    {
     "data": {
      "text/plain": [
       "88285.65190047208"
      ]
     },
     "execution_count": 16,
     "metadata": {},
     "output_type": "execute_result"
    }
   ],
   "source": [
    "1.09*pib_itf.unstack(\"Year\")[\"GDP_USD2010\"][2015].astype(float).sum()/1000000000"
   ]
  },
  {
   "cell_type": "code",
   "execution_count": 17,
   "metadata": {},
   "outputs": [
    {
     "data": {
      "text/plain": [
       "75489.20690972223"
      ]
     },
     "execution_count": 17,
     "metadata": {},
     "output_type": "execute_result"
    }
   ],
   "source": [
    "1.21*pib_cired.unstack(\"year\")[\"2015\"].mean(level=\"region\").sum()"
   ]
  },
  {
   "cell_type": "code",
   "execution_count": 38,
   "metadata": {},
   "outputs": [],
   "source": [
    "#USD2005 PPP\n",
    "rivers = pd.read_csv(riverfloodprotection+\"region_gdp.csv\")"
   ]
  },
  {
   "cell_type": "code",
   "execution_count": 42,
   "metadata": {},
   "outputs": [
    {
     "data": {
      "text/plain": [
       "wbregionname\n",
       "East Asia & Pacific           19523.584703\n",
       "Europe & Central Asia          3352.766303\n",
       "High Income                   43804.024907\n",
       "Latin America & Caribbean      6992.057854\n",
       "Middle East & North Africa     2901.401600\n",
       "South Asia                     7036.326707\n",
       "Sub-Saharan Africa             2594.773023\n",
       "Name: gdp, dtype: float64"
      ]
     },
     "execution_count": 42,
     "metadata": {},
     "output_type": "execute_result"
    }
   ],
   "source": [
    "10**(-9)*rivers.loc[rivers.year==2015,:].set_index([\"wbregionname\",\"ssp\"]).gdp.mean(level=\"wbregionname\")"
   ]
  },
  {
   "cell_type": "code",
   "execution_count": 32,
   "metadata": {
    "collapsed": true
   },
   "outputs": [],
   "source": [
    "#USD2014\n",
    "coastal = pd.read_csv(coastalprotection+\"region_output_WB.csv\")"
   ]
  },
  {
   "cell_type": "code",
   "execution_count": 33,
   "metadata": {
    "collapsed": true
   },
   "outputs": [],
   "source": [
    "coastal = coastal.loc[(coastal.ssp==\"SSP2\")&(coastal.time==2015)&(coastal.rcp==\"RCP 4.5 (Medium ice melting)\")&(coastal.ada==\"CBA Protection\"),:]"
   ]
  },
  {
   "cell_type": "code",
   "execution_count": 34,
   "metadata": {
    "collapsed": true
   },
   "outputs": [],
   "source": [
    "coastal = coastal.set_index(['locationid', 'locationname','rcp', 'ada', 'ssp', 'adacost','riverprotection',\"time\"])"
   ]
  },
  {
   "cell_type": "code",
   "execution_count": 38,
   "metadata": {},
   "outputs": [
    {
     "data": {
      "text/plain": [
       "locationid\n",
       "EAP    2.205779e+07\n",
       "ECA    3.525881e+06\n",
       "LAC    8.422365e+06\n",
       "MNA    2.848716e+06\n",
       "SAS    7.632810e+06\n",
       "SSA    2.896117e+06\n",
       "YHI    5.676982e+07\n",
       "Name: gdp, dtype: float64"
      ]
     },
     "execution_count": 38,
     "metadata": {},
     "output_type": "execute_result"
    }
   ],
   "source": [
    "coastal.gdp.mean(level=\"locationid\")"
   ]
  },
  {
   "cell_type": "code",
   "execution_count": 20,
   "metadata": {},
   "outputs": [
    {
     "data": {
      "text/plain": [
       "ssp\n",
       "SSP2    104.153499\n",
       "SSP3    103.969394\n",
       "SSP5    104.285884\n",
       "Name: 2015, dtype: float64"
      ]
     },
     "execution_count": 20,
     "metadata": {},
     "output_type": "execute_result"
    }
   ],
   "source": [
    "1/1000000*coastal.gdp.unstack(\"time\")[2015].mean(level=[\"locationid\",\"ssp\"]).sum(level=\"ssp\")"
   ]
  },
  {
   "cell_type": "code",
   "execution_count": 21,
   "metadata": {},
   "outputs": [
    {
     "data": {
      "text/plain": [
       "82.84"
      ]
     },
     "execution_count": 21,
     "metadata": {},
     "output_type": "execute_result"
    }
   ],
   "source": [
    "#2015 global GDP in USD2015\n",
    "76*1.09"
   ]
  },
  {
   "cell_type": "code",
   "execution_count": 22,
   "metadata": {},
   "outputs": [
    {
     "data": {
      "text/plain": [
       "0.7980769230769231"
      ]
     },
     "execution_count": 22,
     "metadata": {},
     "output_type": "execute_result"
    }
   ],
   "source": [
    "83/104"
   ]
  },
  {
   "cell_type": "code",
   "execution_count": null,
   "metadata": {
    "collapsed": true
   },
   "outputs": [],
   "source": []
  }
 ],
 "metadata": {
  "kernelspec": {
   "display_name": "Python [conda root]",
   "language": "python",
   "name": "conda-root-py"
  },
  "language_info": {
   "codemirror_mode": {
    "name": "ipython",
    "version": 3
   },
   "file_extension": ".py",
   "mimetype": "text/x-python",
   "name": "python",
   "nbconvert_exporter": "python",
   "pygments_lexer": "ipython3",
   "version": "3.5.4"
  },
  "toc": {
   "colors": {
    "hover_highlight": "#DAA520",
    "navigate_num": "#000000",
    "navigate_text": "#333333",
    "running_highlight": "#FF0000",
    "selected_highlight": "#FFD700",
    "sidebar_border": "#EEEEEE",
    "wrapper_background": "#FFFFFF"
   },
   "moveMenuLeft": true,
   "nav_menu": {
    "height": "12px",
    "width": "252px"
   },
   "navigate_menu": true,
   "number_sections": true,
   "sideBar": true,
   "threshold": 4,
   "toc_cell": false,
   "toc_section_display": "block",
   "toc_window_display": false,
   "widenNotebook": false
  }
 },
 "nbformat": 4,
 "nbformat_minor": 2
}
