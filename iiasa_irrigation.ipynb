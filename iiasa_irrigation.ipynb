{
 "cells": [
  {
   "cell_type": "code",
   "execution_count": 169,
   "metadata": {
    "collapsed": true
   },
   "outputs": [],
   "source": [
    "import pandas as pd\n",
    "import numpy as np\n",
    "import matplotlib.pyplot as plt\n",
    "import prim\n",
    "import seaborn as sns\n",
    "from sklearn import mixture\n",
    "import os\n",
    "from clustering_and_prim_tools import *"
   ]
  },
  {
   "cell_type": "code",
   "execution_count": 170,
   "metadata": {
    "collapsed": true
   },
   "outputs": [],
   "source": [
    "%matplotlib inline"
   ]
  },
  {
   "cell_type": "code",
   "execution_count": 171,
   "metadata": {
    "collapsed": true
   },
   "outputs": [],
   "source": [
    "sns.set_context(\"poster\",rc={\"font.size\": 28})\n",
    "sns.set_style(\"whitegrid\")"
   ]
  },
  {
   "cell_type": "code",
   "execution_count": 172,
   "metadata": {
    "collapsed": true
   },
   "outputs": [],
   "source": [
    "invfolder = \"C:\\\\Users\\\\WB451855\\OneDrive - WBG\\\\!infra_needs_data\\\\water_iiasa_output_data\\\\\""
   ]
  },
  {
   "cell_type": "code",
   "execution_count": 173,
   "metadata": {},
   "outputs": [],
   "source": [
    "data = pd.read_excel(invfolder+\"data_WB_Irrigation_05june18.xlsx\",sheetname=\"data_WB_Irrigation_27may18\")"
   ]
  },
  {
   "cell_type": "markdown",
   "metadata": {},
   "source": [
    "## Test the data"
   ]
  },
  {
   "cell_type": "code",
   "execution_count": 174,
   "metadata": {},
   "outputs": [
    {
     "data": {
      "text/plain": [
       "Index(['Region', 'Var', 'Unit', 'Item', 'Macro', 'Sensitivity',\n",
       "       'InvestmentType', 'Year', 'Val'],\n",
       "      dtype='object')"
      ]
     },
     "execution_count": 174,
     "metadata": {},
     "output_type": "execute_result"
    }
   ],
   "source": [
    "data.columns"
   ]
  },
  {
   "cell_type": "code",
   "execution_count": 175,
   "metadata": {
    "collapsed": true
   },
   "outputs": [],
   "source": [
    "data = data.reset_index().set_index(['Region', 'Var', 'Unit', 'Item', 'Macro', 'Sensitivity','InvestmentType', 'Year'])"
   ]
  },
  {
   "cell_type": "code",
   "execution_count": 176,
   "metadata": {},
   "outputs": [
    {
     "data": {
      "text/plain": [
       "MultiIndex(levels=[['index', 'Val'], ['AREA', 'ARIR', 'ARRF', 'ASYS2', 'CALO', 'CCSYS', 'CC_D06', 'CONS', 'CSYS', 'EMIS', 'GDPC', 'GDPC_D06', 'GDPD', 'GDPD_D06', 'GDPT', 'LAND', 'NETT', 'NTMS2', 'PROD', 'WDEM', 'WEFF', 'WSECT', 'XPRI', 'YILM']],\n",
       "           labels=[[0, 0, 0, 0, 0, 0, 0, 0, 0, 0, 0, 0, 0, 0, 0, 0, 0, 0, 0, 0, 0, 0, 0, 0, 1, 1, 1, 1, 1, 1, 1, 1, 1, 1, 1, 1, 1, 1, 1, 1, 1, 1, 1, 1, 1, 1, 1, 1], [0, 1, 2, 3, 4, 5, 6, 7, 8, 9, 10, 11, 12, 13, 14, 15, 16, 17, 18, 19, 20, 21, 22, 23, 0, 1, 2, 3, 4, 5, 6, 7, 8, 9, 10, 11, 12, 13, 14, 15, 16, 17, 18, 19, 20, 21, 22, 23]],\n",
       "           names=[None, 'Var'])"
      ]
     },
     "execution_count": 176,
     "metadata": {},
     "output_type": "execute_result"
    }
   ],
   "source": [
    "data.unstack(\"Var\").columns"
   ]
  },
  {
   "cell_type": "code",
   "execution_count": 177,
   "metadata": {},
   "outputs": [
    {
     "data": {
      "text/plain": [
       "MultiIndex(levels=[['index', 'Val'], ['ABNNAT', 'AGR', 'ALL_TOTAL', 'ALMILK', 'BARL', 'BEAD', 'BVMEAT', 'CASS', 'CER', 'CH4', 'CHKP', 'CORN', 'COTT', 'CRP', 'CRPLND', 'DEPRECIATION', 'DOMESTIC', 'EFFICIENCY', 'EXPANSION', 'FOREST', 'GNUT', 'GRSLND', 'INDUSTRIAL', 'IR_DRIP', 'IR_SPRINK', 'IR_SURFACE', 'IR_TOTAL', 'LSP', 'LUC', 'MILL', 'N2O', 'NATLND', 'OPAL', 'PGMEAT', 'PLTFOR', 'POTA', 'PTEGGS', 'PTMEAT', 'RAPE', 'RF_HIGH', 'RF_LOW', 'RF_SUBST', 'RF_TOTAL', 'RICE', 'SGMEAT', 'SHARE_AG_SWATRISK', 'SHARE_AG_SWUNSUSEFR', 'SHARE_EFRATRISK', 'SOYA', 'SRGH', 'SUGC', 'SUNF', 'SWPO', 'TOT', 'UPGRADE', 'WHEA']],\n",
       "           labels=[[0, 0, 0, 0, 0, 0, 0, 0, 0, 0, 0, 0, 0, 0, 0, 0, 0, 0, 0, 0, 0, 0, 0, 0, 0, 0, 0, 0, 0, 0, 0, 0, 0, 0, 0, 0, 0, 0, 0, 0, 0, 0, 0, 0, 0, 0, 0, 0, 0, 0, 0, 0, 0, 0, 0, 0, 1, 1, 1, 1, 1, 1, 1, 1, 1, 1, 1, 1, 1, 1, 1, 1, 1, 1, 1, 1, 1, 1, 1, 1, 1, 1, 1, 1, 1, 1, 1, 1, 1, 1, 1, 1, 1, 1, 1, 1, 1, 1, 1, 1, 1, 1, 1, 1, 1, 1, 1, 1, 1, 1, 1, 1], [0, 1, 2, 3, 4, 5, 6, 7, 8, 9, 10, 11, 12, 13, 14, 15, 16, 17, 18, 19, 20, 21, 22, 23, 24, 25, 26, 27, 28, 29, 30, 31, 32, 33, 34, 35, 36, 37, 38, 39, 40, 41, 42, 43, 44, 45, 46, 47, 48, 49, 50, 51, 52, 53, 54, 55, 0, 1, 2, 3, 4, 5, 6, 7, 8, 9, 10, 11, 12, 13, 14, 15, 16, 17, 18, 19, 20, 21, 22, 23, 24, 25, 26, 27, 28, 29, 30, 31, 32, 33, 34, 35, 36, 37, 38, 39, 40, 41, 42, 43, 44, 45, 46, 47, 48, 49, 50, 51, 52, 53, 54, 55]],\n",
       "           names=[None, 'Item'])"
      ]
     },
     "execution_count": 177,
     "metadata": {},
     "output_type": "execute_result"
    }
   ],
   "source": [
    "data.unstack(\"Item\").columns"
   ]
  },
  {
   "cell_type": "code",
   "execution_count": 178,
   "metadata": {},
   "outputs": [
    {
     "data": {
      "text/plain": [
       "array(['Baseline', 'Region AFR MaxInvest', 'Region ECA MaxInvest',\n",
       "       'Region EAP MaxInvest', 'Region LCR MaxInvest',\n",
       "       'Region MNA MaxInvest', 'Region SAR MaxInvest', 'RCP2p6_GDFL',\n",
       "       'RCP2p6_HadGEM', 'RCP2p6_IPSL', 'RCP2p6_MIROC', 'RCP2p6_NOR',\n",
       "       'RCP8p5_GDFL', 'RCP8p5_HadGEM', 'RCP8p5_HadGem_noCO2',\n",
       "       'RCP8p5_IPSL', 'RCP8p5_MIROC', 'RCP8p5_NOR', 'HealthyDiet',\n",
       "       'HealthySustDiet', 'TradeOpen', 'TradeRestr', 'WatrEff_High',\n",
       "       'WatrEff_Low', 'Combined_High', 'Combined_High2', 'Combined_Low',\n",
       "       'Combined_Low2'], dtype=object)"
      ]
     },
     "execution_count": 178,
     "metadata": {},
     "output_type": "execute_result"
    }
   ],
   "source": [
    "data.reset_index().Sensitivity.unique()"
   ]
  },
  {
   "cell_type": "code",
   "execution_count": 179,
   "metadata": {},
   "outputs": [
    {
     "data": {
      "text/plain": [
       "array(['million USD 2005', 'Percent', '1000 t', 'million USD 2000',\n",
       "       'dm t/ha', 'Mt CO2eq/yr', 'USD 2000 per ton', '1000 Ha', 'fm t/ha',\n",
       "       'Bn USD 2005', 'kg/m3', 'percent2', '1000 t dm', 'kcal/cap/d',\n",
       "       'Percent2', 'km3'], dtype=object)"
      ]
     },
     "execution_count": 179,
     "metadata": {},
     "output_type": "execute_result"
    }
   ],
   "source": [
    "data.reset_index().Unit.unique()"
   ]
  },
  {
   "cell_type": "code",
   "execution_count": 180,
   "metadata": {},
   "outputs": [
    {
     "data": {
      "text/plain": [
       "array([2090, 2050, 2010, 2030, 2040, 2100, 2060, 2080, 2020, 2070], dtype=int64)"
      ]
     },
     "execution_count": 180,
     "metadata": {},
     "output_type": "execute_result"
    }
   ],
   "source": [
    "data.reset_index().Year.unique()"
   ]
  },
  {
   "cell_type": "markdown",
   "metadata": {},
   "source": [
    "### there are two different \"percent2\" values so makes sure there is only one"
   ]
  },
  {
   "cell_type": "code",
   "execution_count": 181,
   "metadata": {
    "collapsed": true
   },
   "outputs": [],
   "source": [
    "data = data.reset_index(\"Unit\")\n",
    "data['Unit'] = data.Unit.replace({\"Percent2\":\"percent2\"})\n",
    "data = data.set_index(\"Unit\",append=True)"
   ]
  },
  {
   "cell_type": "markdown",
   "metadata": {},
   "source": [
    "## earlier version: I discount by dividing the number in a given year by 10 and spreading the cost over 10 years"
   ]
  },
  {
   "cell_type": "code",
   "execution_count": 182,
   "metadata": {},
   "outputs": [
    {
     "data": {
      "text/plain": [
       "array([2011, 2012, 2013, 2014, 2015, 2016, 2017, 2018, 2019, 2020])"
      ]
     },
     "execution_count": 182,
     "metadata": {},
     "output_type": "execute_result"
    }
   ],
   "source": [
    "np.arange(2011,2021)"
   ]
  },
  {
   "cell_type": "code",
   "execution_count": 183,
   "metadata": {
    "collapsed": true
   },
   "outputs": [],
   "source": [
    "def discount_sum_over_10_years(row,name,d):\n",
    "    return np.sum([row[name]/10*(1+d)**(1-(year-2010)) for year in np.arange(row[\"Year\"]-9,row[\"Year\"]+1)])"
   ]
  },
  {
   "cell_type": "code",
   "execution_count": 184,
   "metadata": {},
   "outputs": [],
   "source": [
    "costs_global = data.unstack(\"Var\")[\"Val\"][\"CSYS\"].unstack(\"Unit\")[\"million USD 2005\"].dropna().unstack(\"Region\")[\"WLD\"].unstack(\"Item\")[\"TOT\"]\n",
    "costs_reg = data.unstack(\"Var\")[\"Val\"][\"CSYS\"].unstack(\"Unit\")[\"million USD 2005\"].dropna().unstack(\"Region\").drop(\"WLD\",axis=1).stack().unstack(\"Item\")[\"TOT\"]"
   ]
  },
  {
   "cell_type": "code",
   "execution_count": 185,
   "metadata": {},
   "outputs": [],
   "source": [
    "costs_global = costs_global.reset_index(\"Year\")\n",
    "costs_reg = costs_reg.reset_index(\"Year\")"
   ]
  },
  {
   "cell_type": "code",
   "execution_count": 186,
   "metadata": {
    "collapsed": true
   },
   "outputs": [],
   "source": [
    "costs_global[\"disc\"] = costs_global.apply(lambda y:discount_sum_over_10_years(y,\"TOT\",0.06),axis=1)"
   ]
  },
  {
   "cell_type": "code",
   "execution_count": 187,
   "metadata": {
    "collapsed": true
   },
   "outputs": [],
   "source": [
    "costs_reg[\"disc\"] = costs_reg.apply(lambda y:discount_sum_over_10_years(y,\"TOT\",0.06),axis=1)"
   ]
  },
  {
   "cell_type": "markdown",
   "metadata": {},
   "source": [
    "### Look only in 2030 and sums discounted values"
   ]
  },
  {
   "cell_type": "code",
   "execution_count": 188,
   "metadata": {
    "collapsed": true
   },
   "outputs": [],
   "source": [
    "costs_global2030 = costs_global.loc[(costs_global.Year>2010)&(costs_global.Year<2031),:]"
   ]
  },
  {
   "cell_type": "code",
   "execution_count": 189,
   "metadata": {
    "collapsed": true
   },
   "outputs": [],
   "source": [
    "costs_reg2030 = costs_reg.loc[(costs_reg.Year>2010)&(costs_reg.Year<2031),:]"
   ]
  },
  {
   "cell_type": "code",
   "execution_count": 190,
   "metadata": {},
   "outputs": [],
   "source": [
    "costs_global_disc = costs_global2030.set_index(\"Year\",append=True).disc.sum(level=[\"Macro\",\"Sensitivity\",\"InvestmentType\"])"
   ]
  },
  {
   "cell_type": "code",
   "execution_count": 191,
   "metadata": {},
   "outputs": [
    {
     "data": {
      "text/plain": [
       "count        78.000000\n",
       "mean     518819.337514\n",
       "std      205205.870765\n",
       "min      203013.733492\n",
       "25%      353063.278119\n",
       "50%      505838.589463\n",
       "75%      704980.556164\n",
       "max      883775.874671\n",
       "Name: disc, dtype: float64"
      ]
     },
     "execution_count": 191,
     "metadata": {},
     "output_type": "execute_result"
    }
   ],
   "source": [
    "costs_global_disc.describe()"
   ]
  },
  {
   "cell_type": "code",
   "execution_count": 192,
   "metadata": {
    "collapsed": true
   },
   "outputs": [],
   "source": [
    "costs_reg_disc = costs_reg2030.set_index(\"Year\",append=True).disc.sum(level=[\"Macro\",\"Sensitivity\",\"InvestmentType\",\"Region\"])"
   ]
  },
  {
   "cell_type": "markdown",
   "metadata": {},
   "source": [
    "## new version: I take directly the discounted value"
   ]
  },
  {
   "cell_type": "code",
   "execution_count": 193,
   "metadata": {},
   "outputs": [],
   "source": [
    "costs_discounted_world = data.unstack(\"Var\")[\"Val\"][\"CC_D06\"].unstack(\"Region\")[\"WLD\"].unstack(\"Item\")[\"TOT\"].dropna().unstack(\"Unit\")[\"million USD 2005\"].unstack(\"Year\")[2030]"
   ]
  },
  {
   "cell_type": "code",
   "execution_count": 194,
   "metadata": {
    "collapsed": true
   },
   "outputs": [],
   "source": [
    "costs_discounted_reg = data.unstack(\"Var\")[\"Val\"][\"CC_D06\"].unstack(\"Region\").drop(\"WLD\",axis=1).stack().unstack(\"Item\")[\"TOT\"].dropna().unstack(\"Unit\")[\"million USD 2005\"].unstack(\"Year\")[2030]"
   ]
  },
  {
   "cell_type": "code",
   "execution_count": 195,
   "metadata": {},
   "outputs": [
    {
     "data": {
      "text/plain": [
       "count        78.000000\n",
       "mean     489452.205202\n",
       "std      193590.444118\n",
       "min      191522.390087\n",
       "25%      333078.564263\n",
       "50%      477206.216474\n",
       "75%      665075.996381\n",
       "max      833750.825162\n",
       "Name: 2030, dtype: float64"
      ]
     },
     "execution_count": 195,
     "metadata": {},
     "output_type": "execute_result"
    }
   ],
   "source": [
    "costs_discounted_world.describe()"
   ]
  },
  {
   "cell_type": "code",
   "execution_count": 196,
   "metadata": {},
   "outputs": [
    {
     "data": {
      "text/plain": [
       "<matplotlib.collections.PathCollection at 0x23fdb3e5240>"
      ]
     },
     "execution_count": 196,
     "metadata": {},
     "output_type": "execute_result"
    },
    {
     "data": {
      "image/png": "[encoded data removed]",
      "text/plain": [
       "<matplotlib.figure.Figure at 0x23fdda9e048>"
      ]
     },
     "metadata": {},
     "output_type": "display_data"
    }
   ],
   "source": [
    "plt.scatter(costs_discounted_world,costs_global_disc)"
   ]
  },
  {
   "cell_type": "markdown",
   "metadata": {},
   "source": [
    "the discounted value is the same as the one calculated by me"
   ]
  },
  {
   "cell_type": "markdown",
   "metadata": {},
   "source": [
    "## Costs as % of GDP"
   ]
  },
  {
   "cell_type": "code",
   "execution_count": 197,
   "metadata": {
    "collapsed": true
   },
   "outputs": [],
   "source": [
    "costs_global_over_gdp = data.unstack(\"Var\")[\"Val\"][\"CSYS\"].unstack(\"Region\")[\"WLD\"].unstack(\"Item\")[\"TOT\"].dropna().unstack(\"Unit\")[\"percent2\"].dropna()"
   ]
  },
  {
   "cell_type": "code",
   "execution_count": 198,
   "metadata": {
    "collapsed": true
   },
   "outputs": [],
   "source": [
    "costs_region_over_gdp = data.unstack(\"Var\")[\"Val\"][\"CSYS\"].unstack(\"Region\").drop([\"WLD\",\"EC\",\"NAM\",\"APD\"],axis=1).stack().unstack(\"Item\")[\"TOT\"].dropna().unstack(\"Unit\")[\"percent2\"].dropna()"
   ]
  },
  {
   "cell_type": "code",
   "execution_count": 199,
   "metadata": {
    "collapsed": true
   },
   "outputs": [],
   "source": [
    "GDP_global = data.unstack(\"Var\")[\"Val\"][\"GDPD\"].dropna().unstack(\"Region\")[\"WLD\"].unstack(\"Item\")[\"TOT\"]\n",
    "GDP_reg = data.unstack(\"Var\")[\"Val\"][\"GDPD\"].dropna().unstack(\"Region\").drop([\"WLD\",\"EC\",\"NAM\",\"APD\"],axis=1).stack().unstack(\"Item\")[\"TOT\"]"
   ]
  },
  {
   "cell_type": "code",
   "execution_count": 200,
   "metadata": {},
   "outputs": [
    {
     "data": {
      "image/png": "[encoded data removed]",
      "text/plain": [
       "<matplotlib.figure.Figure at 0x23fd9ffc390>"
      ]
     },
     "metadata": {},
     "output_type": "display_data"
    }
   ],
   "source": [
    "toplot = costs_region_over_gdp.drop(['Region AFR MaxInvest',\\\n",
    "       'Region EAP MaxInvest', 'Region ECA MaxInvest',\\\n",
    "       'Region LCR MaxInvest', 'Region MNA MaxInvest',\\\n",
    "       'Region SAR MaxInvest'],level=\"Sensitivity\")\n",
    "toplot = toplot.reset_index()\n",
    "toplot = toplot.loc[(toplot.Year==2030),:]\n",
    "\n",
    "#toplot['InvestmentType'] = toplot.InvestmentType.rename({\"Invest\":\"Medium investment\"})\n",
    "\n",
    "toplot['percent2'] = 100*toplot['percent2']\n",
    "\n",
    "toplot['Region'] = toplot.Region.replace({\"EAP\":\"East Asia\\nand Pacific\",\n",
    "                                             \"ECA\":\"Europe and\\nCentral Asia\",\n",
    "                                             \"LCR\":\"Latin America\\nand\\nCaribbean\",\n",
    "                                             \"MNA\":\"Middle-East\\nand\\nNorth Africa\",\n",
    "                                             \"SAR\":\"South Asia\",\n",
    "                                             \"AFR\":\"Sub-Saharan\\nAfrica\",\n",
    "                                             \"YHI\":\"High income\"})\n",
    "\n",
    "g = sns.factorplot(x='Region',y='percent2', hue= 'InvestmentType', data=toplot, kind=\"swarm\",dodge=False, size=6, aspect=1.7,\\\n",
    "                  legend=False)\n",
    "#join=False, ci=\"sd\"\n",
    "\n",
    "g.set_axis_labels(\"\", \"Average annual cost 2015-2030\\n(% GDP)\")\n",
    "g.add_legend(title=\"\",bbox_to_anchor=(0.95, 0.65), borderaxespad=0.)\n",
    "plt.xticks(rotation=30)\n",
    "\n",
    "plt.savefig(\"irrigation_three_scenarios_swarm.png\",ddpi=300,bbox_inches=\"tight\")\n",
    "plt.savefig(\"irrigation_three_scenarios_swarm.pdf\")"
   ]
  },
  {
   "cell_type": "code",
   "execution_count": 201,
   "metadata": {},
   "outputs": [
    {
     "data": {
      "text/html": [
       "<div>\n",
       "<style>\n",
       "    .dataframe thead tr:only-child th {\n",
       "        text-align: right;\n",
       "    }\n",
       "\n",
       "    .dataframe thead th {\n",
       "        text-align: left;\n",
       "    }\n",
       "\n",
       "    .dataframe tbody tr th {\n",
       "        vertical-align: top;\n",
       "    }\n",
       "</style>\n",
       "<table border=\"1\" class=\"dataframe\">\n",
       "  <thead>\n",
       "    <tr style=\"text-align: right;\">\n",
       "      <th></th>\n",
       "      <th>Macro</th>\n",
       "      <th>Sensitivity</th>\n",
       "      <th>InvestmentType</th>\n",
       "      <th>Year</th>\n",
       "      <th>Region</th>\n",
       "      <th>percent2</th>\n",
       "    </tr>\n",
       "  </thead>\n",
       "  <tbody>\n",
       "    <tr>\n",
       "      <th>468</th>\n",
       "      <td>SSP2</td>\n",
       "      <td>RCP2p6_GDFL</td>\n",
       "      <td>ZeroInvest</td>\n",
       "      <td>2030</td>\n",
       "      <td>Sub-Saharan\\nAfrica</td>\n",
       "      <td>0.323572</td>\n",
       "    </tr>\n",
       "    <tr>\n",
       "      <th>469</th>\n",
       "      <td>SSP2</td>\n",
       "      <td>RCP2p6_GDFL</td>\n",
       "      <td>ZeroInvest</td>\n",
       "      <td>2030</td>\n",
       "      <td>East Asia\\nand Pacific</td>\n",
       "      <td>0.128462</td>\n",
       "    </tr>\n",
       "    <tr>\n",
       "      <th>473</th>\n",
       "      <td>SSP2</td>\n",
       "      <td>RCP2p6_GDFL</td>\n",
       "      <td>ZeroInvest</td>\n",
       "      <td>2030</td>\n",
       "      <td>South Asia</td>\n",
       "      <td>0.267039</td>\n",
       "    </tr>\n",
       "    <tr>\n",
       "      <th>522</th>\n",
       "      <td>SSP2</td>\n",
       "      <td>RCP2p6_HadGEM</td>\n",
       "      <td>ZeroInvest</td>\n",
       "      <td>2030</td>\n",
       "      <td>Sub-Saharan\\nAfrica</td>\n",
       "      <td>0.326680</td>\n",
       "    </tr>\n",
       "    <tr>\n",
       "      <th>523</th>\n",
       "      <td>SSP2</td>\n",
       "      <td>RCP2p6_HadGEM</td>\n",
       "      <td>ZeroInvest</td>\n",
       "      <td>2030</td>\n",
       "      <td>East Asia\\nand Pacific</td>\n",
       "      <td>0.118457</td>\n",
       "    </tr>\n",
       "    <tr>\n",
       "      <th>527</th>\n",
       "      <td>SSP2</td>\n",
       "      <td>RCP2p6_HadGEM</td>\n",
       "      <td>ZeroInvest</td>\n",
       "      <td>2030</td>\n",
       "      <td>South Asia</td>\n",
       "      <td>0.226199</td>\n",
       "    </tr>\n",
       "    <tr>\n",
       "      <th>576</th>\n",
       "      <td>SSP2</td>\n",
       "      <td>RCP2p6_IPSL</td>\n",
       "      <td>ZeroInvest</td>\n",
       "      <td>2030</td>\n",
       "      <td>Sub-Saharan\\nAfrica</td>\n",
       "      <td>0.328820</td>\n",
       "    </tr>\n",
       "    <tr>\n",
       "      <th>577</th>\n",
       "      <td>SSP2</td>\n",
       "      <td>RCP2p6_IPSL</td>\n",
       "      <td>ZeroInvest</td>\n",
       "      <td>2030</td>\n",
       "      <td>East Asia\\nand Pacific</td>\n",
       "      <td>0.149470</td>\n",
       "    </tr>\n",
       "    <tr>\n",
       "      <th>581</th>\n",
       "      <td>SSP2</td>\n",
       "      <td>RCP2p6_IPSL</td>\n",
       "      <td>ZeroInvest</td>\n",
       "      <td>2030</td>\n",
       "      <td>South Asia</td>\n",
       "      <td>0.243765</td>\n",
       "    </tr>\n",
       "    <tr>\n",
       "      <th>630</th>\n",
       "      <td>SSP2</td>\n",
       "      <td>RCP2p6_MIROC</td>\n",
       "      <td>ZeroInvest</td>\n",
       "      <td>2030</td>\n",
       "      <td>Sub-Saharan\\nAfrica</td>\n",
       "      <td>0.344999</td>\n",
       "    </tr>\n",
       "    <tr>\n",
       "      <th>631</th>\n",
       "      <td>SSP2</td>\n",
       "      <td>RCP2p6_MIROC</td>\n",
       "      <td>ZeroInvest</td>\n",
       "      <td>2030</td>\n",
       "      <td>East Asia\\nand Pacific</td>\n",
       "      <td>0.123922</td>\n",
       "    </tr>\n",
       "    <tr>\n",
       "      <th>635</th>\n",
       "      <td>SSP2</td>\n",
       "      <td>RCP2p6_MIROC</td>\n",
       "      <td>ZeroInvest</td>\n",
       "      <td>2030</td>\n",
       "      <td>South Asia</td>\n",
       "      <td>0.279642</td>\n",
       "    </tr>\n",
       "    <tr>\n",
       "      <th>684</th>\n",
       "      <td>SSP2</td>\n",
       "      <td>RCP2p6_NOR</td>\n",
       "      <td>ZeroInvest</td>\n",
       "      <td>2030</td>\n",
       "      <td>Sub-Saharan\\nAfrica</td>\n",
       "      <td>0.324822</td>\n",
       "    </tr>\n",
       "    <tr>\n",
       "      <th>685</th>\n",
       "      <td>SSP2</td>\n",
       "      <td>RCP2p6_NOR</td>\n",
       "      <td>ZeroInvest</td>\n",
       "      <td>2030</td>\n",
       "      <td>East Asia\\nand Pacific</td>\n",
       "      <td>0.116504</td>\n",
       "    </tr>\n",
       "    <tr>\n",
       "      <th>689</th>\n",
       "      <td>SSP2</td>\n",
       "      <td>RCP2p6_NOR</td>\n",
       "      <td>ZeroInvest</td>\n",
       "      <td>2030</td>\n",
       "      <td>South Asia</td>\n",
       "      <td>0.260858</td>\n",
       "    </tr>\n",
       "    <tr>\n",
       "      <th>738</th>\n",
       "      <td>SSP2</td>\n",
       "      <td>RCP8p5_GDFL</td>\n",
       "      <td>ZeroInvest</td>\n",
       "      <td>2030</td>\n",
       "      <td>Sub-Saharan\\nAfrica</td>\n",
       "      <td>0.321871</td>\n",
       "    </tr>\n",
       "    <tr>\n",
       "      <th>739</th>\n",
       "      <td>SSP2</td>\n",
       "      <td>RCP8p5_GDFL</td>\n",
       "      <td>ZeroInvest</td>\n",
       "      <td>2030</td>\n",
       "      <td>East Asia\\nand Pacific</td>\n",
       "      <td>0.119834</td>\n",
       "    </tr>\n",
       "    <tr>\n",
       "      <th>743</th>\n",
       "      <td>SSP2</td>\n",
       "      <td>RCP8p5_GDFL</td>\n",
       "      <td>ZeroInvest</td>\n",
       "      <td>2030</td>\n",
       "      <td>South Asia</td>\n",
       "      <td>0.281188</td>\n",
       "    </tr>\n",
       "    <tr>\n",
       "      <th>900</th>\n",
       "      <td>SSP2</td>\n",
       "      <td>RCP8p5_IPSL</td>\n",
       "      <td>ZeroInvest</td>\n",
       "      <td>2030</td>\n",
       "      <td>Sub-Saharan\\nAfrica</td>\n",
       "      <td>0.311733</td>\n",
       "    </tr>\n",
       "    <tr>\n",
       "      <th>901</th>\n",
       "      <td>SSP2</td>\n",
       "      <td>RCP8p5_IPSL</td>\n",
       "      <td>ZeroInvest</td>\n",
       "      <td>2030</td>\n",
       "      <td>East Asia\\nand Pacific</td>\n",
       "      <td>0.120277</td>\n",
       "    </tr>\n",
       "    <tr>\n",
       "      <th>905</th>\n",
       "      <td>SSP2</td>\n",
       "      <td>RCP8p5_IPSL</td>\n",
       "      <td>ZeroInvest</td>\n",
       "      <td>2030</td>\n",
       "      <td>South Asia</td>\n",
       "      <td>0.254017</td>\n",
       "    </tr>\n",
       "    <tr>\n",
       "      <th>954</th>\n",
       "      <td>SSP2</td>\n",
       "      <td>RCP8p5_MIROC</td>\n",
       "      <td>ZeroInvest</td>\n",
       "      <td>2030</td>\n",
       "      <td>Sub-Saharan\\nAfrica</td>\n",
       "      <td>0.351249</td>\n",
       "    </tr>\n",
       "    <tr>\n",
       "      <th>959</th>\n",
       "      <td>SSP2</td>\n",
       "      <td>RCP8p5_MIROC</td>\n",
       "      <td>ZeroInvest</td>\n",
       "      <td>2030</td>\n",
       "      <td>South Asia</td>\n",
       "      <td>0.282352</td>\n",
       "    </tr>\n",
       "    <tr>\n",
       "      <th>1008</th>\n",
       "      <td>SSP2</td>\n",
       "      <td>RCP8p5_NOR</td>\n",
       "      <td>ZeroInvest</td>\n",
       "      <td>2030</td>\n",
       "      <td>Sub-Saharan\\nAfrica</td>\n",
       "      <td>0.329846</td>\n",
       "    </tr>\n",
       "    <tr>\n",
       "      <th>1009</th>\n",
       "      <td>SSP2</td>\n",
       "      <td>RCP8p5_NOR</td>\n",
       "      <td>ZeroInvest</td>\n",
       "      <td>2030</td>\n",
       "      <td>East Asia\\nand Pacific</td>\n",
       "      <td>0.120039</td>\n",
       "    </tr>\n",
       "    <tr>\n",
       "      <th>1013</th>\n",
       "      <td>SSP2</td>\n",
       "      <td>RCP8p5_NOR</td>\n",
       "      <td>ZeroInvest</td>\n",
       "      <td>2030</td>\n",
       "      <td>South Asia</td>\n",
       "      <td>0.272446</td>\n",
       "    </tr>\n",
       "  </tbody>\n",
       "</table>\n",
       "</div>"
      ],
      "text/plain": [
       "     Macro    Sensitivity InvestmentType  Year                  Region  \\\n",
       "468   SSP2    RCP2p6_GDFL     ZeroInvest  2030     Sub-Saharan\\nAfrica   \n",
       "469   SSP2    RCP2p6_GDFL     ZeroInvest  2030  East Asia\\nand Pacific   \n",
       "473   SSP2    RCP2p6_GDFL     ZeroInvest  2030              South Asia   \n",
       "522   SSP2  RCP2p6_HadGEM     ZeroInvest  2030     Sub-Saharan\\nAfrica   \n",
       "523   SSP2  RCP2p6_HadGEM     ZeroInvest  2030  East Asia\\nand Pacific   \n",
       "527   SSP2  RCP2p6_HadGEM     ZeroInvest  2030              South Asia   \n",
       "576   SSP2    RCP2p6_IPSL     ZeroInvest  2030     Sub-Saharan\\nAfrica   \n",
       "577   SSP2    RCP2p6_IPSL     ZeroInvest  2030  East Asia\\nand Pacific   \n",
       "581   SSP2    RCP2p6_IPSL     ZeroInvest  2030              South Asia   \n",
       "630   SSP2   RCP2p6_MIROC     ZeroInvest  2030     Sub-Saharan\\nAfrica   \n",
       "631   SSP2   RCP2p6_MIROC     ZeroInvest  2030  East Asia\\nand Pacific   \n",
       "635   SSP2   RCP2p6_MIROC     ZeroInvest  2030              South Asia   \n",
       "684   SSP2     RCP2p6_NOR     ZeroInvest  2030     Sub-Saharan\\nAfrica   \n",
       "685   SSP2     RCP2p6_NOR     ZeroInvest  2030  East Asia\\nand Pacific   \n",
       "689   SSP2     RCP2p6_NOR     ZeroInvest  2030              South Asia   \n",
       "738   SSP2    RCP8p5_GDFL     ZeroInvest  2030     Sub-Saharan\\nAfrica   \n",
       "739   SSP2    RCP8p5_GDFL     ZeroInvest  2030  East Asia\\nand Pacific   \n",
       "743   SSP2    RCP8p5_GDFL     ZeroInvest  2030              South Asia   \n",
       "900   SSP2    RCP8p5_IPSL     ZeroInvest  2030     Sub-Saharan\\nAfrica   \n",
       "901   SSP2    RCP8p5_IPSL     ZeroInvest  2030  East Asia\\nand Pacific   \n",
       "905   SSP2    RCP8p5_IPSL     ZeroInvest  2030              South Asia   \n",
       "954   SSP2   RCP8p5_MIROC     ZeroInvest  2030     Sub-Saharan\\nAfrica   \n",
       "959   SSP2   RCP8p5_MIROC     ZeroInvest  2030              South Asia   \n",
       "1008  SSP2     RCP8p5_NOR     ZeroInvest  2030     Sub-Saharan\\nAfrica   \n",
       "1009  SSP2     RCP8p5_NOR     ZeroInvest  2030  East Asia\\nand Pacific   \n",
       "1013  SSP2     RCP8p5_NOR     ZeroInvest  2030              South Asia   \n",
       "\n",
       "      percent2  \n",
       "468   0.323572  \n",
       "469   0.128462  \n",
       "473   0.267039  \n",
       "522   0.326680  \n",
       "523   0.118457  \n",
       "527   0.226199  \n",
       "576   0.328820  \n",
       "577   0.149470  \n",
       "581   0.243765  \n",
       "630   0.344999  \n",
       "631   0.123922  \n",
       "635   0.279642  \n",
       "684   0.324822  \n",
       "685   0.116504  \n",
       "689   0.260858  \n",
       "738   0.321871  \n",
       "739   0.119834  \n",
       "743   0.281188  \n",
       "900   0.311733  \n",
       "901   0.120277  \n",
       "905   0.254017  \n",
       "954   0.351249  \n",
       "959   0.282352  \n",
       "1008  0.329846  \n",
       "1009  0.120039  \n",
       "1013  0.272446  "
      ]
     },
     "execution_count": 201,
     "metadata": {},
     "output_type": "execute_result"
    }
   ],
   "source": [
    "toplot.loc[(toplot.InvestmentType==\"ZeroInvest\")&(toplot.percent2>0.1),:]"
   ]
  },
  {
   "cell_type": "markdown",
   "metadata": {},
   "source": [
    "### impact of climate change on irrigation costs"
   ]
  },
  {
   "cell_type": "code",
   "execution_count": 202,
   "metadata": {},
   "outputs": [
    {
     "data": {
      "text/html": [
       "<div>\n",
       "<style>\n",
       "    .dataframe thead tr:only-child th {\n",
       "        text-align: right;\n",
       "    }\n",
       "\n",
       "    .dataframe thead th {\n",
       "        text-align: left;\n",
       "    }\n",
       "\n",
       "    .dataframe tbody tr th {\n",
       "        vertical-align: top;\n",
       "    }\n",
       "</style>\n",
       "<table border=\"1\" class=\"dataframe\">\n",
       "  <thead>\n",
       "    <tr style=\"text-align: right;\">\n",
       "      <th></th>\n",
       "      <th></th>\n",
       "      <th></th>\n",
       "      <th>Sensitivity</th>\n",
       "      <th>RCP2p6_IPSL</th>\n",
       "      <th>RCP2p6_MIROC</th>\n",
       "      <th>RCP2p6_NOR</th>\n",
       "      <th>RCP8p5_GDFL</th>\n",
       "      <th>RCP8p5_HadGEM</th>\n",
       "      <th>RCP8p5_HadGem_noCO2</th>\n",
       "      <th>RCP8p5_IPSL</th>\n",
       "      <th>RCP8p5_MIROC</th>\n",
       "      <th>RCP8p5_NOR</th>\n",
       "    </tr>\n",
       "    <tr>\n",
       "      <th>Macro</th>\n",
       "      <th>InvestmentType</th>\n",
       "      <th>Year</th>\n",
       "      <th>Region</th>\n",
       "      <th></th>\n",
       "      <th></th>\n",
       "      <th></th>\n",
       "      <th></th>\n",
       "      <th></th>\n",
       "      <th></th>\n",
       "      <th></th>\n",
       "      <th></th>\n",
       "      <th></th>\n",
       "    </tr>\n",
       "  </thead>\n",
       "  <tbody>\n",
       "    <tr>\n",
       "      <th rowspan=\"18\" valign=\"top\">SSP2</th>\n",
       "      <th rowspan=\"6\" valign=\"top\">Invest</th>\n",
       "      <th rowspan=\"6\" valign=\"top\">2030</th>\n",
       "      <th>AFR</th>\n",
       "      <td>-8.605604e-05</td>\n",
       "      <td>0.000051</td>\n",
       "      <td>0.000023</td>\n",
       "      <td>-0.000298</td>\n",
       "      <td>-3.086147e-04</td>\n",
       "      <td>-0.000216</td>\n",
       "      <td>-0.000347</td>\n",
       "      <td>-0.000050</td>\n",
       "      <td>-0.000218</td>\n",
       "    </tr>\n",
       "    <tr>\n",
       "      <th>EAP</th>\n",
       "      <td>2.698997e-04</td>\n",
       "      <td>0.000027</td>\n",
       "      <td>-0.000048</td>\n",
       "      <td>-0.000006</td>\n",
       "      <td>-3.248147e-05</td>\n",
       "      <td>-0.000017</td>\n",
       "      <td>0.000032</td>\n",
       "      <td>-0.000257</td>\n",
       "      <td>-0.000023</td>\n",
       "    </tr>\n",
       "    <tr>\n",
       "      <th>ECA</th>\n",
       "      <td>1.275171e-04</td>\n",
       "      <td>0.000080</td>\n",
       "      <td>0.000079</td>\n",
       "      <td>0.000228</td>\n",
       "      <td>1.665498e-04</td>\n",
       "      <td>0.000221</td>\n",
       "      <td>0.000148</td>\n",
       "      <td>0.000188</td>\n",
       "      <td>0.000159</td>\n",
       "    </tr>\n",
       "    <tr>\n",
       "      <th>LCR</th>\n",
       "      <td>-1.038641e-04</td>\n",
       "      <td>0.000076</td>\n",
       "      <td>-0.000096</td>\n",
       "      <td>-0.000122</td>\n",
       "      <td>-1.504364e-04</td>\n",
       "      <td>-0.000114</td>\n",
       "      <td>-0.000031</td>\n",
       "      <td>0.000066</td>\n",
       "      <td>-0.000076</td>\n",
       "    </tr>\n",
       "    <tr>\n",
       "      <th>MNA</th>\n",
       "      <td>7.565029e-07</td>\n",
       "      <td>-0.000132</td>\n",
       "      <td>-0.000246</td>\n",
       "      <td>-0.000022</td>\n",
       "      <td>1.195949e-04</td>\n",
       "      <td>0.000101</td>\n",
       "      <td>0.000027</td>\n",
       "      <td>0.000081</td>\n",
       "      <td>-0.000186</td>\n",
       "    </tr>\n",
       "    <tr>\n",
       "      <th>SAR</th>\n",
       "      <td>-1.031774e-04</td>\n",
       "      <td>0.000259</td>\n",
       "      <td>0.000044</td>\n",
       "      <td>0.000112</td>\n",
       "      <td>-2.783120e-04</td>\n",
       "      <td>-0.000166</td>\n",
       "      <td>-0.000197</td>\n",
       "      <td>0.000111</td>\n",
       "      <td>0.000075</td>\n",
       "    </tr>\n",
       "    <tr>\n",
       "      <th rowspan=\"6\" valign=\"top\">MaxInvest</th>\n",
       "      <th rowspan=\"6\" valign=\"top\">2030</th>\n",
       "      <th>AFR</th>\n",
       "      <td>-1.198839e-03</td>\n",
       "      <td>-0.000609</td>\n",
       "      <td>-0.002946</td>\n",
       "      <td>-0.000935</td>\n",
       "      <td>-4.023540e-04</td>\n",
       "      <td>-0.000369</td>\n",
       "      <td>-0.001336</td>\n",
       "      <td>-0.000637</td>\n",
       "      <td>-0.000992</td>\n",
       "    </tr>\n",
       "    <tr>\n",
       "      <th>EAP</th>\n",
       "      <td>1.088296e-04</td>\n",
       "      <td>-0.000132</td>\n",
       "      <td>-0.000600</td>\n",
       "      <td>-0.000265</td>\n",
       "      <td>-1.271010e-04</td>\n",
       "      <td>-0.000107</td>\n",
       "      <td>-0.000196</td>\n",
       "      <td>-0.000491</td>\n",
       "      <td>-0.000365</td>\n",
       "    </tr>\n",
       "    <tr>\n",
       "      <th>ECA</th>\n",
       "      <td>-6.097053e-04</td>\n",
       "      <td>-0.000773</td>\n",
       "      <td>-0.001075</td>\n",
       "      <td>-0.000656</td>\n",
       "      <td>-5.935050e-06</td>\n",
       "      <td>0.000373</td>\n",
       "      <td>-0.000653</td>\n",
       "      <td>-0.000600</td>\n",
       "      <td>-0.000727</td>\n",
       "    </tr>\n",
       "    <tr>\n",
       "      <th>LCR</th>\n",
       "      <td>-8.548187e-04</td>\n",
       "      <td>-0.000637</td>\n",
       "      <td>-0.001146</td>\n",
       "      <td>-0.000922</td>\n",
       "      <td>-1.227473e-04</td>\n",
       "      <td>-0.000085</td>\n",
       "      <td>-0.000872</td>\n",
       "      <td>-0.000662</td>\n",
       "      <td>-0.000843</td>\n",
       "    </tr>\n",
       "    <tr>\n",
       "      <th>MNA</th>\n",
       "      <td>-1.526603e-05</td>\n",
       "      <td>-0.000224</td>\n",
       "      <td>-0.000424</td>\n",
       "      <td>-0.000067</td>\n",
       "      <td>6.238826e-05</td>\n",
       "      <td>0.000099</td>\n",
       "      <td>-0.000038</td>\n",
       "      <td>-0.000004</td>\n",
       "      <td>-0.000389</td>\n",
       "    </tr>\n",
       "    <tr>\n",
       "      <th>SAR</th>\n",
       "      <td>-3.849494e-04</td>\n",
       "      <td>0.000167</td>\n",
       "      <td>-0.000820</td>\n",
       "      <td>0.000025</td>\n",
       "      <td>-5.196307e-04</td>\n",
       "      <td>-0.000494</td>\n",
       "      <td>-0.000442</td>\n",
       "      <td>0.000046</td>\n",
       "      <td>-0.000053</td>\n",
       "    </tr>\n",
       "    <tr>\n",
       "      <th rowspan=\"6\" valign=\"top\">ZeroInvest</th>\n",
       "      <th rowspan=\"6\" valign=\"top\">2030</th>\n",
       "      <th>AFR</th>\n",
       "      <td>2.658236e-03</td>\n",
       "      <td>0.002820</td>\n",
       "      <td>0.002618</td>\n",
       "      <td>0.002589</td>\n",
       "      <td>-2.320970e-06</td>\n",
       "      <td>-0.000023</td>\n",
       "      <td>0.002487</td>\n",
       "      <td>0.002883</td>\n",
       "      <td>0.002668</td>\n",
       "    </tr>\n",
       "    <tr>\n",
       "      <th>EAP</th>\n",
       "      <td>9.735996e-04</td>\n",
       "      <td>0.000718</td>\n",
       "      <td>0.000644</td>\n",
       "      <td>0.000677</td>\n",
       "      <td>-7.462909e-06</td>\n",
       "      <td>-0.000011</td>\n",
       "      <td>0.000682</td>\n",
       "      <td>0.000454</td>\n",
       "      <td>0.000679</td>\n",
       "    </tr>\n",
       "    <tr>\n",
       "      <th>ECA</th>\n",
       "      <td>2.736209e-04</td>\n",
       "      <td>0.000234</td>\n",
       "      <td>0.000232</td>\n",
       "      <td>0.000261</td>\n",
       "      <td>-2.871767e-06</td>\n",
       "      <td>-0.000011</td>\n",
       "      <td>0.000240</td>\n",
       "      <td>0.000308</td>\n",
       "      <td>0.000253</td>\n",
       "    </tr>\n",
       "    <tr>\n",
       "      <th>LCR</th>\n",
       "      <td>4.038865e-04</td>\n",
       "      <td>0.000574</td>\n",
       "      <td>0.000414</td>\n",
       "      <td>0.000375</td>\n",
       "      <td>-2.869984e-06</td>\n",
       "      <td>-0.000006</td>\n",
       "      <td>0.000461</td>\n",
       "      <td>0.000565</td>\n",
       "      <td>0.000410</td>\n",
       "    </tr>\n",
       "    <tr>\n",
       "      <th>MNA</th>\n",
       "      <td>4.126853e-04</td>\n",
       "      <td>0.000277</td>\n",
       "      <td>0.000202</td>\n",
       "      <td>0.000343</td>\n",
       "      <td>5.382653e-07</td>\n",
       "      <td>0.000005</td>\n",
       "      <td>0.000398</td>\n",
       "      <td>0.000430</td>\n",
       "      <td>0.000164</td>\n",
       "    </tr>\n",
       "    <tr>\n",
       "      <th>SAR</th>\n",
       "      <td>1.521300e-03</td>\n",
       "      <td>0.001880</td>\n",
       "      <td>0.001692</td>\n",
       "      <td>0.001896</td>\n",
       "      <td>-1.391747e-05</td>\n",
       "      <td>-0.000021</td>\n",
       "      <td>0.001624</td>\n",
       "      <td>0.001907</td>\n",
       "      <td>0.001808</td>\n",
       "    </tr>\n",
       "  </tbody>\n",
       "</table>\n",
       "</div>"
      ],
      "text/plain": [
       "Sensitivity                        RCP2p6_IPSL  RCP2p6_MIROC  RCP2p6_NOR  \\\n",
       "Macro InvestmentType Year Region                                           \n",
       "SSP2  Invest         2030 AFR    -8.605604e-05      0.000051    0.000023   \n",
       "                          EAP     2.698997e-04      0.000027   -0.000048   \n",
       "                          ECA     1.275171e-04      0.000080    0.000079   \n",
       "                          LCR    -1.038641e-04      0.000076   -0.000096   \n",
       "                          MNA     7.565029e-07     -0.000132   -0.000246   \n",
       "                          SAR    -1.031774e-04      0.000259    0.000044   \n",
       "      MaxInvest      2030 AFR    -1.198839e-03     -0.000609   -0.002946   \n",
       "                          EAP     1.088296e-04     -0.000132   -0.000600   \n",
       "                          ECA    -6.097053e-04     -0.000773   -0.001075   \n",
       "                          LCR    -8.548187e-04     -0.000637   -0.001146   \n",
       "                          MNA    -1.526603e-05     -0.000224   -0.000424   \n",
       "                          SAR    -3.849494e-04      0.000167   -0.000820   \n",
       "      ZeroInvest     2030 AFR     2.658236e-03      0.002820    0.002618   \n",
       "                          EAP     9.735996e-04      0.000718    0.000644   \n",
       "                          ECA     2.736209e-04      0.000234    0.000232   \n",
       "                          LCR     4.038865e-04      0.000574    0.000414   \n",
       "                          MNA     4.126853e-04      0.000277    0.000202   \n",
       "                          SAR     1.521300e-03      0.001880    0.001692   \n",
       "\n",
       "Sensitivity                       RCP8p5_GDFL  RCP8p5_HadGEM  \\\n",
       "Macro InvestmentType Year Region                               \n",
       "SSP2  Invest         2030 AFR       -0.000298  -3.086147e-04   \n",
       "                          EAP       -0.000006  -3.248147e-05   \n",
       "                          ECA        0.000228   1.665498e-04   \n",
       "                          LCR       -0.000122  -1.504364e-04   \n",
       "                          MNA       -0.000022   1.195949e-04   \n",
       "                          SAR        0.000112  -2.783120e-04   \n",
       "      MaxInvest      2030 AFR       -0.000935  -4.023540e-04   \n",
       "                          EAP       -0.000265  -1.271010e-04   \n",
       "                          ECA       -0.000656  -5.935050e-06   \n",
       "                          LCR       -0.000922  -1.227473e-04   \n",
       "                          MNA       -0.000067   6.238826e-05   \n",
       "                          SAR        0.000025  -5.196307e-04   \n",
       "      ZeroInvest     2030 AFR        0.002589  -2.320970e-06   \n",
       "                          EAP        0.000677  -7.462909e-06   \n",
       "                          ECA        0.000261  -2.871767e-06   \n",
       "                          LCR        0.000375  -2.869984e-06   \n",
       "                          MNA        0.000343   5.382653e-07   \n",
       "                          SAR        0.001896  -1.391747e-05   \n",
       "\n",
       "Sensitivity                       RCP8p5_HadGem_noCO2  RCP8p5_IPSL  \\\n",
       "Macro InvestmentType Year Region                                     \n",
       "SSP2  Invest         2030 AFR               -0.000216    -0.000347   \n",
       "                          EAP               -0.000017     0.000032   \n",
       "                          ECA                0.000221     0.000148   \n",
       "                          LCR               -0.000114    -0.000031   \n",
       "                          MNA                0.000101     0.000027   \n",
       "                          SAR               -0.000166    -0.000197   \n",
       "      MaxInvest      2030 AFR               -0.000369    -0.001336   \n",
       "                          EAP               -0.000107    -0.000196   \n",
       "                          ECA                0.000373    -0.000653   \n",
       "                          LCR               -0.000085    -0.000872   \n",
       "                          MNA                0.000099    -0.000038   \n",
       "                          SAR               -0.000494    -0.000442   \n",
       "      ZeroInvest     2030 AFR               -0.000023     0.002487   \n",
       "                          EAP               -0.000011     0.000682   \n",
       "                          ECA               -0.000011     0.000240   \n",
       "                          LCR               -0.000006     0.000461   \n",
       "                          MNA                0.000005     0.000398   \n",
       "                          SAR               -0.000021     0.001624   \n",
       "\n",
       "Sensitivity                       RCP8p5_MIROC  RCP8p5_NOR  \n",
       "Macro InvestmentType Year Region                            \n",
       "SSP2  Invest         2030 AFR        -0.000050   -0.000218  \n",
       "                          EAP        -0.000257   -0.000023  \n",
       "                          ECA         0.000188    0.000159  \n",
       "                          LCR         0.000066   -0.000076  \n",
       "                          MNA         0.000081   -0.000186  \n",
       "                          SAR         0.000111    0.000075  \n",
       "      MaxInvest      2030 AFR        -0.000637   -0.000992  \n",
       "                          EAP        -0.000491   -0.000365  \n",
       "                          ECA        -0.000600   -0.000727  \n",
       "                          LCR        -0.000662   -0.000843  \n",
       "                          MNA        -0.000004   -0.000389  \n",
       "                          SAR         0.000046   -0.000053  \n",
       "      ZeroInvest     2030 AFR         0.002883    0.002668  \n",
       "                          EAP         0.000454    0.000679  \n",
       "                          ECA         0.000308    0.000253  \n",
       "                          LCR         0.000565    0.000410  \n",
       "                          MNA         0.000430    0.000164  \n",
       "                          SAR         0.001907    0.001808  "
      ]
     },
     "execution_count": 202,
     "metadata": {},
     "output_type": "execute_result"
    }
   ],
   "source": [
    "costs_region_over_gdp.unstack(\"Sensitivity\")[['RCP2p6_IPSL', 'RCP2p6_MIROC', 'RCP2p6_NOR',\n",
    "       'RCP8p5_GDFL', 'RCP8p5_HadGEM', 'RCP8p5_HadGem_noCO2',\n",
    "       'RCP8p5_IPSL', 'RCP8p5_MIROC', 'RCP8p5_NOR']].sub(costs_region_over_gdp.unstack(\"Sensitivity\")[\"Baseline\"],axis=0).dropna().drop([2050,2100],level=\"Year\")"
   ]
  },
  {
   "cell_type": "markdown",
   "metadata": {},
   "source": [
    "## Calories"
   ]
  },
  {
   "cell_type": "markdown",
   "metadata": {},
   "source": [
    "### Unfinished: trying to explore the link between the irrigation scenarios and calories per capita"
   ]
  },
  {
   "cell_type": "code",
   "execution_count": 203,
   "metadata": {
    "collapsed": true
   },
   "outputs": [],
   "source": [
    "calories_global = data.unstack(\"Var\")[\"Val\"][\"CALO\"].dropna().unstack(\"Region\")[\"WLD\"].unstack(\"Item\")[\"TOT\"]\n",
    "calories_reg = data.unstack(\"Var\")[\"Val\"][\"CALO\"].dropna().unstack(\"Region\").drop([\"WLD\",\"EC\",\"NAM\",\"APD\"],axis=1).stack().unstack(\"Item\")[\"TOT\"]"
   ]
  },
  {
   "cell_type": "code",
   "execution_count": 204,
   "metadata": {
    "collapsed": true
   },
   "outputs": [],
   "source": [
    "calories_global_2030 = calories_global.unstack(\"Year\")[2030]\n",
    "calories_reg_2030 = calories_reg.unstack(\"Year\")[2030]"
   ]
  },
  {
   "cell_type": "code",
   "execution_count": 205,
   "metadata": {},
   "outputs": [
    {
     "data": {
      "text/plain": [
       "<matplotlib.collections.PathCollection at 0x23fd9efdb38>"
      ]
     },
     "execution_count": 205,
     "metadata": {},
     "output_type": "execute_result"
    },
    {
     "data": {
      "image/png": "[encoded data removed]",
      "text/plain": [
       "<matplotlib.figure.Figure at 0x23fddc642e8>"
      ]
     },
     "metadata": {},
     "output_type": "display_data"
    }
   ],
   "source": [
    "plt.scatter(costs_global_disc,calories_global_2030,s=20)"
   ]
  },
  {
   "cell_type": "code",
   "execution_count": 206,
   "metadata": {
    "collapsed": true
   },
   "outputs": [],
   "source": [
    "global_data = costs_global_disc.reset_index().merge(calories_global_2030.reset_index().rename(columns={2030:\"calories\"}),on=[\"Macro\",\"Sensitivity\",\"InvestmentType\"]).drop(\"Unit\",axis=1)"
   ]
  },
  {
   "cell_type": "code",
   "execution_count": 207,
   "metadata": {},
   "outputs": [
    {
     "data": {
      "text/html": [
       "<div>\n",
       "<style>\n",
       "    .dataframe thead tr:only-child th {\n",
       "        text-align: right;\n",
       "    }\n",
       "\n",
       "    .dataframe thead th {\n",
       "        text-align: left;\n",
       "    }\n",
       "\n",
       "    .dataframe tbody tr th {\n",
       "        vertical-align: top;\n",
       "    }\n",
       "</style>\n",
       "<table border=\"1\" class=\"dataframe\">\n",
       "  <thead>\n",
       "    <tr style=\"text-align: right;\">\n",
       "      <th></th>\n",
       "      <th>Macro</th>\n",
       "      <th>Sensitivity</th>\n",
       "      <th>InvestmentType</th>\n",
       "      <th>disc</th>\n",
       "      <th>calories</th>\n",
       "    </tr>\n",
       "  </thead>\n",
       "  <tbody>\n",
       "    <tr>\n",
       "      <th>0</th>\n",
       "      <td>SSP1</td>\n",
       "      <td>Baseline</td>\n",
       "      <td>Invest</td>\n",
       "      <td>451165.845831</td>\n",
       "      <td>3156.677008</td>\n",
       "    </tr>\n",
       "    <tr>\n",
       "      <th>1</th>\n",
       "      <td>SSP1</td>\n",
       "      <td>Baseline</td>\n",
       "      <td>MaxInvest</td>\n",
       "      <td>722743.893813</td>\n",
       "      <td>3170.809599</td>\n",
       "    </tr>\n",
       "    <tr>\n",
       "      <th>3</th>\n",
       "      <td>SSP1</td>\n",
       "      <td>Combined_Low</td>\n",
       "      <td>Invest</td>\n",
       "      <td>577675.473473</td>\n",
       "      <td>3152.378665</td>\n",
       "    </tr>\n",
       "    <tr>\n",
       "      <th>6</th>\n",
       "      <td>SSP1</td>\n",
       "      <td>Combined_Low2</td>\n",
       "      <td>Invest</td>\n",
       "      <td>577675.473473</td>\n",
       "      <td>3152.378665</td>\n",
       "    </tr>\n",
       "    <tr>\n",
       "      <th>9</th>\n",
       "      <td>SSP2</td>\n",
       "      <td>Baseline</td>\n",
       "      <td>Invest</td>\n",
       "      <td>503835.142093</td>\n",
       "      <td>3169.043205</td>\n",
       "    </tr>\n",
       "    <tr>\n",
       "      <th>11</th>\n",
       "      <td>SSP2</td>\n",
       "      <td>Baseline</td>\n",
       "      <td>ZeroInvest</td>\n",
       "      <td>218288.808541</td>\n",
       "      <td>3151.693866</td>\n",
       "    </tr>\n",
       "    <tr>\n",
       "      <th>24</th>\n",
       "      <td>SSP2</td>\n",
       "      <td>RCP2p6_GDFL</td>\n",
       "      <td>Invest</td>\n",
       "      <td>545609.774124</td>\n",
       "      <td>3163.066110</td>\n",
       "    </tr>\n",
       "    <tr>\n",
       "      <th>25</th>\n",
       "      <td>SSP2</td>\n",
       "      <td>RCP2p6_GDFL</td>\n",
       "      <td>MaxInvest</td>\n",
       "      <td>710359.227675</td>\n",
       "      <td>3163.689458</td>\n",
       "    </tr>\n",
       "    <tr>\n",
       "      <th>26</th>\n",
       "      <td>SSP2</td>\n",
       "      <td>RCP2p6_GDFL</td>\n",
       "      <td>ZeroInvest</td>\n",
       "      <td>506020.475831</td>\n",
       "      <td>3161.824734</td>\n",
       "    </tr>\n",
       "    <tr>\n",
       "      <th>27</th>\n",
       "      <td>SSP2</td>\n",
       "      <td>RCP2p6_HadGEM</td>\n",
       "      <td>Invest</td>\n",
       "      <td>493717.971093</td>\n",
       "      <td>3158.802781</td>\n",
       "    </tr>\n",
       "    <tr>\n",
       "      <th>28</th>\n",
       "      <td>SSP2</td>\n",
       "      <td>RCP2p6_HadGEM</td>\n",
       "      <td>MaxInvest</td>\n",
       "      <td>645322.438309</td>\n",
       "      <td>3160.236969</td>\n",
       "    </tr>\n",
       "    <tr>\n",
       "      <th>29</th>\n",
       "      <td>SSP2</td>\n",
       "      <td>RCP2p6_HadGEM</td>\n",
       "      <td>ZeroInvest</td>\n",
       "      <td>454472.098179</td>\n",
       "      <td>3157.974185</td>\n",
       "    </tr>\n",
       "    <tr>\n",
       "      <th>30</th>\n",
       "      <td>SSP2</td>\n",
       "      <td>RCP2p6_IPSL</td>\n",
       "      <td>Invest</td>\n",
       "      <td>584012.417614</td>\n",
       "      <td>3162.982825</td>\n",
       "    </tr>\n",
       "    <tr>\n",
       "      <th>31</th>\n",
       "      <td>SSP2</td>\n",
       "      <td>RCP2p6_IPSL</td>\n",
       "      <td>MaxInvest</td>\n",
       "      <td>768241.971702</td>\n",
       "      <td>3164.847790</td>\n",
       "    </tr>\n",
       "    <tr>\n",
       "      <th>32</th>\n",
       "      <td>SSP2</td>\n",
       "      <td>RCP2p6_IPSL</td>\n",
       "      <td>ZeroInvest</td>\n",
       "      <td>545187.584029</td>\n",
       "      <td>3162.912840</td>\n",
       "    </tr>\n",
       "    <tr>\n",
       "      <th>36</th>\n",
       "      <td>SSP2</td>\n",
       "      <td>RCP2p6_NOR</td>\n",
       "      <td>Invest</td>\n",
       "      <td>492789.313970</td>\n",
       "      <td>3160.851813</td>\n",
       "    </tr>\n",
       "    <tr>\n",
       "      <th>37</th>\n",
       "      <td>SSP2</td>\n",
       "      <td>RCP2p6_NOR</td>\n",
       "      <td>MaxInvest</td>\n",
       "      <td>530894.303949</td>\n",
       "      <td>3162.201402</td>\n",
       "    </tr>\n",
       "    <tr>\n",
       "      <th>38</th>\n",
       "      <td>SSP2</td>\n",
       "      <td>RCP2p6_NOR</td>\n",
       "      <td>ZeroInvest</td>\n",
       "      <td>452516.107224</td>\n",
       "      <td>3159.173496</td>\n",
       "    </tr>\n",
       "    <tr>\n",
       "      <th>39</th>\n",
       "      <td>SSP2</td>\n",
       "      <td>RCP8p5_GDFL</td>\n",
       "      <td>Invest</td>\n",
       "      <td>534561.868705</td>\n",
       "      <td>3160.684839</td>\n",
       "    </tr>\n",
       "    <tr>\n",
       "      <th>40</th>\n",
       "      <td>SSP2</td>\n",
       "      <td>RCP8p5_GDFL</td>\n",
       "      <td>MaxInvest</td>\n",
       "      <td>710818.051886</td>\n",
       "      <td>3162.760602</td>\n",
       "    </tr>\n",
       "    <tr>\n",
       "      <th>41</th>\n",
       "      <td>SSP2</td>\n",
       "      <td>RCP8p5_GDFL</td>\n",
       "      <td>ZeroInvest</td>\n",
       "      <td>495148.575970</td>\n",
       "      <td>3159.268222</td>\n",
       "    </tr>\n",
       "    <tr>\n",
       "      <th>43</th>\n",
       "      <td>SSP2</td>\n",
       "      <td>RCP8p5_HadGEM</td>\n",
       "      <td>MaxInvest</td>\n",
       "      <td>781839.507530</td>\n",
       "      <td>3153.281158</td>\n",
       "    </tr>\n",
       "    <tr>\n",
       "      <th>54</th>\n",
       "      <td>SSP2</td>\n",
       "      <td>RCP8p5_NOR</td>\n",
       "      <td>Invest</td>\n",
       "      <td>496348.789468</td>\n",
       "      <td>3150.063345</td>\n",
       "    </tr>\n",
       "    <tr>\n",
       "      <th>55</th>\n",
       "      <td>SSP2</td>\n",
       "      <td>RCP8p5_NOR</td>\n",
       "      <td>MaxInvest</td>\n",
       "      <td>649586.259342</td>\n",
       "      <td>3150.868020</td>\n",
       "    </tr>\n",
       "    <tr>\n",
       "      <th>57</th>\n",
       "      <td>SSP2</td>\n",
       "      <td>Region AFR MaxInvest</td>\n",
       "      <td>MaxInvest</td>\n",
       "      <td>327918.250345</td>\n",
       "      <td>3153.144828</td>\n",
       "    </tr>\n",
       "    <tr>\n",
       "      <th>58</th>\n",
       "      <td>SSP2</td>\n",
       "      <td>Region EAP MaxInvest</td>\n",
       "      <td>MaxInvest</td>\n",
       "      <td>428498.361441</td>\n",
       "      <td>3160.588456</td>\n",
       "    </tr>\n",
       "    <tr>\n",
       "      <th>59</th>\n",
       "      <td>SSP2</td>\n",
       "      <td>Region ECA MaxInvest</td>\n",
       "      <td>MaxInvest</td>\n",
       "      <td>285203.993118</td>\n",
       "      <td>3152.839712</td>\n",
       "    </tr>\n",
       "    <tr>\n",
       "      <th>60</th>\n",
       "      <td>SSP2</td>\n",
       "      <td>Region LCR MaxInvest</td>\n",
       "      <td>MaxInvest</td>\n",
       "      <td>314994.331452</td>\n",
       "      <td>3154.980535</td>\n",
       "    </tr>\n",
       "    <tr>\n",
       "      <th>61</th>\n",
       "      <td>SSP2</td>\n",
       "      <td>Region MNA MaxInvest</td>\n",
       "      <td>MaxInvest</td>\n",
       "      <td>247473.725630</td>\n",
       "      <td>3154.612093</td>\n",
       "    </tr>\n",
       "    <tr>\n",
       "      <th>62</th>\n",
       "      <td>SSP2</td>\n",
       "      <td>Region SAR MaxInvest</td>\n",
       "      <td>MaxInvest</td>\n",
       "      <td>309792.745858</td>\n",
       "      <td>3162.616751</td>\n",
       "    </tr>\n",
       "    <tr>\n",
       "      <th>63</th>\n",
       "      <td>SSP2</td>\n",
       "      <td>TradeOpen</td>\n",
       "      <td>Invest</td>\n",
       "      <td>527292.910094</td>\n",
       "      <td>3187.707100</td>\n",
       "    </tr>\n",
       "    <tr>\n",
       "      <th>65</th>\n",
       "      <td>SSP2</td>\n",
       "      <td>TradeOpen</td>\n",
       "      <td>ZeroInvest</td>\n",
       "      <td>218893.789832</td>\n",
       "      <td>3172.987499</td>\n",
       "    </tr>\n",
       "    <tr>\n",
       "      <th>69</th>\n",
       "      <td>SSP2</td>\n",
       "      <td>WatrEff_High</td>\n",
       "      <td>Invest</td>\n",
       "      <td>552000.631356</td>\n",
       "      <td>3169.742014</td>\n",
       "    </tr>\n",
       "    <tr>\n",
       "      <th>71</th>\n",
       "      <td>SSP2</td>\n",
       "      <td>WatrEff_High</td>\n",
       "      <td>ZeroInvest</td>\n",
       "      <td>218288.808541</td>\n",
       "      <td>3151.693866</td>\n",
       "    </tr>\n",
       "    <tr>\n",
       "      <th>72</th>\n",
       "      <td>SSP2</td>\n",
       "      <td>WatrEff_Low</td>\n",
       "      <td>Invest</td>\n",
       "      <td>463661.516957</td>\n",
       "      <td>3168.464795</td>\n",
       "    </tr>\n",
       "    <tr>\n",
       "      <th>73</th>\n",
       "      <td>SSP2</td>\n",
       "      <td>WatrEff_Low</td>\n",
       "      <td>MaxInvest</td>\n",
       "      <td>771144.908450</td>\n",
       "      <td>3179.557198</td>\n",
       "    </tr>\n",
       "    <tr>\n",
       "      <th>74</th>\n",
       "      <td>SSP2</td>\n",
       "      <td>WatrEff_Low</td>\n",
       "      <td>ZeroInvest</td>\n",
       "      <td>218288.808541</td>\n",
       "      <td>3151.693866</td>\n",
       "    </tr>\n",
       "  </tbody>\n",
       "</table>\n",
       "</div>"
      ],
      "text/plain": [
       "   Macro           Sensitivity InvestmentType           disc     calories\n",
       "0   SSP1              Baseline         Invest  451165.845831  3156.677008\n",
       "1   SSP1              Baseline      MaxInvest  722743.893813  3170.809599\n",
       "3   SSP1          Combined_Low         Invest  577675.473473  3152.378665\n",
       "6   SSP1         Combined_Low2         Invest  577675.473473  3152.378665\n",
       "9   SSP2              Baseline         Invest  503835.142093  3169.043205\n",
       "11  SSP2              Baseline     ZeroInvest  218288.808541  3151.693866\n",
       "24  SSP2           RCP2p6_GDFL         Invest  545609.774124  3163.066110\n",
       "25  SSP2           RCP2p6_GDFL      MaxInvest  710359.227675  3163.689458\n",
       "26  SSP2           RCP2p6_GDFL     ZeroInvest  506020.475831  3161.824734\n",
       "27  SSP2         RCP2p6_HadGEM         Invest  493717.971093  3158.802781\n",
       "28  SSP2         RCP2p6_HadGEM      MaxInvest  645322.438309  3160.236969\n",
       "29  SSP2         RCP2p6_HadGEM     ZeroInvest  454472.098179  3157.974185\n",
       "30  SSP2           RCP2p6_IPSL         Invest  584012.417614  3162.982825\n",
       "31  SSP2           RCP2p6_IPSL      MaxInvest  768241.971702  3164.847790\n",
       "32  SSP2           RCP2p6_IPSL     ZeroInvest  545187.584029  3162.912840\n",
       "36  SSP2            RCP2p6_NOR         Invest  492789.313970  3160.851813\n",
       "37  SSP2            RCP2p6_NOR      MaxInvest  530894.303949  3162.201402\n",
       "38  SSP2            RCP2p6_NOR     ZeroInvest  452516.107224  3159.173496\n",
       "39  SSP2           RCP8p5_GDFL         Invest  534561.868705  3160.684839\n",
       "40  SSP2           RCP8p5_GDFL      MaxInvest  710818.051886  3162.760602\n",
       "41  SSP2           RCP8p5_GDFL     ZeroInvest  495148.575970  3159.268222\n",
       "43  SSP2         RCP8p5_HadGEM      MaxInvest  781839.507530  3153.281158\n",
       "54  SSP2            RCP8p5_NOR         Invest  496348.789468  3150.063345\n",
       "55  SSP2            RCP8p5_NOR      MaxInvest  649586.259342  3150.868020\n",
       "57  SSP2  Region AFR MaxInvest      MaxInvest  327918.250345  3153.144828\n",
       "58  SSP2  Region EAP MaxInvest      MaxInvest  428498.361441  3160.588456\n",
       "59  SSP2  Region ECA MaxInvest      MaxInvest  285203.993118  3152.839712\n",
       "60  SSP2  Region LCR MaxInvest      MaxInvest  314994.331452  3154.980535\n",
       "61  SSP2  Region MNA MaxInvest      MaxInvest  247473.725630  3154.612093\n",
       "62  SSP2  Region SAR MaxInvest      MaxInvest  309792.745858  3162.616751\n",
       "63  SSP2             TradeOpen         Invest  527292.910094  3187.707100\n",
       "65  SSP2             TradeOpen     ZeroInvest  218893.789832  3172.987499\n",
       "69  SSP2          WatrEff_High         Invest  552000.631356  3169.742014\n",
       "71  SSP2          WatrEff_High     ZeroInvest  218288.808541  3151.693866\n",
       "72  SSP2           WatrEff_Low         Invest  463661.516957  3168.464795\n",
       "73  SSP2           WatrEff_Low      MaxInvest  771144.908450  3179.557198\n",
       "74  SSP2           WatrEff_Low     ZeroInvest  218288.808541  3151.693866"
      ]
     },
     "execution_count": 207,
     "metadata": {},
     "output_type": "execute_result"
    }
   ],
   "source": [
    "global_data.loc[(global_data.disc<800000)&(global_data.calories>3150),:]"
   ]
  },
  {
   "cell_type": "code",
   "execution_count": 208,
   "metadata": {},
   "outputs": [
    {
     "data": {
      "text/html": [
       "<div>\n",
       "<style>\n",
       "    .dataframe thead tr:only-child th {\n",
       "        text-align: right;\n",
       "    }\n",
       "\n",
       "    .dataframe thead th {\n",
       "        text-align: left;\n",
       "    }\n",
       "\n",
       "    .dataframe tbody tr th {\n",
       "        vertical-align: top;\n",
       "    }\n",
       "</style>\n",
       "<table border=\"1\" class=\"dataframe\">\n",
       "  <thead>\n",
       "    <tr style=\"text-align: right;\">\n",
       "      <th></th>\n",
       "      <th>Macro</th>\n",
       "      <th>Sensitivity</th>\n",
       "      <th>InvestmentType</th>\n",
       "      <th>disc</th>\n",
       "      <th>calories</th>\n",
       "    </tr>\n",
       "  </thead>\n",
       "  <tbody>\n",
       "    <tr>\n",
       "      <th>14</th>\n",
       "      <td>SSP2</td>\n",
       "      <td>Combined_High</td>\n",
       "      <td>ZeroInvest</td>\n",
       "      <td>231444.615084</td>\n",
       "      <td>3098.835262</td>\n",
       "    </tr>\n",
       "    <tr>\n",
       "      <th>20</th>\n",
       "      <td>SSP2</td>\n",
       "      <td>HealthyDiet</td>\n",
       "      <td>ZeroInvest</td>\n",
       "      <td>204084.111982</td>\n",
       "      <td>3098.614429</td>\n",
       "    </tr>\n",
       "    <tr>\n",
       "      <th>21</th>\n",
       "      <td>SSP2</td>\n",
       "      <td>HealthySustDiet</td>\n",
       "      <td>Invest</td>\n",
       "      <td>466802.437610</td>\n",
       "      <td>3094.443896</td>\n",
       "    </tr>\n",
       "    <tr>\n",
       "      <th>23</th>\n",
       "      <td>SSP2</td>\n",
       "      <td>HealthySustDiet</td>\n",
       "      <td>ZeroInvest</td>\n",
       "      <td>203013.733492</td>\n",
       "      <td>3086.440626</td>\n",
       "    </tr>\n",
       "    <tr>\n",
       "      <th>47</th>\n",
       "      <td>SSP2</td>\n",
       "      <td>RCP8p5_HadGem_noCO2</td>\n",
       "      <td>ZeroInvest</td>\n",
       "      <td>228041.797480</td>\n",
       "      <td>3080.151491</td>\n",
       "    </tr>\n",
       "    <tr>\n",
       "      <th>75</th>\n",
       "      <td>SSP3</td>\n",
       "      <td>Baseline</td>\n",
       "      <td>Invest</td>\n",
       "      <td>505656.703094</td>\n",
       "      <td>3054.528093</td>\n",
       "    </tr>\n",
       "    <tr>\n",
       "      <th>76</th>\n",
       "      <td>SSP3</td>\n",
       "      <td>Baseline</td>\n",
       "      <td>MaxInvest</td>\n",
       "      <td>792461.306672</td>\n",
       "      <td>3059.900130</td>\n",
       "    </tr>\n",
       "    <tr>\n",
       "      <th>77</th>\n",
       "      <td>SSP3</td>\n",
       "      <td>Baseline</td>\n",
       "      <td>ZeroInvest</td>\n",
       "      <td>209277.328833</td>\n",
       "      <td>3032.044321</td>\n",
       "    </tr>\n",
       "  </tbody>\n",
       "</table>\n",
       "</div>"
      ],
      "text/plain": [
       "   Macro          Sensitivity InvestmentType           disc     calories\n",
       "14  SSP2        Combined_High     ZeroInvest  231444.615084  3098.835262\n",
       "20  SSP2          HealthyDiet     ZeroInvest  204084.111982  3098.614429\n",
       "21  SSP2      HealthySustDiet         Invest  466802.437610  3094.443896\n",
       "23  SSP2      HealthySustDiet     ZeroInvest  203013.733492  3086.440626\n",
       "47  SSP2  RCP8p5_HadGem_noCO2     ZeroInvest  228041.797480  3080.151491\n",
       "75  SSP3             Baseline         Invest  505656.703094  3054.528093\n",
       "76  SSP3             Baseline      MaxInvest  792461.306672  3059.900130\n",
       "77  SSP3             Baseline     ZeroInvest  209277.328833  3032.044321"
      ]
     },
     "execution_count": 208,
     "metadata": {},
     "output_type": "execute_result"
    }
   ],
   "source": [
    "global_data.loc[(global_data.calories<3100),:]"
   ]
  },
  {
   "cell_type": "code",
   "execution_count": 209,
   "metadata": {
    "collapsed": true
   },
   "outputs": [],
   "source": [
    "toplot = costs_region_over_gdp.reset_index().merge(calories_reg_2030.reset_index().rename(columns={2030:\"calories\"}),on=[\"Macro\",\"Sensitivity\",\"InvestmentType\",\"Region\"]).drop(\"Unit\",axis=1)\n",
    "toplot[\"percent2\"] = 100*toplot.percent2"
   ]
  },
  {
   "cell_type": "code",
   "execution_count": 210,
   "metadata": {},
   "outputs": [
    {
     "data": {
      "text/plain": [
       "(0, 0.8)"
      ]
     },
     "execution_count": 210,
     "metadata": {},
     "output_type": "execute_result"
    },
    {
     "data": {
      "image/png": "[encoded data removed]",
      "text/plain": [
       "<matplotlib.figure.Figure at 0x23fdb51e4e0>"
      ]
     },
     "metadata": {},
     "output_type": "display_data"
    }
   ],
   "source": [
    "sns.lmplot(\"percent2\", \"calories\", data=toplot, hue='Region', fit_reg=False, size=10, aspect = 1)\n",
    "plt.xlim([0,0.8])"
   ]
  },
  {
   "cell_type": "code",
   "execution_count": null,
   "metadata": {
    "collapsed": true
   },
   "outputs": [],
   "source": []
  }
 ],
 "metadata": {
  "kernelspec": {
   "display_name": "Python [conda root]",
   "language": "python",
   "name": "conda-root-py"
  },
  "language_info": {
   "codemirror_mode": {
    "name": "ipython",
    "version": 3
   },
   "file_extension": ".py",
   "mimetype": "text/x-python",
   "name": "python",
   "nbconvert_exporter": "python",
   "pygments_lexer": "ipython3",
   "version": "3.5.4"
  },
  "toc": {
   "colors": {
    "hover_highlight": "#DAA520",
    "navigate_num": "#000000",
    "navigate_text": "#333333",
    "running_highlight": "#FF0000",
    "selected_highlight": "#FFD700",
    "sidebar_border": "#EEEEEE",
    "wrapper_background": "#FFFFFF"
   },
   "moveMenuLeft": true,
   "nav_menu": {
    "height": "12px",
    "width": "252px"
   },
   "navigate_menu": true,
   "number_sections": true,
   "sideBar": true,
   "threshold": 4,
   "toc_cell": false,
   "toc_section_display": "block",
   "toc_window_display": false,
   "widenNotebook": false
  }
 },
 "nbformat": 4,
 "nbformat_minor": 2
}
