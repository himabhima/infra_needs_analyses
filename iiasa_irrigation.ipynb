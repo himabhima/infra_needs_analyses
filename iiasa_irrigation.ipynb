{
 "cells": [
  {
   "cell_type": "code",
   "execution_count": 169,
   "metadata": {
    "collapsed": true
   },
   "outputs": [],
   "source": [
    "import pandas as pd\n",
    "import numpy as np\n",
    "import matplotlib.pyplot as plt\n",
    "import prim\n",
    "import seaborn as sns\n",
    "from sklearn import mixture\n",
    "import os\n",
    "from clustering_and_prim_tools import *"
   ]
  },
  {
   "cell_type": "code",
   "execution_count": 170,
   "metadata": {
    "collapsed": true
   },
   "outputs": [],
   "source": [
    "%matplotlib inline"
   ]
  },
  {
   "cell_type": "code",
   "execution_count": 171,
   "metadata": {
    "collapsed": true
   },
   "outputs": [],
   "source": [
    "sns.set_context(\"poster\",rc={\"font.size\": 28})\n",
    "sns.set_style(\"whitegrid\")"
   ]
  },
  {
   "cell_type": "code",
   "execution_count": 172,
   "metadata": {
    "collapsed": true
   },
   "outputs": [],
   "source": [
    "invfolder = \"C:\\\\Users\\\\WB451855\\OneDrive - WBG\\\\!infra_needs_data\\\\water_iiasa_output_data\\\\\""
   ]
  },
  {
   "cell_type": "code",
   "execution_count": 227,
   "metadata": {},
   "outputs": [],
   "source": [
    "data = pd.read_excel(invfolder+\"data_WB_Irrigation_11june18.xlsx\",sheetname=\"data_WB_Irrigation_11june18\")"
   ]
  },
  {
   "cell_type": "markdown",
   "metadata": {},
   "source": [
    "## Test the data"
   ]
  },
  {
   "cell_type": "code",
   "execution_count": 228,
   "metadata": {},
   "outputs": [
    {
     "data": {
      "text/plain": [
       "Index(['Region', 'Var', 'Unit', 'Item', 'Macro', 'Sensitivity',\n",
       "       'InvestmentType', 'Year', 'Val'],\n",
       "      dtype='object')"
      ]
     },
     "execution_count": 228,
     "metadata": {},
     "output_type": "execute_result"
    }
   ],
   "source": [
    "data.columns"
   ]
  },
  {
   "cell_type": "code",
   "execution_count": 229,
   "metadata": {
    "collapsed": true
   },
   "outputs": [],
   "source": [
    "data = data.reset_index().set_index(['Region', 'Var', 'Unit', 'Item', 'Macro', 'Sensitivity','InvestmentType', 'Year'])"
   ]
  },
  {
   "cell_type": "code",
   "execution_count": 230,
   "metadata": {},
   "outputs": [
    {
     "data": {
      "text/plain": [
       "MultiIndex(levels=[['index', 'Val'], ['AREA', 'ARIR', 'ARRF', 'ASYS2', 'CALO', 'CCSYS', 'CC_D06', 'CONS', 'CSYS', 'EMIS', 'GDPC', 'GDPC_D06', 'GDPD', 'GDPD_D06', 'GDPT', 'LAND', 'NETT', 'NTMS2', 'PROD', 'WDEM', 'WEFF', 'WSECT', 'XPRI', 'YILM']],\n",
       "           labels=[[0, 0, 0, 0, 0, 0, 0, 0, 0, 0, 0, 0, 0, 0, 0, 0, 0, 0, 0, 0, 0, 0, 0, 0, 1, 1, 1, 1, 1, 1, 1, 1, 1, 1, 1, 1, 1, 1, 1, 1, 1, 1, 1, 1, 1, 1, 1, 1], [0, 1, 2, 3, 4, 5, 6, 7, 8, 9, 10, 11, 12, 13, 14, 15, 16, 17, 18, 19, 20, 21, 22, 23, 0, 1, 2, 3, 4, 5, 6, 7, 8, 9, 10, 11, 12, 13, 14, 15, 16, 17, 18, 19, 20, 21, 22, 23]],\n",
       "           names=[None, 'Var'])"
      ]
     },
     "execution_count": 230,
     "metadata": {},
     "output_type": "execute_result"
    }
   ],
   "source": [
    "data.unstack(\"Var\").columns"
   ]
  },
  {
   "cell_type": "code",
   "execution_count": 231,
   "metadata": {},
   "outputs": [
    {
     "data": {
      "text/plain": [
       "MultiIndex(levels=[['index', 'Val'], ['ABNNAT', 'AGR', 'ALL_TOTAL', 'ALMILK', 'BARL', 'BEAD', 'BVMEAT', 'CASS', 'CER', 'CH4', 'CHKP', 'CORN', 'COTT', 'CRP', 'CRPLND', 'DEPRECIATION', 'DOMESTIC', 'EFFICIENCY', 'EXPANSION', 'FOREST', 'GNUT', 'GRSLND', 'INDUSTRIAL', 'IR_DRIP', 'IR_SPRINK', 'IR_SURFACE', 'IR_TOTAL', 'LSP', 'LUC', 'MILL', 'N2O', 'NATLND', 'OPAL', 'PGMEAT', 'PLTFOR', 'POTA', 'PTEGGS', 'PTMEAT', 'RAPE', 'RF_HIGH', 'RF_LOW', 'RF_SUBST', 'RF_TOTAL', 'RICE', 'SGMEAT', 'SHARE_AG_SWATRISK', 'SHARE_AG_SWUNSUSEFR', 'SHARE_EFRATRISK', 'SOYA', 'SRGH', 'SUGC', 'SUNF', 'SWPO', 'TOT', 'UPGRADE', 'WHEA']],\n",
       "           labels=[[0, 0, 0, 0, 0, 0, 0, 0, 0, 0, 0, 0, 0, 0, 0, 0, 0, 0, 0, 0, 0, 0, 0, 0, 0, 0, 0, 0, 0, 0, 0, 0, 0, 0, 0, 0, 0, 0, 0, 0, 0, 0, 0, 0, 0, 0, 0, 0, 0, 0, 0, 0, 0, 0, 0, 0, 1, 1, 1, 1, 1, 1, 1, 1, 1, 1, 1, 1, 1, 1, 1, 1, 1, 1, 1, 1, 1, 1, 1, 1, 1, 1, 1, 1, 1, 1, 1, 1, 1, 1, 1, 1, 1, 1, 1, 1, 1, 1, 1, 1, 1, 1, 1, 1, 1, 1, 1, 1, 1, 1, 1, 1], [0, 1, 2, 3, 4, 5, 6, 7, 8, 9, 10, 11, 12, 13, 14, 15, 16, 17, 18, 19, 20, 21, 22, 23, 24, 25, 26, 27, 28, 29, 30, 31, 32, 33, 34, 35, 36, 37, 38, 39, 40, 41, 42, 43, 44, 45, 46, 47, 48, 49, 50, 51, 52, 53, 54, 55, 0, 1, 2, 3, 4, 5, 6, 7, 8, 9, 10, 11, 12, 13, 14, 15, 16, 17, 18, 19, 20, 21, 22, 23, 24, 25, 26, 27, 28, 29, 30, 31, 32, 33, 34, 35, 36, 37, 38, 39, 40, 41, 42, 43, 44, 45, 46, 47, 48, 49, 50, 51, 52, 53, 54, 55]],\n",
       "           names=[None, 'Item'])"
      ]
     },
     "execution_count": 231,
     "metadata": {},
     "output_type": "execute_result"
    }
   ],
   "source": [
    "data.unstack(\"Item\").columns"
   ]
  },
  {
   "cell_type": "code",
   "execution_count": 232,
   "metadata": {},
   "outputs": [
    {
     "data": {
      "text/plain": [
       "array(['Baseline', 'Region AFR MaxInvest', 'Region ECA MaxInvest',\n",
       "       'Region EAP MaxInvest', 'Region LCR MaxInvest',\n",
       "       'Region MNA MaxInvest', 'Region SAR MaxInvest', 'RCP2p6_GDFL',\n",
       "       'RCP2p6_HadGEM', 'RCP2p6_IPSL', 'RCP2p6_MIROC', 'RCP2p6_NOR',\n",
       "       'RCP8p5_GDFL', 'RCP8p5_HadGEM', 'RCP8p5_HadGEM_noCO2',\n",
       "       'RCP8p5_IPSL', 'RCP8p5_MIROC', 'RCP8p5_NOR', 'HealthyDiet',\n",
       "       'HealthySustDiet', 'TradeOpen', 'TradeRestr', 'WatrEff_High',\n",
       "       'WatrEff_Low', 'Combined_High', 'Combined_High2', 'Combined_Low',\n",
       "       'Combined_Low2'], dtype=object)"
      ]
     },
     "execution_count": 232,
     "metadata": {},
     "output_type": "execute_result"
    }
   ],
   "source": [
    "data.reset_index().Sensitivity.unique()"
   ]
  },
  {
   "cell_type": "code",
   "execution_count": 233,
   "metadata": {},
   "outputs": [
    {
     "data": {
      "text/plain": [
       "array(['1000 Ha', '1000 t', 'million USD 2005', 'Percent', 'fm t/ha',\n",
       "       'USD 2000 per ton', 'million USD 2000', 'Bn USD 2005', 'kg/m3',\n",
       "       'percent2', '1000 t dm', 'kcal/cap/d', 'Mt CO2eq/yr', 'km3',\n",
       "       'Percent2', 'dm t/ha'], dtype=object)"
      ]
     },
     "execution_count": 233,
     "metadata": {},
     "output_type": "execute_result"
    }
   ],
   "source": [
    "data.reset_index().Unit.unique()"
   ]
  },
  {
   "cell_type": "code",
   "execution_count": 234,
   "metadata": {},
   "outputs": [
    {
     "data": {
      "text/plain": [
       "array([2030, 2010, 2050, 2100, 2080, 2060, 2040, 2090, 2020, 2070], dtype=int64)"
      ]
     },
     "execution_count": 234,
     "metadata": {},
     "output_type": "execute_result"
    }
   ],
   "source": [
    "data.reset_index().Year.unique()"
   ]
  },
  {
   "cell_type": "markdown",
   "metadata": {},
   "source": [
    "### there are two different \"percent2\" values so makes sure there is only one"
   ]
  },
  {
   "cell_type": "code",
   "execution_count": 235,
   "metadata": {
    "collapsed": true
   },
   "outputs": [],
   "source": [
    "data = data.reset_index(\"Unit\")\n",
    "data['Unit'] = data.Unit.replace({\"Percent2\":\"percent2\"})\n",
    "data = data.set_index(\"Unit\",append=True)"
   ]
  },
  {
   "cell_type": "markdown",
   "metadata": {},
   "source": [
    "## earlier version: I discount by dividing the number in a given year by 10 and spreading the cost over 10 years"
   ]
  },
  {
   "cell_type": "code",
   "execution_count": 182,
   "metadata": {},
   "outputs": [
    {
     "data": {
      "text/plain": [
       "array([2011, 2012, 2013, 2014, 2015, 2016, 2017, 2018, 2019, 2020])"
      ]
     },
     "execution_count": 182,
     "metadata": {},
     "output_type": "execute_result"
    }
   ],
   "source": [
    "np.arange(2011,2021)"
   ]
  },
  {
   "cell_type": "code",
   "execution_count": 236,
   "metadata": {
    "collapsed": true
   },
   "outputs": [],
   "source": [
    "def discount_sum_over_10_years(row,name,d):\n",
    "    return np.sum([row[name]/10*(1+d)**(1-(year-2010)) for year in np.arange(row[\"Year\"]-9,row[\"Year\"]+1)])"
   ]
  },
  {
   "cell_type": "code",
   "execution_count": 237,
   "metadata": {},
   "outputs": [],
   "source": [
    "costs_global = data.unstack(\"Var\")[\"Val\"][\"CSYS\"].unstack(\"Unit\")[\"million USD 2005\"].dropna().unstack(\"Region\")[\"WLD\"].unstack(\"Item\")[\"TOT\"]\n",
    "costs_reg = data.unstack(\"Var\")[\"Val\"][\"CSYS\"].unstack(\"Unit\")[\"million USD 2005\"].dropna().unstack(\"Region\").drop(\"WLD\",axis=1).stack().unstack(\"Item\")[\"TOT\"]"
   ]
  },
  {
   "cell_type": "code",
   "execution_count": 238,
   "metadata": {},
   "outputs": [],
   "source": [
    "costs_global = costs_global.reset_index(\"Year\")\n",
    "costs_reg = costs_reg.reset_index(\"Year\")"
   ]
  },
  {
   "cell_type": "code",
   "execution_count": 239,
   "metadata": {
    "collapsed": true
   },
   "outputs": [],
   "source": [
    "costs_global[\"disc\"] = costs_global.apply(lambda y:discount_sum_over_10_years(y,\"TOT\",0.06),axis=1)"
   ]
  },
  {
   "cell_type": "code",
   "execution_count": 240,
   "metadata": {
    "collapsed": true
   },
   "outputs": [],
   "source": [
    "costs_reg[\"disc\"] = costs_reg.apply(lambda y:discount_sum_over_10_years(y,\"TOT\",0.06),axis=1)"
   ]
  },
  {
   "cell_type": "markdown",
   "metadata": {},
   "source": [
    "### Look only in 2030 and sums discounted values"
   ]
  },
  {
   "cell_type": "code",
   "execution_count": 241,
   "metadata": {
    "collapsed": true
   },
   "outputs": [],
   "source": [
    "costs_global2030 = costs_global.loc[(costs_global.Year>2010)&(costs_global.Year<2031),:]"
   ]
  },
  {
   "cell_type": "code",
   "execution_count": 242,
   "metadata": {
    "collapsed": true
   },
   "outputs": [],
   "source": [
    "costs_reg2030 = costs_reg.loc[(costs_reg.Year>2010)&(costs_reg.Year<2031),:]"
   ]
  },
  {
   "cell_type": "code",
   "execution_count": 243,
   "metadata": {},
   "outputs": [],
   "source": [
    "costs_global_disc = costs_global2030.set_index(\"Year\",append=True).disc.sum(level=[\"Macro\",\"Sensitivity\",\"InvestmentType\"])"
   ]
  },
  {
   "cell_type": "code",
   "execution_count": 244,
   "metadata": {},
   "outputs": [
    {
     "data": {
      "text/plain": [
       "count        78.000000\n",
       "mean     502719.412955\n",
       "std      238138.778958\n",
       "min      203013.733492\n",
       "25%      247500.969307\n",
       "50%      501781.737210\n",
       "75%      765106.772896\n",
       "max      883775.874671\n",
       "Name: disc, dtype: float64"
      ]
     },
     "execution_count": 244,
     "metadata": {},
     "output_type": "execute_result"
    }
   ],
   "source": [
    "costs_global_disc.describe()"
   ]
  },
  {
   "cell_type": "code",
   "execution_count": 245,
   "metadata": {
    "collapsed": true
   },
   "outputs": [],
   "source": [
    "costs_reg_disc = costs_reg2030.set_index(\"Year\",append=True).disc.sum(level=[\"Macro\",\"Sensitivity\",\"InvestmentType\",\"Region\"])"
   ]
  },
  {
   "cell_type": "markdown",
   "metadata": {},
   "source": [
    "## new version: I take directly the discounted value"
   ]
  },
  {
   "cell_type": "code",
   "execution_count": 246,
   "metadata": {},
   "outputs": [],
   "source": [
    "costs_discounted_world = data.unstack(\"Var\")[\"Val\"][\"CC_D06\"].unstack(\"Region\")[\"WLD\"].unstack(\"Item\")[\"TOT\"].dropna().unstack(\"Unit\")[\"million USD 2005\"].unstack(\"Year\")[2030]"
   ]
  },
  {
   "cell_type": "code",
   "execution_count": 282,
   "metadata": {},
   "outputs": [],
   "source": [
    "costs_discounted_reg = data.unstack(\"Var\")[\"Val\"][\"CC_D06\"].unstack(\"Region\").drop([\"WLD\",\"EC\",\"NAM\",\"APD\"],axis=1).stack().unstack(\"Unit\")[\"million USD 2005\"].unstack(\"Year\")[2030]"
   ]
  },
  {
   "cell_type": "code",
   "execution_count": 283,
   "metadata": {
    "collapsed": true
   },
   "outputs": [],
   "source": [
    "costs_discounted_reg2 = data.unstack(\"Var\")[\"Val\"][\"CC_D06\"].unstack(\"Region\").drop([\"WLD\",\"EC\",\"NAM\",\"APD\"],axis=1).stack().unstack(\"Unit\")[\"million USD 2005\"]"
   ]
  },
  {
   "cell_type": "code",
   "execution_count": 284,
   "metadata": {},
   "outputs": [],
   "source": [
    "costs_discounted_dev_world = costs_discounted_reg2.sum(level=[\"Item\",\"Macro\",\"Sensitivity\",\"InvestmentType\",\"Year\"])"
   ]
  },
  {
   "cell_type": "markdown",
   "metadata": {},
   "source": [
    "### converts usd 2005 in usd 2015"
   ]
  },
  {
   "cell_type": "code",
   "execution_count": 277,
   "metadata": {},
   "outputs": [],
   "source": [
    "GDP_delfator = pd.read_excel(invfolder+\"WDI - GDP Deflator.xlsx\")"
   ]
  },
  {
   "cell_type": "code",
   "execution_count": 278,
   "metadata": {},
   "outputs": [
    {
     "data": {
      "text/html": [
       "<div>\n",
       "<style>\n",
       "    .dataframe thead tr:only-child th {\n",
       "        text-align: right;\n",
       "    }\n",
       "\n",
       "    .dataframe thead th {\n",
       "        text-align: left;\n",
       "    }\n",
       "\n",
       "    .dataframe tbody tr th {\n",
       "        vertical-align: top;\n",
       "    }\n",
       "</style>\n",
       "<table border=\"1\" class=\"dataframe\">\n",
       "  <thead>\n",
       "    <tr style=\"text-align: right;\">\n",
       "      <th></th>\n",
       "      <th>Country Name</th>\n",
       "      <th>Country Code</th>\n",
       "      <th>Series Name</th>\n",
       "      <th>Series Code</th>\n",
       "      <th>1960 [YR1960]</th>\n",
       "      <th>1961 [YR1961]</th>\n",
       "      <th>1962 [YR1962]</th>\n",
       "      <th>1963 [YR1963]</th>\n",
       "      <th>1964 [YR1964]</th>\n",
       "      <th>1965 [YR1965]</th>\n",
       "      <th>...</th>\n",
       "      <th>2011 [YR2011]</th>\n",
       "      <th>2012 [YR2012]</th>\n",
       "      <th>2013 [YR2013]</th>\n",
       "      <th>2014 [YR2014]</th>\n",
       "      <th>2015 [YR2015]</th>\n",
       "      <th>2016 [YR2016]</th>\n",
       "      <th>2017 [YR2017]</th>\n",
       "      <th>Unnamed: 62</th>\n",
       "      <th>2000-2005 Inflation</th>\n",
       "      <th>2005-2015</th>\n",
       "    </tr>\n",
       "  </thead>\n",
       "  <tbody>\n",
       "    <tr>\n",
       "      <th>7</th>\n",
       "      <td>Euro area</td>\n",
       "      <td>EMU</td>\n",
       "      <td>Inflation, GDP deflator (annual %)</td>\n",
       "      <td>NY.GDP.DEFL.KD.ZG</td>\n",
       "      <td>NaN</td>\n",
       "      <td>2.624274</td>\n",
       "      <td>3.934306</td>\n",
       "      <td>4.188868</td>\n",
       "      <td>5.238375</td>\n",
       "      <td>4.102029</td>\n",
       "      <td>...</td>\n",
       "      <td>1.647679</td>\n",
       "      <td>1.892709</td>\n",
       "      <td>1.403167</td>\n",
       "      <td>0.793275</td>\n",
       "      <td>1.092316</td>\n",
       "      <td>0.767576</td>\n",
       "      <td>NaN</td>\n",
       "      <td>NaN</td>\n",
       "      <td>15.663333</td>\n",
       "      <td>19.324545</td>\n",
       "    </tr>\n",
       "    <tr>\n",
       "      <th>10</th>\n",
       "      <td>Europe &amp; Central Asia (IDA &amp; IBRD countries)</td>\n",
       "      <td>TEC</td>\n",
       "      <td>Inflation, GDP deflator (annual %)</td>\n",
       "      <td>NY.GDP.DEFL.KD.ZG</td>\n",
       "      <td>NaN</td>\n",
       "      <td>NaN</td>\n",
       "      <td>NaN</td>\n",
       "      <td>NaN</td>\n",
       "      <td>NaN</td>\n",
       "      <td>NaN</td>\n",
       "      <td>...</td>\n",
       "      <td>8.188568</td>\n",
       "      <td>4.785570</td>\n",
       "      <td>3.366825</td>\n",
       "      <td>2.708110</td>\n",
       "      <td>2.205840</td>\n",
       "      <td>3.610349</td>\n",
       "      <td>NaN</td>\n",
       "      <td>NaN</td>\n",
       "      <td>54.929996</td>\n",
       "      <td>71.491825</td>\n",
       "    </tr>\n",
       "  </tbody>\n",
       "</table>\n",
       "<p>2 rows × 65 columns</p>\n",
       "</div>"
      ],
      "text/plain": [
       "                                    Country Name Country Code  \\\n",
       "7                                      Euro area          EMU   \n",
       "10  Europe & Central Asia (IDA & IBRD countries)          TEC   \n",
       "\n",
       "                           Series Name        Series Code  1960 [YR1960]  \\\n",
       "7   Inflation, GDP deflator (annual %)  NY.GDP.DEFL.KD.ZG            NaN   \n",
       "10  Inflation, GDP deflator (annual %)  NY.GDP.DEFL.KD.ZG            NaN   \n",
       "\n",
       "    1961 [YR1961]  1962 [YR1962]  1963 [YR1963]  1964 [YR1964]  1965 [YR1965]  \\\n",
       "7        2.624274       3.934306       4.188868       5.238375       4.102029   \n",
       "10            NaN            NaN            NaN            NaN            NaN   \n",
       "\n",
       "      ...      2011 [YR2011]  2012 [YR2012]  2013 [YR2013]  2014 [YR2014]  \\\n",
       "7     ...           1.647679       1.892709       1.403167       0.793275   \n",
       "10    ...           8.188568       4.785570       3.366825       2.708110   \n",
       "\n",
       "    2015 [YR2015]  2016 [YR2016]  2017 [YR2017]  Unnamed: 62  \\\n",
       "7        1.092316       0.767576            NaN          NaN   \n",
       "10       2.205840       3.610349            NaN          NaN   \n",
       "\n",
       "    2000-2005 Inflation  2005-2015  \n",
       "7             15.663333  19.324545  \n",
       "10            54.929996  71.491825  \n",
       "\n",
       "[2 rows x 65 columns]"
      ]
     },
     "execution_count": 278,
     "metadata": {},
     "output_type": "execute_result"
    }
   ],
   "source": [
    "GDP_delfator.sample(2)"
   ]
  },
  {
   "cell_type": "code",
   "execution_count": 295,
   "metadata": {},
   "outputs": [],
   "source": [
    "costs_discounted_reg2_2030_defl = costs_discounted_reg2.unstack(\"Year\")[2030].reset_index().merge(GDP_delfator.rename(columns={\"Country Code\": \"Region\"})[[\"Region\",\"2005-2015\"]],on=\"Region\",how=\"left\")"
   ]
  },
  {
   "cell_type": "code",
   "execution_count": 296,
   "metadata": {},
   "outputs": [],
   "source": [
    "costs_discounted_reg2_2030_defl[\"costs_usd_2015\"] = costs_discounted_reg2_2030_defl[2030]*(1+1/100*costs_discounted_reg2_2030_defl[\"2005-2015\"])"
   ]
  },
  {
   "cell_type": "code",
   "execution_count": 297,
   "metadata": {},
   "outputs": [],
   "source": [
    "costs_discounted_reg2_2030_defl = costs_discounted_reg2_2030_defl.set_index([\"Item\",\"Macro\",\"Sensitivity\",\"InvestmentType\",\"Region\"])[\"costs_usd_2015\"]"
   ]
  },
  {
   "cell_type": "markdown",
   "metadata": {},
   "source": [
    "#### data for report: discounted costs, average per year between 2010 and 2030, discounted 6%, in usd 2015"
   ]
  },
  {
   "cell_type": "code",
   "execution_count": 298,
   "metadata": {},
   "outputs": [
    {
     "data": {
      "text/plain": [
       "count     0.003900\n",
       "mean     32.163243\n",
       "std      17.988010\n",
       "min      11.079139\n",
       "25%      11.320228\n",
       "50%      32.640168\n",
       "75%      52.696647\n",
       "max      61.564549\n",
       "Name: TOT, dtype: float64"
      ]
     },
     "execution_count": 298,
     "metadata": {},
     "output_type": "execute_result"
    }
   ],
   "source": [
    "#divides by 20 to get annual cost and divides by 1000 to have billions.\n",
    "1/1000*1/20*costs_discounted_reg2_2030_defl.sum(level=[\"Item\",\"Macro\",\"Sensitivity\",\"InvestmentType\"]).unstack(\"Item\")[\"TOT\"].describe()"
   ]
  },
  {
   "cell_type": "code",
   "execution_count": 300,
   "metadata": {},
   "outputs": [
    {
     "data": {
      "text/plain": [
       "Index(['DEPRECIATION', 'EFFICIENCY', 'EXPANSION', 'TOT', 'UPGRADE'], dtype='object', name='Item')"
      ]
     },
     "execution_count": 300,
     "metadata": {},
     "output_type": "execute_result"
    }
   ],
   "source": [
    "costs_discounted_reg2_2030_defl.sum(level=[\"Item\",\"Macro\",\"Sensitivity\",\"InvestmentType\"]).unstack(\"Item\").columns"
   ]
  },
  {
   "cell_type": "code",
   "execution_count": 302,
   "metadata": {},
   "outputs": [
    {
     "data": {
      "text/plain": [
       "Index(['Invest', 'MaxInvest', 'ZeroInvest'], dtype='object', name='InvestmentType')"
      ]
     },
     "execution_count": 302,
     "metadata": {},
     "output_type": "execute_result"
    }
   ],
   "source": [
    "costs_discounted_reg2_2030_defl.sum(level=[\"Item\",\"Macro\",\"Sensitivity\",\"InvestmentType\"]).unstack(\"InvestmentType\").columns"
   ]
  },
  {
   "cell_type": "markdown",
   "metadata": {},
   "source": [
    "#### data for report: discounted costs, average per year between 2010 and 2030, discounted 6%, in usd 2015, new capital only"
   ]
  },
  {
   "cell_type": "code",
   "execution_count": 303,
   "metadata": {},
   "outputs": [
    {
     "data": {
      "text/plain": [
       "count     0.002700\n",
       "mean     28.596641\n",
       "std      12.933552\n",
       "min       2.244298\n",
       "25%      19.804419\n",
       "50%      22.758378\n",
       "75%      41.840170\n",
       "max      47.566673\n",
       "dtype: float64"
      ]
     },
     "execution_count": 303,
     "metadata": {},
     "output_type": "execute_result"
    }
   ],
   "source": [
    "#divides by 20 to get annual cost and divides by 1000 to have billions.\n",
    "1/1000*1/20*costs_discounted_reg2_2030_defl.sum(level=[\"Item\",\"Macro\",\"Sensitivity\",\"InvestmentType\"]).drop(\"ZeroInvest\",level=\"InvestmentType\").unstack(\"Item\").drop([\"TOT\",'DEPRECIATION'],axis=1).sum(axis=1).describe()"
   ]
  },
  {
   "cell_type": "markdown",
   "metadata": {},
   "source": [
    "#### data for report: discounted costs, average per year between 2010 and 2030, discounted 6%, in usd 2015, maintenance only"
   ]
  },
  {
   "cell_type": "code",
   "execution_count": 304,
   "metadata": {},
   "outputs": [
    {
     "data": {
      "text/plain": [
       "count     0.002700\n",
       "mean     12.858826\n",
       "std       0.663839\n",
       "min      11.452675\n",
       "25%      12.402519\n",
       "50%      12.903344\n",
       "75%      13.424278\n",
       "max      13.997876\n",
       "Name: DEPRECIATION, dtype: float64"
      ]
     },
     "execution_count": 304,
     "metadata": {},
     "output_type": "execute_result"
    }
   ],
   "source": [
    "#divides by 20 to get annual cost and divides by 1000 to have billions.\n",
    "1/1000*1/20*costs_discounted_reg2_2030_defl.sum(level=[\"Item\",\"Macro\",\"Sensitivity\",\"InvestmentType\"]).drop(\"ZeroInvest\",level=\"InvestmentType\").unstack(\"Item\")['DEPRECIATION'].describe()"
   ]
  },
  {
   "cell_type": "markdown",
   "metadata": {},
   "source": [
    "#### zeroinvest only"
   ]
  },
  {
   "cell_type": "code",
   "execution_count": 306,
   "metadata": {},
   "outputs": [
    {
     "data": {
      "text/plain": [
       "count     0.001200\n",
       "mean     11.251894\n",
       "std       0.060511\n",
       "min      11.079041\n",
       "25%      11.211193\n",
       "50%      11.252459\n",
       "75%      11.305612\n",
       "max      11.326245\n",
       "Name: DEPRECIATION, dtype: float64"
      ]
     },
     "execution_count": 306,
     "metadata": {},
     "output_type": "execute_result"
    }
   ],
   "source": [
    "#divides by 20 to get annual cost and divides by 1000 to have billions.\n",
    "1/1000*1/20*costs_discounted_reg2_2030_defl.sum(level=[\"Item\",\"Macro\",\"Sensitivity\",\"InvestmentType\"]).unstack('InvestmentType')[\"ZeroInvest\"].unstack(\"Item\")['DEPRECIATION'].describe()"
   ]
  },
  {
   "cell_type": "markdown",
   "metadata": {},
   "source": [
    "## Costs for developing world only (undiscounted)"
   ]
  },
  {
   "cell_type": "code",
   "execution_count": 252,
   "metadata": {
    "collapsed": true
   },
   "outputs": [],
   "source": [
    "costs_dev_world = data.unstack(\"Var\")[\"Val\"][\"CSYS\"].unstack(\"Unit\")[\"million USD 2005\"].dropna().unstack(\"Region\").drop([\"WLD\",\"EC\",\"NAM\",\"APD\"],axis=1).stack()"
   ]
  },
  {
   "cell_type": "code",
   "execution_count": 253,
   "metadata": {
    "collapsed": true
   },
   "outputs": [],
   "source": [
    "costs_dev_world_tot = costs_dev_world.sum(level=['Item', 'Macro', 'Sensitivity','InvestmentType', 'Year'])"
   ]
  },
  {
   "cell_type": "markdown",
   "metadata": {},
   "source": [
    "### GDP per decade"
   ]
  },
  {
   "cell_type": "code",
   "execution_count": 255,
   "metadata": {
    "collapsed": true
   },
   "outputs": [],
   "source": [
    "GDP_reg = data.unstack(\"Var\")[\"Val\"][\"GDPD\"].dropna().unstack(\"Region\").drop([\"WLD\",\"EC\",\"NAM\",\"APD\"],axis=1).stack().unstack(\"Item\")[\"TOT\"]"
   ]
  },
  {
   "cell_type": "code",
   "execution_count": 261,
   "metadata": {
    "collapsed": true
   },
   "outputs": [],
   "source": [
    "#transforms billion in million for division with investments\n",
    "GDP_reg_tot = 1000*GDP_reg.sum(level=['Macro', 'Sensitivity','InvestmentType', 'Year'])"
   ]
  },
  {
   "cell_type": "markdown",
   "metadata": {},
   "source": [
    "### costs as % of GDP for developing world only"
   ]
  },
  {
   "cell_type": "code",
   "execution_count": 264,
   "metadata": {},
   "outputs": [],
   "source": [
    "costs_pc_dev_world = costs_dev_world_tot.unstack(\"Item\").div(GDP_reg_tot,axis=0).drop([2010,2040,2050,2060,2070,2080,2090,2100],level=\"Year\").mean(level=['Macro', 'Sensitivity','InvestmentType'])"
   ]
  },
  {
   "cell_type": "code",
   "execution_count": 307,
   "metadata": {},
   "outputs": [
    {
     "data": {
      "text/plain": [
       "count    7.800000e+03\n",
       "mean     7.847733e-02\n",
       "std      6.777186e-02\n",
       "min      2.948806e-07\n",
       "25%      3.966348e-05\n",
       "50%      8.064477e-02\n",
       "75%      1.561619e-01\n",
       "max      1.886467e-01\n",
       "dtype: float64"
      ]
     },
     "execution_count": 307,
     "metadata": {},
     "output_type": "execute_result"
    }
   ],
   "source": [
    "100*costs_pc_dev_world.drop([\"TOT\",'DEPRECIATION'],axis=1).sum(axis=1).describe()"
   ]
  },
  {
   "cell_type": "code",
   "execution_count": 308,
   "metadata": {},
   "outputs": [
    {
     "data": {
      "text/plain": [
       "count    7800.000000\n",
       "mean        0.050122\n",
       "std         0.003997\n",
       "min         0.044548\n",
       "25%         0.045669\n",
       "50%         0.050599\n",
       "75%         0.054037\n",
       "max         0.057221\n",
       "Name: DEPRECIATION, dtype: float64"
      ]
     },
     "execution_count": 308,
     "metadata": {},
     "output_type": "execute_result"
    }
   ],
   "source": [
    "100*costs_pc_dev_world['DEPRECIATION'].describe()"
   ]
  },
  {
   "cell_type": "markdown",
   "metadata": {},
   "source": [
    "## Costs as % of GDP per region"
   ]
  },
  {
   "cell_type": "code",
   "execution_count": 309,
   "metadata": {
    "collapsed": true
   },
   "outputs": [],
   "source": [
    "costs_region_over_gdp = data.unstack(\"Var\")[\"Val\"][\"CSYS\"].unstack(\"Region\").drop([\"WLD\",\"EC\",\"NAM\",\"APD\"],axis=1).stack().unstack(\"Unit\")[\"percent2\"].dropna()"
   ]
  },
  {
   "cell_type": "markdown",
   "metadata": {},
   "source": [
    "## graphs"
   ]
  },
  {
   "cell_type": "code",
   "execution_count": 373,
   "metadata": {
    "collapsed": true
   },
   "outputs": [],
   "source": [
    "toplot = costs_discounted_reg2_2030_defl.drop(['Region AFR MaxInvest',\\\n",
    "       'Region EAP MaxInvest', 'Region ECA MaxInvest',\\\n",
    "       'Region LCR MaxInvest', 'Region MNA MaxInvest',\\\n",
    "       'Region SAR MaxInvest'],level=\"Sensitivity\").drop(\"ZeroInvest\",level=\"InvestmentType\")\n",
    "toplot = toplot.sum(level=['Macro', 'Sensitivity','InvestmentType'])\n",
    "toplot = toplot.reset_index()"
   ]
  },
  {
   "cell_type": "code",
   "execution_count": 375,
   "metadata": {},
   "outputs": [
    {
     "data": {
      "text/html": [
       "<div>\n",
       "<style>\n",
       "    .dataframe thead tr:only-child th {\n",
       "        text-align: right;\n",
       "    }\n",
       "\n",
       "    .dataframe thead th {\n",
       "        text-align: left;\n",
       "    }\n",
       "\n",
       "    .dataframe tbody tr th {\n",
       "        vertical-align: top;\n",
       "    }\n",
       "</style>\n",
       "<table border=\"1\" class=\"dataframe\">\n",
       "  <thead>\n",
       "    <tr style=\"text-align: right;\">\n",
       "      <th></th>\n",
       "      <th>Macro</th>\n",
       "      <th>Sensitivity</th>\n",
       "      <th>InvestmentType</th>\n",
       "      <th>costs_usd_2015</th>\n",
       "    </tr>\n",
       "  </thead>\n",
       "  <tbody>\n",
       "    <tr>\n",
       "      <th>10</th>\n",
       "      <td>SSP2</td>\n",
       "      <td>Combined_High2</td>\n",
       "      <td>Invest</td>\n",
       "      <td>1.424586e+06</td>\n",
       "    </tr>\n",
       "    <tr>\n",
       "      <th>9</th>\n",
       "      <td>SSP2</td>\n",
       "      <td>Combined_High</td>\n",
       "      <td>MaxInvest</td>\n",
       "      <td>2.396786e+06</td>\n",
       "    </tr>\n",
       "  </tbody>\n",
       "</table>\n",
       "</div>"
      ],
      "text/plain": [
       "   Macro     Sensitivity InvestmentType  costs_usd_2015\n",
       "10  SSP2  Combined_High2         Invest    1.424586e+06\n",
       "9   SSP2   Combined_High      MaxInvest    2.396786e+06"
      ]
     },
     "execution_count": 375,
     "metadata": {},
     "output_type": "execute_result"
    }
   ],
   "source": [
    "toplot.sample(2)"
   ]
  },
  {
   "cell_type": "code",
   "execution_count": 383,
   "metadata": {},
   "outputs": [
    {
     "data": {
      "text/plain": [
       "(array([0, 1, 2, 3, 4]), <a list of 5 Text xticklabel objects>)"
      ]
     },
     "execution_count": 383,
     "metadata": {},
     "output_type": "execute_result"
    },
    {
     "data": {
      "image/png": "[encoded data removed]",
      "text/plain": [
       "<matplotlib.figure.Figure at 0x23f93acdcc0>"
      ]
     },
     "metadata": {},
     "output_type": "display_data"
    }
   ],
   "source": [
    "toplot = costs_discounted_reg2_2030_defl.drop(['Region AFR MaxInvest',\\\n",
    "       'Region EAP MaxInvest', 'Region ECA MaxInvest',\\\n",
    "       'Region LCR MaxInvest', 'Region MNA MaxInvest',\\\n",
    "       'Region SAR MaxInvest'],level=\"Sensitivity\").drop(\"ZeroInvest\",level=\"InvestmentType\")\n",
    "toplot = toplot.sum(level=['Item', 'Macro', 'Sensitivity','InvestmentType'])\n",
    "toplot = toplot.reset_index()\n",
    "\n",
    "toplot['costs_usd_2015'] = 1/1000*1/20*toplot['costs_usd_2015']\n",
    "\n",
    "toplot[\"InvestmentType\"] = toplot[\"InvestmentType\"].replace({\"Invest\":\"Moderate public support\",\"MaxInvest\":\"High public support\"})\n",
    "\n",
    "g = sns.factorplot(x='Item',y='costs_usd_2015', hue='InvestmentType',data=toplot, kind=\"point\",\\\n",
    "                   dodge=True, size=6, aspect=1.7,\\\n",
    "                  legend=False,join=False, ci=\"sd\")\n",
    "\n",
    "g.set_axis_labels(\"\", \"Average annual cost 2015-2030\\n(USD billion)\")\n",
    "g.add_legend(title=\"\",bbox_to_anchor=(0.35, 0.85), borderaxespad=0.)\n",
    "plt.xticks(rotation=30)\n",
    "\n"
   ]
  },
  {
   "cell_type": "code",
   "execution_count": 372,
   "metadata": {},
   "outputs": [
    {
     "data": {
      "text/plain": [
       "(array([0, 1, 2, 3, 4, 5]), <a list of 6 Text xticklabel objects>)"
      ]
     },
     "execution_count": 372,
     "metadata": {},
     "output_type": "execute_result"
    },
    {
     "data": {
      "image/png": "[encoded data removed]",
      "text/plain": [
       "<matplotlib.figure.Figure at 0x23fd1f53160>"
      ]
     },
     "metadata": {},
     "output_type": "display_data"
    }
   ],
   "source": [
    "toplot = costs_discounted_reg2_2030_defl.drop(['Region AFR MaxInvest',\\\n",
    "       'Region EAP MaxInvest', 'Region ECA MaxInvest',\\\n",
    "       'Region LCR MaxInvest', 'Region MNA MaxInvest',\\\n",
    "       'Region SAR MaxInvest'],level=\"Sensitivity\").drop(\"ZeroInvest\",level=\"InvestmentType\")\n",
    "toplot = toplot.unstack(\"Item\").drop([\"TOT\",'DEPRECIATION'],axis=1).sum(axis=1)\n",
    "toplot = toplot.reset_index().rename(columns={0:\"cost\"})\n",
    "\n",
    "#toplot['InvestmentType'] = toplot.InvestmentType.rename({\"Invest\":\"Medium investment\"})\n",
    "\n",
    "toplot['cost'] = 1/1000*1/20*toplot['cost']\n",
    "\n",
    "toplot[\"InvestmentType\"] = toplot[\"InvestmentType\"].replace({\"Invest\":\"Moderate public support\",\"MaxInvest\":\"High public support\"})\n",
    "\n",
    "toplot['Region'] = toplot.Region.replace({\"EAP\":\"East Asia\\nand Pacific\",\n",
    "                                             \"ECA\":\"Europe and\\nCentral Asia\",\n",
    "                                             \"LCR\":\"Latin America\\nand\\nCaribbean\",\n",
    "                                             \"MNA\":\"Middle-East\\nand\\nNorth Africa\",\n",
    "                                             \"SAR\":\"South Asia\",\n",
    "                                             \"AFR\":\"Sub-Saharan\\nAfrica\",\n",
    "                                             \"YHI\":\"High income\"})\n",
    "\n",
    "g = sns.factorplot(x='Region',y='cost', hue= 'InvestmentType', data=toplot, kind=\"swarm\",\\\n",
    "                   dodge=False, size=6, aspect=1.7,\\\n",
    "                  legend=False)#,join=False, ci=\"sd\")\n",
    "\n",
    "g.set_axis_labels(\"\", \"Average annual cost 2015-2030\\n(USD billion)\")\n",
    "g.add_legend(title=\"\",bbox_to_anchor=(0.55, 0.85), borderaxespad=0.)\n",
    "plt.xticks(rotation=30)\n",
    "\n"
   ]
  },
  {
   "cell_type": "code",
   "execution_count": 367,
   "metadata": {},
   "outputs": [
    {
     "data": {
      "text/plain": [
       "(array([0, 1, 2, 3, 4, 5]), <a list of 6 Text xticklabel objects>)"
      ]
     },
     "execution_count": 367,
     "metadata": {},
     "output_type": "execute_result"
    },
    {
     "data": {
      "image/png": "[encoded data removed]",
      "text/plain": [
       "<matplotlib.figure.Figure at 0x23fe13c5e10>"
      ]
     },
     "metadata": {},
     "output_type": "display_data"
    }
   ],
   "source": [
    "toplot = costs_region_over_gdp.drop(['Region AFR MaxInvest',\\\n",
    "       'Region EAP MaxInvest', 'Region ECA MaxInvest',\\\n",
    "       'Region LCR MaxInvest', 'Region MNA MaxInvest',\\\n",
    "       'Region SAR MaxInvest'],level=\"Sensitivity\").drop(\"ZeroInvest\",level=\"InvestmentType\")\n",
    "toplot = toplot.unstack(\"Item\").drop([\"TOT\",'DEPRECIATION'],axis=1).sum(axis=1)\n",
    "toplot = toplot.reset_index().rename(columns={0:\"percent2\"})\n",
    "toplot = toplot.loc[(toplot.Year==2030),:]\n",
    "\n",
    "#toplot['InvestmentType'] = toplot.InvestmentType.rename({\"Invest\":\"Medium investment\"})\n",
    "\n",
    "toplot['percent2'] = 100*toplot['percent2']\n",
    "\n",
    "toplot[\"InvestmentType\"] = toplot[\"InvestmentType\"].replace({\"Invest\":\"Moderate public support\",\"MaxInvest\":\"High public support\"})\n",
    "\n",
    "toplot['Region'] = toplot.Region.replace({\"EAP\":\"East Asia\\nand Pacific\",\n",
    "                                             \"ECA\":\"Europe and\\nCentral Asia\",\n",
    "                                             \"LCR\":\"Latin America\\nand\\nCaribbean\",\n",
    "                                             \"MNA\":\"Middle-East\\nand\\nNorth Africa\",\n",
    "                                             \"SAR\":\"South Asia\",\n",
    "                                             \"AFR\":\"Sub-Saharan\\nAfrica\",\n",
    "                                             \"YHI\":\"High income\"})\n",
    "\n",
    "g = sns.factorplot(x='Region',y='percent2', hue= 'InvestmentType', data=toplot, kind=\"swarm\",\\\n",
    "                   dodge=False, size=6, aspect=1.7,\\\n",
    "                  legend=False)#,join=False, ci=\"sd\")\n",
    "\n",
    "g.set_axis_labels(\"\", \"Average annual cost 2015-2030\\n(% GDP)\")\n",
    "g.add_legend(title=\"\",bbox_to_anchor=(0.5, 0.85), borderaxespad=0.)\n",
    "plt.xticks(rotation=30)\n",
    "\n"
   ]
  },
  {
   "cell_type": "markdown",
   "metadata": {},
   "source": [
    "### impact of climate change on irrigation costs"
   ]
  },
  {
   "cell_type": "code",
   "execution_count": 324,
   "metadata": {},
   "outputs": [
    {
     "data": {
      "text/html": [
       "<div>\n",
       "<style>\n",
       "    .dataframe thead tr:only-child th {\n",
       "        text-align: right;\n",
       "    }\n",
       "\n",
       "    .dataframe thead th {\n",
       "        text-align: left;\n",
       "    }\n",
       "\n",
       "    .dataframe tbody tr th {\n",
       "        vertical-align: top;\n",
       "    }\n",
       "</style>\n",
       "<table border=\"1\" class=\"dataframe\">\n",
       "  <thead>\n",
       "    <tr style=\"text-align: right;\">\n",
       "      <th></th>\n",
       "      <th></th>\n",
       "      <th></th>\n",
       "      <th>Sensitivity</th>\n",
       "      <th>RCP2p6_GDFL</th>\n",
       "      <th>RCP2p6_HadGEM</th>\n",
       "      <th>RCP2p6_IPSL</th>\n",
       "      <th>RCP2p6_MIROC</th>\n",
       "      <th>RCP2p6_NOR</th>\n",
       "      <th>RCP8p5_GDFL</th>\n",
       "      <th>RCP8p5_HadGEM</th>\n",
       "      <th>RCP8p5_HadGEM_noCO2</th>\n",
       "      <th>RCP8p5_IPSL</th>\n",
       "      <th>RCP8p5_MIROC</th>\n",
       "      <th>RCP8p5_NOR</th>\n",
       "    </tr>\n",
       "    <tr>\n",
       "      <th>Macro</th>\n",
       "      <th>InvestmentType</th>\n",
       "      <th>Year</th>\n",
       "      <th>Region</th>\n",
       "      <th></th>\n",
       "      <th></th>\n",
       "      <th></th>\n",
       "      <th></th>\n",
       "      <th></th>\n",
       "      <th></th>\n",
       "      <th></th>\n",
       "      <th></th>\n",
       "      <th></th>\n",
       "      <th></th>\n",
       "      <th></th>\n",
       "    </tr>\n",
       "  </thead>\n",
       "  <tbody>\n",
       "    <tr>\n",
       "      <th rowspan=\"18\" valign=\"top\">SSP2</th>\n",
       "      <th rowspan=\"6\" valign=\"top\">Invest</th>\n",
       "      <th rowspan=\"6\" valign=\"top\">2030</th>\n",
       "      <th>AFR</th>\n",
       "      <td>-1.753205e-04</td>\n",
       "      <td>-1.089955e-04</td>\n",
       "      <td>-8.605604e-05</td>\n",
       "      <td>0.000051</td>\n",
       "      <td>2.306410e-05</td>\n",
       "      <td>-0.000298</td>\n",
       "      <td>-3.086147e-04</td>\n",
       "      <td>-0.000216</td>\n",
       "      <td>-0.000347</td>\n",
       "      <td>-5.004535e-05</td>\n",
       "      <td>-2.180053e-04</td>\n",
       "    </tr>\n",
       "    <tr>\n",
       "      <th>EAP</th>\n",
       "      <td>6.424876e-05</td>\n",
       "      <td>-3.332451e-05</td>\n",
       "      <td>2.698997e-04</td>\n",
       "      <td>0.000027</td>\n",
       "      <td>-4.760793e-05</td>\n",
       "      <td>-0.000006</td>\n",
       "      <td>-3.248147e-05</td>\n",
       "      <td>-0.000017</td>\n",
       "      <td>0.000032</td>\n",
       "      <td>-2.572534e-04</td>\n",
       "      <td>-2.295165e-05</td>\n",
       "    </tr>\n",
       "    <tr>\n",
       "      <th>ECA</th>\n",
       "      <td>1.477303e-04</td>\n",
       "      <td>2.336080e-05</td>\n",
       "      <td>1.275171e-04</td>\n",
       "      <td>0.000080</td>\n",
       "      <td>7.924836e-05</td>\n",
       "      <td>0.000228</td>\n",
       "      <td>1.665498e-04</td>\n",
       "      <td>0.000221</td>\n",
       "      <td>0.000148</td>\n",
       "      <td>1.878142e-04</td>\n",
       "      <td>1.592744e-04</td>\n",
       "    </tr>\n",
       "    <tr>\n",
       "      <th>LCR</th>\n",
       "      <td>-8.307888e-05</td>\n",
       "      <td>-1.052948e-04</td>\n",
       "      <td>-1.038641e-04</td>\n",
       "      <td>0.000076</td>\n",
       "      <td>-9.592152e-05</td>\n",
       "      <td>-0.000122</td>\n",
       "      <td>-1.504364e-04</td>\n",
       "      <td>-0.000114</td>\n",
       "      <td>-0.000031</td>\n",
       "      <td>6.626535e-05</td>\n",
       "      <td>-7.551000e-05</td>\n",
       "    </tr>\n",
       "    <tr>\n",
       "      <th>MNA</th>\n",
       "      <td>-2.076151e-05</td>\n",
       "      <td>-1.237400e-05</td>\n",
       "      <td>7.565029e-07</td>\n",
       "      <td>-0.000132</td>\n",
       "      <td>-2.463530e-04</td>\n",
       "      <td>-0.000022</td>\n",
       "      <td>1.195949e-04</td>\n",
       "      <td>0.000101</td>\n",
       "      <td>0.000027</td>\n",
       "      <td>8.096035e-05</td>\n",
       "      <td>-1.860849e-04</td>\n",
       "    </tr>\n",
       "    <tr>\n",
       "      <th>SAR</th>\n",
       "      <td>1.222919e-04</td>\n",
       "      <td>-3.097125e-04</td>\n",
       "      <td>-1.031774e-04</td>\n",
       "      <td>0.000259</td>\n",
       "      <td>4.442906e-05</td>\n",
       "      <td>0.000112</td>\n",
       "      <td>-2.783120e-04</td>\n",
       "      <td>-0.000166</td>\n",
       "      <td>-0.000197</td>\n",
       "      <td>1.112162e-04</td>\n",
       "      <td>7.471587e-05</td>\n",
       "    </tr>\n",
       "    <tr>\n",
       "      <th rowspan=\"6\" valign=\"top\">MaxInvest</th>\n",
       "      <th rowspan=\"6\" valign=\"top\">2030</th>\n",
       "      <th>AFR</th>\n",
       "      <td>-3.178594e-04</td>\n",
       "      <td>-6.090764e-04</td>\n",
       "      <td>-5.854583e-04</td>\n",
       "      <td>-0.000292</td>\n",
       "      <td>-2.814683e-03</td>\n",
       "      <td>-0.000363</td>\n",
       "      <td>-4.023540e-04</td>\n",
       "      <td>-0.000369</td>\n",
       "      <td>-0.000820</td>\n",
       "      <td>-3.306301e-04</td>\n",
       "      <td>-1.156060e-04</td>\n",
       "    </tr>\n",
       "    <tr>\n",
       "      <th>EAP</th>\n",
       "      <td>3.903271e-05</td>\n",
       "      <td>-1.206956e-04</td>\n",
       "      <td>2.827820e-04</td>\n",
       "      <td>0.000019</td>\n",
       "      <td>-5.338108e-04</td>\n",
       "      <td>-0.000031</td>\n",
       "      <td>-1.271010e-04</td>\n",
       "      <td>-0.000107</td>\n",
       "      <td>-0.000076</td>\n",
       "      <td>-2.784168e-04</td>\n",
       "      <td>-1.484357e-04</td>\n",
       "    </tr>\n",
       "    <tr>\n",
       "      <th>ECA</th>\n",
       "      <td>1.244454e-04</td>\n",
       "      <td>-1.208102e-04</td>\n",
       "      <td>1.502536e-04</td>\n",
       "      <td>-0.000025</td>\n",
       "      <td>-7.937909e-04</td>\n",
       "      <td>0.000056</td>\n",
       "      <td>-5.935050e-06</td>\n",
       "      <td>0.000373</td>\n",
       "      <td>0.000108</td>\n",
       "      <td>3.933719e-05</td>\n",
       "      <td>-3.507935e-05</td>\n",
       "    </tr>\n",
       "    <tr>\n",
       "      <th>LCR</th>\n",
       "      <td>-2.161276e-04</td>\n",
       "      <td>-5.660501e-05</td>\n",
       "      <td>-1.733612e-04</td>\n",
       "      <td>0.000035</td>\n",
       "      <td>-8.260324e-04</td>\n",
       "      <td>-0.000174</td>\n",
       "      <td>-1.227473e-04</td>\n",
       "      <td>-0.000085</td>\n",
       "      <td>-0.000159</td>\n",
       "      <td>4.199479e-06</td>\n",
       "      <td>-1.493705e-04</td>\n",
       "    </tr>\n",
       "    <tr>\n",
       "      <th>MNA</th>\n",
       "      <td>3.071017e-05</td>\n",
       "      <td>-3.839947e-05</td>\n",
       "      <td>2.412846e-05</td>\n",
       "      <td>-0.000201</td>\n",
       "      <td>-4.212902e-04</td>\n",
       "      <td>-0.000050</td>\n",
       "      <td>6.238826e-05</td>\n",
       "      <td>0.000099</td>\n",
       "      <td>-0.000006</td>\n",
       "      <td>4.037056e-05</td>\n",
       "      <td>-3.660348e-04</td>\n",
       "    </tr>\n",
       "    <tr>\n",
       "      <th>SAR</th>\n",
       "      <td>1.564844e-05</td>\n",
       "      <td>-5.613970e-04</td>\n",
       "      <td>-1.911713e-04</td>\n",
       "      <td>0.000431</td>\n",
       "      <td>-5.557627e-04</td>\n",
       "      <td>0.000256</td>\n",
       "      <td>-5.196307e-04</td>\n",
       "      <td>-0.000494</td>\n",
       "      <td>-0.000259</td>\n",
       "      <td>3.006139e-04</td>\n",
       "      <td>2.590187e-04</td>\n",
       "    </tr>\n",
       "    <tr>\n",
       "      <th rowspan=\"6\" valign=\"top\">ZeroInvest</th>\n",
       "      <th rowspan=\"6\" valign=\"top\">2030</th>\n",
       "      <th>AFR</th>\n",
       "      <td>-6.831772e-06</td>\n",
       "      <td>-2.536923e-06</td>\n",
       "      <td>-1.484647e-06</td>\n",
       "      <td>-0.000005</td>\n",
       "      <td>-8.585584e-07</td>\n",
       "      <td>-0.000010</td>\n",
       "      <td>-2.320970e-06</td>\n",
       "      <td>-0.000023</td>\n",
       "      <td>-0.000006</td>\n",
       "      <td>-3.565313e-06</td>\n",
       "      <td>-2.840103e-06</td>\n",
       "    </tr>\n",
       "    <tr>\n",
       "      <th>EAP</th>\n",
       "      <td>-1.415728e-06</td>\n",
       "      <td>-6.126820e-06</td>\n",
       "      <td>3.159655e-07</td>\n",
       "      <td>-0.000005</td>\n",
       "      <td>-8.010850e-06</td>\n",
       "      <td>-0.000001</td>\n",
       "      <td>-7.462909e-06</td>\n",
       "      <td>-0.000011</td>\n",
       "      <td>-0.000004</td>\n",
       "      <td>-1.157514e-05</td>\n",
       "      <td>-7.704869e-06</td>\n",
       "    </tr>\n",
       "    <tr>\n",
       "      <th>ECA</th>\n",
       "      <td>1.000285e-06</td>\n",
       "      <td>-3.142183e-06</td>\n",
       "      <td>-1.111567e-06</td>\n",
       "      <td>-0.000001</td>\n",
       "      <td>-2.517601e-07</td>\n",
       "      <td>-0.000002</td>\n",
       "      <td>-2.871767e-06</td>\n",
       "      <td>-0.000011</td>\n",
       "      <td>-0.000001</td>\n",
       "      <td>-3.021239e-06</td>\n",
       "      <td>-9.537941e-07</td>\n",
       "    </tr>\n",
       "    <tr>\n",
       "      <th>LCR</th>\n",
       "      <td>-3.454843e-06</td>\n",
       "      <td>-7.654895e-07</td>\n",
       "      <td>-4.590947e-06</td>\n",
       "      <td>-0.000003</td>\n",
       "      <td>-7.911936e-07</td>\n",
       "      <td>-0.000003</td>\n",
       "      <td>-2.869984e-06</td>\n",
       "      <td>-0.000006</td>\n",
       "      <td>0.000002</td>\n",
       "      <td>-2.687179e-07</td>\n",
       "      <td>-2.920836e-06</td>\n",
       "    </tr>\n",
       "    <tr>\n",
       "      <th>MNA</th>\n",
       "      <td>-9.739634e-07</td>\n",
       "      <td>-3.509211e-07</td>\n",
       "      <td>-3.311455e-07</td>\n",
       "      <td>-0.000002</td>\n",
       "      <td>-6.802975e-06</td>\n",
       "      <td>-0.000001</td>\n",
       "      <td>5.382653e-07</td>\n",
       "      <td>0.000005</td>\n",
       "      <td>0.000001</td>\n",
       "      <td>2.537514e-07</td>\n",
       "      <td>-5.006654e-06</td>\n",
       "    </tr>\n",
       "    <tr>\n",
       "      <th>SAR</th>\n",
       "      <td>-1.262075e-05</td>\n",
       "      <td>-4.034155e-06</td>\n",
       "      <td>-2.650207e-07</td>\n",
       "      <td>-0.000009</td>\n",
       "      <td>-7.408498e-06</td>\n",
       "      <td>-0.000001</td>\n",
       "      <td>-1.391747e-05</td>\n",
       "      <td>-0.000021</td>\n",
       "      <td>-0.000002</td>\n",
       "      <td>-2.456001e-06</td>\n",
       "      <td>-2.287535e-06</td>\n",
       "    </tr>\n",
       "  </tbody>\n",
       "</table>\n",
       "</div>"
      ],
      "text/plain": [
       "Sensitivity                        RCP2p6_GDFL  RCP2p6_HadGEM   RCP2p6_IPSL  \\\n",
       "Macro InvestmentType Year Region                                              \n",
       "SSP2  Invest         2030 AFR    -1.753205e-04  -1.089955e-04 -8.605604e-05   \n",
       "                          EAP     6.424876e-05  -3.332451e-05  2.698997e-04   \n",
       "                          ECA     1.477303e-04   2.336080e-05  1.275171e-04   \n",
       "                          LCR    -8.307888e-05  -1.052948e-04 -1.038641e-04   \n",
       "                          MNA    -2.076151e-05  -1.237400e-05  7.565029e-07   \n",
       "                          SAR     1.222919e-04  -3.097125e-04 -1.031774e-04   \n",
       "      MaxInvest      2030 AFR    -3.178594e-04  -6.090764e-04 -5.854583e-04   \n",
       "                          EAP     3.903271e-05  -1.206956e-04  2.827820e-04   \n",
       "                          ECA     1.244454e-04  -1.208102e-04  1.502536e-04   \n",
       "                          LCR    -2.161276e-04  -5.660501e-05 -1.733612e-04   \n",
       "                          MNA     3.071017e-05  -3.839947e-05  2.412846e-05   \n",
       "                          SAR     1.564844e-05  -5.613970e-04 -1.911713e-04   \n",
       "      ZeroInvest     2030 AFR    -6.831772e-06  -2.536923e-06 -1.484647e-06   \n",
       "                          EAP    -1.415728e-06  -6.126820e-06  3.159655e-07   \n",
       "                          ECA     1.000285e-06  -3.142183e-06 -1.111567e-06   \n",
       "                          LCR    -3.454843e-06  -7.654895e-07 -4.590947e-06   \n",
       "                          MNA    -9.739634e-07  -3.509211e-07 -3.311455e-07   \n",
       "                          SAR    -1.262075e-05  -4.034155e-06 -2.650207e-07   \n",
       "\n",
       "Sensitivity                       RCP2p6_MIROC    RCP2p6_NOR  RCP8p5_GDFL  \\\n",
       "Macro InvestmentType Year Region                                            \n",
       "SSP2  Invest         2030 AFR         0.000051  2.306410e-05    -0.000298   \n",
       "                          EAP         0.000027 -4.760793e-05    -0.000006   \n",
       "                          ECA         0.000080  7.924836e-05     0.000228   \n",
       "                          LCR         0.000076 -9.592152e-05    -0.000122   \n",
       "                          MNA        -0.000132 -2.463530e-04    -0.000022   \n",
       "                          SAR         0.000259  4.442906e-05     0.000112   \n",
       "      MaxInvest      2030 AFR        -0.000292 -2.814683e-03    -0.000363   \n",
       "                          EAP         0.000019 -5.338108e-04    -0.000031   \n",
       "                          ECA        -0.000025 -7.937909e-04     0.000056   \n",
       "                          LCR         0.000035 -8.260324e-04    -0.000174   \n",
       "                          MNA        -0.000201 -4.212902e-04    -0.000050   \n",
       "                          SAR         0.000431 -5.557627e-04     0.000256   \n",
       "      ZeroInvest     2030 AFR        -0.000005 -8.585584e-07    -0.000010   \n",
       "                          EAP        -0.000005 -8.010850e-06    -0.000001   \n",
       "                          ECA        -0.000001 -2.517601e-07    -0.000002   \n",
       "                          LCR        -0.000003 -7.911936e-07    -0.000003   \n",
       "                          MNA        -0.000002 -6.802975e-06    -0.000001   \n",
       "                          SAR        -0.000009 -7.408498e-06    -0.000001   \n",
       "\n",
       "Sensitivity                       RCP8p5_HadGEM  RCP8p5_HadGEM_noCO2  \\\n",
       "Macro InvestmentType Year Region                                       \n",
       "SSP2  Invest         2030 AFR     -3.086147e-04            -0.000216   \n",
       "                          EAP     -3.248147e-05            -0.000017   \n",
       "                          ECA      1.665498e-04             0.000221   \n",
       "                          LCR     -1.504364e-04            -0.000114   \n",
       "                          MNA      1.195949e-04             0.000101   \n",
       "                          SAR     -2.783120e-04            -0.000166   \n",
       "      MaxInvest      2030 AFR     -4.023540e-04            -0.000369   \n",
       "                          EAP     -1.271010e-04            -0.000107   \n",
       "                          ECA     -5.935050e-06             0.000373   \n",
       "                          LCR     -1.227473e-04            -0.000085   \n",
       "                          MNA      6.238826e-05             0.000099   \n",
       "                          SAR     -5.196307e-04            -0.000494   \n",
       "      ZeroInvest     2030 AFR     -2.320970e-06            -0.000023   \n",
       "                          EAP     -7.462909e-06            -0.000011   \n",
       "                          ECA     -2.871767e-06            -0.000011   \n",
       "                          LCR     -2.869984e-06            -0.000006   \n",
       "                          MNA      5.382653e-07             0.000005   \n",
       "                          SAR     -1.391747e-05            -0.000021   \n",
       "\n",
       "Sensitivity                       RCP8p5_IPSL  RCP8p5_MIROC    RCP8p5_NOR  \n",
       "Macro InvestmentType Year Region                                           \n",
       "SSP2  Invest         2030 AFR       -0.000347 -5.004535e-05 -2.180053e-04  \n",
       "                          EAP        0.000032 -2.572534e-04 -2.295165e-05  \n",
       "                          ECA        0.000148  1.878142e-04  1.592744e-04  \n",
       "                          LCR       -0.000031  6.626535e-05 -7.551000e-05  \n",
       "                          MNA        0.000027  8.096035e-05 -1.860849e-04  \n",
       "                          SAR       -0.000197  1.112162e-04  7.471587e-05  \n",
       "      MaxInvest      2030 AFR       -0.000820 -3.306301e-04 -1.156060e-04  \n",
       "                          EAP       -0.000076 -2.784168e-04 -1.484357e-04  \n",
       "                          ECA        0.000108  3.933719e-05 -3.507935e-05  \n",
       "                          LCR       -0.000159  4.199479e-06 -1.493705e-04  \n",
       "                          MNA       -0.000006  4.037056e-05 -3.660348e-04  \n",
       "                          SAR       -0.000259  3.006139e-04  2.590187e-04  \n",
       "      ZeroInvest     2030 AFR       -0.000006 -3.565313e-06 -2.840103e-06  \n",
       "                          EAP       -0.000004 -1.157514e-05 -7.704869e-06  \n",
       "                          ECA       -0.000001 -3.021239e-06 -9.537941e-07  \n",
       "                          LCR        0.000002 -2.687179e-07 -2.920836e-06  \n",
       "                          MNA        0.000001  2.537514e-07 -5.006654e-06  \n",
       "                          SAR       -0.000002 -2.456001e-06 -2.287535e-06  "
      ]
     },
     "execution_count": 324,
     "metadata": {},
     "output_type": "execute_result"
    }
   ],
   "source": [
    "costs_region_over_gdp.unstack(\"Item\")[\"TOT\"].unstack(\"Sensitivity\")[['RCP2p6_GDFL',\n",
    "       'RCP2p6_HadGEM', 'RCP2p6_IPSL', 'RCP2p6_MIROC', 'RCP2p6_NOR',\n",
    "       'RCP8p5_GDFL', 'RCP8p5_HadGEM', 'RCP8p5_HadGEM_noCO2',\n",
    "       'RCP8p5_IPSL', 'RCP8p5_MIROC', 'RCP8p5_NOR']].sub(costs_region_over_gdp.unstack(\"Item\")[\"TOT\"].unstack(\"Sensitivity\")[\"Baseline\"],axis=0).dropna().drop([2050,2100],level=\"Year\")"
   ]
  },
  {
   "cell_type": "code",
   "execution_count": 325,
   "metadata": {},
   "outputs": [],
   "source": [
    "cc_impacts = costs_region_over_gdp.unstack(\"Item\")[\"TOT\"].unstack(\"Sensitivity\")[['RCP2p6_GDFL',\n",
    "       'RCP2p6_HadGEM', 'RCP2p6_IPSL', 'RCP2p6_MIROC', 'RCP2p6_NOR',\n",
    "       'RCP8p5_GDFL', 'RCP8p5_HadGEM', 'RCP8p5_HadGEM_noCO2',\n",
    "       'RCP8p5_IPSL', 'RCP8p5_MIROC', 'RCP8p5_NOR']].sub(costs_region_over_gdp.unstack(\"Item\")[\"TOT\"].unstack(\"Sensitivity\")[\"Baseline\"],axis=0).dropna().drop([2050,2100],level=\"Year\")"
   ]
  },
  {
   "cell_type": "code",
   "execution_count": 326,
   "metadata": {},
   "outputs": [
    {
     "data": {
      "text/plain": [
       "Macro  InvestmentType  Year  Region\n",
       "SSP2   Invest          2030  AFR       0.181818\n",
       "                             EAP       0.363636\n",
       "                             ECA       1.000000\n",
       "                             LCR       0.181818\n",
       "                             MNA       0.454545\n",
       "                             SAR       0.545455\n",
       "       MaxInvest       2030  AFR       0.000000\n",
       "                             EAP       0.272727\n",
       "                             ECA       0.545455\n",
       "                             LCR       0.181818\n",
       "                             MNA       0.454545\n",
       "                             SAR       0.454545\n",
       "       ZeroInvest      2030  AFR       0.000000\n",
       "                             EAP       0.090909\n",
       "                             ECA       0.090909\n",
       "                             LCR       0.090909\n",
       "                             MNA       0.363636\n",
       "                             SAR       0.000000\n",
       "dtype: float64"
      ]
     },
     "execution_count": 326,
     "metadata": {},
     "output_type": "execute_result"
    }
   ],
   "source": [
    "(cc_impacts>0).sum(axis=1)/cc_impacts.shape[1]"
   ]
  },
  {
   "cell_type": "code",
   "execution_count": 330,
   "metadata": {
    "collapsed": true
   },
   "outputs": [],
   "source": [
    "inv_impacts = costs_region_over_gdp.unstack(\"Item\")[\"TOT\"].unstack(\"InvestmentType\")[['Invest',\"MaxInvest\"]].div(costs_region_over_gdp.unstack(\"Item\")[\"TOT\"].unstack(\"InvestmentType\")[\"ZeroInvest\"],axis=0).dropna().drop([2050,2100],level=\"Year\")"
   ]
  },
  {
   "cell_type": "code",
   "execution_count": 331,
   "metadata": {},
   "outputs": [
    {
     "data": {
      "text/plain": [
       "count    144.000000\n",
       "mean       3.308986\n",
       "std        1.210806\n",
       "min        1.565021\n",
       "25%        2.512315\n",
       "50%        2.894779\n",
       "75%        3.800149\n",
       "max        6.271065\n",
       "Name: Invest, dtype: float64"
      ]
     },
     "execution_count": 331,
     "metadata": {},
     "output_type": "execute_result"
    }
   ],
   "source": [
    "inv_impacts.Invest.describe()"
   ]
  },
  {
   "cell_type": "code",
   "execution_count": 332,
   "metadata": {},
   "outputs": [
    {
     "data": {
      "text/plain": [
       "Macro  Sensitivity          Year  Region\n",
       "SSP1   Baseline             2030  AFR       5.177504\n",
       "       Combined_Low         2030  AFR       5.196494\n",
       "       Combined_Low2        2030  AFR       5.196494\n",
       "SSP2   Baseline             2030  AFR       5.703564\n",
       "                                  LCR       4.178011\n",
       "       Combined_High        2030  AFR       6.271065\n",
       "                                  LCR       4.980007\n",
       "       Combined_High2       2030  AFR       5.716789\n",
       "                                  LCR       4.965333\n",
       "       HealthyDiet          2030  AFR       5.528328\n",
       "       HealthySustDiet      2030  AFR       5.283498\n",
       "       RCP2p6_GDFL          2030  AFR       5.484741\n",
       "       RCP2p6_HadGEM        2030  AFR       5.552907\n",
       "       RCP2p6_IPSL          2030  AFR       5.580109\n",
       "       RCP2p6_MIROC         2030  AFR       5.827086\n",
       "                                  LCR       4.653600\n",
       "       RCP2p6_NOR           2030  AFR       5.748010\n",
       "       RCP8p5_GDFL          2030  AFR       5.316311\n",
       "       RCP8p5_HadGEM        2030  AFR       5.232949\n",
       "       RCP8p5_HadGEM_noCO2  2030  AFR       5.562409\n",
       "       RCP8p5_IPSL          2030  AFR       5.205307\n",
       "       RCP8p5_MIROC         2030  AFR       5.656133\n",
       "                                  LCR       4.542658\n",
       "       RCP8p5_NOR           2030  AFR       5.381765\n",
       "       TradeOpen            2030  AFR       5.595430\n",
       "                                  ECA       4.202811\n",
       "                                  LCR       4.210270\n",
       "       TradeRestr           2030  AFR       5.761292\n",
       "       WatrEff_High         2030  AFR       6.064023\n",
       "                                  LCR       4.854330\n",
       "       WatrEff_Low          2030  AFR       5.401481\n",
       "SSP3   Baseline             2030  AFR       6.047800\n",
       "Name: Invest, dtype: float64"
      ]
     },
     "execution_count": 332,
     "metadata": {},
     "output_type": "execute_result"
    }
   ],
   "source": [
    "inv_impacts.loc[inv_impacts.Invest>4,\"Invest\"]"
   ]
  },
  {
   "cell_type": "markdown",
   "metadata": {},
   "source": [
    "## Calories"
   ]
  },
  {
   "cell_type": "markdown",
   "metadata": {},
   "source": [
    "### Unfinished: trying to explore the link between the irrigation scenarios and calories per capita"
   ]
  },
  {
   "cell_type": "code",
   "execution_count": 335,
   "metadata": {
    "collapsed": true
   },
   "outputs": [],
   "source": [
    "calories_global = data.unstack(\"Var\")[\"Val\"][\"CALO\"].dropna().unstack(\"Region\")[\"WLD\"].unstack(\"Item\")[\"TOT\"]\n",
    "calories_reg = data.unstack(\"Var\")[\"Val\"][\"CALO\"].dropna().unstack(\"Region\").drop([\"WLD\",\"EC\",\"NAM\",\"APD\"],axis=1).stack().unstack(\"Item\")[\"TOT\"]"
   ]
  },
  {
   "cell_type": "code",
   "execution_count": 338,
   "metadata": {
    "collapsed": true
   },
   "outputs": [],
   "source": [
    "calories_global_2030 = calories_global.unstack(\"Year\")[2030]\n",
    "calories_reg_2030 = calories_reg.unstack(\"Year\")[2030]"
   ]
  },
  {
   "cell_type": "code",
   "execution_count": 342,
   "metadata": {},
   "outputs": [],
   "source": [
    "impact_on_calories = 100*(calories_reg_2030.unstack(\"InvestmentType\")[['Invest',\"MaxInvest\"]].div(calories_reg_2030.unstack(\"InvestmentType\")[\"ZeroInvest\"],axis=0)-1)"
   ]
  },
  {
   "cell_type": "code",
   "execution_count": 356,
   "metadata": {},
   "outputs": [],
   "source": [
    "impact_on_calories = impact_on_calories.reset_index(\"Unit\").drop(\"Unit\",axis=1)"
   ]
  },
  {
   "cell_type": "code",
   "execution_count": 364,
   "metadata": {},
   "outputs": [
    {
     "data": {
      "text/html": [
       "<div>\n",
       "<style>\n",
       "    .dataframe thead tr:only-child th {\n",
       "        text-align: right;\n",
       "    }\n",
       "\n",
       "    .dataframe thead th {\n",
       "        text-align: left;\n",
       "    }\n",
       "\n",
       "    .dataframe tbody tr th {\n",
       "        vertical-align: top;\n",
       "    }\n",
       "</style>\n",
       "<table border=\"1\" class=\"dataframe\">\n",
       "  <thead>\n",
       "    <tr style=\"text-align: right;\">\n",
       "      <th></th>\n",
       "      <th>InvestmentType</th>\n",
       "      <th>Region</th>\n",
       "      <th>Invest</th>\n",
       "      <th>MaxInvest</th>\n",
       "    </tr>\n",
       "    <tr>\n",
       "      <th>Macro</th>\n",
       "      <th>Sensitivity</th>\n",
       "      <th></th>\n",
       "      <th></th>\n",
       "      <th></th>\n",
       "    </tr>\n",
       "  </thead>\n",
       "  <tbody>\n",
       "    <tr>\n",
       "      <th rowspan=\"3\" valign=\"top\">SSP1</th>\n",
       "      <th>Baseline</th>\n",
       "      <td>SAR</td>\n",
       "      <td>1.467377</td>\n",
       "      <td>2.502569</td>\n",
       "    </tr>\n",
       "    <tr>\n",
       "      <th>Combined_Low</th>\n",
       "      <td>SAR</td>\n",
       "      <td>1.380954</td>\n",
       "      <td>2.531728</td>\n",
       "    </tr>\n",
       "    <tr>\n",
       "      <th>Combined_Low2</th>\n",
       "      <td>SAR</td>\n",
       "      <td>1.380954</td>\n",
       "      <td>2.531728</td>\n",
       "    </tr>\n",
       "    <tr>\n",
       "      <th rowspan=\"26\" valign=\"top\">SSP2</th>\n",
       "      <th>Baseline</th>\n",
       "      <td>SAR</td>\n",
       "      <td>0.982467</td>\n",
       "      <td>1.812270</td>\n",
       "    </tr>\n",
       "    <tr>\n",
       "      <th>Combined_High</th>\n",
       "      <td>SAR</td>\n",
       "      <td>1.677474</td>\n",
       "      <td>2.394726</td>\n",
       "    </tr>\n",
       "    <tr>\n",
       "      <th>Combined_High2</th>\n",
       "      <td>SAR</td>\n",
       "      <td>1.742010</td>\n",
       "      <td>2.739423</td>\n",
       "    </tr>\n",
       "    <tr>\n",
       "      <th>HealthyDiet</th>\n",
       "      <td>SAR</td>\n",
       "      <td>0.707523</td>\n",
       "      <td>1.655833</td>\n",
       "    </tr>\n",
       "    <tr>\n",
       "      <th>HealthySustDiet</th>\n",
       "      <td>SAR</td>\n",
       "      <td>0.585504</td>\n",
       "      <td>1.904791</td>\n",
       "    </tr>\n",
       "    <tr>\n",
       "      <th>RCP2p6_GDFL</th>\n",
       "      <td>SAR</td>\n",
       "      <td>0.898124</td>\n",
       "      <td>1.673955</td>\n",
       "    </tr>\n",
       "    <tr>\n",
       "      <th>RCP2p6_HadGEM</th>\n",
       "      <td>SAR</td>\n",
       "      <td>0.911897</td>\n",
       "      <td>1.394422</td>\n",
       "    </tr>\n",
       "    <tr>\n",
       "      <th>RCP2p6_IPSL</th>\n",
       "      <td>SAR</td>\n",
       "      <td>0.654808</td>\n",
       "      <td>1.593560</td>\n",
       "    </tr>\n",
       "    <tr>\n",
       "      <th>RCP2p6_MIROC</th>\n",
       "      <td>SAR</td>\n",
       "      <td>1.209185</td>\n",
       "      <td>1.886009</td>\n",
       "    </tr>\n",
       "    <tr>\n",
       "      <th>RCP2p6_NOR</th>\n",
       "      <td>SAR</td>\n",
       "      <td>0.924928</td>\n",
       "      <td>1.566423</td>\n",
       "    </tr>\n",
       "    <tr>\n",
       "      <th>RCP8p5_GDFL</th>\n",
       "      <td>SAR</td>\n",
       "      <td>0.857292</td>\n",
       "      <td>1.649489</td>\n",
       "    </tr>\n",
       "    <tr>\n",
       "      <th>RCP8p5_HadGEM</th>\n",
       "      <td>SAR</td>\n",
       "      <td>0.938471</td>\n",
       "      <td>1.608060</td>\n",
       "    </tr>\n",
       "    <tr>\n",
       "      <th>RCP8p5_HadGEM_noCO2</th>\n",
       "      <td>SAR</td>\n",
       "      <td>1.647356</td>\n",
       "      <td>1.825745</td>\n",
       "    </tr>\n",
       "    <tr>\n",
       "      <th>RCP8p5_IPSL</th>\n",
       "      <td>SAR</td>\n",
       "      <td>0.560214</td>\n",
       "      <td>1.382566</td>\n",
       "    </tr>\n",
       "    <tr>\n",
       "      <th>RCP8p5_MIROC</th>\n",
       "      <td>SAR</td>\n",
       "      <td>1.282165</td>\n",
       "      <td>2.092571</td>\n",
       "    </tr>\n",
       "    <tr>\n",
       "      <th>RCP8p5_NOR</th>\n",
       "      <td>SAR</td>\n",
       "      <td>0.553472</td>\n",
       "      <td>1.658773</td>\n",
       "    </tr>\n",
       "    <tr>\n",
       "      <th>Region AFR MaxInvest</th>\n",
       "      <td>SAR</td>\n",
       "      <td>NaN</td>\n",
       "      <td>NaN</td>\n",
       "    </tr>\n",
       "    <tr>\n",
       "      <th>Region EAP MaxInvest</th>\n",
       "      <td>SAR</td>\n",
       "      <td>NaN</td>\n",
       "      <td>NaN</td>\n",
       "    </tr>\n",
       "    <tr>\n",
       "      <th>Region ECA MaxInvest</th>\n",
       "      <td>SAR</td>\n",
       "      <td>NaN</td>\n",
       "      <td>NaN</td>\n",
       "    </tr>\n",
       "    <tr>\n",
       "      <th>Region LCR MaxInvest</th>\n",
       "      <td>SAR</td>\n",
       "      <td>NaN</td>\n",
       "      <td>NaN</td>\n",
       "    </tr>\n",
       "    <tr>\n",
       "      <th>Region MNA MaxInvest</th>\n",
       "      <td>SAR</td>\n",
       "      <td>NaN</td>\n",
       "      <td>NaN</td>\n",
       "    </tr>\n",
       "    <tr>\n",
       "      <th>Region SAR MaxInvest</th>\n",
       "      <td>SAR</td>\n",
       "      <td>NaN</td>\n",
       "      <td>NaN</td>\n",
       "    </tr>\n",
       "    <tr>\n",
       "      <th>TradeOpen</th>\n",
       "      <td>SAR</td>\n",
       "      <td>1.058721</td>\n",
       "      <td>1.710445</td>\n",
       "    </tr>\n",
       "    <tr>\n",
       "      <th>TradeRestr</th>\n",
       "      <td>SAR</td>\n",
       "      <td>1.003931</td>\n",
       "      <td>1.711109</td>\n",
       "    </tr>\n",
       "    <tr>\n",
       "      <th>WatrEff_High</th>\n",
       "      <td>SAR</td>\n",
       "      <td>0.977148</td>\n",
       "      <td>1.876148</td>\n",
       "    </tr>\n",
       "    <tr>\n",
       "      <th>WatrEff_Low</th>\n",
       "      <td>SAR</td>\n",
       "      <td>0.979818</td>\n",
       "      <td>1.793013</td>\n",
       "    </tr>\n",
       "    <tr>\n",
       "      <th>SSP3</th>\n",
       "      <th>Baseline</th>\n",
       "      <td>SAR</td>\n",
       "      <td>1.057808</td>\n",
       "      <td>1.153986</td>\n",
       "    </tr>\n",
       "  </tbody>\n",
       "</table>\n",
       "</div>"
      ],
      "text/plain": [
       "InvestmentType             Region    Invest  MaxInvest\n",
       "Macro Sensitivity                                     \n",
       "SSP1  Baseline                SAR  1.467377   2.502569\n",
       "      Combined_Low            SAR  1.380954   2.531728\n",
       "      Combined_Low2           SAR  1.380954   2.531728\n",
       "SSP2  Baseline                SAR  0.982467   1.812270\n",
       "      Combined_High           SAR  1.677474   2.394726\n",
       "      Combined_High2          SAR  1.742010   2.739423\n",
       "      HealthyDiet             SAR  0.707523   1.655833\n",
       "      HealthySustDiet         SAR  0.585504   1.904791\n",
       "      RCP2p6_GDFL             SAR  0.898124   1.673955\n",
       "      RCP2p6_HadGEM           SAR  0.911897   1.394422\n",
       "      RCP2p6_IPSL             SAR  0.654808   1.593560\n",
       "      RCP2p6_MIROC            SAR  1.209185   1.886009\n",
       "      RCP2p6_NOR              SAR  0.924928   1.566423\n",
       "      RCP8p5_GDFL             SAR  0.857292   1.649489\n",
       "      RCP8p5_HadGEM           SAR  0.938471   1.608060\n",
       "      RCP8p5_HadGEM_noCO2     SAR  1.647356   1.825745\n",
       "      RCP8p5_IPSL             SAR  0.560214   1.382566\n",
       "      RCP8p5_MIROC            SAR  1.282165   2.092571\n",
       "      RCP8p5_NOR              SAR  0.553472   1.658773\n",
       "      Region AFR MaxInvest    SAR       NaN        NaN\n",
       "      Region EAP MaxInvest    SAR       NaN        NaN\n",
       "      Region ECA MaxInvest    SAR       NaN        NaN\n",
       "      Region LCR MaxInvest    SAR       NaN        NaN\n",
       "      Region MNA MaxInvest    SAR       NaN        NaN\n",
       "      Region SAR MaxInvest    SAR       NaN        NaN\n",
       "      TradeOpen               SAR  1.058721   1.710445\n",
       "      TradeRestr              SAR  1.003931   1.711109\n",
       "      WatrEff_High            SAR  0.977148   1.876148\n",
       "      WatrEff_Low             SAR  0.979818   1.793013\n",
       "SSP3  Baseline                SAR  1.057808   1.153986"
      ]
     },
     "execution_count": 364,
     "metadata": {},
     "output_type": "execute_result"
    }
   ],
   "source": [
    "bill = impact_on_calories.reset_index(\"Region\")\n",
    "bill.loc[bill.Region==\"SAR\",:]"
   ]
  },
  {
   "cell_type": "code",
   "execution_count": 362,
   "metadata": {},
   "outputs": [
    {
     "data": {
      "text/plain": [
       "Macro  Sensitivity     Region\n",
       "SSP1   Baseline        SAR       2.502569\n",
       "       Combined_Low    SAR       2.531728\n",
       "       Combined_Low2   SAR       2.531728\n",
       "SSP2   Combined_High   SAR       2.394726\n",
       "       Combined_High2  SAR       2.739423\n",
       "       RCP8p5_MIROC    SAR       2.092571\n",
       "       TradeRestr      MNA       2.480318\n",
       "SSP3   Baseline        MNA       2.078207\n",
       "Name: MaxInvest, dtype: float64"
      ]
     },
     "execution_count": 362,
     "metadata": {},
     "output_type": "execute_result"
    }
   ],
   "source": [
    "impact_on_calories.loc[(impact_on_calories.MaxInvest>2),\"MaxInvest\"]"
   ]
  },
  {
   "cell_type": "code",
   "execution_count": 352,
   "metadata": {},
   "outputs": [],
   "source": [
    "bob = costs_region_over_gdp.unstack(\"Item\")[\"TOT\"].unstack(\"Year\")[2030].unstack(\"InvestmentType\").drop(\"ZeroInvest\",axis=1)"
   ]
  },
  {
   "cell_type": "code",
   "execution_count": 358,
   "metadata": {},
   "outputs": [
    {
     "data": {
      "text/plain": [
       "Macro  Sensitivity     Region\n",
       "SSP1   Baseline        SAR       0.003377\n",
       "       Combined_Low    SAR       0.003259\n",
       "       Combined_Low2   SAR       0.003259\n",
       "SSP2   Combined_High   SAR       0.004354\n",
       "       Combined_High2  SAR       0.004283\n",
       "       RCP8p5_MIROC    SAR       0.004009\n",
       "       TradeRestr      MNA       0.001311\n",
       "SSP3   Baseline        MNA       0.001318\n",
       "Name: MaxInvest, dtype: float64"
      ]
     },
     "execution_count": 358,
     "metadata": {},
     "output_type": "execute_result"
    }
   ],
   "source": [
    "bob.loc[(impact_on_calories.MaxInvest>2),\"MaxInvest\"]"
   ]
  },
  {
   "cell_type": "code",
   "execution_count": 359,
   "metadata": {},
   "outputs": [
    {
     "data": {
      "text/plain": [
       "Macro  Sensitivity           Region\n",
       "SSP1   Baseline              AFR       0.006136\n",
       "       Combined_Low          AFR       0.005729\n",
       "       Combined_Low2         AFR       0.005729\n",
       "SSP2   Baseline              AFR       0.006802\n",
       "       Combined_High         AFR       0.006882\n",
       "       Combined_High2        AFR       0.006303\n",
       "       HealthyDiet           AFR       0.006513\n",
       "       HealthySustDiet       AFR       0.006217\n",
       "       RCP2p6_GDFL           AFR       0.006484\n",
       "       RCP2p6_HadGEM         AFR       0.006193\n",
       "       RCP2p6_IPSL           AFR       0.006216\n",
       "       RCP2p6_MIROC          AFR       0.006510\n",
       "       RCP8p5_GDFL           AFR       0.006439\n",
       "       RCP8p5_HadGEM         AFR       0.006399\n",
       "       RCP8p5_HadGEM_noCO2   AFR       0.006433\n",
       "       RCP8p5_IPSL           AFR       0.005982\n",
       "       RCP8p5_MIROC          AFR       0.006471\n",
       "       RCP8p5_NOR            AFR       0.006686\n",
       "       Region AFR MaxInvest  AFR       0.007078\n",
       "       TradeOpen             AFR       0.006545\n",
       "       TradeRestr            AFR       0.006795\n",
       "       WatrEff_High          AFR       0.007197\n",
       "       WatrEff_Low           AFR       0.006528\n",
       "SSP3   Baseline              AFR       0.006939\n",
       "Name: MaxInvest, dtype: float64"
      ]
     },
     "execution_count": 359,
     "metadata": {},
     "output_type": "execute_result"
    }
   ],
   "source": [
    "bob.loc[(bob.MaxInvest>0.005),\"MaxInvest\"]"
   ]
  },
  {
   "cell_type": "code",
   "execution_count": 360,
   "metadata": {},
   "outputs": [
    {
     "data": {
      "text/plain": [
       "Macro  Sensitivity           Region\n",
       "SSP1   Baseline              AFR       0.339156\n",
       "       Combined_Low          AFR       0.413477\n",
       "       Combined_Low2         AFR       0.413477\n",
       "SSP2   Baseline              AFR       0.579803\n",
       "       Combined_High         AFR       0.634126\n",
       "       Combined_High2        AFR       0.590586\n",
       "       HealthyDiet           AFR       0.416865\n",
       "       HealthySustDiet       AFR       0.272734\n",
       "       RCP2p6_GDFL           AFR       0.669057\n",
       "       RCP2p6_HadGEM         AFR       0.674746\n",
       "       RCP2p6_IPSL           AFR       0.583508\n",
       "       RCP2p6_MIROC          AFR       0.527263\n",
       "       RCP8p5_GDFL           AFR       0.724285\n",
       "       RCP8p5_HadGEM         AFR       0.715792\n",
       "       RCP8p5_HadGEM_noCO2   AFR       0.802162\n",
       "       RCP8p5_IPSL           AFR       0.918705\n",
       "       RCP8p5_MIROC          AFR       0.621847\n",
       "       RCP8p5_NOR            AFR       0.559917\n",
       "       Region AFR MaxInvest  AFR            NaN\n",
       "       TradeOpen             AFR       0.348304\n",
       "       TradeRestr            AFR       1.155130\n",
       "       WatrEff_High          AFR       0.581419\n",
       "       WatrEff_Low           AFR       0.565760\n",
       "SSP3   Baseline              AFR       1.089949\n",
       "Name: MaxInvest, dtype: float64"
      ]
     },
     "execution_count": 360,
     "metadata": {},
     "output_type": "execute_result"
    }
   ],
   "source": [
    "impact_on_calories.loc[(bob.MaxInvest>0.005),\"MaxInvest\"]"
   ]
  },
  {
   "cell_type": "code",
   "execution_count": 387,
   "metadata": {},
   "outputs": [
    {
     "data": {
      "text/plain": [
       "count       78.000000\n",
       "mean     18804.496835\n",
       "std        185.740086\n",
       "min      18136.793997\n",
       "25%      18738.082674\n",
       "50%      18847.162773\n",
       "75%      18936.103968\n",
       "max      19131.123293\n",
       "Name: 2030, dtype: float64"
      ]
     },
     "execution_count": 387,
     "metadata": {},
     "output_type": "execute_result"
    }
   ],
   "source": [
    "calories_reg_2030.sum(level=[\"Macro\",\"Sensitivity\",\"InvestmentType\",\"Unit\"]).describe()"
   ]
  },
  {
   "cell_type": "code",
   "execution_count": 388,
   "metadata": {
    "collapsed": true
   },
   "outputs": [],
   "source": [
    "tt = calories_reg_2030.sum(level=[\"Macro\",\"Sensitivity\",\"InvestmentType\",\"Unit\"])"
   ]
  },
  {
   "cell_type": "code",
   "execution_count": 389,
   "metadata": {},
   "outputs": [
    {
     "data": {
      "text/plain": [
       "Macro  Sensitivity   InvestmentType  Unit      \n",
       "SSP2   Baseline      MaxInvest       kcal/cap/d    19026.633189\n",
       "       RCP2p6_GDFL   MaxInvest       kcal/cap/d    19033.801918\n",
       "       RCP2p6_IPSL   MaxInvest       kcal/cap/d    19014.764632\n",
       "       RCP8p5_GDFL   MaxInvest       kcal/cap/d    19011.649565\n",
       "       TradeOpen     Invest          kcal/cap/d    19079.118678\n",
       "                     MaxInvest       kcal/cap/d    19131.123293\n",
       "                     ZeroInvest      kcal/cap/d    19006.931244\n",
       "       WatrEff_High  MaxInvest       kcal/cap/d    19040.530261\n",
       "       WatrEff_Low   MaxInvest       kcal/cap/d    19021.515507\n",
       "Name: 2030, dtype: float64"
      ]
     },
     "execution_count": 389,
     "metadata": {},
     "output_type": "execute_result"
    }
   ],
   "source": [
    "tt.loc[tt>19000]"
   ]
  },
  {
   "cell_type": "code",
   "execution_count": 390,
   "metadata": {
    "collapsed": true
   },
   "outputs": [],
   "source": [
    "toplot = calories_reg_2030.sum(level=[\"Macro\",\"Sensitivity\",\"InvestmentType\",\"Unit\"]).drop(['Region AFR MaxInvest',\\\n",
    "       'Region EAP MaxInvest', 'Region ECA MaxInvest',\\\n",
    "       'Region LCR MaxInvest', 'Region MNA MaxInvest',\\\n",
    "       'Region SAR MaxInvest'],level=\"Sensitivity\")\n",
    "\n",
    "toplot = toplot.reset_index()"
   ]
  },
  {
   "cell_type": "code",
   "execution_count": 393,
   "metadata": {},
   "outputs": [
    {
     "data": {
      "text/html": [
       "<div>\n",
       "<style>\n",
       "    .dataframe thead tr:only-child th {\n",
       "        text-align: right;\n",
       "    }\n",
       "\n",
       "    .dataframe thead th {\n",
       "        text-align: left;\n",
       "    }\n",
       "\n",
       "    .dataframe tbody tr th {\n",
       "        vertical-align: top;\n",
       "    }\n",
       "</style>\n",
       "<table border=\"1\" class=\"dataframe\">\n",
       "  <thead>\n",
       "    <tr style=\"text-align: right;\">\n",
       "      <th></th>\n",
       "      <th>Macro</th>\n",
       "      <th>Sensitivity</th>\n",
       "      <th>InvestmentType</th>\n",
       "      <th>Unit</th>\n",
       "      <th>2030</th>\n",
       "      <th>trade</th>\n",
       "    </tr>\n",
       "  </thead>\n",
       "  <tbody>\n",
       "    <tr>\n",
       "      <th>22</th>\n",
       "      <td>SSP2</td>\n",
       "      <td>HealthySustDiet</td>\n",
       "      <td>High public support</td>\n",
       "      <td>kcal/cap/d</td>\n",
       "      <td>18601.611355</td>\n",
       "      <td>Medium trade openness</td>\n",
       "    </tr>\n",
       "    <tr>\n",
       "      <th>37</th>\n",
       "      <td>SSP2</td>\n",
       "      <td>RCP8p5_MIROC</td>\n",
       "      <td>High public support</td>\n",
       "      <td>kcal/cap/d</td>\n",
       "      <td>18813.473967</td>\n",
       "      <td>Medium trade openness</td>\n",
       "    </tr>\n",
       "  </tbody>\n",
       "</table>\n",
       "</div>"
      ],
      "text/plain": [
       "   Macro      Sensitivity       InvestmentType        Unit          2030  \\\n",
       "22  SSP2  HealthySustDiet  High public support  kcal/cap/d  18601.611355   \n",
       "37  SSP2     RCP8p5_MIROC  High public support  kcal/cap/d  18813.473967   \n",
       "\n",
       "                    trade  \n",
       "22  Medium trade openness  \n",
       "37  Medium trade openness  "
      ]
     },
     "execution_count": 393,
     "metadata": {},
     "output_type": "execute_result"
    }
   ],
   "source": [
    "toplot.sample(2)"
   ]
  },
  {
   "cell_type": "code",
   "execution_count": 398,
   "metadata": {},
   "outputs": [
    {
     "data": {
      "text/plain": [
       "(array([0, 1, 2]), <a list of 3 Text xticklabel objects>)"
      ]
     },
     "execution_count": 398,
     "metadata": {},
     "output_type": "execute_result"
    },
    {
     "data": {
      "image/png": "[encoded data removed]",
      "text/plain": [
       "<matplotlib.figure.Figure at 0x23fd5a783c8>"
      ]
     },
     "metadata": {},
     "output_type": "display_data"
    }
   ],
   "source": [
    "toplot = calories_reg_2030.sum(level=[\"Macro\",\"Sensitivity\",\"InvestmentType\",\"Unit\"]).drop(['Region AFR MaxInvest',\\\n",
    "       'Region EAP MaxInvest', 'Region ECA MaxInvest',\\\n",
    "       'Region LCR MaxInvest', 'Region MNA MaxInvest',\\\n",
    "       'Region SAR MaxInvest','RCP2p6_GDFL',\\\n",
    "       'RCP2p6_HadGEM', 'RCP2p6_IPSL', 'RCP2p6_MIROC', 'RCP2p6_NOR'],level=\"Sensitivity\")\n",
    "\n",
    "toplot = toplot.reset_index()\n",
    "\n",
    "toplot['trade'] = toplot.Sensitivity.replace({'Baseline':'Medium trade openness',\\\n",
    "                                              'Combined_Low':'Medium trade openness', \\\n",
    "                                              'Combined_Low2':'Low trade openness',\\\n",
    "                                              'Combined_High':'Medium trade openness',\\\n",
    "                                              'Combined_High2':'High trade openness',\\\n",
    "                                              'HealthyDiet':'Medium trade openness', \\\n",
    "                                              'HealthySustDiet':'Medium trade openness',\\\n",
    "                                              'RCP8p5_GDFL':'Medium trade openness', \\\n",
    "                                              'RCP8p5_HadGEM':'Medium trade openness',\\\n",
    "                                              'RCP8p5_HadGEM_noCO2':'Medium trade openness',\\\n",
    "                                              'RCP8p5_IPSL':'Medium trade openness', \\\n",
    "                                              'RCP8p5_MIROC':'Medium trade openness',\\\n",
    "                                              'RCP8p5_NOR':'Medium trade openness',\\\n",
    "                                              'TradeOpen':'High trade openness',\\\n",
    "                                              'TradeRestr':'Low trade openness', \\\n",
    "                                              'WatrEff_High':'Medium trade openness', \\\n",
    "                                              'WatrEff_Low':'Medium trade openness'})\n",
    "\n",
    "toplot[\"InvestmentType\"] = toplot[\"InvestmentType\"].replace({\"Invest\":\"Moderate public support\",\\\n",
    "                                                             \"MaxInvest\":\"High public support\",\\\n",
    "                                                            \"ZeroInvest\":\"Irrigation expansion forbidden\"})\n",
    "\n",
    "g = sns.factorplot(x='InvestmentType',y=2030, hue= 'trade', data=toplot, kind=\"point\",\\\n",
    "                   dodge=True, size=6, aspect=1.7,\\\n",
    "                  legend=False,join=False, ci=\"sd\")\n",
    "\n",
    "g.set_axis_labels(\"\", \"Calories 2030\")\n",
    "g.add_legend(title=\"\",bbox_to_anchor=(0.95, 0.85), borderaxespad=0.)\n",
    "plt.xticks(rotation=10)\n",
    "\n"
   ]
  },
  {
   "cell_type": "code",
   "execution_count": null,
   "metadata": {
    "collapsed": true
   },
   "outputs": [],
   "source": []
  },
  {
   "cell_type": "code",
   "execution_count": 206,
   "metadata": {
    "collapsed": true
   },
   "outputs": [],
   "source": [
    "global_data = costs_global_disc.reset_index().merge(calories_global_2030.reset_index().rename(columns={2030:\"calories\"}),on=[\"Macro\",\"Sensitivity\",\"InvestmentType\"]).drop(\"Unit\",axis=1)"
   ]
  },
  {
   "cell_type": "code",
   "execution_count": null,
   "metadata": {
    "collapsed": true
   },
   "outputs": [],
   "source": []
  },
  {
   "cell_type": "code",
   "execution_count": null,
   "metadata": {
    "collapsed": true
   },
   "outputs": [],
   "source": []
  },
  {
   "cell_type": "code",
   "execution_count": null,
   "metadata": {
    "collapsed": true
   },
   "outputs": [],
   "source": []
  },
  {
   "cell_type": "code",
   "execution_count": 207,
   "metadata": {},
   "outputs": [
    {
     "data": {
      "text/html": [
       "<div>\n",
       "<style>\n",
       "    .dataframe thead tr:only-child th {\n",
       "        text-align: right;\n",
       "    }\n",
       "\n",
       "    .dataframe thead th {\n",
       "        text-align: left;\n",
       "    }\n",
       "\n",
       "    .dataframe tbody tr th {\n",
       "        vertical-align: top;\n",
       "    }\n",
       "</style>\n",
       "<table border=\"1\" class=\"dataframe\">\n",
       "  <thead>\n",
       "    <tr style=\"text-align: right;\">\n",
       "      <th></th>\n",
       "      <th>Macro</th>\n",
       "      <th>Sensitivity</th>\n",
       "      <th>InvestmentType</th>\n",
       "      <th>disc</th>\n",
       "      <th>calories</th>\n",
       "    </tr>\n",
       "  </thead>\n",
       "  <tbody>\n",
       "    <tr>\n",
       "      <th>0</th>\n",
       "      <td>SSP1</td>\n",
       "      <td>Baseline</td>\n",
       "      <td>Invest</td>\n",
       "      <td>451165.845831</td>\n",
       "      <td>3156.677008</td>\n",
       "    </tr>\n",
       "    <tr>\n",
       "      <th>1</th>\n",
       "      <td>SSP1</td>\n",
       "      <td>Baseline</td>\n",
       "      <td>MaxInvest</td>\n",
       "      <td>722743.893813</td>\n",
       "      <td>3170.809599</td>\n",
       "    </tr>\n",
       "    <tr>\n",
       "      <th>3</th>\n",
       "      <td>SSP1</td>\n",
       "      <td>Combined_Low</td>\n",
       "      <td>Invest</td>\n",
       "      <td>577675.473473</td>\n",
       "      <td>3152.378665</td>\n",
       "    </tr>\n",
       "    <tr>\n",
       "      <th>6</th>\n",
       "      <td>SSP1</td>\n",
       "      <td>Combined_Low2</td>\n",
       "      <td>Invest</td>\n",
       "      <td>577675.473473</td>\n",
       "      <td>3152.378665</td>\n",
       "    </tr>\n",
       "    <tr>\n",
       "      <th>9</th>\n",
       "      <td>SSP2</td>\n",
       "      <td>Baseline</td>\n",
       "      <td>Invest</td>\n",
       "      <td>503835.142093</td>\n",
       "      <td>3169.043205</td>\n",
       "    </tr>\n",
       "    <tr>\n",
       "      <th>11</th>\n",
       "      <td>SSP2</td>\n",
       "      <td>Baseline</td>\n",
       "      <td>ZeroInvest</td>\n",
       "      <td>218288.808541</td>\n",
       "      <td>3151.693866</td>\n",
       "    </tr>\n",
       "    <tr>\n",
       "      <th>24</th>\n",
       "      <td>SSP2</td>\n",
       "      <td>RCP2p6_GDFL</td>\n",
       "      <td>Invest</td>\n",
       "      <td>545609.774124</td>\n",
       "      <td>3163.066110</td>\n",
       "    </tr>\n",
       "    <tr>\n",
       "      <th>25</th>\n",
       "      <td>SSP2</td>\n",
       "      <td>RCP2p6_GDFL</td>\n",
       "      <td>MaxInvest</td>\n",
       "      <td>710359.227675</td>\n",
       "      <td>3163.689458</td>\n",
       "    </tr>\n",
       "    <tr>\n",
       "      <th>26</th>\n",
       "      <td>SSP2</td>\n",
       "      <td>RCP2p6_GDFL</td>\n",
       "      <td>ZeroInvest</td>\n",
       "      <td>506020.475831</td>\n",
       "      <td>3161.824734</td>\n",
       "    </tr>\n",
       "    <tr>\n",
       "      <th>27</th>\n",
       "      <td>SSP2</td>\n",
       "      <td>RCP2p6_HadGEM</td>\n",
       "      <td>Invest</td>\n",
       "      <td>493717.971093</td>\n",
       "      <td>3158.802781</td>\n",
       "    </tr>\n",
       "    <tr>\n",
       "      <th>28</th>\n",
       "      <td>SSP2</td>\n",
       "      <td>RCP2p6_HadGEM</td>\n",
       "      <td>MaxInvest</td>\n",
       "      <td>645322.438309</td>\n",
       "      <td>3160.236969</td>\n",
       "    </tr>\n",
       "    <tr>\n",
       "      <th>29</th>\n",
       "      <td>SSP2</td>\n",
       "      <td>RCP2p6_HadGEM</td>\n",
       "      <td>ZeroInvest</td>\n",
       "      <td>454472.098179</td>\n",
       "      <td>3157.974185</td>\n",
       "    </tr>\n",
       "    <tr>\n",
       "      <th>30</th>\n",
       "      <td>SSP2</td>\n",
       "      <td>RCP2p6_IPSL</td>\n",
       "      <td>Invest</td>\n",
       "      <td>584012.417614</td>\n",
       "      <td>3162.982825</td>\n",
       "    </tr>\n",
       "    <tr>\n",
       "      <th>31</th>\n",
       "      <td>SSP2</td>\n",
       "      <td>RCP2p6_IPSL</td>\n",
       "      <td>MaxInvest</td>\n",
       "      <td>768241.971702</td>\n",
       "      <td>3164.847790</td>\n",
       "    </tr>\n",
       "    <tr>\n",
       "      <th>32</th>\n",
       "      <td>SSP2</td>\n",
       "      <td>RCP2p6_IPSL</td>\n",
       "      <td>ZeroInvest</td>\n",
       "      <td>545187.584029</td>\n",
       "      <td>3162.912840</td>\n",
       "    </tr>\n",
       "    <tr>\n",
       "      <th>36</th>\n",
       "      <td>SSP2</td>\n",
       "      <td>RCP2p6_NOR</td>\n",
       "      <td>Invest</td>\n",
       "      <td>492789.313970</td>\n",
       "      <td>3160.851813</td>\n",
       "    </tr>\n",
       "    <tr>\n",
       "      <th>37</th>\n",
       "      <td>SSP2</td>\n",
       "      <td>RCP2p6_NOR</td>\n",
       "      <td>MaxInvest</td>\n",
       "      <td>530894.303949</td>\n",
       "      <td>3162.201402</td>\n",
       "    </tr>\n",
       "    <tr>\n",
       "      <th>38</th>\n",
       "      <td>SSP2</td>\n",
       "      <td>RCP2p6_NOR</td>\n",
       "      <td>ZeroInvest</td>\n",
       "      <td>452516.107224</td>\n",
       "      <td>3159.173496</td>\n",
       "    </tr>\n",
       "    <tr>\n",
       "      <th>39</th>\n",
       "      <td>SSP2</td>\n",
       "      <td>RCP8p5_GDFL</td>\n",
       "      <td>Invest</td>\n",
       "      <td>534561.868705</td>\n",
       "      <td>3160.684839</td>\n",
       "    </tr>\n",
       "    <tr>\n",
       "      <th>40</th>\n",
       "      <td>SSP2</td>\n",
       "      <td>RCP8p5_GDFL</td>\n",
       "      <td>MaxInvest</td>\n",
       "      <td>710818.051886</td>\n",
       "      <td>3162.760602</td>\n",
       "    </tr>\n",
       "    <tr>\n",
       "      <th>41</th>\n",
       "      <td>SSP2</td>\n",
       "      <td>RCP8p5_GDFL</td>\n",
       "      <td>ZeroInvest</td>\n",
       "      <td>495148.575970</td>\n",
       "      <td>3159.268222</td>\n",
       "    </tr>\n",
       "    <tr>\n",
       "      <th>43</th>\n",
       "      <td>SSP2</td>\n",
       "      <td>RCP8p5_HadGEM</td>\n",
       "      <td>MaxInvest</td>\n",
       "      <td>781839.507530</td>\n",
       "      <td>3153.281158</td>\n",
       "    </tr>\n",
       "    <tr>\n",
       "      <th>54</th>\n",
       "      <td>SSP2</td>\n",
       "      <td>RCP8p5_NOR</td>\n",
       "      <td>Invest</td>\n",
       "      <td>496348.789468</td>\n",
       "      <td>3150.063345</td>\n",
       "    </tr>\n",
       "    <tr>\n",
       "      <th>55</th>\n",
       "      <td>SSP2</td>\n",
       "      <td>RCP8p5_NOR</td>\n",
       "      <td>MaxInvest</td>\n",
       "      <td>649586.259342</td>\n",
       "      <td>3150.868020</td>\n",
       "    </tr>\n",
       "    <tr>\n",
       "      <th>57</th>\n",
       "      <td>SSP2</td>\n",
       "      <td>Region AFR MaxInvest</td>\n",
       "      <td>MaxInvest</td>\n",
       "      <td>327918.250345</td>\n",
       "      <td>3153.144828</td>\n",
       "    </tr>\n",
       "    <tr>\n",
       "      <th>58</th>\n",
       "      <td>SSP2</td>\n",
       "      <td>Region EAP MaxInvest</td>\n",
       "      <td>MaxInvest</td>\n",
       "      <td>428498.361441</td>\n",
       "      <td>3160.588456</td>\n",
       "    </tr>\n",
       "    <tr>\n",
       "      <th>59</th>\n",
       "      <td>SSP2</td>\n",
       "      <td>Region ECA MaxInvest</td>\n",
       "      <td>MaxInvest</td>\n",
       "      <td>285203.993118</td>\n",
       "      <td>3152.839712</td>\n",
       "    </tr>\n",
       "    <tr>\n",
       "      <th>60</th>\n",
       "      <td>SSP2</td>\n",
       "      <td>Region LCR MaxInvest</td>\n",
       "      <td>MaxInvest</td>\n",
       "      <td>314994.331452</td>\n",
       "      <td>3154.980535</td>\n",
       "    </tr>\n",
       "    <tr>\n",
       "      <th>61</th>\n",
       "      <td>SSP2</td>\n",
       "      <td>Region MNA MaxInvest</td>\n",
       "      <td>MaxInvest</td>\n",
       "      <td>247473.725630</td>\n",
       "      <td>3154.612093</td>\n",
       "    </tr>\n",
       "    <tr>\n",
       "      <th>62</th>\n",
       "      <td>SSP2</td>\n",
       "      <td>Region SAR MaxInvest</td>\n",
       "      <td>MaxInvest</td>\n",
       "      <td>309792.745858</td>\n",
       "      <td>3162.616751</td>\n",
       "    </tr>\n",
       "    <tr>\n",
       "      <th>63</th>\n",
       "      <td>SSP2</td>\n",
       "      <td>TradeOpen</td>\n",
       "      <td>Invest</td>\n",
       "      <td>527292.910094</td>\n",
       "      <td>3187.707100</td>\n",
       "    </tr>\n",
       "    <tr>\n",
       "      <th>65</th>\n",
       "      <td>SSP2</td>\n",
       "      <td>TradeOpen</td>\n",
       "      <td>ZeroInvest</td>\n",
       "      <td>218893.789832</td>\n",
       "      <td>3172.987499</td>\n",
       "    </tr>\n",
       "    <tr>\n",
       "      <th>69</th>\n",
       "      <td>SSP2</td>\n",
       "      <td>WatrEff_High</td>\n",
       "      <td>Invest</td>\n",
       "      <td>552000.631356</td>\n",
       "      <td>3169.742014</td>\n",
       "    </tr>\n",
       "    <tr>\n",
       "      <th>71</th>\n",
       "      <td>SSP2</td>\n",
       "      <td>WatrEff_High</td>\n",
       "      <td>ZeroInvest</td>\n",
       "      <td>218288.808541</td>\n",
       "      <td>3151.693866</td>\n",
       "    </tr>\n",
       "    <tr>\n",
       "      <th>72</th>\n",
       "      <td>SSP2</td>\n",
       "      <td>WatrEff_Low</td>\n",
       "      <td>Invest</td>\n",
       "      <td>463661.516957</td>\n",
       "      <td>3168.464795</td>\n",
       "    </tr>\n",
       "    <tr>\n",
       "      <th>73</th>\n",
       "      <td>SSP2</td>\n",
       "      <td>WatrEff_Low</td>\n",
       "      <td>MaxInvest</td>\n",
       "      <td>771144.908450</td>\n",
       "      <td>3179.557198</td>\n",
       "    </tr>\n",
       "    <tr>\n",
       "      <th>74</th>\n",
       "      <td>SSP2</td>\n",
       "      <td>WatrEff_Low</td>\n",
       "      <td>ZeroInvest</td>\n",
       "      <td>218288.808541</td>\n",
       "      <td>3151.693866</td>\n",
       "    </tr>\n",
       "  </tbody>\n",
       "</table>\n",
       "</div>"
      ],
      "text/plain": [
       "   Macro           Sensitivity InvestmentType           disc     calories\n",
       "0   SSP1              Baseline         Invest  451165.845831  3156.677008\n",
       "1   SSP1              Baseline      MaxInvest  722743.893813  3170.809599\n",
       "3   SSP1          Combined_Low         Invest  577675.473473  3152.378665\n",
       "6   SSP1         Combined_Low2         Invest  577675.473473  3152.378665\n",
       "9   SSP2              Baseline         Invest  503835.142093  3169.043205\n",
       "11  SSP2              Baseline     ZeroInvest  218288.808541  3151.693866\n",
       "24  SSP2           RCP2p6_GDFL         Invest  545609.774124  3163.066110\n",
       "25  SSP2           RCP2p6_GDFL      MaxInvest  710359.227675  3163.689458\n",
       "26  SSP2           RCP2p6_GDFL     ZeroInvest  506020.475831  3161.824734\n",
       "27  SSP2         RCP2p6_HadGEM         Invest  493717.971093  3158.802781\n",
       "28  SSP2         RCP2p6_HadGEM      MaxInvest  645322.438309  3160.236969\n",
       "29  SSP2         RCP2p6_HadGEM     ZeroInvest  454472.098179  3157.974185\n",
       "30  SSP2           RCP2p6_IPSL         Invest  584012.417614  3162.982825\n",
       "31  SSP2           RCP2p6_IPSL      MaxInvest  768241.971702  3164.847790\n",
       "32  SSP2           RCP2p6_IPSL     ZeroInvest  545187.584029  3162.912840\n",
       "36  SSP2            RCP2p6_NOR         Invest  492789.313970  3160.851813\n",
       "37  SSP2            RCP2p6_NOR      MaxInvest  530894.303949  3162.201402\n",
       "38  SSP2            RCP2p6_NOR     ZeroInvest  452516.107224  3159.173496\n",
       "39  SSP2           RCP8p5_GDFL         Invest  534561.868705  3160.684839\n",
       "40  SSP2           RCP8p5_GDFL      MaxInvest  710818.051886  3162.760602\n",
       "41  SSP2           RCP8p5_GDFL     ZeroInvest  495148.575970  3159.268222\n",
       "43  SSP2         RCP8p5_HadGEM      MaxInvest  781839.507530  3153.281158\n",
       "54  SSP2            RCP8p5_NOR         Invest  496348.789468  3150.063345\n",
       "55  SSP2            RCP8p5_NOR      MaxInvest  649586.259342  3150.868020\n",
       "57  SSP2  Region AFR MaxInvest      MaxInvest  327918.250345  3153.144828\n",
       "58  SSP2  Region EAP MaxInvest      MaxInvest  428498.361441  3160.588456\n",
       "59  SSP2  Region ECA MaxInvest      MaxInvest  285203.993118  3152.839712\n",
       "60  SSP2  Region LCR MaxInvest      MaxInvest  314994.331452  3154.980535\n",
       "61  SSP2  Region MNA MaxInvest      MaxInvest  247473.725630  3154.612093\n",
       "62  SSP2  Region SAR MaxInvest      MaxInvest  309792.745858  3162.616751\n",
       "63  SSP2             TradeOpen         Invest  527292.910094  3187.707100\n",
       "65  SSP2             TradeOpen     ZeroInvest  218893.789832  3172.987499\n",
       "69  SSP2          WatrEff_High         Invest  552000.631356  3169.742014\n",
       "71  SSP2          WatrEff_High     ZeroInvest  218288.808541  3151.693866\n",
       "72  SSP2           WatrEff_Low         Invest  463661.516957  3168.464795\n",
       "73  SSP2           WatrEff_Low      MaxInvest  771144.908450  3179.557198\n",
       "74  SSP2           WatrEff_Low     ZeroInvest  218288.808541  3151.693866"
      ]
     },
     "execution_count": 207,
     "metadata": {},
     "output_type": "execute_result"
    }
   ],
   "source": [
    "global_data.loc[(global_data.disc<800000)&(global_data.calories>3150),:]"
   ]
  },
  {
   "cell_type": "code",
   "execution_count": 208,
   "metadata": {},
   "outputs": [
    {
     "data": {
      "text/html": [
       "<div>\n",
       "<style>\n",
       "    .dataframe thead tr:only-child th {\n",
       "        text-align: right;\n",
       "    }\n",
       "\n",
       "    .dataframe thead th {\n",
       "        text-align: left;\n",
       "    }\n",
       "\n",
       "    .dataframe tbody tr th {\n",
       "        vertical-align: top;\n",
       "    }\n",
       "</style>\n",
       "<table border=\"1\" class=\"dataframe\">\n",
       "  <thead>\n",
       "    <tr style=\"text-align: right;\">\n",
       "      <th></th>\n",
       "      <th>Macro</th>\n",
       "      <th>Sensitivity</th>\n",
       "      <th>InvestmentType</th>\n",
       "      <th>disc</th>\n",
       "      <th>calories</th>\n",
       "    </tr>\n",
       "  </thead>\n",
       "  <tbody>\n",
       "    <tr>\n",
       "      <th>14</th>\n",
       "      <td>SSP2</td>\n",
       "      <td>Combined_High</td>\n",
       "      <td>ZeroInvest</td>\n",
       "      <td>231444.615084</td>\n",
       "      <td>3098.835262</td>\n",
       "    </tr>\n",
       "    <tr>\n",
       "      <th>20</th>\n",
       "      <td>SSP2</td>\n",
       "      <td>HealthyDiet</td>\n",
       "      <td>ZeroInvest</td>\n",
       "      <td>204084.111982</td>\n",
       "      <td>3098.614429</td>\n",
       "    </tr>\n",
       "    <tr>\n",
       "      <th>21</th>\n",
       "      <td>SSP2</td>\n",
       "      <td>HealthySustDiet</td>\n",
       "      <td>Invest</td>\n",
       "      <td>466802.437610</td>\n",
       "      <td>3094.443896</td>\n",
       "    </tr>\n",
       "    <tr>\n",
       "      <th>23</th>\n",
       "      <td>SSP2</td>\n",
       "      <td>HealthySustDiet</td>\n",
       "      <td>ZeroInvest</td>\n",
       "      <td>203013.733492</td>\n",
       "      <td>3086.440626</td>\n",
       "    </tr>\n",
       "    <tr>\n",
       "      <th>47</th>\n",
       "      <td>SSP2</td>\n",
       "      <td>RCP8p5_HadGem_noCO2</td>\n",
       "      <td>ZeroInvest</td>\n",
       "      <td>228041.797480</td>\n",
       "      <td>3080.151491</td>\n",
       "    </tr>\n",
       "    <tr>\n",
       "      <th>75</th>\n",
       "      <td>SSP3</td>\n",
       "      <td>Baseline</td>\n",
       "      <td>Invest</td>\n",
       "      <td>505656.703094</td>\n",
       "      <td>3054.528093</td>\n",
       "    </tr>\n",
       "    <tr>\n",
       "      <th>76</th>\n",
       "      <td>SSP3</td>\n",
       "      <td>Baseline</td>\n",
       "      <td>MaxInvest</td>\n",
       "      <td>792461.306672</td>\n",
       "      <td>3059.900130</td>\n",
       "    </tr>\n",
       "    <tr>\n",
       "      <th>77</th>\n",
       "      <td>SSP3</td>\n",
       "      <td>Baseline</td>\n",
       "      <td>ZeroInvest</td>\n",
       "      <td>209277.328833</td>\n",
       "      <td>3032.044321</td>\n",
       "    </tr>\n",
       "  </tbody>\n",
       "</table>\n",
       "</div>"
      ],
      "text/plain": [
       "   Macro          Sensitivity InvestmentType           disc     calories\n",
       "14  SSP2        Combined_High     ZeroInvest  231444.615084  3098.835262\n",
       "20  SSP2          HealthyDiet     ZeroInvest  204084.111982  3098.614429\n",
       "21  SSP2      HealthySustDiet         Invest  466802.437610  3094.443896\n",
       "23  SSP2      HealthySustDiet     ZeroInvest  203013.733492  3086.440626\n",
       "47  SSP2  RCP8p5_HadGem_noCO2     ZeroInvest  228041.797480  3080.151491\n",
       "75  SSP3             Baseline         Invest  505656.703094  3054.528093\n",
       "76  SSP3             Baseline      MaxInvest  792461.306672  3059.900130\n",
       "77  SSP3             Baseline     ZeroInvest  209277.328833  3032.044321"
      ]
     },
     "execution_count": 208,
     "metadata": {},
     "output_type": "execute_result"
    }
   ],
   "source": [
    "global_data.loc[(global_data.calories<3100),:]"
   ]
  },
  {
   "cell_type": "code",
   "execution_count": 209,
   "metadata": {
    "collapsed": true
   },
   "outputs": [],
   "source": [
    "toplot = costs_region_over_gdp.reset_index().merge(calories_reg_2030.reset_index().rename(columns={2030:\"calories\"}),on=[\"Macro\",\"Sensitivity\",\"InvestmentType\",\"Region\"]).drop(\"Unit\",axis=1)\n",
    "toplot[\"percent2\"] = 100*toplot.percent2"
   ]
  },
  {
   "cell_type": "code",
   "execution_count": 210,
   "metadata": {},
   "outputs": [
    {
     "data": {
      "text/plain": [
       "(0, 0.8)"
      ]
     },
     "execution_count": 210,
     "metadata": {},
     "output_type": "execute_result"
    },
    {
     "data": {
      "image/png": "[encoded data removed]",
      "text/plain": [
       "<matplotlib.figure.Figure at 0x23fdb51e4e0>"
      ]
     },
     "metadata": {},
     "output_type": "display_data"
    }
   ],
   "source": [
    "sns.lmplot(\"percent2\", \"calories\", data=toplot, hue='Region', fit_reg=False, size=10, aspect = 1)\n",
    "plt.xlim([0,0.8])"
   ]
  },
  {
   "cell_type": "code",
   "execution_count": null,
   "metadata": {
    "collapsed": true
   },
   "outputs": [],
   "source": []
  }
 ],
 "metadata": {
  "kernelspec": {
   "display_name": "Python [conda root]",
   "language": "python",
   "name": "conda-root-py"
  },
  "language_info": {
   "codemirror_mode": {
    "name": "ipython",
    "version": 3
   },
   "file_extension": ".py",
   "mimetype": "text/x-python",
   "name": "python",
   "nbconvert_exporter": "python",
   "pygments_lexer": "ipython3",
   "version": "3.5.4"
  },
  "toc": {
   "colors": {
    "hover_highlight": "#DAA520",
    "navigate_num": "#000000",
    "navigate_text": "#333333",
    "running_highlight": "#FF0000",
    "selected_highlight": "#FFD700",
    "sidebar_border": "#EEEEEE",
    "wrapper_background": "#FFFFFF"
   },
   "moveMenuLeft": true,
   "nav_menu": {
    "height": "12px",
    "width": "252px"
   },
   "navigate_menu": true,
   "number_sections": true,
   "sideBar": true,
   "threshold": 4,
   "toc_cell": false,
   "toc_section_display": "block",
   "toc_window_display": false,
   "widenNotebook": false
  }
 },
 "nbformat": 4,
 "nbformat_minor": 2
}
